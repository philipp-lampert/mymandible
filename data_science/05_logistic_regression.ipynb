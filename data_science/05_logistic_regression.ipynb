{
  "nbformat": 4,
  "nbformat_minor": 0,
  "metadata": {
    "colab": {
      "provenance": [],
      "authorship_tag": "ABX9TyOxroChxBAGpMRPqoEAWglS",
      "include_colab_link": true
    },
    "kernelspec": {
      "name": "python3",
      "display_name": "Python 3"
    },
    "language_info": {
      "name": "python"
    }
  },
  "cells": [
    {
      "cell_type": "markdown",
      "metadata": {
        "id": "view-in-github",
        "colab_type": "text"
      },
      "source": [
        "<a href=\"https://colab.research.google.com/github/philipp-lampert/mymandible/blob/main/data_science/05_logistic_regression.ipynb\" target=\"_parent\"><img src=\"https://colab.research.google.com/assets/colab-badge.svg\" alt=\"Open In Colab\"/></a>"
      ]
    },
    {
      "cell_type": "markdown",
      "source": [
        "#Logistic Regression"
      ],
      "metadata": {
        "id": "umTBTdUKiRSB"
      }
    },
    {
      "cell_type": "code",
      "execution_count": 1,
      "metadata": {
        "id": "ZDIWPXifiG-K"
      },
      "outputs": [],
      "source": [
        "import numpy as np\n",
        "import pandas as pd\n",
        "from sklearn.model_selection import train_test_split\n",
        "from sklearn.linear_model import LogisticRegression, LogisticRegressionCV\n",
        "\n",
        "df_cca = pd.read_parquet('https://github.com/philipp-lampert/mymandible/blob/main/data_science/data/dropped_first_cca.parquet?raw=true')\n",
        "df_imp = pd.read_parquet('https://github.com/philipp-lampert/mymandible/blob/main/data_science/data/dropped_first_imputed.parquet?raw=true')"
      ]
    },
    {
      "cell_type": "markdown",
      "source": [
        "##Complete case analysis (CCA)"
      ],
      "metadata": {
        "id": "XVDyBdlJvPu9"
      }
    },
    {
      "cell_type": "code",
      "source": [
        "df_cca['soft_tissue_complication'].value_counts()"
      ],
      "metadata": {
        "colab": {
          "base_uri": "https://localhost:8080/"
        },
        "id": "gNLTYahyik_Y",
        "outputId": "dfaef63e-b8c7-4b53-cfa9-3041a7e94739"
      },
      "execution_count": 2,
      "outputs": [
        {
          "output_type": "execute_result",
          "data": {
            "text/plain": [
              "True     77\n",
              "False    76\n",
              "Name: soft_tissue_complication, dtype: Int64"
            ]
          },
          "metadata": {},
          "execution_count": 2
        }
      ]
    },
    {
      "cell_type": "code",
      "source": [
        "first_outcome_var = df_cca.columns.get_loc('flap_revision')\n",
        "predictors = df_cca.columns[:first_outcome_var].tolist()\n",
        "\n",
        "df_cca_st_cx = df_cca[predictors].join(df_cca['soft_tissue_complication'])\n",
        "df_cca_st_cx = df_cca_st_cx.dropna()\n",
        "\n",
        "x_train, x_test, y_train, y_test = train_test_split(df_cca_st_cx[predictors], df_cca_st_cx['soft_tissue_complication'].astype('int').values, test_size=0.2, random_state=0)"
      ],
      "metadata": {
        "id": "GcdE6eTIvJgO"
      },
      "execution_count": 3,
      "outputs": []
    },
    {
      "cell_type": "code",
      "source": [
        "log_reg = LogisticRegression(random_state=0, max_iter=500).fit(x_train, y_train)\n",
        "predictions = log_reg.predict_proba(x_test)\n",
        "\n",
        "brier_score = np.mean((predictions[:, 1] - y_test) ** 2)\n",
        "\n",
        "baseline_prob = np.mean(y_train)\n",
        "predictions_baseline = np.ones_like(predictions) * [1 - baseline_prob, baseline_prob]\n",
        "brier_score_baseline = np.mean((predictions_baseline[:, 1] - y_test) ** 2)\n",
        "brier_skill_score = 1 - (brier_score / brier_score_baseline)\n",
        "\n",
        "print(\"Brier Score:\", brier_score)\n",
        "print(\"Brier Skill Score:\", brier_skill_score)"
      ],
      "metadata": {
        "colab": {
          "base_uri": "https://localhost:8080/"
        },
        "id": "XZUs7dnkd8XF",
        "outputId": "e29f7f03-dc34-4185-e77a-52e7ec56a9a1"
      },
      "execution_count": 9,
      "outputs": [
        {
          "output_type": "stream",
          "name": "stdout",
          "text": [
            "Brier Score: 0.228410432472482\n",
            "Brier Skill Score: 0.08635827011007202\n"
          ]
        }
      ]
    },
    {
      "cell_type": "markdown",
      "source": [
        "Let's see if we can improve those metrics."
      ],
      "metadata": {
        "id": "QdRrPnvJirWT"
      }
    },
    {
      "cell_type": "code",
      "source": [
        "log_reg_cv = LogisticRegressionCV(random_state=0, max_iter=500, cv=10).fit(x_train, y_train)\n",
        "predictions = log_reg_cv.predict_proba(x_test)\n",
        "\n",
        "brier_score = np.mean((predictions[:, 1] - y_test) ** 2)\n",
        "\n",
        "baseline_prob = np.mean(y_train)\n",
        "predictions_baseline = np.ones_like(predictions) * [1 - baseline_prob, baseline_prob]\n",
        "brier_score_baseline = np.mean((predictions_baseline[:, 1] - y_test) ** 2)\n",
        "brier_skill_score = 1 - (brier_score / brier_score_baseline)\n",
        "\n",
        "print(\"Brier Score:\", brier_score)\n",
        "print(\"Brier Skill Score:\", brier_skill_score)"
      ],
      "metadata": {
        "colab": {
          "base_uri": "https://localhost:8080/"
        },
        "id": "k5V6RyE_jVxr",
        "outputId": "9baa1c6c-47da-4df7-975d-83603a85d36f"
      },
      "execution_count": 10,
      "outputs": [
        {
          "output_type": "stream",
          "name": "stdout",
          "text": [
            "Brier Score: 0.2141610292966123\n",
            "Brier Skill Score: 0.14335588281355083\n"
          ]
        }
      ]
    }
  ]
}