{
 "cells": [
  {
   "cell_type": "markdown",
   "metadata": {
    "colab_type": "text",
    "id": "view-in-github"
   },
   "source": [
    "<a href=\"https://colab.research.google.com/github/philipp-lampert/mymandible/blob/main/data_science/05_model_training.ipynb\" target=\"_parent\"><img src=\"https://colab.research.google.com/assets/colab-badge.svg\" alt=\"Open In Colab\"/></a>"
   ]
  },
  {
   "cell_type": "markdown",
   "metadata": {
    "id": "umTBTdUKiRSB"
   },
   "source": [
    "# Model training"
   ]
  },
  {
   "cell_type": "markdown",
   "metadata": {
    "tags": []
   },
   "source": [
    "## Import"
   ]
  },
  {
   "cell_type": "markdown",
   "metadata": {
    "tags": []
   },
   "source": [
    "### Libraries"
   ]
  },
  {
   "cell_type": "code",
   "execution_count": 1,
   "metadata": {
    "id": "YUwr51evyVpD",
    "tags": []
   },
   "outputs": [],
   "source": [
    "import warnings\n",
    "import numpy as np\n",
    "import pandas as pd\n",
    "import copy\n",
    "from statistics import mean, stdev\n",
    "from sklearn.preprocessing import QuantileTransformer\n",
    "from sklearn.metrics import make_scorer, matthews_corrcoef, f1_score, accuracy_score, average_precision_score, roc_auc_score, brier_score_loss\n",
    "from sklearn.model_selection import cross_validate, StratifiedKFold, RepeatedStratifiedKFold\n",
    "from sklearn.linear_model import LogisticRegression \n",
    "from sklearn.neighbors import KNeighborsClassifier\n",
    "from sklearn.ensemble import RandomForestClassifier\n",
    "from xgboost import XGBClassifier\n",
    "import optuna\n",
    "from optuna.samplers import TPESampler\n",
    "import shap\n",
    "import statsmodels.formula.api as smf\n",
    "import seaborn as sns\n",
    "import matplotlib.pyplot as plt"
   ]
  },
  {
   "cell_type": "markdown",
   "metadata": {
    "tags": []
   },
   "source": [
    "### Data"
   ]
  },
  {
   "cell_type": "code",
   "execution_count": 2,
   "metadata": {
    "id": "o1ojEJRpI9Mh",
    "tags": []
   },
   "outputs": [],
   "source": [
    "df_dropped_first_imp = pd.read_parquet('/Users/philipp.lampert/repositories/mymandible/data/dropped_first_imputed.parquet')\n",
    "df_all_levels_imp = pd.read_parquet('/Users/philipp.lampert/repositories/mymandible/data/all_levels_imputed.parquet')"
   ]
  },
  {
   "cell_type": "markdown",
   "metadata": {
    "tags": []
   },
   "source": [
    "## Pipeline"
   ]
  },
  {
   "cell_type": "markdown",
   "metadata": {
    "tags": []
   },
   "source": [
    "### Preprocessing"
   ]
  },
  {
   "cell_type": "code",
   "execution_count": 2,
   "metadata": {
    "tags": []
   },
   "outputs": [],
   "source": [
    "from modules.functions import preprocessing as prp"
   ]
  },
  {
   "cell_type": "markdown",
   "metadata": {
    "tags": []
   },
   "source": [
    "### Scoring metrics"
   ]
  },
  {
   "cell_type": "code",
   "execution_count": 5,
   "metadata": {
    "tags": []
   },
   "outputs": [],
   "source": [
    "from modules.functions import threshold_optimized_metrics as tom"
   ]
  },
  {
   "cell_type": "code",
   "execution_count": 6,
   "metadata": {
    "tags": []
   },
   "outputs": [],
   "source": [
    "acc_scorer = make_scorer(tom.optimized_accuracy, needs_proba=True)\n",
    "f1_scorer = make_scorer(tom.optimized_f1, needs_proba=True)\n",
    "mcc_scorer = make_scorer(tom.optimized_mcc, needs_proba=True)\n",
    "pr_auc_scorer = make_scorer(average_precision_score, needs_proba=True)"
   ]
  },
  {
   "cell_type": "markdown",
   "metadata": {
    "tags": []
   },
   "source": [
    "### Nested Cross-Validation"
   ]
  },
  {
   "cell_type": "code",
   "execution_count": 6,
   "metadata": {
    "tags": []
   },
   "outputs": [],
   "source": [
    "def objective(trial, classifier, x, y, n, scorer):   \n",
    "    inner_cv = StratifiedKFold(n_splits=n, shuffle=True, random_state=0)\n",
    "    classifier_obj = classifier(trial)  \n",
    "    scores = cross_validate(\n",
    "        estimator=classifier_obj, \n",
    "        X=x, \n",
    "        y=y, \n",
    "        cv=inner_cv, \n",
    "        scoring=scorer, \n",
    "        n_jobs=-1\n",
    "    )   \n",
    "    return scores['test_score'].mean()"
   ]
  },
  {
   "cell_type": "code",
   "execution_count": 7,
   "metadata": {
    "tags": []
   },
   "outputs": [],
   "source": [
    "def nested_cv_optuna(outcome, \n",
    "                     model, \n",
    "                     min_follow_up_days, \n",
    "                     scaler, \n",
    "                     df, \n",
    "                     classifier, \n",
    "                     drop_cols, \n",
    "                     n,\n",
    "                     scorer):\n",
    "    \n",
    "    outer_cv = StratifiedKFold(n_splits=n, shuffle=True, random_state=0)\n",
    "    x, y = prp.get_x_y(df=df, outcome=outcome, min_follow_up_days=min_follow_up_days, scaler=scaler, drop_cols=drop_cols)\n",
    "    \n",
    "    outer_scores = {\n",
    "        'mcc': [],\n",
    "        'brier': [],\n",
    "        'f1': [],\n",
    "        'acc': [],\n",
    "        'pr_auc': [],\n",
    "        'roc_auc': []\n",
    "    }\n",
    "    \n",
    "    optuna.logging.set_verbosity(optuna.logging.WARNING)  \n",
    "    sampler = TPESampler(seed=0)\n",
    "    \n",
    "    i = 0\n",
    "    studies = {}\n",
    "    best_params = []\n",
    "    \n",
    "    for i, (outer_train_index, outer_test_index) in enumerate(outer_cv.split(x, y)):\n",
    "        \n",
    "        x_train_outer, x_test_outer = x.iloc[outer_train_index], x.iloc[outer_test_index]\n",
    "        y_train_outer, y_test_outer = y.iloc[outer_train_index], y.iloc[outer_test_index]\n",
    "        \n",
    "        studies[i] = optuna.create_study(direction='maximize', study_name=i, sampler=sampler)\n",
    "        studies[i].optimize(lambda trial: objective(trial, classifier, x_train_outer, y_train_outer, n, scorer), n_trials=500)\n",
    "\n",
    "        best_params.append(studies[i].best_params)\n",
    "        current_model = copy.deepcopy(model)\n",
    "        current_model.set_params(**best_params[-1])\n",
    "        \n",
    "        current_model.fit(x_train_outer, y_train_outer)\n",
    "        y_pred_outer = current_model.predict_proba(x_test_outer)\n",
    "        y_pred_outer = y_pred_outer[:, 1]\n",
    "        y_test_outer = y_test_outer.astype('int')\n",
    "        \n",
    "        mcc = optimized_mcc(y_test_outer, y_pred_outer)\n",
    "        pr_auc = average_precision_score(y_test_outer, y_pred_outer)\n",
    "        \n",
    "        f1 = optimized_f1(y_test_outer, y_pred_outer)\n",
    "        acc = optimized_accuracy(y_test_outer, y_pred_outer)       \n",
    "        roc_auc = roc_auc_score(y_test_outer, y_pred_outer)\n",
    "\n",
    "        outer_scores['mcc'].append(mcc)\n",
    "        outer_scores['pr_auc'].append(pr_auc)\n",
    "        outer_scores['f1'].append(f1)\n",
    "        outer_scores['acc'].append(acc)\n",
    "        outer_scores['roc_auc'].append(roc_auc)\n",
    "        \n",
    "        print(f\"Optimized {i+1} out of {n_splits} models\")\n",
    "    \n",
    "    print(\"\")\n",
    "    print(\"Mean MCC: \"f\"{mean(outer_scores['mcc']):.3f} ± {stdev(outer_scores['mcc']):.3f}\")\n",
    "    print(\"Mean PR AUC: \"f\"{mean(outer_scores['pr_auc']):.3f} ± {stdev(outer_scores['pr_auc']):.3f}\")\n",
    "    print(\"\")    \n",
    "    print(\"Mean F1: \"f\"{mean(outer_scores['f1']):.3f} ± {stdev(outer_scores['f1']):.3f}\")              \n",
    "    print(\"Mean ROC AUC: \"f\"{mean(outer_scores['roc_auc']):.3f} ± {stdev(outer_scores['roc_auc']):.3f}\")\n",
    "    print(\"Mean Accuracy: \"f\"{mean(outer_scores['acc']):.3f} ± {stdev(outer_scores['acc']):.3f}\")\n",
    "        \n",
    "    return best_params, x, y"
   ]
  },
  {
   "cell_type": "markdown",
   "metadata": {
    "jp-MarkdownHeadingCollapsed": true,
    "tags": []
   },
   "source": [
    "### SHAP-Values"
   ]
  },
  {
   "cell_type": "code",
   "execution_count": 11,
   "metadata": {
    "tags": []
   },
   "outputs": [],
   "source": [
    "def get_shap_rf(best_params, x, y):\n",
    "    for i, params in enumerate(best_params):\n",
    "        model = RandomForestClassifier(**params)\n",
    "        model.fit(x, y)\n",
    "        exp = shap.TreeExplainer(model)\n",
    "        sv = exp.shap_values(x)\n",
    "        shap.summary_plot(sv[1], x, max_display=11)\n",
    "        shap.summary_plot(sv[1], x, max_display=11, plot_type='bar')"
   ]
  },
  {
   "cell_type": "code",
   "execution_count": 12,
   "metadata": {
    "tags": []
   },
   "outputs": [],
   "source": [
    "def get_shap_xgb(best_params, x, y):    \n",
    "    for i, params in enumerate(best_params):\n",
    "        model = XGBClassifier(**params)\n",
    "        model.fit(x, y)\n",
    "        exp = shap.TreeExplainer(model)\n",
    "        sv = exp(x)\n",
    "        shap.plots.beeswarm(sv, max_display=11)\n",
    "        shap.plots.bar(sv, max_display=11)\n",
    "    return sv"
   ]
  },
  {
   "cell_type": "code",
   "execution_count": 13,
   "metadata": {
    "tags": []
   },
   "outputs": [],
   "source": [
    "def get_avg_params(param_list):\n",
    "    df = pd.DataFrame(param_list)\n",
    "    numeric_averages = df.select_dtypes(include=['number']).median()\n",
    "    categorical_modes = df.select_dtypes(exclude=['number']).mode().iloc[0]\n",
    "    avg_params = {**numeric_averages, **categorical_modes}\n",
    "    if 'max_depth' in avg_params:\n",
    "        avg_params['max_depth'] = avg_params['max_depth'].astype('int')\n",
    "    return avg_params"
   ]
  },
  {
   "cell_type": "code",
   "execution_count": 14,
   "metadata": {
    "tags": []
   },
   "outputs": [],
   "source": [
    "def get_base_values(selected_sv):\n",
    "    bv = []\n",
    "    for sv in selected_sv:\n",
    "        bv.append(sv.base_values[0])\n",
    "    return bv"
   ]
  },
  {
   "cell_type": "markdown",
   "metadata": {
    "tags": []
   },
   "source": [
    "## Model configuration"
   ]
  },
  {
   "cell_type": "markdown",
   "metadata": {
    "id": "ukIA11HJmEQn",
    "tags": []
   },
   "source": [
    "### Logistic Regression"
   ]
  },
  {
   "cell_type": "code",
   "execution_count": 15,
   "metadata": {
    "tags": []
   },
   "outputs": [],
   "source": [
    "def lr_newton_classifier(trial):\n",
    "    \n",
    "    solver_chosen = trial.suggest_categorical('solver', ['newton-cg', 'newton-cholesky'])\n",
    "    C_chosen = trial.suggest_float('C', 1e-10, 1e10, log=True)\n",
    "    class_weight_chosen = trial.suggest_categorical('class_weight', ['balanced', None])\n",
    "    penalty_chosen = trial.suggest_categorical('penalty', ['l2'])\n",
    "    \n",
    "    classifier_obj = LogisticRegression(\n",
    "        solver=solver_chosen, \n",
    "        C=C_chosen, \n",
    "        penalty=penalty_chosen, \n",
    "        class_weight=class_weight_chosen\n",
    "    )\n",
    "        \n",
    "    return classifier_obj"
   ]
  },
  {
   "cell_type": "code",
   "execution_count": 16,
   "metadata": {
    "tags": []
   },
   "outputs": [],
   "source": [
    "def lr_liblinear_classifier(trial):\n",
    "    \n",
    "    solver_chosen = trial.suggest_categorical('solver', ['liblinear'])\n",
    "    C_chosen = trial.suggest_float('C', 1e-10, 1e10, log=True)\n",
    "    class_weight_chosen = trial.suggest_categorical('class_weight', ['balanced', None])\n",
    "    penalty_chosen = trial.suggest_categorical('penalty', ['l1', 'l2'])\n",
    "    \n",
    "    classifier_obj = LogisticRegression(\n",
    "        solver=solver_chosen, \n",
    "        C=C_chosen, \n",
    "        penalty=penalty_chosen, \n",
    "        class_weight=class_weight_chosen\n",
    "    )\n",
    "          \n",
    "    return classifier_obj"
   ]
  },
  {
   "cell_type": "code",
   "execution_count": 17,
   "metadata": {
    "tags": []
   },
   "outputs": [],
   "source": [
    "def statsmodel(outcome, min_follow_up_days, scaler, df, drop_cols, cv):\n",
    "    \n",
    "    x, y = prp.get_x_y(df=df, outcome=outcome, min_follow_up_days=min_follow_up_days, scaler=scaler, drop_cols=drop_cols)\n",
    "    boolean_columns = x.select_dtypes(include=bool).columns\n",
    "    x[boolean_columns] = x[boolean_columns].astype('int')\n",
    "    numeric_columns = x.select_dtypes(include='number').columns\n",
    "    x[numeric_columns] = x[numeric_columns].astype('float64')\n",
    "    y = y.astype('int')    \n",
    "    x_columns = x.columns\n",
    "    all_columns = \"+\".join(x_columns)\n",
    "    formula = outcome +  '~' + all_columns\n",
    "    \n",
    "    if cv == True:\n",
    "        cv = StratifiedKFold(n_splits=cv, shuffle=True, random_state=0)\n",
    "        scores = {\n",
    "            'mcc': [],\n",
    "            'brier': [],\n",
    "            'f1': [],\n",
    "            'acc': [],\n",
    "            'pr_auc': [],\n",
    "            'roc_auc': []\n",
    "        }   \n",
    "\n",
    "        for i, (train_index, test_index) in enumerate(cv.split(x, y)):\n",
    "            x_train, x_test = x.iloc[train_index], x.iloc[test_index]\n",
    "            y_train, y_test = y.iloc[train_index], y.iloc[test_index]\n",
    "            data_train = pd.concat([x_train, y_train], axis=1)\n",
    "\n",
    "            model = smf.logit(formula=formula, data=data_train).fit() \n",
    "            y_pred = model.predict(x_test)\n",
    "\n",
    "            mcc = optimized_mcc(y_test, y_pred)\n",
    "            f1 = optimized_f1(y_test, y_pred)\n",
    "            acc = optimized_accuracy(y_test, y_pred)\n",
    "            pr_auc = average_precision_score(y_test, y_pred)\n",
    "            roc_auc = roc_auc_score(y_test, y_pred)\n",
    "\n",
    "            scores['mcc'].append(mcc)\n",
    "            scores['f1'].append(f1)\n",
    "            scores['acc'].append(acc)\n",
    "            scores['pr_auc'].append(pr_auc)\n",
    "            scores['roc_auc'].append(roc_auc)\n",
    "\n",
    "        print(\"\")\n",
    "        print(\"Mean MCC: \"f\"{mean(scores['mcc']):.3f} ± {stdev(scores['mcc']):.3f}\")\n",
    "        print(\"Mean PR AUC: \"f\"{mean(scores['pr_auc']):.3f} ± {stdev(scores['pr_auc']):.3f}\")\n",
    "        print(\"\")\n",
    "        print(\"Mean F1: \"f\"{mean(scores['f1']):.3f} ± {stdev(scores['f1']):.3f}\")     \n",
    "        print(\"Mean Accuracy: \"f\"{mean(scores['acc']):.3f} ± {stdev(scores['acc']):.3f}\")   \n",
    "        print(\"Mean ROC AUC: \"f\"{mean(scores['roc_auc']):.3f} ± {stdev(scores['roc_auc']):.3f}\")\n",
    "        print(\"\")\n",
    "    \n",
    "    data = pd.concat([x, y], axis=1)\n",
    "    final_model = smf.logit(formula, data).fit()\n",
    "    print(final_model.summary())"
   ]
  },
  {
   "cell_type": "markdown",
   "metadata": {
    "jp-MarkdownHeadingCollapsed": true,
    "tags": []
   },
   "source": [
    "### kNN"
   ]
  },
  {
   "cell_type": "code",
   "execution_count": 18,
   "metadata": {
    "tags": []
   },
   "outputs": [],
   "source": [
    "def knn_classifier(trial):\n",
    "    \n",
    "    n_neighbors_chosen = trial.suggest_int('n_neighbors', 2, 25)\n",
    "    weights_chosen = trial.suggest_categorical('weights', ['uniform', 'distance'])\n",
    "    algorithm_chosen = trial.suggest_categorical('algorithm', ['ball_tree', 'kd_tree', 'brute'])\n",
    "    leaf_size_chosen = trial.suggest_int('leaf_size', 1, 1e+6, log=True)\n",
    "    p_chosen = trial.suggest_float('p', 1, 1e+6, log=True)\n",
    "    \n",
    "    classifier_obj = KNeighborsClassifier(\n",
    "        n_neighbors=n_neighbors_chosen, \n",
    "        weights=weights_chosen, \n",
    "        algorithm=algorithm_chosen, \n",
    "        leaf_size=leaf_size_chosen, \n",
    "        p=p_chosen\n",
    "    )\n",
    "        \n",
    "    return classifier_obj"
   ]
  },
  {
   "cell_type": "markdown",
   "metadata": {
    "jp-MarkdownHeadingCollapsed": true,
    "tags": []
   },
   "source": [
    "### Random Forest"
   ]
  },
  {
   "cell_type": "code",
   "execution_count": 19,
   "metadata": {
    "tags": []
   },
   "outputs": [],
   "source": [
    "def rf_classifier(trial):\n",
    "    \n",
    "    #n_estimators_chosen = trial.suggest_int('n_estimators', 50, 3000)\n",
    "    criterion_chosen = trial.suggest_categorical('criterion', ['gini', 'entropy', 'log_loss'])\n",
    "    max_depth_chosen = trial.suggest_int('max_depth', 1, 10)\n",
    "    min_samples_split_chosen = trial.suggest_float('min_samples_split', 1e-6, 1)\n",
    "    min_samples_leaf_chosen = trial.suggest_float('min_samples_leaf', 1e-6, 1)\n",
    "    min_weight_fraction_leaf_chosen = trial.suggest_float('min_weight_fraction_leaf', 0, 0.5)\n",
    "    max_features_chosen = trial.suggest_categorical('max_features', ['sqrt', 'log2', None])\n",
    "    bootstrap_chosen = trial.suggest_categorical('bootstrap', [True, False])\n",
    "    class_weight_chosen = trial.suggest_categorical('class_weight', ['balanced', 'balanced_subsample', None])\n",
    "    \n",
    "    classifier_obj = RandomForestClassifier(\n",
    "        n_estimators=500, \n",
    "        criterion=criterion_chosen,\n",
    "        max_depth=max_depth_chosen, \n",
    "        min_samples_split=min_samples_split_chosen,\n",
    "        min_samples_leaf=min_samples_leaf_chosen,\n",
    "        min_weight_fraction_leaf=min_weight_fraction_leaf_chosen,\n",
    "        max_features=max_features_chosen,\n",
    "        bootstrap=bootstrap_chosen,\n",
    "        class_weight=class_weight_chosen, \n",
    "        random_state=0\n",
    "    )\n",
    "        \n",
    "    return classifier_obj"
   ]
  },
  {
   "cell_type": "markdown",
   "metadata": {
    "jp-MarkdownHeadingCollapsed": true,
    "tags": []
   },
   "source": [
    "### XGBoost"
   ]
  },
  {
   "cell_type": "code",
   "execution_count": 20,
   "metadata": {
    "tags": []
   },
   "outputs": [],
   "source": [
    "def xgb_classifier(trial):\n",
    "    \n",
    "    eta_chosen = trial.suggest_float('eta', 1e-6, 1, log=True)\n",
    "    gamma_chosen = trial.suggest_float('gamma', 1e-6, 1e+4, log=True)\n",
    "    max_depth_chosen = trial.suggest_int('max_depth', 1, 10)\n",
    "    min_child_weight_chosen = trial.suggest_float('min_child_weight', 1e-6, 1e+4, log=True)\n",
    "    max_delta_step_chosen = trial.suggest_float('max_delta_step', 0, 10)\n",
    "    subsample_chosen = trial.suggest_float('subsample', 0, 1)\n",
    "    colsample_bytree_chosen = trial.suggest_float('colsample_bytree', 0, 1)\n",
    "    lambda_chosen = trial.suggest_float('reg_lambda', 1e-6, 1e+4, log=True)\n",
    "    alpha_chosen = trial.suggest_float('reg_alpha', 1e-6, 1e+4, log=True)\n",
    "    tree_method_chosen = trial.suggest_categorical('tree_method', ['exact', 'approx', 'hist'])\n",
    "    scale_pos_weight_chosen = trial.suggest_float('scale_pos_weight', 1, 9)\n",
    "   \n",
    "    classifier_obj = XGBClassifier(\n",
    "        eta=eta_chosen, \n",
    "        gamma=gamma_chosen, \n",
    "        max_depth=max_depth_chosen, \n",
    "        min_child_weight=min_child_weight_chosen,\n",
    "        max_delta_step=max_delta_step_chosen,\n",
    "        subsample=subsample_chosen,\n",
    "        colsample_bytree=colsample_bytree_chosen,\n",
    "        reg_lambda=lambda_chosen,\n",
    "        reg_alpha=alpha_chosen,\n",
    "        tree_method=tree_method_chosen,\n",
    "        scale_pos_weight=scale_pos_weight_chosen,\n",
    "        random_state=0,\n",
    "        verbosity=0\n",
    "    )\n",
    "        \n",
    "    return classifier_obj"
   ]
  },
  {
   "cell_type": "markdown",
   "metadata": {
    "tags": []
   },
   "source": [
    "## Results"
   ]
  },
  {
   "cell_type": "markdown",
   "metadata": {
    "tags": []
   },
   "source": [
    "#### Any complication"
   ]
  },
  {
   "cell_type": "markdown",
   "metadata": {
    "tags": []
   },
   "source": [
    "##### Configuration"
   ]
  },
  {
   "cell_type": "code",
   "execution_count": 21,
   "metadata": {
    "tags": []
   },
   "outputs": [],
   "source": [
    "follow_up_any_cx = np.mean([\n",
    "    df_all_levels_imp['days_to_whd_recipient_site'].median(),\n",
    "    df_all_levels_imp['days_to_partial_necrosis'].median(),\n",
    "    df_all_levels_imp['days_to_bone_exposure'].median(),\n",
    "    df_all_levels_imp['days_to_plate_exposure'].median(),\n",
    "    df_all_levels_imp['days_to_wound_infection'].median(),\n",
    "    df_all_levels_imp['days_to_flap_loss'].median(),\n",
    "    df_all_levels_imp['days_to_whd_donor_site'].median(),\n",
    "    df_all_levels_imp['days_to_osteoradionecrosis'].median(),\n",
    "    df_all_levels_imp['days_to_plate_removal'].median(),\n",
    "    df_all_levels_imp['days_to_plate_loosening'].median(),\n",
    "    df_all_levels_imp['days_to_fracture'].median(),\n",
    "    df_all_levels_imp['days_to_dislocation'].median()\n",
    "])\n",
    "\n",
    "drop_cols_any_cx = []"
   ]
  },
  {
   "cell_type": "markdown",
   "metadata": {
    "tags": []
   },
   "source": [
    "##### Logistic Regression\n",
    "Mean MCC: 0.281, Mean PR AUC: 0.328"
   ]
  },
  {
   "cell_type": "markdown",
   "metadata": {
    "tags": []
   },
   "source": [
    "###### Statsmodel\n",
    "Mean MCC: 0.281, Mean PR AUC: 0.328"
   ]
  },
  {
   "cell_type": "code",
   "execution_count": 30,
   "metadata": {
    "tags": []
   },
   "outputs": [
    {
     "name": "stdout",
     "output_type": "stream",
     "text": [
      "Warning: Maximum number of iterations has been exceeded.\n",
      "         Current function value: 0.244284\n",
      "         Iterations: 35\n",
      "                           Logit Regression Results                           \n",
      "==============================================================================\n",
      "Dep. Variable:       any_complication   No. Observations:                   62\n",
      "Model:                          Logit   Df Residuals:                       47\n",
      "Method:                           MLE   Df Model:                           14\n",
      "Date:                Wed, 14 Feb 2024   Pseudo R-squ.:                  0.4774\n",
      "Time:                        16:09:42   Log-Likelihood:                -15.146\n",
      "converged:                      False   LL-Null:                       -28.982\n",
      "Covariance Type:            nonrobust   LLR p-value:                   0.01572\n",
      "=========================================================================================================\n",
      "                                            coef    std err          z      P>|z|      [0.025      0.975]\n",
      "---------------------------------------------------------------------------------------------------------\n",
      "Intercept                               -21.4872      7.797     -2.756      0.006     -36.770      -6.205\n",
      "prior_flap                               -7.2215      4.088     -1.767      0.077     -15.233       0.790\n",
      "sex_female                               -0.0397      1.365     -0.029      0.977      -2.714       2.635\n",
      "comorbidity___smoking                    -1.1078      1.712     -0.647      0.518      -4.464       2.248\n",
      "comorbidity___alcohol                    -0.6447      1.693     -0.381      0.703      -3.963       2.673\n",
      "comorbidity___diabetes                  -33.9177   4.53e+04     -0.001      0.999   -8.89e+04    8.88e+04\n",
      "comorbidity___atherosclerosis            -2.5149      1.712     -1.469      0.142      -5.870       0.841\n",
      "comorbidity___hyperlipidemia              8.3309      3.982      2.092      0.036       0.526      16.136\n",
      "age_surgery_years                         0.2286      0.093      2.465      0.014       0.047       0.410\n",
      "radiotherapy___post_surgery               1.5749      1.623      0.970      0.332      -1.606       4.756\n",
      "chemotherapy___post_surgery               1.4125      1.461      0.967      0.334      -1.451       4.276\n",
      "bmi                                       0.2506      0.153      1.637      0.102      -0.049       0.551\n",
      "indication___osteoradionecrosis           5.1162      2.739      1.868      0.062      -0.252      10.485\n",
      "indication___secondary_reconstruction   -20.4133   2.83e+05   -7.2e-05      1.000   -5.55e+05    5.55e+05\n",
      "plate_type___cad_mix                     -3.5809      1.827     -1.960      0.050      -7.162       0.000\n",
      "=========================================================================================================\n",
      "\n",
      "Possibly complete quasi-separation: A fraction 0.21 of observations can be\n",
      "perfectly predicted. This might indicate that there is complete\n",
      "quasi-separation. In this case some parameters will not be identified.\n"
     ]
    },
    {
     "name": "stderr",
     "output_type": "stream",
     "text": [
      "The outcome variable has been inversed due to the positive values being the majority class. This may lead to misinterpretation of coefficients and/or feature importances but keeps metrics such as F1-scores comparable.\n",
      "Maximum Likelihood optimization failed to converge. Check mle_retvals\n"
     ]
    }
   ],
   "source": [
    "# NUR 3 SEGMENTE\n",
    "def lr_any_cx_no_cv():\n",
    "    \n",
    "    drop_cols_any_cx_3 = drop_cols_any_cx.copy()\n",
    "    drop_cols_any_cx_3.extend([\n",
    "        'comorbidity___autoimmune_disease', \n",
    "        'comorbidity___hypothyroidism', \n",
    "        'comorbidity___copd', \n",
    "        'radiotherapy___pre_surgery',\n",
    "        'chemotherapy___pre_surgery',\n",
    "        'comorbidity___hypertension',\n",
    "        'comorbidity___chronic_kidney_disease',\n",
    "        'prior_flap___non_bony', \n",
    "        'prior_flap___bony',\n",
    "        'venous_anastomosis_type___end_end',\n",
    "        'venous_anastomosis_type___end_side',\n",
    "        'skin_transplanted',\n",
    "        'surgery_duration_min',\n",
    "        'urkens_classification___c'\n",
    "    ])\n",
    "    \n",
    "    x, y = get_x_y(\n",
    "    df=df_dropped_first_3, \n",
    "    outcome='any_complication', \n",
    "    min_follow_up_days=follow_up_any_cx, \n",
    "    scaler='None', \n",
    "    drop_cols=drop_cols_any_cx_3\n",
    "    )\n",
    "\n",
    "    boolean_columns = x.select_dtypes(include=bool).columns\n",
    "    x[boolean_columns] = x[boolean_columns].astype('int')\n",
    "    numeric_columns = x.select_dtypes(include='number').columns\n",
    "    x[numeric_columns] = x[numeric_columns].astype('float64')\n",
    "    y = y.astype('int')\n",
    "\n",
    "    x_columns = x.columns\n",
    "    all_columns = \"+\".join(x_columns)\n",
    "    formula = 'any_complication' +  '~' + all_columns\n",
    "\n",
    "    data = pd.concat([x, y], axis=1)\n",
    "    final_model = smf.logit(formula, data).fit()\n",
    "    print(final_model.summary())\n",
    "    \n",
    "lr_any_cx_no_cv()"
   ]
  },
  {
   "cell_type": "code",
   "execution_count": 36,
   "metadata": {
    "tags": []
   },
   "outputs": [
    {
     "name": "stderr",
     "output_type": "stream",
     "text": [
      "The outcome variable has been inversed due to the positive values being the majority class. This may lead to misinterpretation of coefficients and/or feature importances but keeps metrics such as F1-scores comparable.\n"
     ]
    },
    {
     "name": "stdout",
     "output_type": "stream",
     "text": [
      "Optimization terminated successfully.\n",
      "         Current function value: 0.420781\n",
      "         Iterations 7\n",
      "Warning: Maximum number of iterations has been exceeded.\n",
      "         Current function value: 0.387633\n",
      "         Iterations: 35\n"
     ]
    },
    {
     "name": "stderr",
     "output_type": "stream",
     "text": [
      "Maximum Likelihood optimization failed to converge. Check mle_retvals\n",
      "Maximum Likelihood optimization failed to converge. Check mle_retvals\n"
     ]
    },
    {
     "name": "stdout",
     "output_type": "stream",
     "text": [
      "Warning: Maximum number of iterations has been exceeded.\n",
      "         Current function value: 0.449589\n",
      "         Iterations: 35\n",
      "Optimization terminated successfully.\n",
      "         Current function value: 0.426781\n",
      "         Iterations 8\n",
      "Optimization terminated successfully.\n",
      "         Current function value: 0.405215\n",
      "         Iterations 8\n",
      "\n",
      "Mean MCC: 0.281 ± 0.138\n",
      "Mean PR AUC: 0.328 ± 0.081\n",
      "\n",
      "Mean F1: 0.389 ± 0.074\n",
      "Mean Accuracy: 0.793 ± 0.025\n",
      "Mean ROC AUC: 0.501 ± 0.097\n",
      "\n",
      "Optimization terminated successfully.\n",
      "         Current function value: 0.445292\n",
      "         Iterations 7\n",
      "                           Logit Regression Results                           \n",
      "==============================================================================\n",
      "Dep. Variable:       any_complication   No. Observations:                  237\n",
      "Model:                          Logit   Df Residuals:                      204\n",
      "Method:                           MLE   Df Model:                           32\n",
      "Date:                Wed, 14 Feb 2024   Pseudo R-squ.:                  0.1621\n",
      "Time:                        16:12:35   Log-Likelihood:                -105.53\n",
      "converged:                       True   LL-Null:                       -125.96\n",
      "Covariance Type:            nonrobust   LLR p-value:                    0.1358\n",
      "=========================================================================================================\n",
      "                                            coef    std err          z      P>|z|      [0.025      0.975]\n",
      "---------------------------------------------------------------------------------------------------------\n",
      "Intercept                                -2.3045      1.969     -1.171      0.242      -6.163       1.554\n",
      "sex_female                                0.7049      0.432      1.631      0.103      -0.142       1.552\n",
      "comorbidity___smoking                    -0.3508      0.452     -0.776      0.438      -1.237       0.535\n",
      "comorbidity___alcohol                    -0.7928      0.622     -1.275      0.202      -2.011       0.426\n",
      "comorbidity___copd                       -0.0695      0.644     -0.108      0.914      -1.331       1.192\n",
      "comorbidity___hypertension               -0.6274      0.476     -1.318      0.188      -1.561       0.306\n",
      "comorbidity___diabetes                   -2.2099      1.126     -1.962      0.050      -4.417      -0.003\n",
      "comorbidity___atherosclerosis            -0.3324      0.610     -0.545      0.586      -1.528       0.863\n",
      "comorbidity___hyperlipidemia              0.8860      0.757      1.171      0.242      -0.597       2.369\n",
      "comorbidity___hypothyroidism             -0.5327      0.586     -0.909      0.363      -1.681       0.616\n",
      "comorbidity___chronic_kidney_disease     -0.0547      1.173     -0.047      0.963      -2.354       2.245\n",
      "comorbidity___autoimmune_disease         -0.4671      0.737     -0.634      0.526      -1.911       0.977\n",
      "age_surgery_years                         0.0180      0.017      1.081      0.279      -0.015       0.051\n",
      "radiotherapy___pre_surgery               -1.2347      0.855     -1.445      0.149      -2.910       0.440\n",
      "radiotherapy___post_surgery               0.1107      0.482      0.230      0.818      -0.834       1.055\n",
      "chemotherapy___pre_surgery                1.3563      0.777      1.747      0.081      -0.166       2.878\n",
      "chemotherapy___post_surgery              -0.0751      0.528     -0.142      0.887      -1.111       0.960\n",
      "urkens_classification___c                -0.0286      0.756     -0.038      0.970      -1.510       1.453\n",
      "urkens_classification___r                 0.0206      0.631      0.033      0.974      -1.217       1.258\n",
      "urkens_classification___s                 0.0827      0.595      0.139      0.889      -1.083       1.249\n",
      "flap_segment_count                       -0.3187      0.416     -0.767      0.443      -1.133       0.496\n",
      "surgery_duration_min                      0.0011      0.002      0.658      0.510      -0.002       0.004\n",
      "bmi                                       0.0058      0.047      0.124      0.902      -0.087       0.099\n",
      "skin_transplanted                        -0.4907      0.400     -1.226      0.220      -1.275       0.294\n",
      "venous_anastomosis_type___end_end         0.9798      0.697      1.406      0.160      -0.386       2.346\n",
      "venous_anastomosis_type___end_side        0.0203      0.486      0.042      0.967      -0.933       0.973\n",
      "indication___osteoradionecrosis           0.8160      0.816      1.000      0.317      -0.783       2.415\n",
      "indication___secondary_reconstruction     1.5436      0.780      1.978      0.048       0.014       3.073\n",
      "prior_flap___bony                        -0.1240      0.737     -0.168      0.866      -1.568       1.320\n",
      "prior_flap___non_bony                    -0.4632      0.729     -0.635      0.525      -1.892       0.966\n",
      "flap_donor_site___scapula                -1.1465      0.787     -1.457      0.145      -2.689       0.396\n",
      "plate_type___cad_mini                    -1.6783      0.770     -2.181      0.029      -3.187      -0.170\n",
      "plate_type___cad_mix                     -1.3410      0.483     -2.777      0.005      -2.288      -0.395\n",
      "=========================================================================================================\n"
     ]
    }
   ],
   "source": [
    "# Statsmodel LR\n",
    "lr_statsmodels(\n",
    "    outcome='any_complication', \n",
    "    min_follow_up_days=follow_up_any_cx, \n",
    "    scaler='None',\n",
    "    df=df_dropped_first_imp, \n",
    "    drop_cols=drop_cols_any_cx\n",
    ")"
   ]
  },
  {
   "cell_type": "markdown",
   "metadata": {
    "tags": []
   },
   "source": [
    "###### Newton\n",
    "Mean MCC: 0.235, Mean PR AUC: 0.331"
   ]
  },
  {
   "cell_type": "code",
   "execution_count": null,
   "metadata": {
    "scrolled": true,
    "tags": []
   },
   "outputs": [],
   "source": [
    "# Logistic Regression (newton-cholesky, newton-cg)\n",
    "params_newton_any_cx, x_newton_any_cx, y_newton_any_cx = nested_cv_optuna(\n",
    "    outcome='any_complication', \n",
    "    model=LogisticRegression(max_iter=10000, random_state=0),\n",
    "    min_follow_up_days=follow_up_any_cx, \n",
    "    scaler='None',\n",
    "    df=df_dropped_first_imp, \n",
    "    classifier=lr_newton_classifier,\n",
    "    drop_cols=drop_cols_any_cx\n",
    ")"
   ]
  },
  {
   "cell_type": "markdown",
   "metadata": {
    "jp-MarkdownHeadingCollapsed": true,
    "tags": []
   },
   "source": [
    "###### Liblinear\n",
    "Mean MCC: 203, Mean PR AUC: 306"
   ]
  },
  {
   "cell_type": "code",
   "execution_count": null,
   "metadata": {
    "scrolled": true,
    "tags": []
   },
   "outputs": [],
   "source": [
    "# Liblinear Logistic Regression\n",
    "params_liblinear_any_cx, x_liblinear_any_cx, y_liblinear_any_cx = nested_cv_optuna(\n",
    "    outcome='any_complication', \n",
    "    model=LogisticRegression(max_iter=10000, random_state=0),\n",
    "    min_follow_up_days=follow_up_any_cx, \n",
    "    scaler='None', \n",
    "    df=df_dropped_first_imp, \n",
    "    classifier=lr_liblinear_classifier,\n",
    "    drop_cols=drop_cols_any_cx\n",
    ")"
   ]
  },
  {
   "cell_type": "markdown",
   "metadata": {
    "jp-MarkdownHeadingCollapsed": true,
    "tags": []
   },
   "source": [
    "##### kNN\n",
    "Mean MCC: 0.257, Mean PR AUC: 0.343"
   ]
  },
  {
   "cell_type": "code",
   "execution_count": null,
   "metadata": {
    "scrolled": true,
    "tags": []
   },
   "outputs": [],
   "source": [
    "# Does not converge\n",
    "#params_knn_any_cx, x_knn_any_cx, y_knn_any_cx = nested_cv_optuna(\n",
    "#    outcome='any_complication', \n",
    "#    model=KNeighborsClassifier(),\n",
    "#    min_follow_up_days=follow_up_any_cx, \n",
    "#    scaler=QuantileTransformer(n_quantiles=200, random_state=0), \n",
    "#    df=df_all_levels_imp, \n",
    "#    classifier=knn_classifier,\n",
    "#    drop_cols=drop_cols_any_cx\n",
    "#)"
   ]
  },
  {
   "cell_type": "markdown",
   "metadata": {
    "jp-MarkdownHeadingCollapsed": true,
    "tags": []
   },
   "source": [
    "##### Random Forest\n",
    "Mean MCC: 0.262, Mean PR AUC: 0.362"
   ]
  },
  {
   "cell_type": "code",
   "execution_count": null,
   "metadata": {
    "tags": []
   },
   "outputs": [],
   "source": [
    "params_rf_any_cx, x_rf_any_cx, y_rf_any_cx = nested_cv_optuna(\n",
    "    outcome='any_complication', \n",
    "    model=RandomForestClassifier(n_estimators=500, random_state=0),\n",
    "    min_follow_up_days=follow_up_any_cx, \n",
    "    scaler='None', \n",
    "    df=df_all_levels_imp, \n",
    "    classifier=rf_classifier,\n",
    "    drop_cols=drop_cols_any_cx\n",
    ")"
   ]
  },
  {
   "cell_type": "code",
   "execution_count": null,
   "metadata": {
    "tags": []
   },
   "outputs": [],
   "source": [
    "avg_params_rf_any_cx = get_avg_params(params_rf_any_cx)\n",
    "get_shap_rf([avg_params_rf_any_cx], x_rf_any_cx, y_rf_any_cx)"
   ]
  },
  {
   "cell_type": "markdown",
   "metadata": {
    "tags": []
   },
   "source": [
    "##### XGBoost\n",
    "Mean MCC: 0.183, Mean PR AUC: 0.288"
   ]
  },
  {
   "cell_type": "code",
   "execution_count": null,
   "metadata": {
    "tags": []
   },
   "outputs": [],
   "source": [
    "params_xgb_any_cx, x_xgb_any_cx, y_xgb_any_cx = nested_cv_optuna(\n",
    "    outcome='any_complication', \n",
    "    model=XGBClassifier(),\n",
    "    min_follow_up_days=follow_up_any_cx, \n",
    "    scaler='None', \n",
    "    df=df_all_levels_imp, \n",
    "    classifier=xgb_classifier,\n",
    "    drop_cols=drop_cols_any_cx\n",
    ")"
   ]
  },
  {
   "cell_type": "code",
   "execution_count": null,
   "metadata": {
    "tags": []
   },
   "outputs": [],
   "source": [
    "avg_params_xgb_any_cx = get_avg_params(params_xgb_any_cx)\n",
    "get_shap_xgb([avg_params_xgb_any_cx], x_xgb_any_cx, y_xgb_any_cx)"
   ]
  },
  {
   "cell_type": "markdown",
   "metadata": {
    "id": "eUVKas4ODgeh",
    "jp-MarkdownHeadingCollapsed": true,
    "tags": []
   },
   "source": [
    "#### Plate exposure"
   ]
  },
  {
   "cell_type": "markdown",
   "metadata": {
    "tags": []
   },
   "source": [
    "##### Configuration"
   ]
  },
  {
   "cell_type": "code",
   "execution_count": 32,
   "metadata": {
    "tags": []
   },
   "outputs": [],
   "source": [
    "follow_up_plate_exp = df_all_levels_imp['days_to_plate_exposure'].median()\n",
    "drop_cols_plate_exp = ['venous_anastomosis_type___end_side', 'venous_anastomosis_type___end_end']"
   ]
  },
  {
   "cell_type": "markdown",
   "metadata": {
    "tags": []
   },
   "source": [
    "##### Logistic Regression\n",
    "Mean MCC: 0.360, Mean PR AUC: 0.371"
   ]
  },
  {
   "cell_type": "markdown",
   "metadata": {
    "tags": []
   },
   "source": [
    "###### Statsmodel\n",
    "Mean MCC: 0.362, Mean PR AUC: 0.384"
   ]
  },
  {
   "cell_type": "code",
   "execution_count": null,
   "metadata": {
    "tags": []
   },
   "outputs": [],
   "source": [
    "def lr_plate_exp_no_cv():\n",
    "    \n",
    "    drop_cols_plate_exp_3 = drop_cols_plate_exp.copy()\n",
    "    drop_cols_plate_exp_3.extend([\n",
    "        'comorbidity___autoimmune_disease', \n",
    "        'comorbidity___hypothyroidism', \n",
    "        'comorbidity___copd', \n",
    "        'comorbidity___hyperlipidemia',\n",
    "        'radiotherapy___pre_surgery',\n",
    "        'chemotherapy___pre_surgery',\n",
    "        'comorbidity___hypertension',\n",
    "        'comorbidity___chronic_kidney_disease',\n",
    "        'prior_flap___non_bony', \n",
    "        'prior_flap___bony'\n",
    "    ])\n",
    "    \n",
    "    x, y = get_x_y(\n",
    "    df=df_dropped_first_3, \n",
    "    outcome='complication_plate___exposure', \n",
    "    min_follow_up_days=follow_up_plate_exp, \n",
    "    scaler='None', \n",
    "    drop_cols=drop_cols_plate_exp_3\n",
    "    )\n",
    "\n",
    "    boolean_columns = x.select_dtypes(include=bool).columns\n",
    "    x[boolean_columns] = x[boolean_columns].astype('int')\n",
    "    numeric_columns = x.select_dtypes(include='number').columns\n",
    "    x[numeric_columns] = x[numeric_columns].astype('float64')\n",
    "    y = y.astype('int')\n",
    "\n",
    "    x_columns = x.columns\n",
    "    all_columns = \"+\".join(x_columns)\n",
    "    formula = 'complication_plate___exposure' +  '~' + all_columns\n",
    "\n",
    "    data = pd.concat([x, y], axis=1)\n",
    "    final_model = smf.logit(formula, data).fit()\n",
    "    print(final_model.summary())\n",
    "    \n",
    "lr_plate_exp_no_cv()"
   ]
  },
  {
   "cell_type": "code",
   "execution_count": null,
   "metadata": {
    "scrolled": true,
    "tags": []
   },
   "outputs": [],
   "source": [
    "# Statsmodel LR\n",
    "lr_statsmodels(\n",
    "    outcome='complication_plate___exposure', \n",
    "    min_follow_up_days=follow_up_plate_exp, \n",
    "    scaler='None',\n",
    "    df=df_dropped_first_imp, \n",
    "    drop_cols=drop_cols_plate_exp\n",
    ")"
   ]
  },
  {
   "cell_type": "markdown",
   "metadata": {
    "jp-MarkdownHeadingCollapsed": true,
    "tags": []
   },
   "source": [
    "###### Newton\n",
    "Mean MCC: 0.352, Mean PR AUC: 0.384"
   ]
  },
  {
   "cell_type": "code",
   "execution_count": null,
   "metadata": {
    "tags": []
   },
   "outputs": [],
   "source": [
    "# Logistic Regression (newton-cholesky, newton-cg)\n",
    "params_newton_plate_exp, x_newton_plate_exp, y_newton_plate_exp = nested_cv_optuna(\n",
    "    outcome='complication_plate___exposure', \n",
    "    model=LogisticRegression(max_iter=10000, random_state=0),\n",
    "    min_follow_up_days=follow_up_plate_exp, \n",
    "    #scaler='None',\n",
    "    scaler=QuantileTransformer(random_state=0),\n",
    "    df=df_dropped_first_imp, \n",
    "    classifier=lr_newton_classifier,\n",
    "    drop_cols=drop_cols_plate_exp\n",
    ")"
   ]
  },
  {
   "cell_type": "markdown",
   "metadata": {
    "jp-MarkdownHeadingCollapsed": true,
    "tags": []
   },
   "source": [
    "###### Liblinear\n",
    "Mean MCC: 0.321, Mean PR AUC: 0.335"
   ]
  },
  {
   "cell_type": "code",
   "execution_count": null,
   "metadata": {
    "tags": []
   },
   "outputs": [],
   "source": [
    "# Liblinear Logistic Regression\n",
    "params_liblinear_plate_exp, x_liblinear_plate_exp, y_liblinear_plate_exp = nested_cv_optuna(\n",
    "    outcome='complication_plate___exposure', \n",
    "    model=LogisticRegression(max_iter=10000, random_state=0),\n",
    "    min_follow_up_days=follow_up_plate_exp, \n",
    "    scaler='None',\n",
    "    df=df_dropped_first_imp, \n",
    "    classifier=lr_liblinear_classifier,\n",
    "    drop_cols=drop_cols_plate_exp\n",
    ")"
   ]
  },
  {
   "cell_type": "markdown",
   "metadata": {
    "jp-MarkdownHeadingCollapsed": true,
    "tags": []
   },
   "source": [
    "##### kNN\n",
    "Mean MCC: 0.326, Mean PR AUC: 0.379"
   ]
  },
  {
   "cell_type": "code",
   "execution_count": null,
   "metadata": {
    "tags": []
   },
   "outputs": [],
   "source": [
    "params_knn_plate_exp, x_knn_plate_exp, y_knn_plate_exp = nested_cv_optuna(\n",
    "    outcome='complication_plate___exposure', \n",
    "    model=KNeighborsClassifier(),\n",
    "    min_follow_up_days=follow_up_plate_exp, \n",
    "    scaler=QuantileTransformer(n_quantiles=200, random_state=0), \n",
    "    df=df_all_levels_imp, \n",
    "    classifier=knn_classifier,\n",
    "    drop_cols=drop_cols_plate_exp\n",
    ")"
   ]
  },
  {
   "cell_type": "markdown",
   "metadata": {
    "jp-MarkdownHeadingCollapsed": true,
    "tags": []
   },
   "source": [
    "##### Random Forest\n",
    "Mean MCC: 0.315, Mean PR AUC: 0.390"
   ]
  },
  {
   "cell_type": "code",
   "execution_count": null,
   "metadata": {
    "tags": []
   },
   "outputs": [],
   "source": [
    "params_rf_plate_exp, x_rf_plate_exp, y_rf_plate_exp = nested_cv_optuna(\n",
    "    outcome='complication_plate___exposure', \n",
    "    model=RandomForestClassifier(n_estimators=500, random_state=0),\n",
    "    min_follow_up_days=follow_up_plate_exp, \n",
    "    scaler='None', \n",
    "    df=df_all_levels_imp, \n",
    "    classifier=rf_classifier,\n",
    "    drop_cols=drop_cols_plate_exp\n",
    ")"
   ]
  },
  {
   "cell_type": "code",
   "execution_count": null,
   "metadata": {
    "scrolled": true,
    "tags": []
   },
   "outputs": [],
   "source": [
    "avg_params_rf_plate_exp = get_avg_params(params_rf_plate_exp)\n",
    "get_shap_rf([avg_params_rf_plate_exp], x_rf_plate_exp, y_rf_plate_exp)"
   ]
  },
  {
   "cell_type": "markdown",
   "metadata": {
    "tags": []
   },
   "source": [
    "##### XGBoost\n",
    "\n",
    "Mean MCC: 0.348,\n",
    "Mean PR AUC: 0.394"
   ]
  },
  {
   "cell_type": "code",
   "execution_count": null,
   "metadata": {
    "tags": []
   },
   "outputs": [],
   "source": [
    "params_xgb_plate_exp, x_xgb_plate_exp, y_xgb_plate_exp = nested_cv_optuna(\n",
    "    outcome='complication_plate___exposure', \n",
    "    model=XGBClassifier(random_state=0, verbosity=0),\n",
    "    min_follow_up_days=follow_up_plate_exp, \n",
    "    scaler='None',\n",
    "    df=df_all_levels_imp, \n",
    "    classifier=xgb_classifier,\n",
    "    drop_cols=drop_cols_plate_exp\n",
    ")"
   ]
  },
  {
   "cell_type": "code",
   "execution_count": null,
   "metadata": {
    "tags": []
   },
   "outputs": [],
   "source": [
    "avg_params_xgb_plate_exp = get_avg_params(params_xgb_plate_exp)\n",
    "sv_xgb_plate_exp = get_shap_xgb([avg_params_xgb_plate_exp], x_xgb_plate_exp, y_xgb_plate_exp)"
   ]
  },
  {
   "cell_type": "markdown",
   "metadata": {
    "jp-MarkdownHeadingCollapsed": true,
    "tags": []
   },
   "source": [
    "#### Bone exposure"
   ]
  },
  {
   "cell_type": "markdown",
   "metadata": {
    "tags": []
   },
   "source": [
    "##### Configuration"
   ]
  },
  {
   "cell_type": "code",
   "execution_count": null,
   "metadata": {
    "tags": []
   },
   "outputs": [],
   "source": [
    "follow_up_bone_exp = df_all_levels_imp['days_to_bone_exposure'].median()\n",
    "drop_cols_bone_exp = ['venous_anastomosis_type___end_side', 'venous_anastomosis_type___end_end']"
   ]
  },
  {
   "cell_type": "markdown",
   "metadata": {
    "tags": []
   },
   "source": [
    "##### Logistic Regression"
   ]
  },
  {
   "cell_type": "markdown",
   "metadata": {},
   "source": [
    "###### Statsmodels"
   ]
  },
  {
   "cell_type": "code",
   "execution_count": null,
   "metadata": {
    "tags": []
   },
   "outputs": [],
   "source": [
    "# Statsmodel LR\n",
    "lr_statsmodels(\n",
    "    outcome='complication___bone_exposure', \n",
    "    min_follow_up_days=follow_up_bone_exp, \n",
    "    scaler='None',\n",
    "    df=df_dropped_first_imp, \n",
    "    drop_cols=drop_cols_bone_exp\n",
    ")"
   ]
  },
  {
   "cell_type": "markdown",
   "metadata": {},
   "source": [
    "###### Newton"
   ]
  },
  {
   "cell_type": "code",
   "execution_count": null,
   "metadata": {},
   "outputs": [],
   "source": [
    "# Logistic Regression (newton-cholesky, newton-cg)\n",
    "params_newton_bone_exp, x_newton_bone_exp, y_newton_bone_exp = nested_cv_optuna(\n",
    "    outcome='complication___bone_exposure', \n",
    "    model=LogisticRegression(max_iter=10000, random_state=0),\n",
    "    min_follow_up_days=follow_up_bone_exp, \n",
    "    scaler='None',\n",
    "    df=df_dropped_first_imp, \n",
    "    classifier=lr_newton_classifier,\n",
    "    drop_cols=drop_cols_bone_exp\n",
    ")"
   ]
  },
  {
   "cell_type": "markdown",
   "metadata": {},
   "source": [
    "###### Liblinear"
   ]
  },
  {
   "cell_type": "code",
   "execution_count": null,
   "metadata": {},
   "outputs": [],
   "source": [
    "# Liblinear Logistic Regression\n",
    "params_liblinear_bone_exp, x_liblinear_bone_exp, y_liblinear_bone_exp = nested_cv_optuna(\n",
    "    outcome='complication___bone_exposure', \n",
    "    model=LogisticRegression(max_iter=10000, random_state=0),\n",
    "    min_follow_up_days=follow_up_bone_exp, \n",
    "    scaler='None',\n",
    "    df=df_dropped_first_imp, \n",
    "    classifier=lr_liblinear_classifier,\n",
    "    drop_cols=drop_cols_bone_exp\n",
    ")"
   ]
  },
  {
   "cell_type": "markdown",
   "metadata": {
    "jp-MarkdownHeadingCollapsed": true,
    "tags": []
   },
   "source": [
    "##### kNN"
   ]
  },
  {
   "cell_type": "code",
   "execution_count": null,
   "metadata": {},
   "outputs": [],
   "source": [
    "params_knn_bone_exp, x_knn_bone_exp, y_knn_bone_exp = nested_cv_optuna(\n",
    "    outcome='complication___bone_exposure', \n",
    "    model=KNeighborsClassifier(),\n",
    "    min_follow_up_days=follow_up_bone_exp, \n",
    "    scaler=QuantileTransformer(n_quantiles=200, random_state=0), \n",
    "    df=df_all_levels_imp, \n",
    "    classifier=knn_classifier,\n",
    "    drop_cols=drop_cols_bone_exp\n",
    ")"
   ]
  },
  {
   "cell_type": "markdown",
   "metadata": {},
   "source": [
    "##### Random Forest"
   ]
  },
  {
   "cell_type": "code",
   "execution_count": null,
   "metadata": {},
   "outputs": [],
   "source": [
    "params_rf_bone_exp, x_rf_bone_exp, y_rf_bone_exp = nested_cv_optuna(\n",
    "    outcome='complication___bone_exposure', \n",
    "    model=RandomForestClassifier(n_estimators=500, random_state=0),\n",
    "    min_follow_up_days=follow_up_bone_exp, \n",
    "    scaler='None', \n",
    "    df=df_all_levels_imp, \n",
    "    classifier=rf_classifier,\n",
    "    drop_cols=drop_cols_bone_exp\n",
    ")"
   ]
  },
  {
   "cell_type": "markdown",
   "metadata": {},
   "source": [
    "##### XGBoost"
   ]
  },
  {
   "cell_type": "code",
   "execution_count": null,
   "metadata": {},
   "outputs": [],
   "source": [
    "params_xgb_bone_exp, x_xgb_bone_exp, y_xgb_bone_exp = nested_cv_optuna(\n",
    "    outcome='complication___bone_exposure', \n",
    "    model=XGBClassifier(random_state=0, verbosity=0),\n",
    "    min_follow_up_days=follow_up_bone_exp, \n",
    "    scaler='None',\n",
    "    df=df_all_levels_imp, \n",
    "    classifier=xgb_classifier,\n",
    "    drop_cols=drop_cols_bone_exp\n",
    ")"
   ]
  },
  {
   "cell_type": "markdown",
   "metadata": {
    "tags": []
   },
   "source": [
    "#### ORN redefined"
   ]
  },
  {
   "cell_type": "markdown",
   "metadata": {},
   "source": [
    "##### Configuration"
   ]
  },
  {
   "cell_type": "markdown",
   "metadata": {},
   "source": [
    "ORN will be defined as either ORN or Bone exposure while post-operative RT was received."
   ]
  },
  {
   "cell_type": "code",
   "execution_count": null,
   "metadata": {
    "tags": []
   },
   "outputs": [],
   "source": [
    "follow_up_orn = df_all_levels_imp['days_to_osteoradionecrosis'].median()\n",
    "drop_cols_orn = ['venous_anastomosis_type___end_side', 'venous_anastomosis_type___end_end']"
   ]
  },
  {
   "cell_type": "markdown",
   "metadata": {
    "tags": []
   },
   "source": [
    "##### Logistic Regression"
   ]
  },
  {
   "cell_type": "markdown",
   "metadata": {
    "tags": []
   },
   "source": [
    "###### Statsmodel"
   ]
  },
  {
   "cell_type": "code",
   "execution_count": null,
   "metadata": {
    "tags": []
   },
   "outputs": [],
   "source": [
    "# 3 SEGMENTS ONLY\n",
    "def lr_orn_no_cv_3():\n",
    "    \n",
    "    drop_cols_orn_3 = drop_cols_orn.copy()\n",
    "    drop_cols_orn_3.extend([\n",
    "        'comorbidity___autoimmune_disease', \n",
    "        'comorbidity___hypothyroidism', \n",
    "        'comorbidity___copd', \n",
    "        'comorbidity___hyperlipidemia',\n",
    "        'radiotherapy___pre_surgery',\n",
    "        'chemotherapy___pre_surgery',\n",
    "        'comorbidity___hypertension',\n",
    "        'comorbidity___chronic_kidney_disease',\n",
    "        'prior_flap___non_bony', \n",
    "        'prior_flap___bony'\n",
    "    ])\n",
    "    \n",
    "    x, y = get_x_y(\n",
    "    df=df_dropped_first_3, \n",
    "    outcome='complication___osteoradionecrosis', \n",
    "    min_follow_up_days=follow_up_orn, \n",
    "    scaler='None', \n",
    "    drop_cols=drop_cols_orn_3\n",
    "    )\n",
    "\n",
    "    boolean_columns = x.select_dtypes(include=bool).columns\n",
    "    x[boolean_columns] = x[boolean_columns].astype('int')\n",
    "    numeric_columns = x.select_dtypes(include='number').columns\n",
    "    x[numeric_columns] = x[numeric_columns].astype('float64')\n",
    "    y = y.astype('int')\n",
    "\n",
    "    x_columns = x.columns\n",
    "    all_columns = \"+\".join(x_columns)\n",
    "    formula = 'complication___osteoradionecrosis' +  '~' + all_columns\n",
    "\n",
    "    data = pd.concat([x, y], axis=1)\n",
    "    final_model = smf.logit(formula, data).fit()\n",
    "    print(final_model.summary())\n",
    "    \n",
    "lr_orn_no_cv_3()"
   ]
  },
  {
   "cell_type": "code",
   "execution_count": null,
   "metadata": {
    "tags": []
   },
   "outputs": [],
   "source": [
    "#lr_statsmodels(\n",
    "#    outcome='orn_redefined', \n",
    "#    min_follow_up_days=follow_up_orn, \n",
    "#    scaler='None',\n",
    "#    df=df_dropped_first_imp, \n",
    "#    drop_cols=drop_cols_orn\n",
    "#)\n",
    "\n",
    "# DID NOT CONVERGE"
   ]
  },
  {
   "cell_type": "code",
   "execution_count": null,
   "metadata": {
    "tags": []
   },
   "outputs": [],
   "source": [
    "df_all_levels_imp['complication_plate___fracture'].value_counts()"
   ]
  },
  {
   "cell_type": "code",
   "execution_count": null,
   "metadata": {
    "tags": []
   },
   "outputs": [],
   "source": [
    "def lr_orn_no_cv():\n",
    "    x, y = get_x_y(\n",
    "    df=df_dropped_first_imp, \n",
    "    outcome='orn_redefined', \n",
    "    min_follow_up_days=follow_up_orn, \n",
    "    scaler='None', \n",
    "    drop_cols=drop_cols_orn\n",
    "    )\n",
    "\n",
    "    boolean_columns = x.select_dtypes(include=bool).columns\n",
    "    x[boolean_columns] = x[boolean_columns].astype('int')\n",
    "    numeric_columns = x.select_dtypes(include='number').columns\n",
    "    x[numeric_columns] = x[numeric_columns].astype('float64')\n",
    "    y = y.astype('int')\n",
    "\n",
    "    x_columns = x.columns\n",
    "    all_columns = \"+\".join(x_columns)\n",
    "    formula = 'orn_redefined' +  '~' + all_columns\n",
    "\n",
    "    data = pd.concat([x, y], axis=1)\n",
    "    final_model = smf.logit(formula, data).fit()\n",
    "    print(final_model.summary())\n",
    "    \n",
    "lr_orn_no_cv()"
   ]
  },
  {
   "cell_type": "markdown",
   "metadata": {
    "tags": []
   },
   "source": [
    "###### Newton"
   ]
  },
  {
   "cell_type": "code",
   "execution_count": null,
   "metadata": {
    "scrolled": true,
    "tags": []
   },
   "outputs": [],
   "source": [
    "params_newton_orn, x_newton_orn, y_newton_orn = nested_cv_optuna(\n",
    "    outcome='orn_redefined', \n",
    "    model=LogisticRegression(max_iter=10000, random_state=0),\n",
    "    min_follow_up_days=follow_up_orn, \n",
    "    scaler=QuantileTransformer(random_state=0),\n",
    "    df=df_dropped_first_imp, \n",
    "    classifier=lr_newton_classifier,\n",
    "    drop_cols=drop_cols_orn\n",
    ")"
   ]
  },
  {
   "cell_type": "markdown",
   "metadata": {},
   "source": [
    "###### Liblinear"
   ]
  },
  {
   "cell_type": "code",
   "execution_count": null,
   "metadata": {
    "scrolled": true,
    "tags": []
   },
   "outputs": [],
   "source": [
    "# Liblinear Logistic Regression\n",
    "params_liblinear_orn, x_liblinear_orn, y_liblinear_orn = nested_cv_optuna(\n",
    "    outcome='orn_redefined', \n",
    "    model=LogisticRegression(max_iter=10000, random_state=0),\n",
    "    min_follow_up_days=follow_up_orn, \n",
    "    scaler=QuantileTransformer(random_state=0),\n",
    "    df=df_dropped_first_imp, \n",
    "    classifier=lr_liblinear_classifier,\n",
    "    drop_cols=drop_cols_orn\n",
    ")"
   ]
  },
  {
   "cell_type": "markdown",
   "metadata": {},
   "source": [
    "##### kNN"
   ]
  },
  {
   "cell_type": "code",
   "execution_count": null,
   "metadata": {
    "scrolled": true,
    "tags": []
   },
   "outputs": [],
   "source": [
    "params_knn_orn, x_knn_orn, y_knn_orn = nested_cv_optuna(\n",
    "    outcome='orn_redefined', \n",
    "    model=KNeighborsClassifier(),\n",
    "    min_follow_up_days=follow_up_orn, \n",
    "    scaler=QuantileTransformer(n_quantiles=200, random_state=0), \n",
    "    df=df_all_levels_imp, \n",
    "    classifier=knn_classifier,\n",
    "    drop_cols=drop_cols_orn\n",
    ")"
   ]
  },
  {
   "cell_type": "markdown",
   "metadata": {},
   "source": [
    "##### Random Forest"
   ]
  },
  {
   "cell_type": "code",
   "execution_count": null,
   "metadata": {},
   "outputs": [],
   "source": [
    "params_rf_orn, x_rf_orn, y_rf_orn = nested_cv_optuna(\n",
    "    outcome='orn_redefined', \n",
    "    model=RandomForestClassifier(n_estimators=500, random_state=0),\n",
    "    min_follow_up_days=follow_up_orn, \n",
    "    scaler='None', \n",
    "    df=df_all_levels_imp, \n",
    "    classifier=rf_classifier,\n",
    "    drop_cols=drop_cols_orn\n",
    ")"
   ]
  },
  {
   "cell_type": "code",
   "execution_count": null,
   "metadata": {
    "scrolled": true,
    "tags": []
   },
   "outputs": [],
   "source": [
    "avg_params_rf_orn = get_avg_params(params_rf_orn)\n",
    "get_shap_rf([avg_params_rf_orn], x_rf_orn, y_rf_orn)"
   ]
  },
  {
   "cell_type": "markdown",
   "metadata": {
    "tags": []
   },
   "source": [
    "##### XGBoost"
   ]
  },
  {
   "cell_type": "code",
   "execution_count": null,
   "metadata": {
    "tags": []
   },
   "outputs": [],
   "source": [
    "params_xgb_orn, x_xgb_orn, y_xgb_orn = nested_cv_optuna(\n",
    "    outcome='orn_redefined', \n",
    "    model=XGBClassifier(random_state=0, verbosity=0),\n",
    "    min_follow_up_days=follow_up_orn, \n",
    "    scaler='None',\n",
    "    df=df_all_levels_imp, \n",
    "    classifier=xgb_classifier,\n",
    "    drop_cols=drop_cols_orn\n",
    ")"
   ]
  },
  {
   "cell_type": "code",
   "execution_count": null,
   "metadata": {
    "scrolled": true,
    "tags": []
   },
   "outputs": [],
   "source": [
    "avg_params_xgb_orn = get_avg_params(params_xgb_orn)\n",
    "sv_xgb_orn = get_shap_xgb([avg_params_xgb_orn], x_xgb_orn, y_xgb_orn)"
   ]
  },
  {
   "cell_type": "markdown",
   "metadata": {
    "id": "i4lZqvTdDkFx",
    "tags": []
   },
   "source": [
    "#### Nonunion"
   ]
  },
  {
   "cell_type": "markdown",
   "metadata": {
    "tags": []
   },
   "source": [
    "##### Configuration"
   ]
  },
  {
   "cell_type": "code",
   "execution_count": null,
   "metadata": {
    "tags": []
   },
   "outputs": [],
   "source": [
    "follow_up_nonunion = 0 \n",
    "drop_cols_nonunion = ['skin_transplanted']\n",
    "\n",
    "# No minimum follow-up since all patients without imaging data are excluded \n",
    "# as they have a NaN in the nonunion column"
   ]
  },
  {
   "cell_type": "markdown",
   "metadata": {
    "tags": []
   },
   "source": [
    "##### Logistic Regression\n",
    "Mean MCC: 0.329, Mean PR AUC: 0.59"
   ]
  },
  {
   "cell_type": "markdown",
   "metadata": {
    "tags": []
   },
   "source": [
    "###### Statsmodel\n",
    "Mean MCC: 0.294, Mean PR AUC: 0.566"
   ]
  },
  {
   "cell_type": "code",
   "execution_count": null,
   "metadata": {
    "tags": []
   },
   "outputs": [],
   "source": [
    "df_dropped_first_tumor_3 = df_dropped_first_3[(df_dropped_first_3['indication___osteoradionecrosis'] == False) & (df_dropped_first_3['indication___secondary_reconstruction'] == False)]\n",
    "df_dropped_first_tumor_3 = df_dropped_first_tumor_3.drop(['indication___osteoradionecrosis', 'indication___secondary_reconstruction'], axis=1)\n",
    "df_dropped_first_tumor_3['nonunion'].value_counts()"
   ]
  },
  {
   "cell_type": "code",
   "execution_count": null,
   "metadata": {
    "tags": []
   },
   "outputs": [],
   "source": [
    "def lr_nonunion_no_cv():\n",
    "    \n",
    "    drop_cols_nonunion_3 = drop_cols_nonunion.copy()\n",
    "    drop_cols_nonunion_3.extend([      \n",
    "        'comorbidity___autoimmune_disease', \n",
    "        'comorbidity___hypothyroidism', \n",
    "        'comorbidity___copd',   \n",
    "        'radiotherapy___pre_surgery',\n",
    "        'chemotherapy___pre_surgery',\n",
    "        'prior_flap___non_bony',\n",
    "        'prior_flap___bony',\n",
    "        'comorbidity___hyperlipidemia',\n",
    "        'venous_anastomosis_type___end_side',\n",
    "        'venous_anastomosis_type___end_end',\n",
    "        'comorbidity___hypertension',\n",
    "        'comorbidity___chronic_kidney_disease',\n",
    "        'comorbidity___atherosclerosis'\n",
    "    ])\n",
    "    \n",
    "    x, y = get_x_y(\n",
    "    df=df_dropped_first_tumor_3,\n",
    "    outcome='nonunion', \n",
    "    min_follow_up_days=follow_up_nonunion, \n",
    "    scaler='None', \n",
    "    drop_cols=drop_cols_nonunion_3\n",
    "    )\n",
    "\n",
    "    boolean_columns = x.select_dtypes(include=bool).columns\n",
    "    x[boolean_columns] = x[boolean_columns].astype('int')\n",
    "    numeric_columns = x.select_dtypes(include='number').columns\n",
    "    x[numeric_columns] = x[numeric_columns].astype('float64')\n",
    "    y = y.astype('int')\n",
    "\n",
    "    x_columns = x.columns\n",
    "    all_columns = \"+\".join(x_columns)\n",
    "    formula = 'nonunion' +  '~' + all_columns\n",
    "\n",
    "    data = pd.concat([x, y], axis=1)\n",
    "    final_model = smf.logit(formula, data).fit()\n",
    "    print(final_model.summary())\n",
    "    \n",
    "lr_nonunion_no_cv()"
   ]
  },
  {
   "cell_type": "code",
   "execution_count": null,
   "metadata": {
    "scrolled": true,
    "tags": []
   },
   "outputs": [],
   "source": [
    "# Statsmodel LR\n",
    "lr_statsmodels(\n",
    "    outcome='nonunion', \n",
    "    min_follow_up_days=follow_up_nonunion, \n",
    "    scaler='None',\n",
    "    df=df_dropped_first_imp, \n",
    "    drop_cols=drop_cols_nonunion\n",
    ")"
   ]
  },
  {
   "cell_type": "markdown",
   "metadata": {
    "tags": []
   },
   "source": [
    "###### Newton (Scaled)\n",
    "Mean MCC: 0.329, Mean PR AUC: 0.590"
   ]
  },
  {
   "cell_type": "code",
   "execution_count": null,
   "metadata": {
    "scrolled": true,
    "tags": []
   },
   "outputs": [],
   "source": [
    "# Logistic Regression (lbfgs, newton-cholesky, newton-cg)\n",
    "params_newton_nonunion, x_newton_nonunion, y_newton_nonunion = nested_cv_optuna(\n",
    "    outcome='nonunion', \n",
    "    model=LogisticRegression(max_iter=10000, random_state=0),\n",
    "    min_follow_up_days=follow_up_nonunion,  \n",
    "    scaler='None',\n",
    "    df=df_dropped_first_imp, \n",
    "    classifier=lr_newton_classifier,\n",
    "    drop_cols=drop_cols_nonunion\n",
    ")"
   ]
  },
  {
   "cell_type": "markdown",
   "metadata": {
    "tags": []
   },
   "source": [
    "###### Liblinear (Scaled)\n",
    "Mean MCC: 0.312, Mean PR AUC: 0.586"
   ]
  },
  {
   "cell_type": "code",
   "execution_count": null,
   "metadata": {
    "tags": []
   },
   "outputs": [],
   "source": [
    "# Liblinear Logistic Regression\n",
    "params_liblinear_nonunion, x_liblinear_nonunion, y_liblinear_nonunion = nested_cv_optuna(\n",
    "    outcome='nonunion', \n",
    "    model=LogisticRegression(max_iter=1000),\n",
    "    min_follow_up_days=follow_up_nonunion, \n",
    "    scaler='None', \n",
    "    df=df_dropped_first_imp, \n",
    "    classifier=lr_liblinear_classifier,\n",
    "    drop_cols=drop_cols_nonunion\n",
    ")"
   ]
  },
  {
   "cell_type": "markdown",
   "metadata": {
    "jp-MarkdownHeadingCollapsed": true,
    "tags": []
   },
   "source": [
    "##### kNN\n",
    "Mean MCC: 0.211, Mean PR AUC: 0.5"
   ]
  },
  {
   "cell_type": "code",
   "execution_count": null,
   "metadata": {
    "tags": []
   },
   "outputs": [],
   "source": [
    "params_knn_nonunion, x_knn_nonunion, y_knn_nonunion = nested_cv_optuna(\n",
    "    outcome='nonunion', \n",
    "    model=KNeighborsClassifier(),\n",
    "    min_follow_up_days=follow_up_nonunion, \n",
    "    scaler=QuantileTransformer(n_quantiles=150, random_state=0), \n",
    "    df=df_all_levels_imp, \n",
    "    classifier=knn_classifier,\n",
    "    drop_cols=drop_cols_nonunion\n",
    ")"
   ]
  },
  {
   "cell_type": "markdown",
   "metadata": {
    "jp-MarkdownHeadingCollapsed": true,
    "tags": []
   },
   "source": [
    "##### Random Forest\n",
    "Mean MCC: 0.337, Mean PR AUC: 0.583"
   ]
  },
  {
   "cell_type": "code",
   "execution_count": null,
   "metadata": {
    "tags": []
   },
   "outputs": [],
   "source": [
    "params_rf_nonunion, x_rf_nonunion, y_rf_nonunion = nested_cv_optuna(\n",
    "    outcome='nonunion', \n",
    "    model=RandomForestClassifier(random_state=0),\n",
    "    min_follow_up_days=follow_up_nonunion, \n",
    "    scaler='None', \n",
    "    df=df_all_levels_imp, \n",
    "    classifier=rf_classifier,\n",
    "    drop_cols=drop_cols_nonunion\n",
    ")"
   ]
  },
  {
   "cell_type": "code",
   "execution_count": null,
   "metadata": {
    "tags": []
   },
   "outputs": [],
   "source": [
    "avg_params_rf_nonunion = get_avg_params(params_rf_nonunion)\n",
    "get_shap_rf([avg_params_rf_nonunion], x_rf_nonunion, y_rf_nonunion)"
   ]
  },
  {
   "cell_type": "markdown",
   "metadata": {
    "tags": []
   },
   "source": [
    "##### XGBoost\n",
    "Mean MCC: 0.278, Mean PR AUC: 0.578"
   ]
  },
  {
   "cell_type": "code",
   "execution_count": null,
   "metadata": {
    "tags": []
   },
   "outputs": [],
   "source": [
    "params_xgb_nu, x_xgb_nu, y_xgb_nu = nested_cv_optuna(\n",
    "    outcome='nonunion', \n",
    "    model=XGBClassifier(),\n",
    "    min_follow_up_days=follow_up_nonunion, \n",
    "    scaler='None', \n",
    "    df=df_all_levels_imp, \n",
    "    classifier=xgb_classifier,\n",
    "    drop_cols=drop_cols_nonunion\n",
    ")"
   ]
  },
  {
   "cell_type": "code",
   "execution_count": null,
   "metadata": {
    "tags": []
   },
   "outputs": [],
   "source": [
    "avg_params_xgb_nu = get_avg_params(params_xgb_nu)\n",
    "get_shap_xgb([avg_params_xgb_nu], x_xgb_nu, y_xgb_nu)"
   ]
  },
  {
   "cell_type": "markdown",
   "metadata": {
    "id": "KLUfcvFFDmpY",
    "tags": []
   },
   "source": [
    "#### Soft tissue complication"
   ]
  },
  {
   "cell_type": "markdown",
   "metadata": {
    "jp-MarkdownHeadingCollapsed": true,
    "tags": []
   },
   "source": [
    "##### Configuration"
   ]
  },
  {
   "cell_type": "code",
   "execution_count": null,
   "metadata": {
    "tags": []
   },
   "outputs": [],
   "source": [
    "follow_up_stx = np.mean([\n",
    "    df_all_levels_imp['days_to_whd_recipient_site'].median(),\n",
    "     df_all_levels_imp['days_to_partial_necrosis'].median(),\n",
    "     df_all_levels_imp['days_to_bone_exposure'].median(),\n",
    "     df_all_levels_imp['days_to_plate_exposure'].median(),\n",
    "     df_all_levels_imp['days_to_wound_infection'].median()\n",
    "])\n",
    "\n",
    "drop_cols_stx = []"
   ]
  },
  {
   "cell_type": "markdown",
   "metadata": {
    "tags": []
   },
   "source": [
    "##### Logistic Regression\n",
    "Mean MCC: 0.458, Mean PR AUC: 691"
   ]
  },
  {
   "cell_type": "markdown",
   "metadata": {
    "tags": []
   },
   "source": [
    "###### Statsmodel\n",
    "Mean MCC: 0.383, Mean PR AUC: 0.648"
   ]
  },
  {
   "cell_type": "code",
   "execution_count": null,
   "metadata": {
    "tags": []
   },
   "outputs": [],
   "source": [
    "# 3 SEGMENTS ONLY\n",
    "\n",
    "def lr_stx_no_cv():\n",
    "    \n",
    "    drop_cols_stx_3 = drop_cols_stx.copy()\n",
    "    drop_cols_stx_3.extend([\n",
    "        'comorbidity___autoimmune_disease', \n",
    "        'comorbidity___hypothyroidism', \n",
    "        'comorbidity___copd',   \n",
    "        'radiotherapy___pre_surgery',\n",
    "        'chemotherapy___pre_surgery',\n",
    "        'prior_flap___non_bony',\n",
    "        'prior_flap___bony',\n",
    "        'comorbidity___hyperlipidemia',\n",
    "        'venous_anastomosis_type___end_side',\n",
    "        'venous_anastomosis_type___end_end',\n",
    "        'comorbidity___hypertension',\n",
    "        'comorbidity___chronic_kidney_disease',\n",
    "        'comorbidity___atherosclerosis'\n",
    "\n",
    "    ])\n",
    "    \n",
    "    x, y = get_x_y(\n",
    "    df=df_dropped_first_tumor_3, \n",
    "    outcome='soft_tissue_complication', \n",
    "    min_follow_up_days=follow_up_stx, \n",
    "    scaler='None', \n",
    "    drop_cols=drop_cols_stx_3\n",
    "    )\n",
    "\n",
    "    boolean_columns = x.select_dtypes(include=bool).columns\n",
    "    x[boolean_columns] = x[boolean_columns].astype('int')\n",
    "    numeric_columns = x.select_dtypes(include='number').columns\n",
    "    x[numeric_columns] = x[numeric_columns].astype('float64')\n",
    "    y = y.astype('int')\n",
    "\n",
    "    x_columns = x.columns\n",
    "    all_columns = \"+\".join(x_columns)\n",
    "    formula = 'soft_tissue_complication' +  '~' + all_columns\n",
    "\n",
    "    data = pd.concat([x, y], axis=1)\n",
    "    final_model = smf.logit(formula, data).fit()\n",
    "    print(final_model.summary())\n",
    "    \n",
    "lr_stx_no_cv()"
   ]
  },
  {
   "cell_type": "code",
   "execution_count": null,
   "metadata": {
    "scrolled": true,
    "tags": []
   },
   "outputs": [],
   "source": [
    "# Statsmodel LR\n",
    "lr_statsmodels(\n",
    "    outcome='soft_tissue_complication', \n",
    "    min_follow_up_days=follow_up_stx, \n",
    "    scaler='None',\n",
    "    df=df_dropped_first_imp, \n",
    "    drop_cols=drop_cols_stx\n",
    ")"
   ]
  },
  {
   "cell_type": "code",
   "execution_count": null,
   "metadata": {
    "tags": []
   },
   "outputs": [],
   "source": [
    "df_all_levels_imp['flap_segment_count'].value_counts()"
   ]
  },
  {
   "cell_type": "markdown",
   "metadata": {
    "tags": []
   },
   "source": [
    "###### Newton (Scaled)\n",
    "Mean MCC: 0.458, Mean PR AUC: 0.691"
   ]
  },
  {
   "cell_type": "code",
   "execution_count": null,
   "metadata": {
    "tags": []
   },
   "outputs": [],
   "source": [
    "# Logistic Regression (lbfgs, newton-cholesky, newton-cg)\n",
    "params_newton_stx, x_newton_stx, y_newton_stx = nested_cv_optuna(\n",
    "    outcome='soft_tissue_complication', \n",
    "    model=LogisticRegression(max_iter=10000, random_state=0),\n",
    "    min_follow_up_days=follow_up_stx,  \n",
    "    scaler='None', \n",
    "    df=df_dropped_first_imp, \n",
    "    classifier=lr_newton_classifier,\n",
    "    drop_cols=drop_cols_stx\n",
    ")"
   ]
  },
  {
   "cell_type": "markdown",
   "metadata": {
    "tags": []
   },
   "source": [
    "###### Liblinear (Scaled)\n",
    "Mean MCC: 0.416, Mean PR AUC: 0.696"
   ]
  },
  {
   "cell_type": "code",
   "execution_count": null,
   "metadata": {
    "tags": []
   },
   "outputs": [],
   "source": [
    "params_liblinear_stx, x_liblinear_stx, y_liblinear_stx = nested_cv_optuna(\n",
    "    outcome='soft_tissue_complication', \n",
    "    model=LogisticRegression(max_iter=1000),\n",
    "    min_follow_up_days=follow_up_stx, \n",
    "    scaler='None', \n",
    "    df=df_dropped_first_imp, \n",
    "    classifier=lr_liblinear_classifier,\n",
    "    drop_cols=drop_cols_stx\n",
    ")"
   ]
  },
  {
   "cell_type": "markdown",
   "metadata": {
    "tags": []
   },
   "source": [
    "##### kNN\n",
    "Mean MCC: 0.31, Mean PR AUC: 0.598"
   ]
  },
  {
   "cell_type": "code",
   "execution_count": null,
   "metadata": {
    "tags": []
   },
   "outputs": [],
   "source": [
    "params_knn_stx, x_knn_stx, y_knn_stx = nested_cv_optuna(\n",
    "    outcome='soft_tissue_complication', \n",
    "    model=KNeighborsClassifier(),\n",
    "    min_follow_up_days=follow_up_stx, \n",
    "    scaler=QuantileTransformer(n_quantiles=200, random_state=0), \n",
    "    df=df_all_levels_imp, \n",
    "    classifier=knn_classifier,\n",
    "    drop_cols=drop_cols_stx\n",
    ")"
   ]
  },
  {
   "cell_type": "markdown",
   "metadata": {
    "tags": []
   },
   "source": [
    "##### Random Forest\n",
    "Mean MCC: 0.375, Mean PR AUC: 0.685"
   ]
  },
  {
   "cell_type": "code",
   "execution_count": null,
   "metadata": {
    "tags": []
   },
   "outputs": [],
   "source": [
    "params_rf_stx, x_rf_stx, y_rf_stx = nested_cv_optuna(\n",
    "    outcome='soft_tissue_complication', \n",
    "    model=RandomForestClassifier(random_state=0),\n",
    "    min_follow_up_days=follow_up_stx, \n",
    "    scaler='None', \n",
    "    df=df_all_levels_imp, \n",
    "    classifier=rf_classifier,\n",
    "    drop_cols=drop_cols_stx\n",
    ")"
   ]
  },
  {
   "cell_type": "code",
   "execution_count": null,
   "metadata": {},
   "outputs": [],
   "source": [
    "avg_params_rf_stx = get_avg_params(params_rf_stx)\n",
    "get_shap_rf([avg_params_rf_stx], x_rf_stx, y_rf_stx)"
   ]
  },
  {
   "cell_type": "markdown",
   "metadata": {
    "tags": []
   },
   "source": [
    "##### XGBoost\n",
    "Mean MCC: 0.325, Mean PR AUC: 0.659"
   ]
  },
  {
   "cell_type": "code",
   "execution_count": null,
   "metadata": {
    "tags": []
   },
   "outputs": [],
   "source": [
    "params_xgb_stx, x_xgb_stx, y_xgb_stx = nested_cv_optuna(\n",
    "    outcome='soft_tissue_complication', \n",
    "    model=XGBClassifier(),\n",
    "    min_follow_up_days=follow_up_stx, \n",
    "    scaler='None', \n",
    "    df=df_all_levels_imp, \n",
    "    classifier=xgb_classifier,\n",
    "    drop_cols=drop_cols_stx\n",
    ")"
   ]
  },
  {
   "cell_type": "code",
   "execution_count": null,
   "metadata": {
    "tags": []
   },
   "outputs": [],
   "source": [
    "avg_params_xgb_stx = get_avg_params(params_xgb_stx)\n",
    "get_shap_xgb([avg_params_xgb_stx], x_xgb_stx, y_xgb_stx)"
   ]
  },
  {
   "cell_type": "code",
   "execution_count": null,
   "metadata": {},
   "outputs": [],
   "source": []
  },
  {
   "cell_type": "markdown",
   "metadata": {
    "id": "Wmll9RJEDqST",
    "jp-MarkdownHeadingCollapsed": true,
    "tags": []
   },
   "source": [
    "#### Wound infection"
   ]
  },
  {
   "cell_type": "code",
   "execution_count": null,
   "metadata": {
    "tags": []
   },
   "outputs": [],
   "source": [
    "follow_up_wi = df_all_levels_imp['days_to_wound_infection'].median()\n",
    "drop_cols_wi = []"
   ]
  },
  {
   "cell_type": "markdown",
   "metadata": {
    "tags": []
   },
   "source": [
    "##### Logistic Regression"
   ]
  },
  {
   "cell_type": "markdown",
   "metadata": {},
   "source": [
    "###### Statsmodel"
   ]
  },
  {
   "cell_type": "code",
   "execution_count": null,
   "metadata": {
    "tags": []
   },
   "outputs": [],
   "source": [
    "# Statsmodel LR\n",
    "lr_statsmodels(\n",
    "    outcome='wound_infection', \n",
    "    min_follow_up_days=follow_up_wi, \n",
    "    scaler='None',\n",
    "    df=df_dropped_first_imp, \n",
    "    drop_cols=drop_cols_wi\n",
    ")"
   ]
  },
  {
   "cell_type": "markdown",
   "metadata": {},
   "source": [
    "###### Newton"
   ]
  },
  {
   "cell_type": "code",
   "execution_count": null,
   "metadata": {
    "tags": []
   },
   "outputs": [],
   "source": [
    "# Logistic Regression (lbfgs, newton-cholesky, newton-cg)\n",
    "params_newton_wi, x_newton_wi, y_newton_wi = nested_cv_optuna(\n",
    "    outcome='wound_infection', \n",
    "    model=LogisticRegression(max_iter=10000, random_state=0),\n",
    "    min_follow_up_days=follow_up_wi, \n",
    "    scaler='None', \n",
    "    df=df_dropped_first_imp, \n",
    "    classifier=lr_lnn_classifier,\n",
    "    drop_cols=drop_cols_wi\n",
    ")"
   ]
  },
  {
   "cell_type": "markdown",
   "metadata": {},
   "source": [
    "###### Liblinear"
   ]
  },
  {
   "cell_type": "code",
   "execution_count": null,
   "metadata": {
    "tags": []
   },
   "outputs": [],
   "source": [
    "# Liblinear Logistic Regression\n",
    "params_liblinear_wi, x_liblinear_wi, y_liblinear_wi = nested_cv_optuna(\n",
    "    outcome='wound_infection', \n",
    "    model=LogisticRegression(max_iter=1000, random_state=0),\n",
    "    min_follow_up_days=follow_up_wi, \n",
    "    scaler='None', \n",
    "    df=df_dropped_first_imp, \n",
    "    classifier=lr_liblinear_classifier,\n",
    "    drop_cols=drop_cols_wi\n",
    ")"
   ]
  },
  {
   "cell_type": "markdown",
   "metadata": {
    "jp-MarkdownHeadingCollapsed": true,
    "tags": []
   },
   "source": [
    "##### kNN"
   ]
  },
  {
   "cell_type": "code",
   "execution_count": null,
   "metadata": {
    "tags": []
   },
   "outputs": [],
   "source": [
    "nested_cv_optuna(\n",
    "    outcome='wound_infection', \n",
    "    model=KNeighborsClassifier(),\n",
    "    min_follow_up_days=follow_up_wi, \n",
    "    scaler=QuantileTransformer(n_quantiles=200, random_state=0), \n",
    "    df=df_all_levels_imp, \n",
    "    classifier=knn_classifier,\n",
    "    drop_cols=drop_cols_wi\n",
    ")"
   ]
  },
  {
   "cell_type": "markdown",
   "metadata": {
    "tags": []
   },
   "source": [
    "##### Random Forest"
   ]
  },
  {
   "cell_type": "code",
   "execution_count": null,
   "metadata": {
    "tags": []
   },
   "outputs": [],
   "source": [
    "params_rf_wi, x_rf_wi, y_rf_wi = nested_cv_optuna(\n",
    "    outcome='wound_infection', \n",
    "    model=RandomForestClassifier(random_state=0),\n",
    "    min_follow_up_days=follow_up_wi, \n",
    "    scaler=QuantileTransformer(n_quantiles=200, random_state=0), \n",
    "    df=df_all_levels_imp, \n",
    "    classifier=rf_classifier,\n",
    "    drop_cols=drop_cols_wi\n",
    ")"
   ]
  },
  {
   "cell_type": "code",
   "execution_count": null,
   "metadata": {},
   "outputs": [],
   "source": [
    "avg_params_rf_wi = get_avg_params(params_rf_wi)\n",
    "get_shap_rf([avg_params_rf_wi], x_rf_wi, y_rf_wi)"
   ]
  },
  {
   "cell_type": "markdown",
   "metadata": {
    "tags": []
   },
   "source": [
    "##### XGBoost"
   ]
  },
  {
   "cell_type": "code",
   "execution_count": null,
   "metadata": {
    "scrolled": true,
    "tags": []
   },
   "outputs": [],
   "source": [
    "params_xgb_wi, x_xgb_wi, y_xgb_wi = nested_cv_optuna(\n",
    "    outcome='wound_infection', \n",
    "    model=XGBClassifier(random_state=0, verbosity=0),\n",
    "    min_follow_up_days=follow_up_wi, \n",
    "    scaler=QuantileTransformer(n_quantiles=200, random_state=0), \n",
    "    df=df_all_levels_imp, \n",
    "    classifier=xgb_classifier,\n",
    "    drop_cols=drop_cols_wi\n",
    ")"
   ]
  },
  {
   "cell_type": "code",
   "execution_count": null,
   "metadata": {
    "tags": []
   },
   "outputs": [],
   "source": [
    "avg_params_xgb_wi = get_avg_params(params_xgb_wi)\n",
    "get_shap_xgb([avg_params_xgb_wi], x_xgb_wi, y_xgb_wi)"
   ]
  },
  {
   "cell_type": "markdown",
   "metadata": {
    "jp-MarkdownHeadingCollapsed": true,
    "tags": []
   },
   "source": [
    "#### Fistula"
   ]
  },
  {
   "cell_type": "code",
   "execution_count": null,
   "metadata": {
    "tags": []
   },
   "outputs": [],
   "source": [
    "follow_up_fistula = follow_up_wi\n",
    "drop_cols_fistula = drop_cols_wi"
   ]
  },
  {
   "cell_type": "markdown",
   "metadata": {
    "tags": []
   },
   "source": [
    "##### Logistic Regression"
   ]
  },
  {
   "cell_type": "markdown",
   "metadata": {},
   "source": [
    "###### Statsmodel"
   ]
  },
  {
   "cell_type": "code",
   "execution_count": null,
   "metadata": {
    "scrolled": true,
    "tags": []
   },
   "outputs": [],
   "source": [
    "lr_statsmodels(\n",
    "    outcome='infectious_complication___fistula', \n",
    "    min_follow_up_days=follow_up_fistula, \n",
    "    scaler='None',\n",
    "    df=df_dropped_first_imp, \n",
    "    drop_cols=drop_cols_fistula\n",
    ")"
   ]
  },
  {
   "cell_type": "markdown",
   "metadata": {},
   "source": [
    "###### Newton"
   ]
  },
  {
   "cell_type": "code",
   "execution_count": null,
   "metadata": {
    "scrolled": true,
    "tags": []
   },
   "outputs": [],
   "source": [
    "params_newton_fistula, x_newton_fistula, y_newton_fistula = nested_cv_optuna(\n",
    "    outcome='infectious_complication___fistula', \n",
    "    model=LogisticRegression(max_iter=10000, random_state=0),\n",
    "    min_follow_up_days=follow_up_fistula, \n",
    "    scaler=QuantileTransformer(n_quantiles=200, random_state=0), \n",
    "    df=df_dropped_first_imp, \n",
    "    classifier=lr_newton_classifier,\n",
    "    drop_cols=drop_cols_fistula\n",
    ")"
   ]
  },
  {
   "cell_type": "markdown",
   "metadata": {},
   "source": [
    "###### Liblinear"
   ]
  },
  {
   "cell_type": "code",
   "execution_count": null,
   "metadata": {
    "tags": []
   },
   "outputs": [],
   "source": [
    "nested_cv_optuna(\n",
    "    outcome='infectious_complication___fistula', \n",
    "    model=LogisticRegression(max_iter=1000, random_state=0),\n",
    "    min_follow_up_days=follow_up_wi, \n",
    "    scaler=QuantileTransformer(n_quantiles=200, random_state=0), \n",
    "    df=df_dropped_first_imp, \n",
    "    classifier=lr_liblinear_classifier,\n",
    "    drop_cols=drop_cols_fistula\n",
    ")"
   ]
  },
  {
   "cell_type": "markdown",
   "metadata": {
    "tags": []
   },
   "source": [
    "##### kNN"
   ]
  },
  {
   "cell_type": "code",
   "execution_count": null,
   "metadata": {},
   "outputs": [],
   "source": [
    "params_knn_fistula, x_knn_fistula, y_knn_fistula = nested_cv_optuna(\n",
    "    outcome='infectious_complication___fistula', \n",
    "    model=KNeighborsClassifier(),\n",
    "    min_follow_up_days=follow_up_fistula, \n",
    "    scaler=QuantileTransformer(n_quantiles=200, random_state=0), \n",
    "    df=df_all_levels_imp, \n",
    "    classifier=knn_classifier,\n",
    "    drop_cols=drop_cols_fistula\n",
    ")"
   ]
  },
  {
   "cell_type": "markdown",
   "metadata": {},
   "source": [
    "##### Random Forest"
   ]
  },
  {
   "cell_type": "code",
   "execution_count": null,
   "metadata": {},
   "outputs": [],
   "source": [
    "params_rf_fistula, x_rf_fistula, y_rf_fistula = nested_cv_optuna(\n",
    "    outcome='infectious_complication___fistula', \n",
    "    model=RandomForestClassifier(random_state=0),\n",
    "    min_follow_up_days=follow_up_fistula, \n",
    "    scaler=QuantileTransformer(n_quantiles=200, random_state=0), \n",
    "    df=df_all_levels_imp, \n",
    "    classifier=rf_classifier,\n",
    "    drop_cols=drop_cols_fistula\n",
    ")"
   ]
  },
  {
   "cell_type": "code",
   "execution_count": null,
   "metadata": {},
   "outputs": [],
   "source": [
    "avg_params_rf_fistula = get_avg_params(params_rf_fistula)\n",
    "get_shap_rf([avg_params_rf_fistula], x_rf_fistula, y_rf_fistula)"
   ]
  },
  {
   "cell_type": "markdown",
   "metadata": {
    "jp-MarkdownHeadingCollapsed": true,
    "tags": []
   },
   "source": [
    "##### XGBoost"
   ]
  },
  {
   "cell_type": "code",
   "execution_count": null,
   "metadata": {},
   "outputs": [],
   "source": [
    "params_xgb_fistula, x_xgb_fistula, y_xgb_fistula = nested_cv_optuna(\n",
    "    outcome='infectious_complication___fistula', \n",
    "    model=XGBClassifier(random_state=0, verbosity=0),\n",
    "    min_follow_up_days=follow_up_fistula, \n",
    "    scaler=QuantileTransformer(n_quantiles=200, random_state=0), \n",
    "    df=df_all_levels_imp, \n",
    "    classifier=xgb_classifier,\n",
    "    drop_cols=drop_cols_fistula\n",
    ")"
   ]
  },
  {
   "cell_type": "code",
   "execution_count": null,
   "metadata": {
    "tags": []
   },
   "outputs": [],
   "source": [
    "avg_params_xgb_fistula = get_avg_params(params_xgb_fistula)\n",
    "get_shap_xgb([avg_params_xgb_fistula], x_xgb_fistula, y_xgb_fistula)"
   ]
  },
  {
   "cell_type": "markdown",
   "metadata": {
    "id": "Y7opv3cYDs_H",
    "tags": []
   },
   "source": [
    "#### Flap loss\n",
    "No prediction possible - Not enough positives."
   ]
  },
  {
   "cell_type": "code",
   "execution_count": null,
   "metadata": {
    "tags": []
   },
   "outputs": [],
   "source": [
    "follow_up_fl = 0\n",
    "drop_cols_fl = ['radiotherapy___post_surgery', 'chemotherapy___post_surgery']"
   ]
  },
  {
   "cell_type": "markdown",
   "metadata": {
    "tags": []
   },
   "source": [
    "##### Logistic Regression"
   ]
  },
  {
   "cell_type": "code",
   "execution_count": null,
   "metadata": {
    "tags": []
   },
   "outputs": [],
   "source": [
    "# Statsmodel LR\n",
    "# Did not converge\n",
    "#lr_statsmodels(\n",
    "#    outcome='flap_loss', \n",
    "#    min_follow_up_days=follow_up_fl, \n",
    "#    scaler='None',\n",
    "#    df=df_dropped_first_imp, \n",
    "#    drop_cols=drop_cols_fl\n",
    "#)"
   ]
  },
  {
   "cell_type": "code",
   "execution_count": null,
   "metadata": {
    "tags": []
   },
   "outputs": [],
   "source": [
    "def lr_fl_no_cv():\n",
    "    x, y = get_x_y(\n",
    "    df=df_dropped_first_imp, \n",
    "    outcome='flap_loss', \n",
    "    min_follow_up_days=follow_up_fl, \n",
    "    scaler='None', \n",
    "    drop_cols=drop_cols_fl\n",
    "    )\n",
    "\n",
    "    boolean_columns = x.select_dtypes(include=bool).columns\n",
    "    x[boolean_columns] = x[boolean_columns].astype('int')\n",
    "    numeric_columns = x.select_dtypes(include='number').columns\n",
    "    x[numeric_columns] = x[numeric_columns].astype('float64')\n",
    "    y = y.astype('int')\n",
    "\n",
    "    x_columns = x.columns\n",
    "    all_columns = \"+\".join(x_columns)\n",
    "    formula = 'flap_loss' +  '~' + all_columns\n",
    "\n",
    "    data = pd.concat([x, y], axis=1)\n",
    "    final_model = smf.logit(formula, data).fit()\n",
    "    print(final_model.summary())\n",
    "    \n",
    "lr_fl_no_cv()"
   ]
  },
  {
   "cell_type": "code",
   "execution_count": null,
   "metadata": {
    "scrolled": true,
    "tags": []
   },
   "outputs": [],
   "source": [
    "# Logistic Regression (lbfgs, newton-cholesky, newton-cg)\n",
    "# Did not converge\n",
    "nested_cv_optuna(\n",
    "    outcome='flap_loss', \n",
    "    model=LogisticRegression(max_iter=10000, random_state=0),\n",
    "    min_follow_up_days=follow_up_fl, \n",
    "    scaler=QuantileTransformer(n_quantiles=200, random_state=0), \n",
    "    df=df_dropped_first_imp, \n",
    "    classifier=lr_lnn_classifier\n",
    ")"
   ]
  },
  {
   "cell_type": "code",
   "execution_count": null,
   "metadata": {
    "tags": []
   },
   "outputs": [],
   "source": [
    "# Liblinear Logistic Regression\n",
    "# Did not converge\n",
    "#params_liblinear_fl, x_liblinear_fl, y_liblinear_fl = nested_cv_optuna(\n",
    "#    outcome='flap_loss', \n",
    "#    model=LogisticRegression(max_iter=1000, random_state=0),\n",
    "#    min_follow_up_days=follow_up_fl, \n",
    "#    scaler=QuantileTransformer(n_quantiles=200, random_state=0), \n",
    "#    df=df_dropped_first_imp, \n",
    "#    classifier=lr_liblinear_classifier,\n",
    "#    drop_cols=drop_cols_fl\n",
    "#)"
   ]
  },
  {
   "cell_type": "markdown",
   "metadata": {
    "tags": []
   },
   "source": [
    "##### kNN"
   ]
  },
  {
   "cell_type": "code",
   "execution_count": null,
   "metadata": {
    "tags": []
   },
   "outputs": [],
   "source": [
    "nested_cv_optuna(\n",
    "    outcome='flap_loss', \n",
    "    model=KNeighborsClassifier(),\n",
    "    min_follow_up_days=follow_up_fl, \n",
    "    scaler=QuantileTransformer(n_quantiles=200, random_state=0), \n",
    "    df=df_all_levels_imp, \n",
    "    classifier=knn_classifier\n",
    ")"
   ]
  },
  {
   "cell_type": "markdown",
   "metadata": {
    "jp-MarkdownHeadingCollapsed": true,
    "tags": []
   },
   "source": [
    "##### Random Forest"
   ]
  },
  {
   "cell_type": "code",
   "execution_count": null,
   "metadata": {
    "tags": []
   },
   "outputs": [],
   "source": [
    "nested_cv_optuna(\n",
    "    outcome='flap_loss', \n",
    "    model=RandomForestClassifier(random_state=0),\n",
    "    min_follow_up_days=follow_up_fl, \n",
    "    scaler=QuantileTransformer(n_quantiles=200, random_state=0), \n",
    "    df=df_all_levels_imp, \n",
    "    classifier=rf_classifier\n",
    ")"
   ]
  },
  {
   "cell_type": "markdown",
   "metadata": {
    "tags": []
   },
   "source": [
    "##### XGBoost"
   ]
  },
  {
   "cell_type": "code",
   "execution_count": null,
   "metadata": {
    "tags": []
   },
   "outputs": [],
   "source": [
    "params_xgb_fl, x_xgb_fl, y_xgb_fl = nested_cv_optuna(\n",
    "    outcome='flap_loss', \n",
    "    model=XGBClassifier(random_state=0, verbosity=0),\n",
    "    min_follow_up_days=follow_up_fl, \n",
    "    scaler='None', \n",
    "    df=df_all_levels_imp, \n",
    "    classifier=xgb_classifier,\n",
    "    drop_cols=drop_cols_fl\n",
    ")"
   ]
  },
  {
   "cell_type": "code",
   "execution_count": null,
   "metadata": {
    "tags": []
   },
   "outputs": [],
   "source": [
    "sv_xgb_fl = get_shap_xgb(params_xgb_fl, x_xgb_fl, y_xgb_fl)"
   ]
  },
  {
   "cell_type": "code",
   "execution_count": null,
   "metadata": {},
   "outputs": [],
   "source": []
  },
  {
   "cell_type": "code",
   "execution_count": null,
   "metadata": {},
   "outputs": [],
   "source": []
  },
  {
   "cell_type": "code",
   "execution_count": null,
   "metadata": {},
   "outputs": [],
   "source": []
  },
  {
   "cell_type": "code",
   "execution_count": null,
   "metadata": {},
   "outputs": [],
   "source": []
  }
 ],
 "metadata": {
  "colab": {
   "authorship_tag": "ABX9TyPgS2C9As1IchOvb7Qsg4ZA",
   "include_colab_link": true,
   "machine_shape": "hm",
   "mount_file_id": "1YCeJ8o9LykeewEBhhIL_d6nHNE3VcARS",
   "provenance": []
  },
  "kernelspec": {
   "display_name": "Python 3 (ipykernel)",
   "language": "python",
   "name": "python3"
  },
  "language_info": {
   "codemirror_mode": {
    "name": "ipython",
    "version": 3
   },
   "file_extension": ".py",
   "mimetype": "text/x-python",
   "name": "python",
   "nbconvert_exporter": "python",
   "pygments_lexer": "ipython3",
   "version": "3.11.5"
  }
 },
 "nbformat": 4,
 "nbformat_minor": 4
}
