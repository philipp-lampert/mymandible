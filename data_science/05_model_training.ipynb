{
  "nbformat": 4,
  "nbformat_minor": 0,
  "metadata": {
    "colab": {
      "provenance": [],
      "authorship_tag": "ABX9TyOmamE1tKUIjO9VO0R6BD/A",
      "include_colab_link": true
    },
    "kernelspec": {
      "name": "python3",
      "display_name": "Python 3"
    },
    "language_info": {
      "name": "python"
    }
  },
  "cells": [
    {
      "cell_type": "markdown",
      "metadata": {
        "id": "view-in-github",
        "colab_type": "text"
      },
      "source": [
        "<a href=\"https://colab.research.google.com/github/philipp-lampert/mymandible/blob/main/data_science/05_model_training.ipynb\" target=\"_parent\"><img src=\"https://colab.research.google.com/assets/colab-badge.svg\" alt=\"Open In Colab\"/></a>"
      ]
    },
    {
      "cell_type": "markdown",
      "source": [
        "#Model training"
      ],
      "metadata": {
        "id": "umTBTdUKiRSB"
      }
    },
    {
      "cell_type": "code",
      "execution_count": 224,
      "metadata": {
        "id": "ZDIWPXifiG-K"
      },
      "outputs": [],
      "source": [
        "import numpy as np\n",
        "import pandas as pd"
      ]
    },
    {
      "cell_type": "markdown",
      "source": [
        "We first define a function that imports the prepared CCA and imputed datasets and splits them into train and test sets."
      ],
      "metadata": {
        "id": "Cp7wrq6knWcQ"
      }
    },
    {
      "cell_type": "code",
      "source": [
        "def cca_imp_train_test_splits(outcome):\n",
        "\n",
        "  from sklearn.model_selection import train_test_split\n",
        "\n",
        "  random_state=0\n",
        "  test_size=0.2\n",
        "\n",
        "  df_cca = pd.read_parquet('https://github.com/philipp-lampert/mymandible/blob/main/data_science/data/dropped_first_cca.parquet?raw=true')\n",
        "  df_imp = pd.read_parquet('https://github.com/philipp-lampert/mymandible/blob/main/data_science/data/dropped_first_imputed.parquet?raw=true')\n",
        "\n",
        "  first_outcome_var = df_cca.columns.get_loc('flap_revision')\n",
        "  predictors = df_cca.columns[:first_outcome_var].tolist()\n",
        "\n",
        "  df_cca = df_cca[predictors].join(df_cca[outcome])\n",
        "  df_cca = df_cca.dropna()\n",
        "\n",
        "  df_imp = df_imp[predictors].join(df_imp[outcome])\n",
        "  df_imp = df_imp.dropna()\n",
        "\n",
        "  x_train_cca, x_test_cca, y_train_cca, y_test_cca = train_test_split(df_cca[predictors], df_cca[outcome].astype('int').values,\n",
        "                                                                      test_size=test_size, random_state=random_state)\n",
        "\n",
        "  x_train_imp, x_test_imp, y_train_imp, y_test_imp = train_test_split(df_imp[predictors], df_imp[outcome].astype('int').values,\n",
        "                                                                      test_size=test_size, random_state=random_state)\n",
        "\n",
        "  return x_train_cca, x_test_cca, y_train_cca, y_test_cca, x_train_imp, x_test_imp, y_train_imp, y_test_imp"
      ],
      "metadata": {
        "id": "cIy6YX7efoQb"
      },
      "execution_count": 225,
      "outputs": []
    },
    {
      "cell_type": "markdown",
      "source": [
        "Next, we write a function that calculates all performance metrics."
      ],
      "metadata": {
        "id": "2viFydKqnhAC"
      }
    },
    {
      "cell_type": "code",
      "source": [
        "def metrics(predictions, y_test):\n",
        "\n",
        "    from sklearn.metrics import matthews_corrcoef, accuracy_score, brier_score_loss, log_loss\n",
        "\n",
        "    thresholds = np.arange(0.1, 0.8, 0.05)\n",
        "    best_mcc = -1\n",
        "\n",
        "    for threshold in thresholds:\n",
        "        predicted_labels = (predictions >= threshold).astype(int)\n",
        "        mcc = matthews_corrcoef(y_test, predicted_labels)\n",
        "\n",
        "        if mcc > best_mcc:\n",
        "            best_predicted_labels = predicted_labels\n",
        "            best_mcc = mcc\n",
        "            optimal_threshold = threshold\n",
        "\n",
        "    accuracy = accuracy_score(y_test, best_predicted_labels)\n",
        "    brier_score = brier_score_loss(y_test, predictions)\n",
        "    log_loss = log_loss(y_test, predictions)\n",
        "\n",
        "    print('MCC:', best_mcc)\n",
        "    print('Accuracy:', accuracy)\n",
        "    print('Brier Score:', brier_score)\n",
        "    print('Log Loss:', log_loss)\n",
        "    print('\\n')"
      ],
      "metadata": {
        "id": "qGBsUX69hbVp"
      },
      "execution_count": 232,
      "outputs": []
    },
    {
      "cell_type": "code",
      "source": [
        "def regression(outcome, max_iter, cv):\n",
        "\n",
        "  from sklearn.linear_model import ElasticNetCV, LogisticRegressionCV\n",
        "\n",
        "  random_state=0\n",
        "  l1_ratio=[.1, .5, .7, .8, .9, .95, .99, 1]\n",
        "\n",
        "  x_train_cca, x_test_cca, y_train_cca, y_test_cca, x_train_imp, x_test_imp, y_train_imp, y_test_imp = cca_imp_train_test_splits(outcome)\n",
        "\n",
        "  encv = ElasticNetCV(random_state=random_state, max_iter=max_iter, cv=cv, l1_ratio=l1_ratio)\n",
        "\n",
        "  encv_cca = encv.fit(x_train_cca, y_train_cca)\n",
        "  predictions_cca = encv_cca.predict(x_test_cca)\n",
        "\n",
        "  encv_imp = encv.fit(x_train_imp, y_train_imp)\n",
        "  predictions_imp = encv_imp.predict(x_test_imp)\n",
        "\n",
        "  print(\"Complete Case Analysis:\")\n",
        "  metrics(predictions_cca, y_test_cca)\n",
        "  print(\"Imputed Data:\")\n",
        "  metrics(predictions_imp, y_test_imp)"
      ],
      "metadata": {
        "id": "OApkTNo3SDOj"
      },
      "execution_count": 227,
      "outputs": []
    },
    {
      "cell_type": "code",
      "source": [
        "regression('nonunion', 500, 10)"
      ],
      "metadata": {
        "colab": {
          "base_uri": "https://localhost:8080/"
        },
        "id": "gtHFkf94Wbwu",
        "outputId": "f3143988-683e-4f1e-f7e5-159872d41b14"
      },
      "execution_count": 238,
      "outputs": [
        {
          "output_type": "stream",
          "name": "stdout",
          "text": [
            "Complete Case Analysis:\n",
            "MCC: 0.7211102550927979\n",
            "Accuracy: 0.8888888888888888\n",
            "Brier Score: 0.095224359878728\n",
            "Log Loss: 0.31988113266779494\n",
            "\n",
            "\n",
            "Imputed Data:\n",
            "MCC: 0.2692307692307692\n",
            "Accuracy: 0.6842105263157895\n",
            "Brier Score: 0.2233138055388888\n",
            "Log Loss: 0.7054729398729287\n",
            "\n",
            "\n"
          ]
        }
      ]
    }
  ]
}