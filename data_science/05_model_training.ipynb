{
 "cells": [
  {
   "cell_type": "markdown",
   "metadata": {
    "colab_type": "text",
    "id": "view-in-github"
   },
   "source": [
    "<a href=\"https://colab.research.google.com/github/philipp-lampert/mymandible/blob/main/data_science/05_model_training.ipynb\" target=\"_parent\"><img src=\"https://colab.research.google.com/assets/colab-badge.svg\" alt=\"Open In Colab\"/></a>"
   ]
  },
  {
   "cell_type": "markdown",
   "metadata": {
    "id": "umTBTdUKiRSB"
   },
   "source": [
    "# Model training"
   ]
  },
  {
   "cell_type": "markdown",
   "metadata": {
    "tags": []
   },
   "source": [
    "## Import"
   ]
  },
  {
   "cell_type": "markdown",
   "metadata": {
    "tags": []
   },
   "source": [
    "### Libraries"
   ]
  },
  {
   "cell_type": "code",
   "execution_count": 46,
   "metadata": {
    "id": "YUwr51evyVpD",
    "tags": []
   },
   "outputs": [],
   "source": [
    "import warnings\n",
    "import logging\n",
    "import sys\n",
    "import numpy as np\n",
    "import pandas as pd\n",
    "import copy\n",
    "from statistics import mean, stdev\n",
    "from sklearn.preprocessing import QuantileTransformer\n",
    "from sklearn.metrics import make_scorer, matthews_corrcoef, f1_score, accuracy_score, average_precision_score, roc_auc_score, brier_score_loss\n",
    "from sklearn.model_selection import cross_validate, StratifiedKFold, RepeatedStratifiedKFold\n",
    "from sklearn.linear_model import LogisticRegression \n",
    "from sklearn.neighbors import KNeighborsClassifier\n",
    "from sklearn.ensemble import RandomForestClassifier\n",
    "from xgboost import XGBClassifier\n",
    "import optuna\n",
    "from optuna.samplers import TPESampler\n",
    "import shap\n",
    "import statsmodels.formula.api as smf\n",
    "import seaborn as sns\n",
    "import matplotlib.pyplot as plt\n",
    "from scipy.stats import chi2_contingency, chi2, ttest_ind, barnard_exact, fisher_exact\n",
    "from statsmodels.stats.outliers_influence import variance_inflation_factor\n",
    "from statsmodels.tools.tools import add_constant"
   ]
  },
  {
   "cell_type": "markdown",
   "metadata": {
    "tags": []
   },
   "source": [
    "### Data"
   ]
  },
  {
   "cell_type": "code",
   "execution_count": 28,
   "metadata": {
    "id": "o1ojEJRpI9Mh",
    "tags": []
   },
   "outputs": [],
   "source": [
    "df_df = pd.read_parquet('/Users/philipp.lampert/repositories/mymandible/data/dropped_first_imputed.parquet')\n",
    "df_all_levels_imp = pd.read_parquet('/Users/philipp.lampert/repositories/mymandible/data/all_levels_imputed.parquet')"
   ]
  },
  {
   "cell_type": "markdown",
   "metadata": {
    "tags": []
   },
   "source": [
    "## Pipeline"
   ]
  },
  {
   "cell_type": "markdown",
   "metadata": {
    "tags": []
   },
   "source": [
    "### Preprocessing"
   ]
  },
  {
   "cell_type": "code",
   "execution_count": 29,
   "metadata": {
    "tags": []
   },
   "outputs": [],
   "source": [
    "from modules.functions import preprocessing as prp"
   ]
  },
  {
   "cell_type": "markdown",
   "metadata": {
    "tags": []
   },
   "source": [
    "### Scoring metrics"
   ]
  },
  {
   "cell_type": "code",
   "execution_count": 30,
   "metadata": {
    "tags": []
   },
   "outputs": [],
   "source": [
    "from modules.functions import threshold_optimized_metrics as tom"
   ]
  },
  {
   "cell_type": "code",
   "execution_count": 31,
   "metadata": {
    "tags": []
   },
   "outputs": [],
   "source": [
    "acc_scorer = make_scorer(tom.optimized_accuracy, needs_proba=True)\n",
    "f1_scorer = make_scorer(tom.optimized_f1, needs_proba=True)\n",
    "mcc_scorer = make_scorer(tom.optimized_mcc, needs_proba=True)\n",
    "pr_auc_scorer = make_scorer(average_precision_score, needs_proba=True)"
   ]
  },
  {
   "cell_type": "markdown",
   "metadata": {
    "tags": []
   },
   "source": [
    "### Nested Cross-Validation"
   ]
  },
  {
   "cell_type": "code",
   "execution_count": 32,
   "metadata": {
    "tags": []
   },
   "outputs": [],
   "source": [
    "def objective(trial, classifier, x, y, n, scorer):   \n",
    "    inner_cv = StratifiedKFold(n_splits=n, shuffle=True, random_state=0)\n",
    "    classifier_obj = classifier(trial)  \n",
    "    scores = cross_validate(\n",
    "        estimator=classifier_obj, \n",
    "        X=x, \n",
    "        y=y, \n",
    "        cv=inner_cv, \n",
    "        scoring=scorer, \n",
    "        n_jobs=-1\n",
    "    )   \n",
    "    \n",
    "    if trial.should_prune():\n",
    "        raise optuna.TrialPruned()\n",
    "    \n",
    "    return scores['test_score'].mean()"
   ]
  },
  {
   "cell_type": "code",
   "execution_count": 33,
   "metadata": {
    "tags": []
   },
   "outputs": [],
   "source": [
    "def nested_cv_optuna(outcome, \n",
    "                     model, \n",
    "                     min_follow_up_days, \n",
    "                     scaler, \n",
    "                     df, \n",
    "                     classifier, \n",
    "                     drop_cols, \n",
    "                     n,\n",
    "                     scorer):\n",
    "    \n",
    "    outer_cv = StratifiedKFold(n_splits=n, shuffle=True, random_state=0)\n",
    "    x, y = prp.get_x_y(df=df, outcome=outcome, min_follow_up_days=min_follow_up_days, scaler=scaler, drop_cols=drop_cols, inverse_pos=True)\n",
    "    \n",
    "    outer_scores = {\n",
    "        'mcc': [],\n",
    "        'brier': [],\n",
    "        'f1': [],\n",
    "        'acc': [],\n",
    "        'pr_auc': [],\n",
    "        'roc_auc': []\n",
    "    }\n",
    "    \n",
    "    optuna.logging.set_verbosity(optuna.logging.WARNING)  \n",
    "    sampler = TPESampler(seed=0)\n",
    "    pruner = optuna.pruners.HyperbandPruner()\n",
    "    \n",
    "    i = 0\n",
    "    studies = {}\n",
    "    best_params = []\n",
    "    \n",
    "    for i, (outer_train_index, outer_test_index) in enumerate(outer_cv.split(x, y)):\n",
    "        \n",
    "        x_train_outer, x_test_outer = x.iloc[outer_train_index], x.iloc[outer_test_index]\n",
    "        y_train_outer, y_test_outer = y.iloc[outer_train_index], y.iloc[outer_test_index]\n",
    "        \n",
    "        optuna.logging.get_logger(\"optuna\").addHandler(logging.StreamHandler(sys.stdout))\n",
    "        studies[i] = optuna.create_study(direction='maximize', study_name=i, sampler=sampler, pruner=pruner)\n",
    "        studies[i].optimize(lambda trial: objective(trial, classifier, x_train_outer, y_train_outer, n, scorer), n_trials=500)\n",
    "\n",
    "        best_params.append(studies[i].best_params)\n",
    "        current_model = copy.deepcopy(model)\n",
    "        current_model.set_params(**best_params[-1])\n",
    "        \n",
    "        current_model.fit(x_train_outer, y_train_outer)\n",
    "        y_pred_outer = current_model.predict_proba(x_test_outer)\n",
    "        y_pred_outer = y_pred_outer[:, 1]\n",
    "        y_test_outer = y_test_outer.astype('int')\n",
    "        \n",
    "        mcc = tom.optimized_mcc(y_test_outer, y_pred_outer)\n",
    "        pr_auc = average_precision_score(y_test_outer, y_pred_outer)\n",
    "        \n",
    "        f1 = tom.optimized_f1(y_test_outer, y_pred_outer)\n",
    "        acc = tom.optimized_accuracy(y_test_outer, y_pred_outer)       \n",
    "        roc_auc = roc_auc_score(y_test_outer, y_pred_outer)\n",
    "\n",
    "        outer_scores['mcc'].append(mcc)\n",
    "        outer_scores['pr_auc'].append(pr_auc)\n",
    "        outer_scores['f1'].append(f1)\n",
    "        outer_scores['acc'].append(acc)\n",
    "        outer_scores['roc_auc'].append(roc_auc)\n",
    "        \n",
    "        print(f\"Optimized {i+1} out of {n} models\")\n",
    "    \n",
    "    print(\"\")\n",
    "    print(\"Mean MCC: \"f\"{mean(outer_scores['mcc']):.3f} ± {stdev(outer_scores['mcc']):.3f}\")\n",
    "    print(\"Mean PR AUC: \"f\"{mean(outer_scores['pr_auc']):.3f} ± {stdev(outer_scores['pr_auc']):.3f}\")\n",
    "    print(\"\")    \n",
    "    print(\"Mean F1: \"f\"{mean(outer_scores['f1']):.3f} ± {stdev(outer_scores['f1']):.3f}\")              \n",
    "    print(\"Mean ROC AUC: \"f\"{mean(outer_scores['roc_auc']):.3f} ± {stdev(outer_scores['roc_auc']):.3f}\")\n",
    "    print(\"Mean Accuracy: \"f\"{mean(outer_scores['acc']):.3f} ± {stdev(outer_scores['acc']):.3f}\")\n",
    "        \n",
    "    return best_params, x, y"
   ]
  },
  {
   "cell_type": "markdown",
   "metadata": {
    "jp-MarkdownHeadingCollapsed": true,
    "tags": []
   },
   "source": [
    "### SHAP-Values"
   ]
  },
  {
   "cell_type": "code",
   "execution_count": 34,
   "metadata": {
    "tags": []
   },
   "outputs": [],
   "source": [
    "def get_shap_rf(best_params, x, y):\n",
    "    for i, params in enumerate(best_params):\n",
    "        model = RandomForestClassifier(**params)\n",
    "        model.fit(x, y)\n",
    "        exp = shap.TreeExplainer(model)\n",
    "        sv = exp.shap_values(x)\n",
    "        shap.summary_plot(sv[1], x, max_display=11)\n",
    "        shap.summary_plot(sv[1], x, max_display=11, plot_type='bar')"
   ]
  },
  {
   "cell_type": "code",
   "execution_count": 35,
   "metadata": {
    "tags": []
   },
   "outputs": [],
   "source": [
    "def get_shap_xgb(best_params, x, y):    \n",
    "    for i, params in enumerate(best_params):\n",
    "        model = XGBClassifier(**params)\n",
    "        model.fit(x, y)\n",
    "        exp = shap.TreeExplainer(model)\n",
    "        sv = exp(x)\n",
    "        shap.plots.beeswarm(sv, max_display=11)\n",
    "        shap.plots.bar(sv, max_display=11)\n",
    "    return sv"
   ]
  },
  {
   "cell_type": "code",
   "execution_count": 36,
   "metadata": {
    "tags": []
   },
   "outputs": [],
   "source": [
    "def get_avg_params(param_list):\n",
    "    df = pd.DataFrame(param_list)\n",
    "    numeric_averages = df.select_dtypes(include=['number']).median()\n",
    "    categorical_modes = df.select_dtypes(exclude=['number']).mode().iloc[0]\n",
    "    avg_params = {**numeric_averages, **categorical_modes}\n",
    "    if 'max_depth' in avg_params:\n",
    "        avg_params['max_depth'] = avg_params['max_depth'].astype('int')\n",
    "    return avg_params"
   ]
  },
  {
   "cell_type": "code",
   "execution_count": 37,
   "metadata": {
    "tags": []
   },
   "outputs": [],
   "source": [
    "def get_base_values(selected_sv):\n",
    "    bv = []\n",
    "    for sv in selected_sv:\n",
    "        bv.append(sv.base_values[0])\n",
    "    return bv"
   ]
  },
  {
   "cell_type": "markdown",
   "metadata": {
    "tags": []
   },
   "source": [
    "## Model configuration"
   ]
  },
  {
   "cell_type": "markdown",
   "metadata": {
    "id": "ukIA11HJmEQn",
    "tags": []
   },
   "source": [
    "### Logistic Regression"
   ]
  },
  {
   "cell_type": "code",
   "execution_count": 38,
   "metadata": {
    "tags": []
   },
   "outputs": [],
   "source": [
    "def lr_newton_classifier(trial):\n",
    "    \n",
    "    solver_chosen = trial.suggest_categorical('solver', ['newton-cg', 'newton-cholesky'])\n",
    "    C_chosen = trial.suggest_float('C', 1e-10, 1e10, log=True)\n",
    "    class_weight_chosen = trial.suggest_categorical('class_weight', ['balanced', None])\n",
    "    penalty_chosen = trial.suggest_categorical('penalty', ['l2'])\n",
    "    \n",
    "    classifier_obj = LogisticRegression(\n",
    "        solver=solver_chosen, \n",
    "        C=C_chosen, \n",
    "        penalty=penalty_chosen, \n",
    "        class_weight=class_weight_chosen\n",
    "    )\n",
    "        \n",
    "    return classifier_obj"
   ]
  },
  {
   "cell_type": "code",
   "execution_count": 39,
   "metadata": {
    "tags": []
   },
   "outputs": [],
   "source": [
    "def lr_liblinear_classifier(trial):\n",
    "    \n",
    "    solver_chosen = trial.suggest_categorical('solver', ['liblinear'])\n",
    "    C_chosen = trial.suggest_float('C', 1e-10, 1e10, log=True)\n",
    "    class_weight_chosen = trial.suggest_categorical('class_weight', ['balanced', None])\n",
    "    penalty_chosen = trial.suggest_categorical('penalty', ['l1', 'l2'])\n",
    "    \n",
    "    classifier_obj = LogisticRegression(\n",
    "        solver=solver_chosen, \n",
    "        C=C_chosen, \n",
    "        penalty=penalty_chosen, \n",
    "        class_weight=class_weight_chosen\n",
    "    )\n",
    "          \n",
    "    return classifier_obj"
   ]
  },
  {
   "cell_type": "code",
   "execution_count": 40,
   "metadata": {
    "tags": []
   },
   "outputs": [],
   "source": [
    "def statsmodel(outcome, min_follow_up_days, scaler, df, drop_cols, cv, inverse_pos):\n",
    "    \n",
    "    x, y = prp.get_x_y(df=df, outcome=outcome, min_follow_up_days=min_follow_up_days, scaler=scaler, drop_cols=drop_cols, inverse_pos=inverse_pos)\n",
    "    boolean_columns = x.select_dtypes(include=bool).columns\n",
    "    x[boolean_columns] = x[boolean_columns].astype('int')\n",
    "    numeric_columns = x.select_dtypes(include='number').columns\n",
    "    x[numeric_columns] = x[numeric_columns].astype('float64')\n",
    "    y = y.astype('int')    \n",
    "    x_columns = x.columns\n",
    "    all_columns = \"+\".join(x_columns)\n",
    "    formula = outcome +  '~' + all_columns\n",
    "    \n",
    "    if cv != 'None':\n",
    "        cv = StratifiedKFold(n_splits=cv, shuffle=True, random_state=0)\n",
    "        scores = {\n",
    "            'mcc': [],\n",
    "            'brier': [],\n",
    "            'f1': [],\n",
    "            'acc': [],\n",
    "            'pr_auc': [],\n",
    "            'roc_auc': []\n",
    "        }   \n",
    "\n",
    "        for i, (train_index, test_index) in enumerate(cv.split(x, y)):\n",
    "            x_train, x_test = x.iloc[train_index], x.iloc[test_index]\n",
    "            y_train, y_test = y.iloc[train_index], y.iloc[test_index]\n",
    "            data_train = pd.concat([x_train, y_train], axis=1)\n",
    "\n",
    "            model = smf.logit(formula=formula, data=data_train).fit() \n",
    "            y_pred = model.predict(x_test)\n",
    "\n",
    "            mcc = tom.optimized_mcc(y_test, y_pred)\n",
    "            f1 = tom.optimized_f1(y_test, y_pred)\n",
    "            acc = tom.optimized_accuracy(y_test, y_pred)\n",
    "            pr_auc = average_precision_score(y_test, y_pred)\n",
    "            roc_auc = roc_auc_score(y_test, y_pred)\n",
    "\n",
    "            scores['mcc'].append(mcc)\n",
    "            scores['f1'].append(f1)\n",
    "            scores['acc'].append(acc)\n",
    "            scores['pr_auc'].append(pr_auc)\n",
    "            scores['roc_auc'].append(roc_auc)\n",
    "\n",
    "        print(\"\")\n",
    "        print(\"Mean MCC: \"f\"{mean(scores['mcc']):.3f} ± {stdev(scores['mcc']):.3f}\")\n",
    "        print(\"Mean PR AUC: \"f\"{mean(scores['pr_auc']):.3f} ± {stdev(scores['pr_auc']):.3f}\")\n",
    "        print(\"\")\n",
    "        print(\"Mean F1: \"f\"{mean(scores['f1']):.3f} ± {stdev(scores['f1']):.3f}\")     \n",
    "        print(\"Mean Accuracy: \"f\"{mean(scores['acc']):.3f} ± {stdev(scores['acc']):.3f}\")   \n",
    "        print(\"Mean ROC AUC: \"f\"{mean(scores['roc_auc']):.3f} ± {stdev(scores['roc_auc']):.3f}\")\n",
    "        print(\"\")\n",
    "    \n",
    "    data = pd.concat([x, y], axis=1)\n",
    "    final_model = smf.logit(formula, data).fit()\n",
    "    print(final_model.summary())"
   ]
  },
  {
   "cell_type": "markdown",
   "metadata": {
    "jp-MarkdownHeadingCollapsed": true,
    "tags": []
   },
   "source": [
    "### kNN"
   ]
  },
  {
   "cell_type": "code",
   "execution_count": 41,
   "metadata": {
    "tags": []
   },
   "outputs": [],
   "source": [
    "def knn_classifier(trial):\n",
    "    \n",
    "    n_neighbors_chosen = trial.suggest_int('n_neighbors', 2, 25)\n",
    "    weights_chosen = trial.suggest_categorical('weights', ['uniform', 'distance'])\n",
    "    algorithm_chosen = trial.suggest_categorical('algorithm', ['ball_tree', 'kd_tree', 'brute'])\n",
    "    leaf_size_chosen = trial.suggest_int('leaf_size', 1, 1e+6, log=True)\n",
    "    p_chosen = trial.suggest_float('p', 1, 1e+6, log=True)\n",
    "    \n",
    "    classifier_obj = KNeighborsClassifier(\n",
    "        n_neighbors=n_neighbors_chosen, \n",
    "        weights=weights_chosen, \n",
    "        algorithm=algorithm_chosen, \n",
    "        leaf_size=leaf_size_chosen, \n",
    "        p=p_chosen\n",
    "    )\n",
    "        \n",
    "    return classifier_obj"
   ]
  },
  {
   "cell_type": "markdown",
   "metadata": {
    "jp-MarkdownHeadingCollapsed": true,
    "tags": []
   },
   "source": [
    "### Random Forest"
   ]
  },
  {
   "cell_type": "code",
   "execution_count": 42,
   "metadata": {
    "tags": []
   },
   "outputs": [],
   "source": [
    "def rf_classifier(trial):\n",
    "    \n",
    "    #n_estimators_chosen = trial.suggest_int('n_estimators', 50, 3000)\n",
    "    criterion_chosen = trial.suggest_categorical('criterion', ['gini', 'entropy', 'log_loss'])\n",
    "    max_depth_chosen = trial.suggest_int('max_depth', 1, 10)\n",
    "    min_samples_split_chosen = trial.suggest_float('min_samples_split', 1e-6, 1)\n",
    "    min_samples_leaf_chosen = trial.suggest_float('min_samples_leaf', 1e-6, 1)\n",
    "    min_weight_fraction_leaf_chosen = trial.suggest_float('min_weight_fraction_leaf', 0, 0.5)\n",
    "    max_features_chosen = trial.suggest_categorical('max_features', ['sqrt', 'log2', None])\n",
    "    bootstrap_chosen = trial.suggest_categorical('bootstrap', [True, False])\n",
    "    class_weight_chosen = trial.suggest_categorical('class_weight', ['balanced', 'balanced_subsample', None])\n",
    "    \n",
    "    classifier_obj = RandomForestClassifier(\n",
    "        n_estimators=500, \n",
    "        criterion=criterion_chosen,\n",
    "        max_depth=max_depth_chosen, \n",
    "        min_samples_split=min_samples_split_chosen,\n",
    "        min_samples_leaf=min_samples_leaf_chosen,\n",
    "        min_weight_fraction_leaf=min_weight_fraction_leaf_chosen,\n",
    "        max_features=max_features_chosen,\n",
    "        bootstrap=bootstrap_chosen,\n",
    "        class_weight=class_weight_chosen, \n",
    "        random_state=0\n",
    "    )\n",
    "        \n",
    "    return classifier_obj"
   ]
  },
  {
   "cell_type": "markdown",
   "metadata": {
    "tags": []
   },
   "source": [
    "### XGBoost"
   ]
  },
  {
   "cell_type": "code",
   "execution_count": 43,
   "metadata": {
    "tags": []
   },
   "outputs": [],
   "source": [
    "def xgb_classifier(trial):\n",
    "    \n",
    "    eta_chosen = trial.suggest_float('eta', 1e-6, 1, log=True)\n",
    "    gamma_chosen = trial.suggest_float('gamma', 1e-6, 1e+4, log=True)\n",
    "    max_depth_chosen = trial.suggest_int('max_depth', 1, 10)\n",
    "    min_child_weight_chosen = trial.suggest_float('min_child_weight', 1e-6, 1e+4, log=True)\n",
    "    max_delta_step_chosen = trial.suggest_float('max_delta_step', 0, 10)\n",
    "    subsample_chosen = trial.suggest_float('subsample', 0, 1)\n",
    "    colsample_bytree_chosen = trial.suggest_float('colsample_bytree', 0, 1)\n",
    "    lambda_chosen = trial.suggest_float('reg_lambda', 1e-6, 1e+4, log=True)\n",
    "    alpha_chosen = trial.suggest_float('reg_alpha', 1e-6, 1e+4, log=True)\n",
    "    tree_method_chosen = trial.suggest_categorical('tree_method', ['exact', 'approx', 'hist'])\n",
    "    scale_pos_weight_chosen = trial.suggest_float('scale_pos_weight', 1, 9)\n",
    "   \n",
    "    classifier_obj = XGBClassifier(\n",
    "        eta=eta_chosen, \n",
    "        gamma=gamma_chosen, \n",
    "        max_depth=max_depth_chosen, \n",
    "        min_child_weight=min_child_weight_chosen,\n",
    "        max_delta_step=max_delta_step_chosen,\n",
    "        subsample=subsample_chosen,\n",
    "        colsample_bytree=colsample_bytree_chosen,\n",
    "        reg_lambda=lambda_chosen,\n",
    "        reg_alpha=alpha_chosen,\n",
    "        tree_method=tree_method_chosen,\n",
    "        scale_pos_weight=scale_pos_weight_chosen,\n",
    "        random_state=0,\n",
    "        verbosity=0\n",
    "    )\n",
    "        \n",
    "    return classifier_obj"
   ]
  },
  {
   "cell_type": "markdown",
   "metadata": {
    "tags": []
   },
   "source": [
    "## Results"
   ]
  },
  {
   "cell_type": "markdown",
   "metadata": {},
   "source": [
    "##### VIF"
   ]
  },
  {
   "cell_type": "code",
   "execution_count": 47,
   "metadata": {
    "tags": []
   },
   "outputs": [
    {
     "data": {
      "text/plain": [
       "const                                    124.161289\n",
       "sex_female                                 1.391527\n",
       "comorbidity___smoking                      1.664403\n",
       "comorbidity___alcohol                      1.557267\n",
       "comorbidity___copd                         1.206705\n",
       "comorbidity___hypertension                 1.449702\n",
       "comorbidity___diabetes                     1.434360\n",
       "comorbidity___atherosclerosis              4.328004\n",
       "comorbidity___hyperlipidemia               1.245421\n",
       "comorbidity___hypothyroidism               1.297131\n",
       "comorbidity___chronic_kidney_disease       1.121446\n",
       "comorbidity___autoimmune_disease           1.156355\n",
       "age_surgery_years                          1.286795\n",
       "radiotherapy___pre_surgery                 3.802888\n",
       "radiotherapy___post_surgery                1.784674\n",
       "chemotherapy___pre_surgery                 2.628024\n",
       "chemotherapy___post_surgery                1.515641\n",
       "urkens_classification___c                  1.730545\n",
       "urkens_classification___r                  2.526351\n",
       "urkens_classification___s                  2.846020\n",
       "flap_segment_count                         2.494474\n",
       "surgery_duration_min                       1.504905\n",
       "bmi                                        1.378320\n",
       "skin_transplanted                          1.317569\n",
       "comorbidity___vascular_disease             4.809176\n",
       "indication___osteoradionecrosis            2.184509\n",
       "indication___secondary_reconstruction      1.947544\n",
       "prior_flap___bony                          1.850121\n",
       "prior_flap___non_bony                      1.297210\n",
       "flap_donor_site___scapula                  1.431283\n",
       "plate_type___cad_mini                      1.417476\n",
       "plate_type___cad_mix                       1.491572\n",
       "dtype: float64"
      ]
     },
     "execution_count": 47,
     "metadata": {},
     "output_type": "execute_result"
    }
   ],
   "source": [
    "vif_df, y = prp.get_x_y(df=df_df, outcome='any_complication', min_follow_up_days=91, scaler='None', drop_cols=[], inverse_pos=False)\n",
    "boolean_columns = vif_df.select_dtypes(include=bool).columns\n",
    "vif_df[boolean_columns] = vif_df[boolean_columns].astype('int')\n",
    "numeric_columns = vif_df.select_dtypes(include='number').columns\n",
    "vif_df[numeric_columns] =vif_df[numeric_columns].astype('float64')\n",
    "X = add_constant(vif_df)\n",
    "pd.Series([variance_inflation_factor(X.values, i) \n",
    "               for i in range(X.shape[1])], \n",
    "              index=X.columns)"
   ]
  },
  {
   "cell_type": "code",
   "execution_count": null,
   "metadata": {
    "tags": []
   },
   "outputs": [],
   "source": [
    "def cat_variable(variable, df):\n",
    "    # Absolute frequencies\n",
    "    cad_mix_counts = df.loc[df['plate_type___cad_mix'], variable].value_counts()\n",
    "    cad_long_counts = df.loc[~df['plate_type___cad_mix'], variable].value_counts()\n",
    "    overall_counts = df[variable].value_counts()\n",
    "    \n",
    "    # Relative probabilities\n",
    "    cad_mix_probs = round((cad_mix_counts / cad_mix_counts.sum())*100, 1)\n",
    "    cad_long_probs = round((cad_long_counts / cad_long_counts.sum())*100, 1)\n",
    "    overall_probs = round((overall_counts / overall_counts.sum())*100, 1)\n",
    "    \n",
    "    # Create DataFrames for absolute frequencies and relative probabilities\n",
    "    absolute_freq_df = pd.DataFrame({\n",
    "        'Mix': cad_mix_counts,\n",
    "        'Reco': cad_long_counts,\n",
    "        'Overall': overall_counts\n",
    "    }).fillna(0)  # Fill NaN values with 0\n",
    "    \n",
    "    relative_prob_df = pd.DataFrame({\n",
    "        'Mix': cad_mix_probs,\n",
    "        'Reco': cad_long_probs,\n",
    "        'Overall': overall_probs\n",
    "    }).fillna(0)  # Fill NaN values with 0\n",
    "    \n",
    "    print(\"Absolute frequencies:\")\n",
    "    print(absolute_freq_df)\n",
    "    \n",
    "    print(\"\\nRelative probabilities:\")\n",
    "    print(relative_prob_df)"
   ]
  },
  {
   "cell_type": "code",
   "execution_count": null,
   "metadata": {
    "tags": []
   },
   "outputs": [],
   "source": [
    "def chi2_test(variable, df):\n",
    "    contingency = pd.crosstab(df[variable], df['plate_type___cad_mix'])\n",
    "    chi2_object = chi2_contingency(observed=contingency, correction=False)\n",
    "    N = contingency.sum().sum()\n",
    "    n_minus_1 = chi2_object.statistic * (N - 1) / N\n",
    "    p_value = chi2.sf(n_minus_1, 1)\n",
    "    print(cat_variable(variable, df))\n",
    "    print(f\"p-value: {p_value}\")"
   ]
  },
  {
   "cell_type": "code",
   "execution_count": null,
   "metadata": {
    "tags": []
   },
   "outputs": [],
   "source": [
    "chi2_test('plate_failure', df_dropped_first_imp)"
   ]
  },
  {
   "cell_type": "markdown",
   "metadata": {
    "tags": []
   },
   "source": [
    "#### Any complication"
   ]
  },
  {
   "cell_type": "markdown",
   "metadata": {
    "tags": []
   },
   "source": [
    "##### Configuration"
   ]
  },
  {
   "cell_type": "code",
   "execution_count": 48,
   "metadata": {
    "tags": []
   },
   "outputs": [],
   "source": [
    "follow_up_any_cx = np.mean([\n",
    "    df_all_levels_imp['days_to_whd_recipient_site'].median(),\n",
    "    df_all_levels_imp['days_to_partial_necrosis'].median(),\n",
    "    df_all_levels_imp['days_to_bone_exposure'].median(),\n",
    "    df_all_levels_imp['days_to_plate_exposure'].median(),\n",
    "    df_all_levels_imp['days_to_wound_infection'].median(),\n",
    "    df_all_levels_imp['days_to_flap_loss'].median(),\n",
    "    df_all_levels_imp['days_to_whd_donor_site'].median(),\n",
    "    df_all_levels_imp['days_to_osteoradionecrosis'].median(),\n",
    "    df_all_levels_imp['days_to_plate_removal'].median(),\n",
    "    df_all_levels_imp['days_to_plate_loosening'].median(),\n",
    "    df_all_levels_imp['days_to_fracture'].median(),\n",
    "    df_all_levels_imp['days_to_dislocation'].median()\n",
    "])\n",
    "\n",
    "drop_cols_any_cx = ['comorbidity___vascular_disease']"
   ]
  },
  {
   "cell_type": "markdown",
   "metadata": {
    "tags": []
   },
   "source": [
    "##### Logistic Regression\n",
    "Mean MCC: 0.281, Mean PR AUC: 0.328"
   ]
  },
  {
   "cell_type": "markdown",
   "metadata": {
    "tags": []
   },
   "source": [
    "###### Statsmodel\n",
    "Mean MCC: 0.281, Mean PR AUC: 0.328"
   ]
  },
  {
   "cell_type": "code",
   "execution_count": 50,
   "metadata": {},
   "outputs": [
    {
     "name": "stderr",
     "output_type": "stream",
     "text": [
      "n_quantiles (1000) is greater than the total number of samples (268). n_quantiles is set to n_samples.\n",
      "\n",
      "The outcome variable has been inversed due to positive values being the majority class. This may lead to misinterpretation of coefficients and/or feature importances but keeps metrics such as F1-scores comparable.\n",
      "\n"
     ]
    },
    {
     "name": "stdout",
     "output_type": "stream",
     "text": [
      "Optimization terminated successfully.\n",
      "         Current function value: 0.561853\n",
      "         Iterations 6\n",
      "Optimization terminated successfully.\n",
      "         Current function value: 0.552246\n",
      "         Iterations 6\n",
      "Optimization terminated successfully.\n",
      "         Current function value: 0.551666\n",
      "         Iterations 6\n",
      "Optimization terminated successfully.\n",
      "         Current function value: 0.546776\n",
      "         Iterations 6\n",
      "Warning: Maximum number of iterations has been exceeded.\n",
      "         Current function value: 0.538525\n",
      "         Iterations: 35\n"
     ]
    },
    {
     "name": "stderr",
     "output_type": "stream",
     "text": [
      "Maximum Likelihood optimization failed to converge. Check mle_retvals\n"
     ]
    },
    {
     "name": "stdout",
     "output_type": "stream",
     "text": [
      "\n",
      "Mean MCC: 0.297 ± 0.036\n",
      "Mean PR AUC: 0.488 ± 0.036\n",
      "\n",
      "Mean F1: 0.549 ± 0.032\n",
      "Mean Accuracy: 0.698 ± 0.011\n",
      "Mean ROC AUC: 0.573 ± 0.025\n",
      "\n",
      "Optimization terminated successfully.\n",
      "         Current function value: 0.568249\n",
      "         Iterations 6\n",
      "                           Logit Regression Results                           \n",
      "==============================================================================\n",
      "Dep. Variable:       any_complication   No. Observations:                  268\n",
      "Model:                          Logit   Df Residuals:                      237\n",
      "Method:                           MLE   Df Model:                           30\n",
      "Date:                Sun, 17 Mar 2024   Pseudo R-squ.:                  0.1165\n",
      "Time:                        16:57:39   Log-Likelihood:                -152.29\n",
      "converged:                       True   LL-Null:                       -172.37\n",
      "Covariance Type:            nonrobust   LLR p-value:                    0.1017\n",
      "=========================================================================================================\n",
      "                                            coef    std err          z      P>|z|      [0.025      0.975]\n",
      "---------------------------------------------------------------------------------------------------------\n",
      "Intercept                                -0.3515      0.678     -0.519      0.604      -1.680       0.977\n",
      "sex_female                                0.4995      0.340      1.470      0.142      -0.167       1.166\n",
      "comorbidity___smoking                    -0.2951      0.368     -0.803      0.422      -1.015       0.425\n",
      "comorbidity___alcohol                    -0.4548      0.442     -1.030      0.303      -1.320       0.411\n",
      "comorbidity___copd                       -0.6100      0.517     -1.180      0.238      -1.624       0.404\n",
      "comorbidity___hypertension               -0.1056      0.356     -0.297      0.767      -0.804       0.592\n",
      "comorbidity___diabetes                   -1.3401      0.708     -1.892      0.058      -2.728       0.048\n",
      "comorbidity___atherosclerosis            -0.4672      0.481     -0.972      0.331      -1.409       0.475\n",
      "comorbidity___hyperlipidemia              0.4619      0.593      0.779      0.436      -0.700       1.623\n",
      "comorbidity___hypothyroidism              0.0282      0.437      0.065      0.948      -0.828       0.884\n",
      "comorbidity___chronic_kidney_disease     -0.1371      0.889     -0.154      0.877      -1.880       1.606\n",
      "comorbidity___autoimmune_disease         -0.1729      0.564     -0.307      0.759      -1.277       0.932\n",
      "age_surgery_years                         0.6730      0.545      1.234      0.217      -0.396       1.742\n",
      "radiotherapy___pre_surgery               -0.7258      0.607     -1.196      0.232      -1.916       0.464\n",
      "radiotherapy___post_surgery               0.0596      0.369      0.161      0.872      -0.664       0.784\n",
      "chemotherapy___pre_surgery                0.7744      0.570      1.358      0.174      -0.343       1.892\n",
      "chemotherapy___post_surgery              -0.2901      0.407     -0.714      0.475      -1.087       0.507\n",
      "urkens_classification___c                 0.4447      0.557      0.798      0.425      -0.647       1.536\n",
      "urkens_classification___r                 0.3855      0.478      0.807      0.420      -0.551       1.322\n",
      "urkens_classification___s                -0.0650      0.478     -0.136      0.892      -1.002       0.872\n",
      "flap_segment_count                       -0.7726      0.660     -1.171      0.242      -2.065       0.520\n",
      "surgery_duration_min                      0.1234      0.592      0.208      0.835      -1.037       1.284\n",
      "bmi                                       0.3450      0.569      0.607      0.544      -0.770       1.460\n",
      "skin_transplanted                         0.0134      0.328      0.041      0.967      -0.629       0.656\n",
      "indication___osteoradionecrosis           0.3302      0.601      0.549      0.583      -0.848       1.508\n",
      "indication___secondary_reconstruction     0.8564      0.687      1.247      0.213      -0.490       2.203\n",
      "prior_flap___bony                        -0.6790      0.659     -1.030      0.303      -1.971       0.613\n",
      "prior_flap___non_bony                    -0.4098      0.547     -0.749      0.454      -1.483       0.663\n",
      "flap_donor_site___scapula                -0.7432      0.594     -1.251      0.211      -1.907       0.421\n",
      "plate_type___cad_mini                    -0.5731      0.592     -0.968      0.333      -1.734       0.587\n",
      "plate_type___cad_mix                     -0.6055      0.366     -1.656      0.098      -1.322       0.111\n",
      "=========================================================================================================\n"
     ]
    }
   ],
   "source": [
    "# Statsmodel LR\n",
    "statsmodel(\n",
    "    outcome='any_complication', \n",
    "    min_follow_up_days=91, \n",
    "    scaler=QuantileTransformer(),\n",
    "    df=df_dropped_first_imp, \n",
    "    drop_cols=drop_cols_any_cx,\n",
    "    cv=5,\n",
    "    inverse_pos=True\n",
    ")"
   ]
  },
  {
   "cell_type": "markdown",
   "metadata": {
    "tags": []
   },
   "source": [
    "###### Newton\n",
    "Mean MCC: 0.235, Mean PR AUC: 0.331"
   ]
  },
  {
   "cell_type": "code",
   "execution_count": null,
   "metadata": {
    "scrolled": true,
    "tags": []
   },
   "outputs": [],
   "source": [
    "# Logistic Regression (newton-cholesky, newton-cg)\n",
    "params_newton_any_cx, x_newton_any_cx, y_newton_any_cx = nested_cv_optuna(\n",
    "    outcome='any_complication', \n",
    "    model=LogisticRegression(max_iter=10000, random_state=0),\n",
    "    min_follow_up_days=follow_up_any_cx, \n",
    "    scaler=QuantileTransformer(),\n",
    "    df=df_dropped_first_imp, \n",
    "    classifier=lr_newton_classifier,\n",
    "    drop_cols=drop_cols_any_cx,\n",
    "    n=5,\n",
    "    scorer=mcc_scorer\n",
    ")"
   ]
  },
  {
   "cell_type": "markdown",
   "metadata": {
    "jp-MarkdownHeadingCollapsed": true,
    "tags": []
   },
   "source": [
    "###### Liblinear\n",
    "Mean MCC: 203, Mean PR AUC: 306"
   ]
  },
  {
   "cell_type": "code",
   "execution_count": null,
   "metadata": {
    "scrolled": true,
    "tags": []
   },
   "outputs": [],
   "source": [
    "# Liblinear Logistic Regression\n",
    "params_liblinear_any_cx, x_liblinear_any_cx, y_liblinear_any_cx = nested_cv_optuna(\n",
    "    outcome='any_complication', \n",
    "    model=LogisticRegression(max_iter=10000, random_state=0),\n",
    "    min_follow_up_days=follow_up_any_cx, \n",
    "    scaler='None', \n",
    "    df=df_dropped_first_imp, \n",
    "    classifier=lr_liblinear_classifier,\n",
    "    drop_cols=drop_cols_any_cx\n",
    ")"
   ]
  },
  {
   "cell_type": "markdown",
   "metadata": {
    "jp-MarkdownHeadingCollapsed": true,
    "tags": []
   },
   "source": [
    "##### kNN\n",
    "Mean MCC: 0.257, Mean PR AUC: 0.343"
   ]
  },
  {
   "cell_type": "code",
   "execution_count": null,
   "metadata": {
    "scrolled": true,
    "tags": []
   },
   "outputs": [],
   "source": [
    "# Does not converge\n",
    "#params_knn_any_cx, x_knn_any_cx, y_knn_any_cx = nested_cv_optuna(\n",
    "#    outcome='any_complication', \n",
    "#    model=KNeighborsClassifier(),\n",
    "#    min_follow_up_days=follow_up_any_cx, \n",
    "#    scaler=QuantileTransformer(n_quantiles=200, random_state=0), \n",
    "#    df=df_all_levels_imp, \n",
    "#    classifier=knn_classifier,\n",
    "#    drop_cols=drop_cols_any_cx\n",
    "#)"
   ]
  },
  {
   "cell_type": "markdown",
   "metadata": {
    "tags": []
   },
   "source": [
    "##### Random Forest\n",
    "Mean MCC: 0.262, Mean PR AUC: 0.362"
   ]
  },
  {
   "cell_type": "code",
   "execution_count": null,
   "metadata": {
    "tags": []
   },
   "outputs": [],
   "source": [
    "params_rf_any_cx, x_rf_any_cx, y_rf_any_cx = nested_cv_optuna(\n",
    "    outcome='any_complication', \n",
    "    model=RandomForestClassifier(n_estimators=500, random_state=0),\n",
    "    min_follow_up_days=follow_up_any_cx, \n",
    "    scaler='None', \n",
    "    df=df_all_levels_imp, \n",
    "    classifier=rf_classifier,\n",
    "    drop_cols=drop_cols_any_cx,\n",
    "    n=5,\n",
    "    scorer=mcc_scorer\n",
    ")"
   ]
  },
  {
   "cell_type": "code",
   "execution_count": null,
   "metadata": {
    "tags": []
   },
   "outputs": [],
   "source": [
    "avg_params_rf_any_cx = get_avg_params(params_rf_any_cx)\n",
    "get_shap_rf([avg_params_rf_any_cx], x_rf_any_cx, y_rf_any_cx)"
   ]
  },
  {
   "cell_type": "markdown",
   "metadata": {
    "tags": []
   },
   "source": [
    "##### XGBoost\n",
    "Mean MCC: 0.183, Mean PR AUC: 0.288"
   ]
  },
  {
   "cell_type": "code",
   "execution_count": null,
   "metadata": {
    "tags": []
   },
   "outputs": [],
   "source": [
    "params_xgb_any_cx, x_xgb_any_cx, y_xgb_any_cx = nested_cv_optuna(\n",
    "    outcome='any_complication', \n",
    "    model=XGBClassifier(),\n",
    "    min_follow_up_days=follow_up_any_cx, \n",
    "    scaler='None', \n",
    "    df=df_all_levels_imp, \n",
    "    classifier=xgb_classifier,\n",
    "    drop_cols=drop_cols_any_cx,\n",
    "    n=5,\n",
    "    scorer=mcc_scorer\n",
    ")"
   ]
  },
  {
   "cell_type": "code",
   "execution_count": null,
   "metadata": {
    "tags": []
   },
   "outputs": [],
   "source": [
    "avg_params_xgb_any_cx = get_avg_params(params_xgb_any_cx)\n",
    "get_shap_xgb([avg_params_xgb_any_cx], x_xgb_any_cx, y_xgb_any_cx)"
   ]
  },
  {
   "cell_type": "markdown",
   "metadata": {
    "id": "eUVKas4ODgeh",
    "jp-MarkdownHeadingCollapsed": true,
    "tags": []
   },
   "source": [
    "#### Plate exposure"
   ]
  },
  {
   "cell_type": "markdown",
   "metadata": {
    "tags": []
   },
   "source": [
    "##### Configuration"
   ]
  },
  {
   "cell_type": "code",
   "execution_count": null,
   "metadata": {
    "tags": []
   },
   "outputs": [],
   "source": [
    "follow_up_plate_exp = df_all_levels_imp['days_to_plate_exposure'].median()\n",
    "drop_cols_plate_exp = ['venous_anastomosis_type___end_side', 'venous_anastomosis_type___end_end']"
   ]
  },
  {
   "cell_type": "markdown",
   "metadata": {
    "tags": []
   },
   "source": [
    "##### Logistic Regression\n",
    "Mean MCC: 0.360, Mean PR AUC: 0.371"
   ]
  },
  {
   "cell_type": "markdown",
   "metadata": {
    "tags": []
   },
   "source": [
    "###### Statsmodel\n",
    "Mean MCC: 0.362, Mean PR AUC: 0.384"
   ]
  },
  {
   "cell_type": "code",
   "execution_count": null,
   "metadata": {
    "tags": []
   },
   "outputs": [],
   "source": [
    "def lr_plate_exp_no_cv():\n",
    "    \n",
    "    drop_cols_plate_exp_3 = drop_cols_plate_exp.copy()\n",
    "    drop_cols_plate_exp_3.extend([\n",
    "        'comorbidity___autoimmune_disease', \n",
    "        'comorbidity___hypothyroidism', \n",
    "        'comorbidity___copd', \n",
    "        'comorbidity___hyperlipidemia',\n",
    "        'radiotherapy___pre_surgery',\n",
    "        'chemotherapy___pre_surgery',\n",
    "        'comorbidity___hypertension',\n",
    "        'comorbidity___chronic_kidney_disease',\n",
    "        'prior_flap___non_bony', \n",
    "        'prior_flap___bony'\n",
    "    ])\n",
    "    \n",
    "    x, y = get_x_y(\n",
    "    df=df_dropped_first_3, \n",
    "    outcome='complication_plate___exposure', \n",
    "    min_follow_up_days=follow_up_plate_exp, \n",
    "    scaler='None', \n",
    "    drop_cols=drop_cols_plate_exp_3\n",
    "    )\n",
    "\n",
    "    boolean_columns = x.select_dtypes(include=bool).columns\n",
    "    x[boolean_columns] = x[boolean_columns].astype('int')\n",
    "    numeric_columns = x.select_dtypes(include='number').columns\n",
    "    x[numeric_columns] = x[numeric_columns].astype('float64')\n",
    "    y = y.astype('int')\n",
    "\n",
    "    x_columns = x.columns\n",
    "    all_columns = \"+\".join(x_columns)\n",
    "    formula = 'complication_plate___exposure' +  '~' + all_columns\n",
    "\n",
    "    data = pd.concat([x, y], axis=1)\n",
    "    final_model = smf.logit(formula, data).fit()\n",
    "    print(final_model.summary())\n",
    "    \n",
    "lr_plate_exp_no_cv()"
   ]
  },
  {
   "cell_type": "code",
   "execution_count": null,
   "metadata": {
    "scrolled": true,
    "tags": []
   },
   "outputs": [],
   "source": [
    "# Statsmodel LR\n",
    "lr_statsmodels(\n",
    "    outcome='complication_plate___exposure', \n",
    "    min_follow_up_days=follow_up_plate_exp, \n",
    "    scaler='None',\n",
    "    df=df_dropped_first_imp, \n",
    "    drop_cols=drop_cols_plate_exp\n",
    ")"
   ]
  },
  {
   "cell_type": "markdown",
   "metadata": {
    "jp-MarkdownHeadingCollapsed": true,
    "tags": []
   },
   "source": [
    "###### Newton\n",
    "Mean MCC: 0.352, Mean PR AUC: 0.384"
   ]
  },
  {
   "cell_type": "code",
   "execution_count": null,
   "metadata": {
    "tags": []
   },
   "outputs": [],
   "source": [
    "# Logistic Regression (newton-cholesky, newton-cg)\n",
    "params_newton_plate_exp, x_newton_plate_exp, y_newton_plate_exp = nested_cv_optuna(\n",
    "    outcome='complication_plate___exposure', \n",
    "    model=LogisticRegression(max_iter=10000, random_state=0),\n",
    "    min_follow_up_days=follow_up_plate_exp, \n",
    "    #scaler='None',\n",
    "    scaler=QuantileTransformer(random_state=0),\n",
    "    df=df_dropped_first_imp, \n",
    "    classifier=lr_newton_classifier,\n",
    "    drop_cols=drop_cols_plate_exp\n",
    ")"
   ]
  },
  {
   "cell_type": "markdown",
   "metadata": {
    "jp-MarkdownHeadingCollapsed": true,
    "tags": []
   },
   "source": [
    "###### Liblinear\n",
    "Mean MCC: 0.321, Mean PR AUC: 0.335"
   ]
  },
  {
   "cell_type": "code",
   "execution_count": null,
   "metadata": {
    "tags": []
   },
   "outputs": [],
   "source": [
    "# Liblinear Logistic Regression\n",
    "params_liblinear_plate_exp, x_liblinear_plate_exp, y_liblinear_plate_exp = nested_cv_optuna(\n",
    "    outcome='complication_plate___exposure', \n",
    "    model=LogisticRegression(max_iter=10000, random_state=0),\n",
    "    min_follow_up_days=follow_up_plate_exp, \n",
    "    scaler='None',\n",
    "    df=df_dropped_first_imp, \n",
    "    classifier=lr_liblinear_classifier,\n",
    "    drop_cols=drop_cols_plate_exp\n",
    ")"
   ]
  },
  {
   "cell_type": "markdown",
   "metadata": {
    "jp-MarkdownHeadingCollapsed": true,
    "tags": []
   },
   "source": [
    "##### kNN\n",
    "Mean MCC: 0.326, Mean PR AUC: 0.379"
   ]
  },
  {
   "cell_type": "code",
   "execution_count": null,
   "metadata": {
    "tags": []
   },
   "outputs": [],
   "source": [
    "params_knn_plate_exp, x_knn_plate_exp, y_knn_plate_exp = nested_cv_optuna(\n",
    "    outcome='complication_plate___exposure', \n",
    "    model=KNeighborsClassifier(),\n",
    "    min_follow_up_days=follow_up_plate_exp, \n",
    "    scaler=QuantileTransformer(n_quantiles=200, random_state=0), \n",
    "    df=df_all_levels_imp, \n",
    "    classifier=knn_classifier,\n",
    "    drop_cols=drop_cols_plate_exp\n",
    ")"
   ]
  },
  {
   "cell_type": "markdown",
   "metadata": {
    "jp-MarkdownHeadingCollapsed": true,
    "tags": []
   },
   "source": [
    "##### Random Forest\n",
    "Mean MCC: 0.315, Mean PR AUC: 0.390"
   ]
  },
  {
   "cell_type": "code",
   "execution_count": null,
   "metadata": {
    "tags": []
   },
   "outputs": [],
   "source": [
    "params_rf_plate_exp, x_rf_plate_exp, y_rf_plate_exp = nested_cv_optuna(\n",
    "    outcome='complication_plate___exposure', \n",
    "    model=RandomForestClassifier(n_estimators=500, random_state=0),\n",
    "    min_follow_up_days=follow_up_plate_exp, \n",
    "    scaler='None', \n",
    "    df=df_all_levels_imp, \n",
    "    classifier=rf_classifier,\n",
    "    drop_cols=drop_cols_plate_exp\n",
    ")"
   ]
  },
  {
   "cell_type": "code",
   "execution_count": null,
   "metadata": {
    "scrolled": true,
    "tags": []
   },
   "outputs": [],
   "source": [
    "avg_params_rf_plate_exp = get_avg_params(params_rf_plate_exp)\n",
    "get_shap_rf([avg_params_rf_plate_exp], x_rf_plate_exp, y_rf_plate_exp)"
   ]
  },
  {
   "cell_type": "markdown",
   "metadata": {
    "tags": []
   },
   "source": [
    "##### XGBoost\n",
    "\n",
    "Mean MCC: 0.348,\n",
    "Mean PR AUC: 0.394"
   ]
  },
  {
   "cell_type": "code",
   "execution_count": null,
   "metadata": {
    "tags": []
   },
   "outputs": [],
   "source": [
    "params_xgb_plate_exp, x_xgb_plate_exp, y_xgb_plate_exp = nested_cv_optuna(\n",
    "    outcome='complication_plate___exposure', \n",
    "    model=XGBClassifier(random_state=0, verbosity=0),\n",
    "    min_follow_up_days=follow_up_plate_exp, \n",
    "    scaler='None',\n",
    "    df=df_all_levels_imp, \n",
    "    classifier=xgb_classifier,\n",
    "    drop_cols=drop_cols_plate_exp\n",
    ")"
   ]
  },
  {
   "cell_type": "code",
   "execution_count": null,
   "metadata": {
    "tags": []
   },
   "outputs": [],
   "source": [
    "avg_params_xgb_plate_exp = get_avg_params(params_xgb_plate_exp)\n",
    "sv_xgb_plate_exp = get_shap_xgb([avg_params_xgb_plate_exp], x_xgb_plate_exp, y_xgb_plate_exp)"
   ]
  },
  {
   "cell_type": "markdown",
   "metadata": {
    "tags": []
   },
   "source": [
    "#### Bone exposure"
   ]
  },
  {
   "cell_type": "markdown",
   "metadata": {
    "tags": []
   },
   "source": [
    "##### Configuration"
   ]
  },
  {
   "cell_type": "code",
   "execution_count": null,
   "metadata": {
    "tags": []
   },
   "outputs": [],
   "source": [
    "follow_up_bone_exp = df_all_levels_imp['days_to_bone_exposure'].median()\n",
    "drop_cols_bone_exp = ['venous_anastomosis_type___end_side', 'venous_anastomosis_type___end_end']"
   ]
  },
  {
   "cell_type": "markdown",
   "metadata": {
    "tags": []
   },
   "source": [
    "##### Logistic Regression"
   ]
  },
  {
   "cell_type": "markdown",
   "metadata": {},
   "source": [
    "###### Statsmodels"
   ]
  },
  {
   "cell_type": "code",
   "execution_count": null,
   "metadata": {
    "tags": []
   },
   "outputs": [],
   "source": [
    "# Statsmodel LR\n",
    "lr_statsmodels(\n",
    "    outcome='complication___bone_exposure', \n",
    "    min_follow_up_days=follow_up_bone_exp, \n",
    "    scaler='None',\n",
    "    df=df_dropped_first_imp, \n",
    "    drop_cols=drop_cols_bone_exp\n",
    ")"
   ]
  },
  {
   "cell_type": "markdown",
   "metadata": {},
   "source": [
    "###### Newton"
   ]
  },
  {
   "cell_type": "code",
   "execution_count": null,
   "metadata": {},
   "outputs": [],
   "source": [
    "# Logistic Regression (newton-cholesky, newton-cg)\n",
    "params_newton_bone_exp, x_newton_bone_exp, y_newton_bone_exp = nested_cv_optuna(\n",
    "    outcome='complication___bone_exposure', \n",
    "    model=LogisticRegression(max_iter=10000, random_state=0),\n",
    "    min_follow_up_days=follow_up_bone_exp, \n",
    "    scaler='None',\n",
    "    df=df_dropped_first_imp, \n",
    "    classifier=lr_newton_classifier,\n",
    "    drop_cols=drop_cols_bone_exp\n",
    ")"
   ]
  },
  {
   "cell_type": "markdown",
   "metadata": {},
   "source": [
    "###### Liblinear"
   ]
  },
  {
   "cell_type": "code",
   "execution_count": null,
   "metadata": {},
   "outputs": [],
   "source": [
    "# Liblinear Logistic Regression\n",
    "params_liblinear_bone_exp, x_liblinear_bone_exp, y_liblinear_bone_exp = nested_cv_optuna(\n",
    "    outcome='complication___bone_exposure', \n",
    "    model=LogisticRegression(max_iter=10000, random_state=0),\n",
    "    min_follow_up_days=follow_up_bone_exp, \n",
    "    scaler='None',\n",
    "    df=df_dropped_first_imp, \n",
    "    classifier=lr_liblinear_classifier,\n",
    "    drop_cols=drop_cols_bone_exp\n",
    ")"
   ]
  },
  {
   "cell_type": "markdown",
   "metadata": {
    "jp-MarkdownHeadingCollapsed": true,
    "tags": []
   },
   "source": [
    "##### kNN"
   ]
  },
  {
   "cell_type": "code",
   "execution_count": null,
   "metadata": {},
   "outputs": [],
   "source": [
    "params_knn_bone_exp, x_knn_bone_exp, y_knn_bone_exp = nested_cv_optuna(\n",
    "    outcome='complication___bone_exposure', \n",
    "    model=KNeighborsClassifier(),\n",
    "    min_follow_up_days=follow_up_bone_exp, \n",
    "    scaler=QuantileTransformer(n_quantiles=200, random_state=0), \n",
    "    df=df_all_levels_imp, \n",
    "    classifier=knn_classifier,\n",
    "    drop_cols=drop_cols_bone_exp\n",
    ")"
   ]
  },
  {
   "cell_type": "markdown",
   "metadata": {},
   "source": [
    "##### Random Forest"
   ]
  },
  {
   "cell_type": "code",
   "execution_count": null,
   "metadata": {},
   "outputs": [],
   "source": [
    "params_rf_bone_exp, x_rf_bone_exp, y_rf_bone_exp = nested_cv_optuna(\n",
    "    outcome='complication___bone_exposure', \n",
    "    model=RandomForestClassifier(n_estimators=500, random_state=0),\n",
    "    min_follow_up_days=follow_up_bone_exp, \n",
    "    scaler='None', \n",
    "    df=df_all_levels_imp, \n",
    "    classifier=rf_classifier,\n",
    "    drop_cols=drop_cols_bone_exp\n",
    ")"
   ]
  },
  {
   "cell_type": "markdown",
   "metadata": {},
   "source": [
    "##### XGBoost"
   ]
  },
  {
   "cell_type": "code",
   "execution_count": null,
   "metadata": {},
   "outputs": [],
   "source": [
    "params_xgb_bone_exp, x_xgb_bone_exp, y_xgb_bone_exp = nested_cv_optuna(\n",
    "    outcome='complication___bone_exposure', \n",
    "    model=XGBClassifier(random_state=0, verbosity=0),\n",
    "    min_follow_up_days=follow_up_bone_exp, \n",
    "    scaler='None',\n",
    "    df=df_all_levels_imp, \n",
    "    classifier=xgb_classifier,\n",
    "    drop_cols=drop_cols_bone_exp\n",
    ")"
   ]
  },
  {
   "cell_type": "markdown",
   "metadata": {
    "tags": []
   },
   "source": [
    "#### ORN redefined"
   ]
  },
  {
   "cell_type": "markdown",
   "metadata": {},
   "source": [
    "##### Configuration"
   ]
  },
  {
   "cell_type": "markdown",
   "metadata": {},
   "source": [
    "ORN will be defined as either ORN or Bone exposure while post-operative RT was received."
   ]
  },
  {
   "cell_type": "code",
   "execution_count": null,
   "metadata": {
    "tags": []
   },
   "outputs": [],
   "source": [
    "follow_up_orn = df_all_levels_imp['days_to_osteoradionecrosis'].median()\n",
    "drop_cols_orn = ['venous_anastomosis_type___end_side', 'venous_anastomosis_type___end_end']"
   ]
  },
  {
   "cell_type": "markdown",
   "metadata": {
    "tags": []
   },
   "source": [
    "##### Logistic Regression"
   ]
  },
  {
   "cell_type": "markdown",
   "metadata": {
    "tags": []
   },
   "source": [
    "###### Statsmodel"
   ]
  },
  {
   "cell_type": "code",
   "execution_count": null,
   "metadata": {
    "tags": []
   },
   "outputs": [],
   "source": [
    "#lr_statsmodels(\n",
    "#    outcome='orn_redefined', \n",
    "#    min_follow_up_days=follow_up_orn, \n",
    "#    scaler='None',\n",
    "#    df=df_dropped_first_imp, \n",
    "#    drop_cols=drop_cols_orn\n",
    "#)\n",
    "\n",
    "# DID NOT CONVERGE"
   ]
  },
  {
   "cell_type": "code",
   "execution_count": null,
   "metadata": {
    "tags": []
   },
   "outputs": [],
   "source": [
    "df_all_levels_imp['complication_plate___fracture'].value_counts()"
   ]
  },
  {
   "cell_type": "code",
   "execution_count": null,
   "metadata": {
    "tags": []
   },
   "outputs": [],
   "source": [
    "def lr_orn_no_cv():\n",
    "    x, y = get_x_y(\n",
    "    df=df_dropped_first_imp, \n",
    "    outcome='orn_redefined', \n",
    "    min_follow_up_days=follow_up_orn, \n",
    "    scaler='None', \n",
    "    drop_cols=drop_cols_orn\n",
    "    )\n",
    "\n",
    "    boolean_columns = x.select_dtypes(include=bool).columns\n",
    "    x[boolean_columns] = x[boolean_columns].astype('int')\n",
    "    numeric_columns = x.select_dtypes(include='number').columns\n",
    "    x[numeric_columns] = x[numeric_columns].astype('float64')\n",
    "    y = y.astype('int')\n",
    "\n",
    "    x_columns = x.columns\n",
    "    all_columns = \"+\".join(x_columns)\n",
    "    formula = 'orn_redefined' +  '~' + all_columns\n",
    "\n",
    "    data = pd.concat([x, y], axis=1)\n",
    "    final_model = smf.logit(formula, data).fit()\n",
    "    print(final_model.summary())\n",
    "    \n",
    "lr_orn_no_cv()"
   ]
  },
  {
   "cell_type": "markdown",
   "metadata": {
    "tags": []
   },
   "source": [
    "###### Newton"
   ]
  },
  {
   "cell_type": "code",
   "execution_count": null,
   "metadata": {
    "scrolled": true,
    "tags": []
   },
   "outputs": [],
   "source": [
    "params_newton_orn, x_newton_orn, y_newton_orn = nested_cv_optuna(\n",
    "    outcome='orn_redefined', \n",
    "    model=LogisticRegression(max_iter=10000, random_state=0),\n",
    "    min_follow_up_days=follow_up_orn, \n",
    "    scaler=QuantileTransformer(random_state=0),\n",
    "    df=df_dropped_first_imp, \n",
    "    classifier=lr_newton_classifier,\n",
    "    drop_cols=drop_cols_orn\n",
    ")"
   ]
  },
  {
   "cell_type": "markdown",
   "metadata": {},
   "source": [
    "###### Liblinear"
   ]
  },
  {
   "cell_type": "code",
   "execution_count": null,
   "metadata": {
    "scrolled": true,
    "tags": []
   },
   "outputs": [],
   "source": [
    "# Liblinear Logistic Regression\n",
    "params_liblinear_orn, x_liblinear_orn, y_liblinear_orn = nested_cv_optuna(\n",
    "    outcome='orn_redefined', \n",
    "    model=LogisticRegression(max_iter=10000, random_state=0),\n",
    "    min_follow_up_days=follow_up_orn, \n",
    "    scaler=QuantileTransformer(random_state=0),\n",
    "    df=df_dropped_first_imp, \n",
    "    classifier=lr_liblinear_classifier,\n",
    "    drop_cols=drop_cols_orn\n",
    ")"
   ]
  },
  {
   "cell_type": "markdown",
   "metadata": {},
   "source": [
    "##### kNN"
   ]
  },
  {
   "cell_type": "code",
   "execution_count": null,
   "metadata": {
    "scrolled": true,
    "tags": []
   },
   "outputs": [],
   "source": [
    "params_knn_orn, x_knn_orn, y_knn_orn = nested_cv_optuna(\n",
    "    outcome='orn_redefined', \n",
    "    model=KNeighborsClassifier(),\n",
    "    min_follow_up_days=follow_up_orn, \n",
    "    scaler=QuantileTransformer(n_quantiles=200, random_state=0), \n",
    "    df=df_all_levels_imp, \n",
    "    classifier=knn_classifier,\n",
    "    drop_cols=drop_cols_orn\n",
    ")"
   ]
  },
  {
   "cell_type": "markdown",
   "metadata": {},
   "source": [
    "##### Random Forest"
   ]
  },
  {
   "cell_type": "code",
   "execution_count": null,
   "metadata": {},
   "outputs": [],
   "source": [
    "params_rf_orn, x_rf_orn, y_rf_orn = nested_cv_optuna(\n",
    "    outcome='orn_redefined', \n",
    "    model=RandomForestClassifier(n_estimators=500, random_state=0),\n",
    "    min_follow_up_days=follow_up_orn, \n",
    "    scaler='None', \n",
    "    df=df_all_levels_imp, \n",
    "    classifier=rf_classifier,\n",
    "    drop_cols=drop_cols_orn\n",
    ")"
   ]
  },
  {
   "cell_type": "code",
   "execution_count": null,
   "metadata": {
    "scrolled": true,
    "tags": []
   },
   "outputs": [],
   "source": [
    "avg_params_rf_orn = get_avg_params(params_rf_orn)\n",
    "get_shap_rf([avg_params_rf_orn], x_rf_orn, y_rf_orn)"
   ]
  },
  {
   "cell_type": "markdown",
   "metadata": {
    "tags": []
   },
   "source": [
    "##### XGBoost"
   ]
  },
  {
   "cell_type": "code",
   "execution_count": null,
   "metadata": {
    "tags": []
   },
   "outputs": [],
   "source": [
    "params_xgb_orn, x_xgb_orn, y_xgb_orn = nested_cv_optuna(\n",
    "    outcome='orn_redefined', \n",
    "    model=XGBClassifier(random_state=0, verbosity=0),\n",
    "    min_follow_up_days=follow_up_orn, \n",
    "    scaler='None',\n",
    "    df=df_all_levels_imp, \n",
    "    classifier=xgb_classifier,\n",
    "    drop_cols=drop_cols_orn\n",
    ")"
   ]
  },
  {
   "cell_type": "code",
   "execution_count": null,
   "metadata": {
    "scrolled": true,
    "tags": []
   },
   "outputs": [],
   "source": [
    "avg_params_xgb_orn = get_avg_params(params_xgb_orn)\n",
    "sv_xgb_orn = get_shap_xgb([avg_params_xgb_orn], x_xgb_orn, y_xgb_orn)"
   ]
  },
  {
   "cell_type": "markdown",
   "metadata": {
    "id": "i4lZqvTdDkFx",
    "tags": []
   },
   "source": [
    "#### Nonunion"
   ]
  },
  {
   "cell_type": "markdown",
   "metadata": {
    "tags": []
   },
   "source": [
    "##### Configuration"
   ]
  },
  {
   "cell_type": "code",
   "execution_count": null,
   "metadata": {
    "tags": []
   },
   "outputs": [],
   "source": [
    "follow_up_nonunion = 0 \n",
    "drop_cols_nonunion = ['skin_transplanted']\n",
    "\n",
    "# No minimum follow-up since all patients without imaging data are excluded \n",
    "# as they have a NaN in the nonunion column"
   ]
  },
  {
   "cell_type": "markdown",
   "metadata": {
    "tags": []
   },
   "source": [
    "##### Logistic Regression\n",
    "Mean MCC: 0.329, Mean PR AUC: 0.59"
   ]
  },
  {
   "cell_type": "markdown",
   "metadata": {
    "tags": []
   },
   "source": [
    "###### Statsmodel\n",
    "Mean MCC: 0.294, Mean PR AUC: 0.566"
   ]
  },
  {
   "cell_type": "code",
   "execution_count": null,
   "metadata": {
    "tags": []
   },
   "outputs": [],
   "source": [
    "df_dropped_first_tumor_3 = df_dropped_first_3[(df_dropped_first_3['indication___osteoradionecrosis'] == False) & (df_dropped_first_3['indication___secondary_reconstruction'] == False)]\n",
    "df_dropped_first_tumor_3 = df_dropped_first_tumor_3.drop(['indication___osteoradionecrosis', 'indication___secondary_reconstruction'], axis=1)\n",
    "df_dropped_first_tumor_3['nonunion'].value_counts()"
   ]
  },
  {
   "cell_type": "code",
   "execution_count": null,
   "metadata": {
    "tags": []
   },
   "outputs": [],
   "source": [
    "def lr_nonunion_no_cv():\n",
    "    \n",
    "    drop_cols_nonunion_3 = drop_cols_nonunion.copy()\n",
    "    drop_cols_nonunion_3.extend([      \n",
    "        'comorbidity___autoimmune_disease', \n",
    "        'comorbidity___hypothyroidism', \n",
    "        'comorbidity___copd',   \n",
    "        'radiotherapy___pre_surgery',\n",
    "        'chemotherapy___pre_surgery',\n",
    "        'prior_flap___non_bony',\n",
    "        'prior_flap___bony',\n",
    "        'comorbidity___hyperlipidemia',\n",
    "        'venous_anastomosis_type___end_side',\n",
    "        'venous_anastomosis_type___end_end',\n",
    "        'comorbidity___hypertension',\n",
    "        'comorbidity___chronic_kidney_disease',\n",
    "        'comorbidity___atherosclerosis'\n",
    "    ])\n",
    "    \n",
    "    x, y = get_x_y(\n",
    "    df=df_dropped_first_tumor_3,\n",
    "    outcome='nonunion', \n",
    "    min_follow_up_days=follow_up_nonunion, \n",
    "    scaler='None', \n",
    "    drop_cols=drop_cols_nonunion_3\n",
    "    )\n",
    "\n",
    "    boolean_columns = x.select_dtypes(include=bool).columns\n",
    "    x[boolean_columns] = x[boolean_columns].astype('int')\n",
    "    numeric_columns = x.select_dtypes(include='number').columns\n",
    "    x[numeric_columns] = x[numeric_columns].astype('float64')\n",
    "    y = y.astype('int')\n",
    "\n",
    "    x_columns = x.columns\n",
    "    all_columns = \"+\".join(x_columns)\n",
    "    formula = 'nonunion' +  '~' + all_columns\n",
    "\n",
    "    data = pd.concat([x, y], axis=1)\n",
    "    final_model = smf.logit(formula, data).fit()\n",
    "    print(final_model.summary())\n",
    "    \n",
    "lr_nonunion_no_cv()"
   ]
  },
  {
   "cell_type": "code",
   "execution_count": null,
   "metadata": {
    "scrolled": true,
    "tags": []
   },
   "outputs": [],
   "source": [
    "# Statsmodel LR\n",
    "lr_statsmodels(\n",
    "    outcome='nonunion', \n",
    "    min_follow_up_days=follow_up_nonunion, \n",
    "    scaler='None',\n",
    "    df=df_dropped_first_imp, \n",
    "    drop_cols=drop_cols_nonunion\n",
    ")"
   ]
  },
  {
   "cell_type": "markdown",
   "metadata": {
    "tags": []
   },
   "source": [
    "###### Newton (Scaled)\n",
    "Mean MCC: 0.329, Mean PR AUC: 0.590"
   ]
  },
  {
   "cell_type": "code",
   "execution_count": null,
   "metadata": {
    "scrolled": true,
    "tags": []
   },
   "outputs": [],
   "source": [
    "# Logistic Regression (lbfgs, newton-cholesky, newton-cg)\n",
    "params_newton_nonunion, x_newton_nonunion, y_newton_nonunion = nested_cv_optuna(\n",
    "    outcome='nonunion', \n",
    "    model=LogisticRegression(max_iter=10000, random_state=0),\n",
    "    min_follow_up_days=follow_up_nonunion,  \n",
    "    scaler='None',\n",
    "    df=df_dropped_first_imp, \n",
    "    classifier=lr_newton_classifier,\n",
    "    drop_cols=drop_cols_nonunion\n",
    ")"
   ]
  },
  {
   "cell_type": "markdown",
   "metadata": {
    "tags": []
   },
   "source": [
    "###### Liblinear (Scaled)\n",
    "Mean MCC: 0.312, Mean PR AUC: 0.586"
   ]
  },
  {
   "cell_type": "code",
   "execution_count": null,
   "metadata": {
    "tags": []
   },
   "outputs": [],
   "source": [
    "# Liblinear Logistic Regression\n",
    "params_liblinear_nonunion, x_liblinear_nonunion, y_liblinear_nonunion = nested_cv_optuna(\n",
    "    outcome='nonunion', \n",
    "    model=LogisticRegression(max_iter=1000),\n",
    "    min_follow_up_days=follow_up_nonunion, \n",
    "    scaler='None', \n",
    "    df=df_dropped_first_imp, \n",
    "    classifier=lr_liblinear_classifier,\n",
    "    drop_cols=drop_cols_nonunion\n",
    ")"
   ]
  },
  {
   "cell_type": "markdown",
   "metadata": {
    "jp-MarkdownHeadingCollapsed": true,
    "tags": []
   },
   "source": [
    "##### kNN\n",
    "Mean MCC: 0.211, Mean PR AUC: 0.5"
   ]
  },
  {
   "cell_type": "code",
   "execution_count": null,
   "metadata": {
    "tags": []
   },
   "outputs": [],
   "source": [
    "params_knn_nonunion, x_knn_nonunion, y_knn_nonunion = nested_cv_optuna(\n",
    "    outcome='nonunion', \n",
    "    model=KNeighborsClassifier(),\n",
    "    min_follow_up_days=follow_up_nonunion, \n",
    "    scaler=QuantileTransformer(n_quantiles=150, random_state=0), \n",
    "    df=df_all_levels_imp, \n",
    "    classifier=knn_classifier,\n",
    "    drop_cols=drop_cols_nonunion\n",
    ")"
   ]
  },
  {
   "cell_type": "markdown",
   "metadata": {
    "jp-MarkdownHeadingCollapsed": true,
    "tags": []
   },
   "source": [
    "##### Random Forest\n",
    "Mean MCC: 0.337, Mean PR AUC: 0.583"
   ]
  },
  {
   "cell_type": "code",
   "execution_count": null,
   "metadata": {
    "tags": []
   },
   "outputs": [],
   "source": [
    "params_rf_nonunion, x_rf_nonunion, y_rf_nonunion = nested_cv_optuna(\n",
    "    outcome='nonunion', \n",
    "    model=RandomForestClassifier(random_state=0),\n",
    "    min_follow_up_days=follow_up_nonunion, \n",
    "    scaler='None', \n",
    "    df=df_all_levels_imp, \n",
    "    classifier=rf_classifier,\n",
    "    drop_cols=drop_cols_nonunion\n",
    ")"
   ]
  },
  {
   "cell_type": "code",
   "execution_count": null,
   "metadata": {
    "tags": []
   },
   "outputs": [],
   "source": [
    "avg_params_rf_nonunion = get_avg_params(params_rf_nonunion)\n",
    "get_shap_rf([avg_params_rf_nonunion], x_rf_nonunion, y_rf_nonunion)"
   ]
  },
  {
   "cell_type": "markdown",
   "metadata": {
    "tags": []
   },
   "source": [
    "##### XGBoost\n",
    "Mean MCC: 0.278, Mean PR AUC: 0.578"
   ]
  },
  {
   "cell_type": "code",
   "execution_count": null,
   "metadata": {
    "tags": []
   },
   "outputs": [],
   "source": [
    "params_xgb_nu, x_xgb_nu, y_xgb_nu = nested_cv_optuna(\n",
    "    outcome='nonunion', \n",
    "    model=XGBClassifier(),\n",
    "    min_follow_up_days=follow_up_nonunion, \n",
    "    scaler='None', \n",
    "    df=df_all_levels_imp, \n",
    "    classifier=xgb_classifier,\n",
    "    drop_cols=drop_cols_nonunion\n",
    ")"
   ]
  },
  {
   "cell_type": "code",
   "execution_count": null,
   "metadata": {
    "tags": []
   },
   "outputs": [],
   "source": [
    "avg_params_xgb_nu = get_avg_params(params_xgb_nu)\n",
    "get_shap_xgb([avg_params_xgb_nu], x_xgb_nu, y_xgb_nu)"
   ]
  },
  {
   "cell_type": "markdown",
   "metadata": {
    "id": "KLUfcvFFDmpY",
    "tags": []
   },
   "source": [
    "#### Soft tissue complication"
   ]
  },
  {
   "cell_type": "markdown",
   "metadata": {
    "jp-MarkdownHeadingCollapsed": true,
    "tags": []
   },
   "source": [
    "##### Configuration"
   ]
  },
  {
   "cell_type": "code",
   "execution_count": null,
   "metadata": {
    "tags": []
   },
   "outputs": [],
   "source": [
    "follow_up_stx = np.mean([\n",
    "    df_all_levels_imp['days_to_whd_recipient_site'].median(),\n",
    "     df_all_levels_imp['days_to_partial_necrosis'].median(),\n",
    "     df_all_levels_imp['days_to_bone_exposure'].median(),\n",
    "     df_all_levels_imp['days_to_plate_exposure'].median(),\n",
    "     df_all_levels_imp['days_to_wound_infection'].median()\n",
    "])\n",
    "\n",
    "drop_cols_stx = []"
   ]
  },
  {
   "cell_type": "markdown",
   "metadata": {
    "tags": []
   },
   "source": [
    "##### Logistic Regression\n",
    "Mean MCC: 0.458, Mean PR AUC: 691"
   ]
  },
  {
   "cell_type": "markdown",
   "metadata": {
    "tags": []
   },
   "source": [
    "###### Statsmodel\n",
    "Mean MCC: 0.383, Mean PR AUC: 0.648"
   ]
  },
  {
   "cell_type": "code",
   "execution_count": null,
   "metadata": {
    "tags": []
   },
   "outputs": [],
   "source": [
    "# 3 SEGMENTS ONLY\n",
    "\n",
    "def lr_stx_no_cv():\n",
    "    \n",
    "    drop_cols_stx_3 = drop_cols_stx.copy()\n",
    "    drop_cols_stx_3.extend([\n",
    "        'comorbidity___autoimmune_disease', \n",
    "        'comorbidity___hypothyroidism', \n",
    "        'comorbidity___copd',   \n",
    "        'radiotherapy___pre_surgery',\n",
    "        'chemotherapy___pre_surgery',\n",
    "        'prior_flap___non_bony',\n",
    "        'prior_flap___bony',\n",
    "        'comorbidity___hyperlipidemia',\n",
    "        'venous_anastomosis_type___end_side',\n",
    "        'venous_anastomosis_type___end_end',\n",
    "        'comorbidity___hypertension',\n",
    "        'comorbidity___chronic_kidney_disease',\n",
    "        'comorbidity___atherosclerosis'\n",
    "\n",
    "    ])\n",
    "    \n",
    "    x, y = get_x_y(\n",
    "    df=df_dropped_first_tumor_3, \n",
    "    outcome='soft_tissue_complication', \n",
    "    min_follow_up_days=follow_up_stx, \n",
    "    scaler='None', \n",
    "    drop_cols=drop_cols_stx_3\n",
    "    )\n",
    "\n",
    "    boolean_columns = x.select_dtypes(include=bool).columns\n",
    "    x[boolean_columns] = x[boolean_columns].astype('int')\n",
    "    numeric_columns = x.select_dtypes(include='number').columns\n",
    "    x[numeric_columns] = x[numeric_columns].astype('float64')\n",
    "    y = y.astype('int')\n",
    "\n",
    "    x_columns = x.columns\n",
    "    all_columns = \"+\".join(x_columns)\n",
    "    formula = 'soft_tissue_complication' +  '~' + all_columns\n",
    "\n",
    "    data = pd.concat([x, y], axis=1)\n",
    "    final_model = smf.logit(formula, data).fit()\n",
    "    print(final_model.summary())\n",
    "    \n",
    "lr_stx_no_cv()"
   ]
  },
  {
   "cell_type": "code",
   "execution_count": null,
   "metadata": {
    "scrolled": true,
    "tags": []
   },
   "outputs": [],
   "source": [
    "# Statsmodel LR\n",
    "lr_statsmodels(\n",
    "    outcome='soft_tissue_complication', \n",
    "    min_follow_up_days=follow_up_stx, \n",
    "    scaler='None',\n",
    "    df=df_dropped_first_imp, \n",
    "    drop_cols=drop_cols_stx\n",
    ")"
   ]
  },
  {
   "cell_type": "code",
   "execution_count": null,
   "metadata": {
    "tags": []
   },
   "outputs": [],
   "source": [
    "df_all_levels_imp['flap_segment_count'].value_counts()"
   ]
  },
  {
   "cell_type": "markdown",
   "metadata": {
    "tags": []
   },
   "source": [
    "###### Newton (Scaled)\n",
    "Mean MCC: 0.458, Mean PR AUC: 0.691"
   ]
  },
  {
   "cell_type": "code",
   "execution_count": null,
   "metadata": {
    "tags": []
   },
   "outputs": [],
   "source": [
    "# Logistic Regression (lbfgs, newton-cholesky, newton-cg)\n",
    "params_newton_stx, x_newton_stx, y_newton_stx = nested_cv_optuna(\n",
    "    outcome='soft_tissue_complication', \n",
    "    model=LogisticRegression(max_iter=10000, random_state=0),\n",
    "    min_follow_up_days=follow_up_stx,  \n",
    "    scaler='None', \n",
    "    df=df_dropped_first_imp, \n",
    "    classifier=lr_newton_classifier,\n",
    "    drop_cols=drop_cols_stx\n",
    ")"
   ]
  },
  {
   "cell_type": "markdown",
   "metadata": {
    "tags": []
   },
   "source": [
    "###### Liblinear (Scaled)\n",
    "Mean MCC: 0.416, Mean PR AUC: 0.696"
   ]
  },
  {
   "cell_type": "code",
   "execution_count": null,
   "metadata": {
    "tags": []
   },
   "outputs": [],
   "source": [
    "params_liblinear_stx, x_liblinear_stx, y_liblinear_stx = nested_cv_optuna(\n",
    "    outcome='soft_tissue_complication', \n",
    "    model=LogisticRegression(max_iter=1000),\n",
    "    min_follow_up_days=follow_up_stx, \n",
    "    scaler='None', \n",
    "    df=df_dropped_first_imp, \n",
    "    classifier=lr_liblinear_classifier,\n",
    "    drop_cols=drop_cols_stx\n",
    ")"
   ]
  },
  {
   "cell_type": "markdown",
   "metadata": {
    "tags": []
   },
   "source": [
    "##### kNN\n",
    "Mean MCC: 0.31, Mean PR AUC: 0.598"
   ]
  },
  {
   "cell_type": "code",
   "execution_count": null,
   "metadata": {
    "tags": []
   },
   "outputs": [],
   "source": [
    "params_knn_stx, x_knn_stx, y_knn_stx = nested_cv_optuna(\n",
    "    outcome='soft_tissue_complication', \n",
    "    model=KNeighborsClassifier(),\n",
    "    min_follow_up_days=follow_up_stx, \n",
    "    scaler=QuantileTransformer(n_quantiles=200, random_state=0), \n",
    "    df=df_all_levels_imp, \n",
    "    classifier=knn_classifier,\n",
    "    drop_cols=drop_cols_stx\n",
    ")"
   ]
  },
  {
   "cell_type": "markdown",
   "metadata": {
    "tags": []
   },
   "source": [
    "##### Random Forest\n",
    "Mean MCC: 0.375, Mean PR AUC: 0.685"
   ]
  },
  {
   "cell_type": "code",
   "execution_count": null,
   "metadata": {
    "tags": []
   },
   "outputs": [],
   "source": [
    "params_rf_stx, x_rf_stx, y_rf_stx = nested_cv_optuna(\n",
    "    outcome='soft_tissue_complication', \n",
    "    model=RandomForestClassifier(random_state=0),\n",
    "    min_follow_up_days=follow_up_stx, \n",
    "    scaler='None', \n",
    "    df=df_all_levels_imp, \n",
    "    classifier=rf_classifier,\n",
    "    drop_cols=drop_cols_stx\n",
    ")"
   ]
  },
  {
   "cell_type": "code",
   "execution_count": null,
   "metadata": {},
   "outputs": [],
   "source": [
    "avg_params_rf_stx = get_avg_params(params_rf_stx)\n",
    "get_shap_rf([avg_params_rf_stx], x_rf_stx, y_rf_stx)"
   ]
  },
  {
   "cell_type": "markdown",
   "metadata": {
    "tags": []
   },
   "source": [
    "##### XGBoost\n",
    "Mean MCC: 0.325, Mean PR AUC: 0.659"
   ]
  },
  {
   "cell_type": "code",
   "execution_count": null,
   "metadata": {
    "tags": []
   },
   "outputs": [],
   "source": [
    "params_xgb_stx, x_xgb_stx, y_xgb_stx = nested_cv_optuna(\n",
    "    outcome='soft_tissue_complication', \n",
    "    model=XGBClassifier(),\n",
    "    min_follow_up_days=follow_up_stx, \n",
    "    scaler='None', \n",
    "    df=df_all_levels_imp, \n",
    "    classifier=xgb_classifier,\n",
    "    drop_cols=drop_cols_stx\n",
    ")"
   ]
  },
  {
   "cell_type": "code",
   "execution_count": null,
   "metadata": {
    "tags": []
   },
   "outputs": [],
   "source": [
    "avg_params_xgb_stx = get_avg_params(params_xgb_stx)\n",
    "get_shap_xgb([avg_params_xgb_stx], x_xgb_stx, y_xgb_stx)"
   ]
  },
  {
   "cell_type": "code",
   "execution_count": null,
   "metadata": {},
   "outputs": [],
   "source": []
  },
  {
   "cell_type": "markdown",
   "metadata": {
    "id": "Wmll9RJEDqST",
    "tags": []
   },
   "source": [
    "#### Wound infection"
   ]
  },
  {
   "cell_type": "code",
   "execution_count": null,
   "metadata": {
    "tags": []
   },
   "outputs": [],
   "source": [
    "follow_up_wi = df_all_levels_imp['days_to_wound_infection'].median()\n",
    "drop_cols_wi = []"
   ]
  },
  {
   "cell_type": "markdown",
   "metadata": {
    "tags": []
   },
   "source": [
    "##### Logistic Regression"
   ]
  },
  {
   "cell_type": "markdown",
   "metadata": {},
   "source": [
    "###### Statsmodel"
   ]
  },
  {
   "cell_type": "code",
   "execution_count": null,
   "metadata": {
    "tags": []
   },
   "outputs": [],
   "source": [
    "# Statsmodel LR\n",
    "lr_statsmodels(\n",
    "    outcome='wound_infection', \n",
    "    min_follow_up_days=follow_up_wi, \n",
    "    scaler='None',\n",
    "    df=df_dropped_first_imp, \n",
    "    drop_cols=drop_cols_wi\n",
    ")"
   ]
  },
  {
   "cell_type": "markdown",
   "metadata": {},
   "source": [
    "###### Newton"
   ]
  },
  {
   "cell_type": "code",
   "execution_count": null,
   "metadata": {
    "tags": []
   },
   "outputs": [],
   "source": [
    "# Logistic Regression (lbfgs, newton-cholesky, newton-cg)\n",
    "params_newton_wi, x_newton_wi, y_newton_wi = nested_cv_optuna(\n",
    "    outcome='wound_infection', \n",
    "    model=LogisticRegression(max_iter=10000, random_state=0),\n",
    "    min_follow_up_days=follow_up_wi, \n",
    "    scaler='None', \n",
    "    df=df_dropped_first_imp, \n",
    "    classifier=lr_lnn_classifier,\n",
    "    drop_cols=drop_cols_wi\n",
    ")"
   ]
  },
  {
   "cell_type": "markdown",
   "metadata": {},
   "source": [
    "###### Liblinear"
   ]
  },
  {
   "cell_type": "code",
   "execution_count": null,
   "metadata": {
    "tags": []
   },
   "outputs": [],
   "source": [
    "# Liblinear Logistic Regression\n",
    "params_liblinear_wi, x_liblinear_wi, y_liblinear_wi = nested_cv_optuna(\n",
    "    outcome='wound_infection', \n",
    "    model=LogisticRegression(max_iter=1000, random_state=0),\n",
    "    min_follow_up_days=follow_up_wi, \n",
    "    scaler='None', \n",
    "    df=df_dropped_first_imp, \n",
    "    classifier=lr_liblinear_classifier,\n",
    "    drop_cols=drop_cols_wi\n",
    ")"
   ]
  },
  {
   "cell_type": "markdown",
   "metadata": {
    "jp-MarkdownHeadingCollapsed": true,
    "tags": []
   },
   "source": [
    "##### kNN"
   ]
  },
  {
   "cell_type": "code",
   "execution_count": null,
   "metadata": {
    "tags": []
   },
   "outputs": [],
   "source": [
    "nested_cv_optuna(\n",
    "    outcome='wound_infection', \n",
    "    model=KNeighborsClassifier(),\n",
    "    min_follow_up_days=follow_up_wi, \n",
    "    scaler=QuantileTransformer(n_quantiles=200, random_state=0), \n",
    "    df=df_all_levels_imp, \n",
    "    classifier=knn_classifier,\n",
    "    drop_cols=drop_cols_wi\n",
    ")"
   ]
  },
  {
   "cell_type": "markdown",
   "metadata": {
    "tags": []
   },
   "source": [
    "##### Random Forest"
   ]
  },
  {
   "cell_type": "code",
   "execution_count": null,
   "metadata": {
    "tags": []
   },
   "outputs": [],
   "source": [
    "params_rf_wi, x_rf_wi, y_rf_wi = nested_cv_optuna(\n",
    "    outcome='wound_infection', \n",
    "    model=RandomForestClassifier(random_state=0),\n",
    "    min_follow_up_days=follow_up_wi, \n",
    "    scaler=QuantileTransformer(n_quantiles=200, random_state=0), \n",
    "    df=df_all_levels_imp, \n",
    "    classifier=rf_classifier,\n",
    "    drop_cols=drop_cols_wi\n",
    ")"
   ]
  },
  {
   "cell_type": "code",
   "execution_count": null,
   "metadata": {},
   "outputs": [],
   "source": [
    "avg_params_rf_wi = get_avg_params(params_rf_wi)\n",
    "get_shap_rf([avg_params_rf_wi], x_rf_wi, y_rf_wi)"
   ]
  },
  {
   "cell_type": "markdown",
   "metadata": {
    "tags": []
   },
   "source": [
    "##### XGBoost"
   ]
  },
  {
   "cell_type": "code",
   "execution_count": null,
   "metadata": {
    "scrolled": true,
    "tags": []
   },
   "outputs": [],
   "source": [
    "params_xgb_wi, x_xgb_wi, y_xgb_wi = nested_cv_optuna(\n",
    "    outcome='wound_infection', \n",
    "    model=XGBClassifier(random_state=0, verbosity=0),\n",
    "    min_follow_up_days=follow_up_wi, \n",
    "    scaler=QuantileTransformer(n_quantiles=200, random_state=0), \n",
    "    df=df_all_levels_imp, \n",
    "    classifier=xgb_classifier,\n",
    "    drop_cols=drop_cols_wi\n",
    ")"
   ]
  },
  {
   "cell_type": "code",
   "execution_count": null,
   "metadata": {
    "tags": []
   },
   "outputs": [],
   "source": [
    "avg_params_xgb_wi = get_avg_params(params_xgb_wi)\n",
    "get_shap_xgb([avg_params_xgb_wi], x_xgb_wi, y_xgb_wi)"
   ]
  },
  {
   "cell_type": "markdown",
   "metadata": {
    "jp-MarkdownHeadingCollapsed": true,
    "tags": []
   },
   "source": [
    "#### Fistula"
   ]
  },
  {
   "cell_type": "code",
   "execution_count": null,
   "metadata": {
    "tags": []
   },
   "outputs": [],
   "source": [
    "follow_up_fistula = follow_up_wi\n",
    "drop_cols_fistula = drop_cols_wi"
   ]
  },
  {
   "cell_type": "markdown",
   "metadata": {
    "tags": []
   },
   "source": [
    "##### Logistic Regression"
   ]
  },
  {
   "cell_type": "markdown",
   "metadata": {},
   "source": [
    "###### Statsmodel"
   ]
  },
  {
   "cell_type": "code",
   "execution_count": null,
   "metadata": {
    "scrolled": true,
    "tags": []
   },
   "outputs": [],
   "source": [
    "lr_statsmodels(\n",
    "    outcome='infectious_complication___fistula', \n",
    "    min_follow_up_days=follow_up_fistula, \n",
    "    scaler='None',\n",
    "    df=df_dropped_first_imp, \n",
    "    drop_cols=drop_cols_fistula\n",
    ")"
   ]
  },
  {
   "cell_type": "markdown",
   "metadata": {},
   "source": [
    "###### Newton"
   ]
  },
  {
   "cell_type": "code",
   "execution_count": null,
   "metadata": {
    "scrolled": true,
    "tags": []
   },
   "outputs": [],
   "source": [
    "params_newton_fistula, x_newton_fistula, y_newton_fistula = nested_cv_optuna(\n",
    "    outcome='infectious_complication___fistula', \n",
    "    model=LogisticRegression(max_iter=10000, random_state=0),\n",
    "    min_follow_up_days=follow_up_fistula, \n",
    "    scaler=QuantileTransformer(n_quantiles=200, random_state=0), \n",
    "    df=df_dropped_first_imp, \n",
    "    classifier=lr_newton_classifier,\n",
    "    drop_cols=drop_cols_fistula\n",
    ")"
   ]
  },
  {
   "cell_type": "markdown",
   "metadata": {},
   "source": [
    "###### Liblinear"
   ]
  },
  {
   "cell_type": "code",
   "execution_count": null,
   "metadata": {
    "tags": []
   },
   "outputs": [],
   "source": [
    "nested_cv_optuna(\n",
    "    outcome='infectious_complication___fistula', \n",
    "    model=LogisticRegression(max_iter=1000, random_state=0),\n",
    "    min_follow_up_days=follow_up_wi, \n",
    "    scaler=QuantileTransformer(n_quantiles=200, random_state=0), \n",
    "    df=df_dropped_first_imp, \n",
    "    classifier=lr_liblinear_classifier,\n",
    "    drop_cols=drop_cols_fistula\n",
    ")"
   ]
  },
  {
   "cell_type": "markdown",
   "metadata": {
    "tags": []
   },
   "source": [
    "##### kNN"
   ]
  },
  {
   "cell_type": "code",
   "execution_count": null,
   "metadata": {},
   "outputs": [],
   "source": [
    "params_knn_fistula, x_knn_fistula, y_knn_fistula = nested_cv_optuna(\n",
    "    outcome='infectious_complication___fistula', \n",
    "    model=KNeighborsClassifier(),\n",
    "    min_follow_up_days=follow_up_fistula, \n",
    "    scaler=QuantileTransformer(n_quantiles=200, random_state=0), \n",
    "    df=df_all_levels_imp, \n",
    "    classifier=knn_classifier,\n",
    "    drop_cols=drop_cols_fistula\n",
    ")"
   ]
  },
  {
   "cell_type": "markdown",
   "metadata": {},
   "source": [
    "##### Random Forest"
   ]
  },
  {
   "cell_type": "code",
   "execution_count": null,
   "metadata": {},
   "outputs": [],
   "source": [
    "params_rf_fistula, x_rf_fistula, y_rf_fistula = nested_cv_optuna(\n",
    "    outcome='infectious_complication___fistula', \n",
    "    model=RandomForestClassifier(random_state=0),\n",
    "    min_follow_up_days=follow_up_fistula, \n",
    "    scaler=QuantileTransformer(n_quantiles=200, random_state=0), \n",
    "    df=df_all_levels_imp, \n",
    "    classifier=rf_classifier,\n",
    "    drop_cols=drop_cols_fistula\n",
    ")"
   ]
  },
  {
   "cell_type": "code",
   "execution_count": null,
   "metadata": {},
   "outputs": [],
   "source": [
    "avg_params_rf_fistula = get_avg_params(params_rf_fistula)\n",
    "get_shap_rf([avg_params_rf_fistula], x_rf_fistula, y_rf_fistula)"
   ]
  },
  {
   "cell_type": "markdown",
   "metadata": {
    "jp-MarkdownHeadingCollapsed": true,
    "tags": []
   },
   "source": [
    "##### XGBoost"
   ]
  },
  {
   "cell_type": "code",
   "execution_count": null,
   "metadata": {},
   "outputs": [],
   "source": [
    "params_xgb_fistula, x_xgb_fistula, y_xgb_fistula = nested_cv_optuna(\n",
    "    outcome='infectious_complication___fistula', \n",
    "    model=XGBClassifier(random_state=0, verbosity=0),\n",
    "    min_follow_up_days=follow_up_fistula, \n",
    "    scaler=QuantileTransformer(n_quantiles=200, random_state=0), \n",
    "    df=df_all_levels_imp, \n",
    "    classifier=xgb_classifier,\n",
    "    drop_cols=drop_cols_fistula\n",
    ")"
   ]
  },
  {
   "cell_type": "code",
   "execution_count": null,
   "metadata": {
    "tags": []
   },
   "outputs": [],
   "source": [
    "avg_params_xgb_fistula = get_avg_params(params_xgb_fistula)\n",
    "get_shap_xgb([avg_params_xgb_fistula], x_xgb_fistula, y_xgb_fistula)"
   ]
  },
  {
   "cell_type": "markdown",
   "metadata": {
    "id": "Y7opv3cYDs_H",
    "tags": []
   },
   "source": [
    "#### Flap loss\n",
    "No prediction possible - Not enough positives."
   ]
  },
  {
   "cell_type": "code",
   "execution_count": null,
   "metadata": {
    "tags": []
   },
   "outputs": [],
   "source": [
    "follow_up_fl = 0\n",
    "drop_cols_fl = ['radiotherapy___post_surgery', 'chemotherapy___post_surgery']"
   ]
  },
  {
   "cell_type": "markdown",
   "metadata": {
    "tags": []
   },
   "source": [
    "##### Logistic Regression"
   ]
  },
  {
   "cell_type": "code",
   "execution_count": null,
   "metadata": {
    "tags": []
   },
   "outputs": [],
   "source": [
    "# Statsmodel LR\n",
    "# Did not converge\n",
    "#lr_statsmodels(\n",
    "#    outcome='flap_loss', \n",
    "#    min_follow_up_days=follow_up_fl, \n",
    "#    scaler='None',\n",
    "#    df=df_dropped_first_imp, \n",
    "#    drop_cols=drop_cols_fl\n",
    "#)"
   ]
  },
  {
   "cell_type": "code",
   "execution_count": null,
   "metadata": {
    "tags": []
   },
   "outputs": [],
   "source": [
    "def lr_fl_no_cv():\n",
    "    x, y = get_x_y(\n",
    "    df=df_dropped_first_imp, \n",
    "    outcome='flap_loss', \n",
    "    min_follow_up_days=follow_up_fl, \n",
    "    scaler='None', \n",
    "    drop_cols=drop_cols_fl\n",
    "    )\n",
    "\n",
    "    boolean_columns = x.select_dtypes(include=bool).columns\n",
    "    x[boolean_columns] = x[boolean_columns].astype('int')\n",
    "    numeric_columns = x.select_dtypes(include='number').columns\n",
    "    x[numeric_columns] = x[numeric_columns].astype('float64')\n",
    "    y = y.astype('int')\n",
    "\n",
    "    x_columns = x.columns\n",
    "    all_columns = \"+\".join(x_columns)\n",
    "    formula = 'flap_loss' +  '~' + all_columns\n",
    "\n",
    "    data = pd.concat([x, y], axis=1)\n",
    "    final_model = smf.logit(formula, data).fit()\n",
    "    print(final_model.summary())\n",
    "    \n",
    "lr_fl_no_cv()"
   ]
  },
  {
   "cell_type": "code",
   "execution_count": null,
   "metadata": {
    "scrolled": true,
    "tags": []
   },
   "outputs": [],
   "source": [
    "# Logistic Regression (lbfgs, newton-cholesky, newton-cg)\n",
    "# Did not converge\n",
    "nested_cv_optuna(\n",
    "    outcome='flap_loss', \n",
    "    model=LogisticRegression(max_iter=10000, random_state=0),\n",
    "    min_follow_up_days=follow_up_fl, \n",
    "    scaler=QuantileTransformer(n_quantiles=200, random_state=0), \n",
    "    df=df_dropped_first_imp, \n",
    "    classifier=lr_lnn_classifier\n",
    ")"
   ]
  },
  {
   "cell_type": "code",
   "execution_count": null,
   "metadata": {
    "tags": []
   },
   "outputs": [],
   "source": [
    "# Liblinear Logistic Regression\n",
    "# Did not converge\n",
    "#params_liblinear_fl, x_liblinear_fl, y_liblinear_fl = nested_cv_optuna(\n",
    "#    outcome='flap_loss', \n",
    "#    model=LogisticRegression(max_iter=1000, random_state=0),\n",
    "#    min_follow_up_days=follow_up_fl, \n",
    "#    scaler=QuantileTransformer(n_quantiles=200, random_state=0), \n",
    "#    df=df_dropped_first_imp, \n",
    "#    classifier=lr_liblinear_classifier,\n",
    "#    drop_cols=drop_cols_fl\n",
    "#)"
   ]
  },
  {
   "cell_type": "markdown",
   "metadata": {
    "tags": []
   },
   "source": [
    "##### kNN"
   ]
  },
  {
   "cell_type": "code",
   "execution_count": null,
   "metadata": {
    "tags": []
   },
   "outputs": [],
   "source": [
    "nested_cv_optuna(\n",
    "    outcome='flap_loss', \n",
    "    model=KNeighborsClassifier(),\n",
    "    min_follow_up_days=follow_up_fl, \n",
    "    scaler=QuantileTransformer(n_quantiles=200, random_state=0), \n",
    "    df=df_all_levels_imp, \n",
    "    classifier=knn_classifier\n",
    ")"
   ]
  },
  {
   "cell_type": "markdown",
   "metadata": {
    "jp-MarkdownHeadingCollapsed": true,
    "tags": []
   },
   "source": [
    "##### Random Forest"
   ]
  },
  {
   "cell_type": "code",
   "execution_count": null,
   "metadata": {
    "tags": []
   },
   "outputs": [],
   "source": [
    "nested_cv_optuna(\n",
    "    outcome='flap_loss', \n",
    "    model=RandomForestClassifier(random_state=0),\n",
    "    min_follow_up_days=follow_up_fl, \n",
    "    scaler=QuantileTransformer(n_quantiles=200, random_state=0), \n",
    "    df=df_all_levels_imp, \n",
    "    classifier=rf_classifier\n",
    ")"
   ]
  },
  {
   "cell_type": "markdown",
   "metadata": {
    "tags": []
   },
   "source": [
    "##### XGBoost"
   ]
  },
  {
   "cell_type": "code",
   "execution_count": null,
   "metadata": {
    "tags": []
   },
   "outputs": [],
   "source": [
    "params_xgb_fl, x_xgb_fl, y_xgb_fl = nested_cv_optuna(\n",
    "    outcome='flap_loss', \n",
    "    model=XGBClassifier(random_state=0, verbosity=0),\n",
    "    min_follow_up_days=follow_up_fl, \n",
    "    scaler='None', \n",
    "    df=df_all_levels_imp, \n",
    "    classifier=xgb_classifier,\n",
    "    drop_cols=drop_cols_fl\n",
    ")"
   ]
  },
  {
   "cell_type": "code",
   "execution_count": null,
   "metadata": {
    "tags": []
   },
   "outputs": [],
   "source": [
    "sv_xgb_fl = get_shap_xgb(params_xgb_fl, x_xgb_fl, y_xgb_fl)"
   ]
  },
  {
   "cell_type": "code",
   "execution_count": null,
   "metadata": {},
   "outputs": [],
   "source": []
  },
  {
   "cell_type": "code",
   "execution_count": null,
   "metadata": {},
   "outputs": [],
   "source": []
  },
  {
   "cell_type": "code",
   "execution_count": null,
   "metadata": {},
   "outputs": [],
   "source": []
  },
  {
   "cell_type": "code",
   "execution_count": null,
   "metadata": {},
   "outputs": [],
   "source": []
  },
  {
   "cell_type": "code",
   "execution_count": null,
   "metadata": {},
   "outputs": [],
   "source": []
  }
 ],
 "metadata": {
  "colab": {
   "authorship_tag": "ABX9TyPgS2C9As1IchOvb7Qsg4ZA",
   "include_colab_link": true,
   "machine_shape": "hm",
   "mount_file_id": "1YCeJ8o9LykeewEBhhIL_d6nHNE3VcARS",
   "provenance": []
  },
  "kernelspec": {
   "display_name": "Python 3 (ipykernel)",
   "language": "python",
   "name": "python3"
  },
  "language_info": {
   "codemirror_mode": {
    "name": "ipython",
    "version": 3
   },
   "file_extension": ".py",
   "mimetype": "text/x-python",
   "name": "python",
   "nbconvert_exporter": "python",
   "pygments_lexer": "ipython3",
   "version": "3.11.5"
  }
 },
 "nbformat": 4,
 "nbformat_minor": 4
}
