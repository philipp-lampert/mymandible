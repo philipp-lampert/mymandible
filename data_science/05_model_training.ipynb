{
  "nbformat": 4,
  "nbformat_minor": 0,
  "metadata": {
    "colab": {
      "provenance": [],
      "authorship_tag": "ABX9TyOR3LVCS2uAGCTen9FIGIR1",
      "include_colab_link": true
    },
    "kernelspec": {
      "name": "python3",
      "display_name": "Python 3"
    },
    "language_info": {
      "name": "python"
    }
  },
  "cells": [
    {
      "cell_type": "markdown",
      "metadata": {
        "id": "view-in-github",
        "colab_type": "text"
      },
      "source": [
        "<a href=\"https://colab.research.google.com/github/philipp-lampert/mymandible/blob/main/data_science/05_model_training.ipynb\" target=\"_parent\"><img src=\"https://colab.research.google.com/assets/colab-badge.svg\" alt=\"Open In Colab\"/></a>"
      ]
    },
    {
      "cell_type": "markdown",
      "source": [
        "#Model training"
      ],
      "metadata": {
        "id": "umTBTdUKiRSB"
      }
    },
    {
      "cell_type": "code",
      "execution_count": 29,
      "metadata": {
        "id": "ZDIWPXifiG-K"
      },
      "outputs": [],
      "source": [
        "import numpy as np\n",
        "import pandas as pd"
      ]
    },
    {
      "cell_type": "markdown",
      "source": [
        "We first define a function that imports the prepared CCA and imputed datasets and splits them into train and test sets."
      ],
      "metadata": {
        "id": "Cp7wrq6knWcQ"
      }
    },
    {
      "cell_type": "code",
      "source": [
        "def cca_imp_train_test_splits(outcome, min_follow_up_days):\n",
        "\n",
        "  from sklearn.model_selection import train_test_split\n",
        "\n",
        "  random_state=100\n",
        "  test_size=0.3\n",
        "\n",
        "  df_cca = pd.read_parquet('https://github.com/philipp-lampert/mymandible/blob/main/data_science/data/dropped_first_cca.parquet?raw=true')\n",
        "  df_imp = pd.read_parquet('https://github.com/philipp-lampert/mymandible/blob/main/data_science/data/dropped_first_imputed.parquet?raw=true')\n",
        "\n",
        "  first_outcome_var = df_cca.columns.get_loc('flap_revision')\n",
        "  predictors = df_cca.columns[:first_outcome_var].tolist()\n",
        "\n",
        "  for i, df in enumerate([df_cca, df_imp]):\n",
        "    dfx = df[df['days_to_follow_up'] >= min_follow_up_days].copy()\n",
        "    dfx['days_to_flap_loss'] = dfx['days_to_flap_loss'].fillna(10000)\n",
        "    dfx = dfx[dfx['days_to_flap_loss'] >= min_follow_up_days]\n",
        "    dfx = dfx.drop('days_to_flap_loss', axis=1)\n",
        "    dfx = dfx[predictors + [outcome]].dropna()\n",
        "    if i == 0:\n",
        "        df_cca = dfx\n",
        "    else:\n",
        "        df_imp = dfx\n",
        "\n",
        "  x_train_cca, x_test_cca, y_train_cca, y_test_cca = train_test_split(df_cca[predictors], df_cca[outcome].astype('int').values,\n",
        "                                                                      test_size=test_size, random_state=random_state)\n",
        "\n",
        "  x_train_imp, x_test_imp, y_train_imp, y_test_imp = train_test_split(df_imp[predictors], df_imp[outcome].astype('int').values,\n",
        "                                                                      test_size=test_size, random_state=random_state)\n",
        "\n",
        "  return x_train_cca, x_test_cca, y_train_cca, y_test_cca, x_train_imp, x_test_imp, y_train_imp, y_test_imp\n",
        ""
      ],
      "metadata": {
        "id": "cIy6YX7efoQb"
      },
      "execution_count": 125,
      "outputs": []
    },
    {
      "cell_type": "markdown",
      "source": [
        "Next, we write a function that calculates all performance metrics."
      ],
      "metadata": {
        "id": "2viFydKqnhAC"
      }
    },
    {
      "cell_type": "code",
      "source": [
        "def metrics(predictions, y_test):\n",
        "\n",
        "    from sklearn.metrics import matthews_corrcoef, accuracy_score, brier_score_loss, log_loss, f1_score, confusion_matrix\n",
        "\n",
        "    thresholds = np.arange(0.2, 0.8, 0.05)\n",
        "    best_f1 = 0\n",
        "\n",
        "    for threshold in thresholds:\n",
        "        predicted_labels = (predictions >= threshold).astype(int)\n",
        "        f1 = f1_score(y_test, predicted_labels)\n",
        "\n",
        "        if f1 > best_f1:\n",
        "            best_predicted_labels = predicted_labels\n",
        "            best_f1 = f1\n",
        "            optimal_threshold = threshold\n",
        "\n",
        "    tn, fp, fn, tp = confusion_matrix(y_test, predicted_labels).ravel()\n",
        "\n",
        "    print('F1 Score:', best_f1)\n",
        "    print('MCC:', matthews_corrcoef(y_test, best_predicted_labels))\n",
        "    print('Accuracy:', accuracy_score(y_test, best_predicted_labels))\n",
        "    print('Brier Score:', brier_score_loss(y_test, predictions))\n",
        "    print('Log Loss:', log_loss(y_test, predictions))\n",
        "    print('\\n')\n",
        "    print('Decision threshold:', optimal_threshold)\n",
        "    print('TP:', tp)\n",
        "    print('FP:', fp)\n",
        "    print('TN:', tn)\n",
        "    print('FN:', fn)\n",
        "    print('-----------------------------------------')"
      ],
      "metadata": {
        "id": "qGBsUX69hbVp"
      },
      "execution_count": 146,
      "outputs": []
    },
    {
      "cell_type": "code",
      "source": [
        "def logistic_regression(outcome, min_follow_up_days, max_iter, cv):\n",
        "\n",
        "  from sklearn.linear_model import LogisticRegressionCV\n",
        "\n",
        "  random_state=0\n",
        "\n",
        "  x_train_cca, x_test_cca, y_train_cca, y_test_cca, x_train_imp, x_test_imp, y_train_imp, y_test_imp = cca_imp_train_test_splits(outcome, min_follow_up_days)\n",
        "\n",
        "  lrcv = LogisticRegressionCV(solver='newton-cholesky', random_state=random_state, max_iter=max_iter, cv=cv)\n",
        "\n",
        "  lrcv_cca = lrcv.fit(x_train_cca, y_train_cca)\n",
        "  predictions_cca = lrcv_cca.predict_proba(x_test_cca)[:, 1]\n",
        "\n",
        "  lrcv_imp = lrcv.fit(x_train_imp, y_train_imp)\n",
        "  predictions_imp = lrcv_imp.predict_proba(x_test_imp)[:, 1]\n",
        "\n",
        "  print(\"Complete Case Analysis:\")\n",
        "  metrics(predictions_cca, y_test_cca)\n",
        "  print(\"Imputed Data:\")\n",
        "  metrics(predictions_imp, y_test_imp)"
      ],
      "metadata": {
        "id": "7DKkRhnSG4G2"
      },
      "execution_count": 140,
      "outputs": []
    },
    {
      "cell_type": "code",
      "source": [
        "logistic_regression('soft_tissue_complication', min_follow_up_days=30, max_iter=1000, cv=10)"
      ],
      "metadata": {
        "colab": {
          "base_uri": "https://localhost:8080/"
        },
        "id": "X02tH1liY9K9",
        "outputId": "51da68d3-7040-4a6f-d6a0-661aba64cf07"
      },
      "execution_count": 147,
      "outputs": [
        {
          "output_type": "stream",
          "name": "stdout",
          "text": [
            "Complete Case Analysis:\n",
            "F1 Score: 0.6666666666666666\n",
            "MCC: 0.2358640882624316\n",
            "Accuracy: 0.5555555555555556\n",
            "Brier Score: 0.22622879233887477\n",
            "Log Loss: 0.6432580350794923\n",
            "\n",
            "\n",
            "Decision threshold: 0.39999999999999997\n",
            "TP: 0\n",
            "FP: 0\n",
            "TN: 24\n",
            "FN: 21\n",
            "-----------------------------------------\n",
            "Imputed Data:\n",
            "F1 Score: 0.5957446808510638\n",
            "MCC: 0.19202898550724637\n",
            "Accuracy: 0.5957446808510638\n",
            "Brier Score: 0.3977927207080263\n",
            "Log Loss: 2.277157820829183\n",
            "\n",
            "\n",
            "Decision threshold: 0.25\n",
            "TP: 11\n",
            "FP: 8\n",
            "TN: 15\n",
            "FN: 13\n",
            "-----------------------------------------\n"
          ]
        }
      ]
    }
  ]
}