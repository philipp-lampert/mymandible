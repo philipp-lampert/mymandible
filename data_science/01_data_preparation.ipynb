{
 "cells": [
  {
   "cell_type": "markdown",
   "metadata": {
    "colab_type": "text",
    "id": "view-in-github"
   },
   "source": [
    "<a href=\"https://colab.research.google.com/github/philipp-lampert/mymandible/blob/main/data_science/01_data_preparation.ipynb\" target=\"_parent\"><img src=\"https://colab.research.google.com/assets/colab-badge.svg\" alt=\"Open In Colab\"/></a>"
   ]
  },
  {
   "cell_type": "markdown",
   "metadata": {
    "id": "VhB3OcNIaASK"
   },
   "source": [
    "# Data preparation\n",
    "This notebook prepares the raw data for further analyses by correctly defining missing values and column types."
   ]
  },
  {
   "cell_type": "code",
   "execution_count": 1,
   "metadata": {
    "id": "SuW9JDqUb3e8",
    "tags": []
   },
   "outputs": [],
   "source": [
    "import numpy as np\n",
    "import pandas as pd"
   ]
  },
  {
   "cell_type": "markdown",
   "metadata": {
    "id": "eP4BPR4elmPg"
   },
   "source": [
    "We are now ready to import the dataset from the [mymandible](https://github.com/philipp-lampert/mymandible) Github repository. This is the unprocessed CSV file exported directly from the associated [RedCap](https://www.project-redcap.org/) project.\n",
    "\n",
    "We prevent automatic detection of missing values by setting `na_filter = False` as this would replace missing values with Numpy's `np.nan` which - in contrast to Panda's newer `pd.NA` - does not allow for nullable boolean and integer columns.\n",
    "\n"
   ]
  },
  {
   "cell_type": "code",
   "execution_count": 4,
   "metadata": {
    "id": "bCIPgexfb-t9",
    "tags": []
   },
   "outputs": [],
   "source": [
    "df = pd.read_csv(\"https://raw.githubusercontent.com/philipp-lampert/mymandible/main/data/preprocessing/01_raw_data.csv\", na_filter = False)\n",
    "df = df.replace([\"NaN\", \"\"], pd.NA)"
   ]
  },
  {
   "cell_type": "markdown",
   "metadata": {
    "id": "MXNXwlo7Dc1F"
   },
   "source": [
    "For multiple-choice variables, RedCap exports each choice as a binary column with a naming convention of `variable___option`. Importantly, missing values are not stored directly inside each column but in an additional binary column named `variable___nan`. Therefore, we have to set each row of `variable___option` to `NaN` whenever `variable___nan == 1`."
   ]
  },
  {
   "cell_type": "code",
   "execution_count": 5,
   "metadata": {
    "id": "TzTP5qZwITUs",
    "tags": []
   },
   "outputs": [],
   "source": [
    "nan_columns = df.filter(like = \"___nan\").columns\n",
    "multiple_choice_variables = [name.split(\"___nan\")[0] for name in nan_columns]\n",
    "\n",
    "for variable in multiple_choice_variables:\n",
    "    row_with_nan = df[f\"{variable}___nan\"] == 1\n",
    "    columns = df.columns[df.columns.str.startswith(variable)]\n",
    "    df.loc[row_with_nan, columns] = pd.NA\n",
    "    df = df.drop(f\"{variable}___nan\", axis=1)"
   ]
  },
  {
   "cell_type": "markdown",
   "metadata": {
    "id": "WMCbGl_AXMDM"
   },
   "source": [
    "With missing values now being correctly represented in our dataframe, let's remove the auto-generated RedCap columns that are only relevant during data collecting."
   ]
  },
  {
   "cell_type": "code",
   "execution_count": 6,
   "metadata": {
    "id": "5cCeAh9KJayH",
    "tags": []
   },
   "outputs": [],
   "source": [
    "df = df.drop([\"id\", \"predictors_complete\", \"outcomes_complete\", \"imaging_complete\"], axis = 1)"
   ]
  },
  {
   "cell_type": "markdown",
   "metadata": {
    "id": "JE_NyVPcd96O"
   },
   "source": [
    "Now, we will convert each column to its appropriate datatype (boolean, integer, categorical etc.)."
   ]
  },
  {
   "cell_type": "code",
   "execution_count": 8,
   "metadata": {
    "id": "7213tYP-Ekak",
    "tags": []
   },
   "outputs": [],
   "source": [
    "data_types = {\n",
    "        \"boolean\": {\n",
    "            \"sex_female\",\n",
    "            \"skin_transplanted\",\n",
    "            \"flap_loss\",\n",
    "            \"wound_infection\",\n",
    "            \"nonunion_6_12\",\n",
    "            \"nonunion_12_24\",\n",
    "        },\n",
    "        \"category\": {\n",
    "            \"indication\",\n",
    "            \"prior_flap\",\n",
    "            \"flap_revision\",\n",
    "            \"flap_donor_site\",\n",
    "            \"plate_type\",\n",
    "            \"long_plate_thickness\",\n",
    "            \"mini_plate_thickness\",\n",
    "            \"tmj_replacement_type\",\n",
    "            \"flap_segment_count\",\n",
    "            \"flap_loss_type\",\n",
    "            \"imaging_6_12\",\n",
    "            \"imaging_12_24_months\"\n",
    "        },\n",
    "        \"string\": {\n",
    "            \"which_autoimmune_disease\",\n",
    "            \"which_bleeding_disorder\",\n",
    "        },\n",
    "        \"UInt8\": {\"age_surgery_years\", \"height_cm\", \"weight_kg\"},\n",
    "        \"UInt16\": {\"surgery_duration_min\"},\n",
    "        \"Float32\": {\"bmi\"},\n",
    "    }\n",
    "\n",
    "for column in df.columns:\n",
    "    # All multiple-choice columns have three underscores in their name\n",
    "    if \"___\" in column:\n",
    "        df[column] = df[column].astype(\"boolean\")\n",
    "    elif column in data_types[\"boolean\"]:\n",
    "        df[column] = np.where(\n",
    "            df[column] == \"True\",\n",
    "            True,\n",
    "            np.where(df[column] == \"False\", False, df[column]),\n",
    "        )\n",
    "        df[column] = df[column].astype(\"boolean\")\n",
    "    elif column.startswith(\"days_to_\"):\n",
    "        df[column] = df[column].astype(\"UInt16\")\n",
    "    else:\n",
    "        for data_type in [\"category\", \"string\", \"UInt8\", \"UInt16\", \"Float32\"]:\n",
    "            if column in data_types[data_type]:\n",
    "                df[column] = df[column].astype(data_type)"
   ]
  },
  {
   "cell_type": "markdown",
   "metadata": {
    "id": "HbNmUa8IwAfL"
   },
   "source": [
    "Now, we will create a new derived boolean outcome variable representing if any of the most relevant complications occured (see selection in code)."
   ]
  },
  {
   "cell_type": "code",
   "execution_count": 9,
   "metadata": {
    "id": "UVZTbQiAYvQS",
    "tags": []
   },
   "outputs": [],
   "source": [
    "soft_tissue_complication = [\n",
    "    'complication___whd_recipient_site',\n",
    "    'complication___partial_necrosis',\n",
    "    'complication___bone_exposure',\n",
    "    'complication_plate___exposure',\n",
    "    'wound_infection'\n",
    "    ]\n",
    "\n",
    "df['soft_tissue_complication'] = np.where(df[soft_tissue_complication].isna().any(axis=1), pd.NA, df[soft_tissue_complication].any(axis=1))\n",
    "df['soft_tissue_complication'] = df['soft_tissue_complication'].astype('boolean')"
   ]
  },
  {
   "cell_type": "code",
   "execution_count": 10,
   "metadata": {
    "id": "ex-aiBCih9GJ",
    "tags": []
   },
   "outputs": [],
   "source": [
    "df['nonunion'] = np.where(\n",
    "    (df['nonunion_6_12'].isna()) & (df['nonunion_12_24'].isna()), pd.NA,\n",
    "    np.where(df[['nonunion_6_12', 'nonunion_12_24']].any(axis=1), True, False)\n",
    ")\n",
    "df['nonunion'] = df['nonunion'].astype('boolean')"
   ]
  },
  {
   "cell_type": "code",
   "execution_count": 11,
   "metadata": {
    "id": "QVarIyevwMEo",
    "tags": []
   },
   "outputs": [],
   "source": [
    "any_complication = [\n",
    "    'flap_loss',\n",
    "    'complication___whd_donor_site',\n",
    "    'complication___osteoradionecrosis',\n",
    "    'complication_plate___removal',\n",
    "    'complication_plate___loosening',\n",
    "    'nonunion_6_12',\n",
    "    'nonunion_12_24',\n",
    "    'complication_bony___fracture',\n",
    "    'complication_bony___dislocation'\n",
    "    ]\n",
    "\n",
    "any_complication.extend(soft_tissue_complication)\n",
    "\n",
    "df['any_complication'] = np.where(df[any_complication].any(axis=1), True, False)\n",
    "df['any_complication'] = df['any_complication'].astype('boolean')"
   ]
  },
  {
   "cell_type": "markdown",
   "metadata": {
    "id": "C8XPBIE1IRz1"
   },
   "source": [
    "We can now save the dataframe in the Parquet format to preserve the data types, something that would not be possible in the CSV format."
   ]
  },
  {
   "cell_type": "code",
   "execution_count": 12,
   "metadata": {
    "id": "_EDK0gfOKeNh",
    "tags": []
   },
   "outputs": [],
   "source": [
    "df.to_parquet('02_preprocessed.parquet')"
   ]
  }
 ],
 "metadata": {
  "colab": {
   "authorship_tag": "ABX9TyNaGGuGsqWQR8T4KjjCB8x1",
   "include_colab_link": true,
   "provenance": []
  },
  "kernelspec": {
   "display_name": "Python 3 (ipykernel)",
   "language": "python",
   "name": "python3"
  },
  "language_info": {
   "codemirror_mode": {
    "name": "ipython",
    "version": 3
   },
   "file_extension": ".py",
   "mimetype": "text/x-python",
   "name": "python",
   "nbconvert_exporter": "python",
   "pygments_lexer": "ipython3",
   "version": "3.11.5"
  }
 },
 "nbformat": 4,
 "nbformat_minor": 4
}
