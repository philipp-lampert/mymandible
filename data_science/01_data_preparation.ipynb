{
  "nbformat": 4,
  "nbformat_minor": 0,
  "metadata": {
    "colab": {
      "provenance": [],
      "authorship_tag": "ABX9TyNaGGuGsqWQR8T4KjjCB8x1",
      "include_colab_link": true
    },
    "kernelspec": {
      "name": "python3",
      "display_name": "Python 3"
    },
    "language_info": {
      "name": "python"
    }
  },
  "cells": [
    {
      "cell_type": "markdown",
      "metadata": {
        "id": "view-in-github",
        "colab_type": "text"
      },
      "source": [
        "<a href=\"https://colab.research.google.com/github/philipp-lampert/mymandible/blob/main/data_science/01_data_preparation.ipynb\" target=\"_parent\"><img src=\"https://colab.research.google.com/assets/colab-badge.svg\" alt=\"Open In Colab\"/></a>"
      ]
    },
    {
      "cell_type": "markdown",
      "source": [
        "# Data preparation\n",
        "This notebook prepares the raw data for further analyses by correctly defining missing values and column types."
      ],
      "metadata": {
        "id": "VhB3OcNIaASK"
      }
    },
    {
      "cell_type": "code",
      "source": [
        "import numpy as np\n",
        "import pandas as pd"
      ],
      "metadata": {
        "id": "SuW9JDqUb3e8"
      },
      "execution_count": null,
      "outputs": []
    },
    {
      "cell_type": "markdown",
      "source": [
        "We are now ready to import the dataset from the [mymandible](https://github.com/philipp-lampert/mymandible) Github repository. This is the unprocessed CSV file exported directly from the associated [RedCap](https://www.project-redcap.org/) project.\n",
        "\n",
        "We prevent automatic detection of missing values by setting `na_filter = False` as this would replace missing values with Numpy's `np.nan` which - in contrast to Panda's newer `pd.NA` - does not allow for nullable boolean and integer columns.\n",
        "\n"
      ],
      "metadata": {
        "id": "eP4BPR4elmPg"
      }
    },
    {
      "cell_type": "code",
      "source": [
        "df = pd.read_csv(\"https://raw.githubusercontent.com/philipp-lampert/mymandible/main/data_science/data/pipeline/01_raw.csv\", na_filter = False)\n",
        "df = df.replace([\"NaN\", \"\"], pd.NA)"
      ],
      "metadata": {
        "id": "bCIPgexfb-t9"
      },
      "execution_count": null,
      "outputs": []
    },
    {
      "cell_type": "markdown",
      "source": [
        "For multiple-choice variables, RedCap exports each choice as a binary column with a naming convention of `variable___option`. Importantly, missing values are not stored directly inside each column but in an additional binary column named `variable___nan`. Therefore, we have to set each row of `variable___option` to `NaN` whenever `variable___nan == 1`."
      ],
      "metadata": {
        "id": "MXNXwlo7Dc1F"
      }
    },
    {
      "cell_type": "code",
      "source": [
        "nan_columns = df.filter(like = \"___nan\").columns\n",
        "multiple_choice_variables = [name.split(\"___nan\")[0] for name in nan_columns]\n",
        "\n",
        "for variable in multiple_choice_variables:\n",
        "  row_with_nan = df[f\"{variable}___nan\"] == 1\n",
        "  columns = df.columns[df.columns.str.startswith(variable)]\n",
        "  df.loc[row_with_nan, columns] = pd.NA\n",
        "  df = df.drop(f\"{variable}___nan\", axis=1)"
      ],
      "metadata": {
        "id": "TzTP5qZwITUs"
      },
      "execution_count": null,
      "outputs": []
    },
    {
      "cell_type": "markdown",
      "source": [
        "With missing values now being correctly represented in our dataframe, let's remove the auto-generated RedCap columns that are only relevant during data collecting."
      ],
      "metadata": {
        "id": "WMCbGl_AXMDM"
      }
    },
    {
      "cell_type": "code",
      "source": [
        "df = df.drop([\"id\", \"predictors_complete\", \"outcomes_complete\", \"imaging_complete\"], axis = 1)"
      ],
      "metadata": {
        "id": "5cCeAh9KJayH"
      },
      "execution_count": null,
      "outputs": []
    },
    {
      "cell_type": "code",
      "source": [
        "df.columns.values"
      ],
      "metadata": {
        "colab": {
          "base_uri": "https://localhost:8080/"
        },
        "id": "l-UIaC_Kff-k",
        "outputId": "ade77361-d586-4218-d14a-7180c33fa8e6"
      },
      "execution_count": null,
      "outputs": [
        {
          "output_type": "execute_result",
          "data": {
            "text/plain": [
              "array(['sex_female', 'indication', 'comorbidity___none',\n",
              "       'comorbidity___smoking', 'comorbidity___alcohol',\n",
              "       'comorbidity___copd', 'comorbidity___hypertension',\n",
              "       'comorbidity___diabetes', 'comorbidity___atherosclerosis',\n",
              "       'comorbidity___hyperlipidemia', 'comorbidity___osteoporosis',\n",
              "       'comorbidity___hypothyroidism',\n",
              "       'comorbidity___chronic_kidney_disease', 'comorbidity___thrombosis',\n",
              "       'comorbidity___bleeding_disorder',\n",
              "       'comorbidity___autoimmune_disease', 'which_autoimmune_disease',\n",
              "       'which_bleeding_disorder', 'prior_flap', 'age_surgery_years',\n",
              "       'flap_donor_site', 'radiotherapy___none',\n",
              "       'radiotherapy___pre_surgery', 'radiotherapy___post_surgery',\n",
              "       'chemotherapy___none', 'chemotherapy___pre_surgery',\n",
              "       'chemotherapy___post_surgery', 'plate_type',\n",
              "       'long_plate_thickness', 'mini_plate_thickness',\n",
              "       'urkens_classification___c', 'urkens_classification___r',\n",
              "       'urkens_classification___b', 'urkens_classification___s',\n",
              "       'tmj_replacement_type', 'flap_segment_count',\n",
              "       'surgery_duration_min', 'height_cm', 'weight_kg', 'bmi',\n",
              "       'skin_transplanted', 'venous_anastomosis_type___end_end',\n",
              "       'venous_anastomosis_type___end_side',\n",
              "       'venous_anastomosis_tool___coupler',\n",
              "       'venous_anastomosis_tool___suture', 'days_to_follow_up',\n",
              "       'flap_revision', 'days_to_flap_revision', 'flap_loss',\n",
              "       'days_to_flap_loss', 'complication___none',\n",
              "       'complication___whd_recipient_site',\n",
              "       'complication___partial_necrosis', 'complication___whd_donor_site',\n",
              "       'complication___salivary_fistula',\n",
              "       'complication___vestibuloplasty',\n",
              "       'complication___osteoradionecrosis',\n",
              "       'complication___bone_exposure', 'wound_infection',\n",
              "       'infectious_complication___none',\n",
              "       'infectious_complication___fistula',\n",
              "       'infectious_complication___abscess', 'complication_plate___none',\n",
              "       'complication_plate___exposure', 'complication_plate___removal',\n",
              "       'complication_plate___fracture', 'complication_plate___loosening',\n",
              "       'plate_exposure_location___intraoral',\n",
              "       'plate_exposure_location___extraoral', 'complication_bony___none',\n",
              "       'complication_bony___fracture', 'complication_bony___dislocation',\n",
              "       'implant___none', 'implant___planned', 'implant___received',\n",
              "       'implant___plate_removal', 'implant___iliac_crest_augmentation',\n",
              "       'days_to_whd_recipient_site', 'days_to_partial_necrosis',\n",
              "       'days_to_whd_donor_site', 'days_to_salivary_fistula',\n",
              "       'days_to_wound_infection', 'days_to_vestibuloplasty',\n",
              "       'days_to_osteoradionecrosis', 'days_to_bone_exposure',\n",
              "       'days_to_plate_exposure', 'days_to_plate_removal',\n",
              "       'days_to_plate_fracture', 'days_to_plate_loosening',\n",
              "       'days_to_fracture', 'days_to_dislocation',\n",
              "       'days_to_implant_received', 'days_to_implant_planned',\n",
              "       'days_to_implant_plate_removal',\n",
              "       'days_to_iliac_crest_augmentation', 'imaging_6_12',\n",
              "       'days_to_imaging_6_12', 'nonunion_6_12',\n",
              "       'nonunion_6_12_location___mandible_flap',\n",
              "       'nonunion_6_12_location___flap_flap', 'imaging_12_24_months',\n",
              "       'days_to_imaging_12_24', 'nonunion_12_24',\n",
              "       'nonunion_12_24_location___mandible_flap',\n",
              "       'nonunion_12_24_location___flap_flap', 'imaging',\n",
              "       'days_to_imaging', 'nonunion', 'days_to_nonunion',\n",
              "       'nonunion_location___mandible_flap',\n",
              "       'nonunion_location___flap_flap'], dtype=object)"
            ]
          },
          "metadata": {},
          "execution_count": 53
        }
      ]
    },
    {
      "cell_type": "markdown",
      "source": [
        "Now, we will convert each column to its appropriate datatype (boolean, integer, categorical etc.)."
      ],
      "metadata": {
        "id": "JE_NyVPcd96O"
      }
    },
    {
      "cell_type": "code",
      "source": [
        "data_types = {\n",
        "        \"boolean\": {\n",
        "            \"sex_female\",\n",
        "            \"skin_transplanted\",\n",
        "            \"flap_loss\",\n",
        "            \"wound_infection\",\n",
        "            \"nonunion_6_12\",\n",
        "            \"nonunion_12_24\",\n",
        "        },\n",
        "        \"category\": {\n",
        "            \"indication\",\n",
        "            \"prior_flap\",\n",
        "            \"flap_revision\",\n",
        "            \"flap_donor_site\",\n",
        "            \"plate_type\",\n",
        "            \"long_plate_thickness\",\n",
        "            \"mini_plate_thickness\",\n",
        "            \"tmj_replacement_type\",\n",
        "            \"flap_segment_count\",\n",
        "            \"flap_loss_type\",\n",
        "            \"imaging_6_12\",\n",
        "            \"imaging_12_24_months\"\n",
        "        },\n",
        "        \"string\": {\n",
        "            \"which_autoimmune_disease\",\n",
        "            \"which_bleeding_disorder\",\n",
        "        },\n",
        "        \"UInt8\": {\"age_surgery_years\", \"height_cm\", \"weight_kg\"},\n",
        "        \"UInt16\": {\"surgery_duration_min\"},\n",
        "        \"Float32\": {\"bmi\"},\n",
        "    }\n",
        "\n",
        "for column in df.columns:\n",
        "    # All multiple-choice columns have three underscores in their name\n",
        "    if \"___\" in column:\n",
        "        df[column] = df[column].astype(\"boolean\")\n",
        "    elif column in data_types[\"boolean\"]:\n",
        "        df[column] = np.where(\n",
        "            df[column] == \"True\",\n",
        "            True,\n",
        "            np.where(df[column] == \"False\", False, df[column]),\n",
        "        )\n",
        "        df[column] = df[column].astype(\"boolean\")\n",
        "    elif column.startswith(\"days_to_\"):\n",
        "        df[column] = df[column].astype(\"UInt16\")\n",
        "    else:\n",
        "        for data_type in [\"category\", \"string\", \"UInt8\", \"UInt16\", \"Float32\"]:\n",
        "            if column in data_types[data_type]:\n",
        "                df[column] = df[column].astype(data_type)"
      ],
      "metadata": {
        "id": "7213tYP-Ekak"
      },
      "execution_count": null,
      "outputs": []
    },
    {
      "cell_type": "markdown",
      "source": [
        "Now, we will create a new derived boolean outcome variable representing if any of the most relevant complications occured (see selection in code)."
      ],
      "metadata": {
        "id": "HbNmUa8IwAfL"
      }
    },
    {
      "cell_type": "code",
      "source": [
        "soft_tissue_complication = [\n",
        "    'complication___whd_recipient_site',\n",
        "    'complication___partial_necrosis',\n",
        "    'complication___bone_exposure',\n",
        "    'complication_plate___exposure',\n",
        "    'wound_infection'\n",
        "    ]\n",
        "\n",
        "df['soft_tissue_complication'] = np.where(df[soft_tissue_complication].isna().any(axis=1), pd.NA, df[soft_tissue_complication].any(axis=1))\n",
        "df['soft_tissue_complication'] = df['soft_tissue_complication'].astype('boolean')"
      ],
      "metadata": {
        "id": "UVZTbQiAYvQS"
      },
      "execution_count": null,
      "outputs": []
    },
    {
      "cell_type": "code",
      "source": [
        "df['nonunion'] = np.where(\n",
        "    (df['nonunion_6_12'].isna()) & (df['nonunion_12_24'].isna()), pd.NA,\n",
        "    np.where(df[['nonunion_6_12', 'nonunion_12_24']].any(axis=1), True, False)\n",
        ")\n",
        "df['nonunion'] = df['nonunion'].astype('boolean')"
      ],
      "metadata": {
        "id": "ex-aiBCih9GJ"
      },
      "execution_count": null,
      "outputs": []
    },
    {
      "cell_type": "code",
      "source": [
        "any_complication = [\n",
        "    'flap_loss',\n",
        "    'complication___whd_donor_site',\n",
        "    'complication___osteoradionecrosis',\n",
        "    'complication_plate___removal',\n",
        "    'complication_plate___loosening',\n",
        "    'nonunion_6_12',\n",
        "    'nonunion_12_24',\n",
        "    'complication_bony___fracture',\n",
        "    'complication_bony___dislocation'\n",
        "    ]\n",
        "\n",
        "any_complication.extend(soft_tissue_complication)\n",
        "\n",
        "df['any_complication'] = np.where(df[any_complication].any(axis=1), True, False)\n",
        "df['any_complication'] = df['any_complication'].astype('boolean')"
      ],
      "metadata": {
        "id": "QVarIyevwMEo"
      },
      "execution_count": null,
      "outputs": []
    },
    {
      "cell_type": "markdown",
      "source": [
        "We can now save the dataframe in the Parquet format to preserve the data types, something that would not be possible in the CSV format."
      ],
      "metadata": {
        "id": "C8XPBIE1IRz1"
      }
    },
    {
      "cell_type": "code",
      "source": [
        "df.to_parquet('02_preprocessed.parquet')"
      ],
      "metadata": {
        "id": "_EDK0gfOKeNh"
      },
      "execution_count": null,
      "outputs": []
    }
  ]
}