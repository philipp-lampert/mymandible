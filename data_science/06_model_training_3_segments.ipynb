{
 "cells": [
  {
   "cell_type": "markdown",
   "id": "15aaf6a6-5ad4-4cc0-bdf6-7a082028e6ae",
   "metadata": {},
   "source": [
    "# Model training for 3-segment reconstructions"
   ]
  },
  {
   "cell_type": "markdown",
   "id": "2d7d8b97-fc08-4efb-8d71-702da396f8ce",
   "metadata": {
    "tags": []
   },
   "source": [
    "## Import"
   ]
  },
  {
   "cell_type": "code",
   "execution_count": 183,
   "id": "d84553f8-5de5-427d-bef2-bdceb3d07a24",
   "metadata": {
    "tags": []
   },
   "outputs": [],
   "source": [
    "import warnings\n",
    "import os\n",
    "import numpy as np\n",
    "import pandas as pd\n",
    "import copy\n",
    "from statistics import mean, stdev\n",
    "from sklearn.preprocessing import QuantileTransformer, RobustScaler\n",
    "from sklearn.metrics import make_scorer, matthews_corrcoef, f1_score, accuracy_score, average_precision_score, roc_auc_score, brier_score_loss\n",
    "from sklearn.model_selection import cross_validate, StratifiedKFold, RepeatedStratifiedKFold\n",
    "from sklearn.linear_model import LogisticRegression \n",
    "from sklearn.neighbors import KNeighborsClassifier\n",
    "from sklearn.ensemble import RandomForestClassifier\n",
    "from xgboost import XGBClassifier\n",
    "from scipy.stats import chi2_contingency, chi2, ttest_ind, barnard_exact, fisher_exact\n",
    "import shap\n",
    "import statsmodels.formula.api as smf\n",
    "from statsmodels.stats.outliers_influence import variance_inflation_factor\n",
    "from statsmodels.tools.tools import add_constant\n",
    "import seaborn as sns\n",
    "import matplotlib.pyplot as plt"
   ]
  },
  {
   "cell_type": "code",
   "execution_count": 184,
   "id": "4338d1bd-ee42-482b-a974-4270bc8b8d6d",
   "metadata": {
    "tags": []
   },
   "outputs": [],
   "source": [
    "df_dropped_first = pd.read_parquet('/Users/philipp.lampert/repositories/mymandible/data/dropped_first_imputed.parquet')\n",
    "df_all_levels = pd.read_parquet('/Users/philipp.lampert/repositories/mymandible/data/all_levels_imputed.parquet')"
   ]
  },
  {
   "cell_type": "code",
   "execution_count": 185,
   "id": "397d1123-728e-46a4-a32d-e78630e59678",
   "metadata": {
    "tags": []
   },
   "outputs": [],
   "source": [
    "def get_3_segment_df(df):\n",
    "    df3 = df[\n",
    "        (df['flap_segment_count'] == 3) \n",
    "        & (df['flap_donor_site___scapula'] == False) \n",
    "        & (df['plate_type___cad_mini'] == False)\n",
    "        & (df['indication___secondary_reconstruction'] == False)\n",
    "        & (df['indication___osteoradionecrosis'] == False)\n",
    "        & (df['days_to_follow_up'] > 182)\n",
    "        & (df['urkens_classification___r'] == False)\n",
    "    ].copy()\n",
    "    \n",
    "    df3['follow_up_completed'] = df3['days_to_follow_up'] > 182\n",
    "    \n",
    "    flap_loss_mix = df3[(df3['plate_type___cad_mix'] == True) & (df3['days_to_flap_loss'] < 183)]['flap_loss'].sum()\n",
    "    flap_loss_reco = df3[(df3['plate_type___cad_mix'] == False) & (df3['days_to_flap_loss'] < 183)]['flap_loss'].sum()\n",
    "\n",
    "    print(\"Number of flap loss within 6 months for mixed plates:\", flap_loss_mix)\n",
    "    print(\"Number of flap loss within 6 months for reco plates:\", flap_loss_reco)\n",
    "    \n",
    "    df3 = df3[~((df3['flap_loss'] == True) & (df3['days_to_flap_loss'] < 183))]\n",
    "\n",
    "    # drop unused variables\n",
    "    df3 = df3.drop(['flap_donor_site___scapula', \n",
    "                    'flap_segment_count', \n",
    "                    'plate_type___cad_mini', \n",
    "                    'urkens_classification___s',\n",
    "                    'indication___osteoradionecrosis',\n",
    "                    'indication___secondary_reconstruction',\n",
    "                    'prior_flap___bony'\n",
    "                   ], axis=1)\n",
    "    return df3"
   ]
  },
  {
   "cell_type": "code",
   "execution_count": 186,
   "id": "e50cb7b4-161e-476a-a64f-60082a92a4c9",
   "metadata": {
    "tags": []
   },
   "outputs": [
    {
     "name": "stdout",
     "output_type": "stream",
     "text": [
      "Number of flap loss within 6 months for mixed plates: 0\n",
      "Number of flap loss within 6 months for reco plates: 1\n",
      "Number of flap loss within 6 months for mixed plates: 0\n",
      "Number of flap loss within 6 months for reco plates: 1\n"
     ]
    }
   ],
   "source": [
    "df_df = get_3_segment_df(df_dropped_first)\n",
    "df_all = get_3_segment_df(df_all_levels)"
   ]
  },
  {
   "cell_type": "code",
   "execution_count": 187,
   "id": "fbd545b4-73fb-4fe2-bf01-75209db1b1e2",
   "metadata": {
    "tags": []
   },
   "outputs": [
    {
     "data": {
      "text/html": [
       "<div>\n",
       "<style scoped>\n",
       "    .dataframe tbody tr th:only-of-type {\n",
       "        vertical-align: middle;\n",
       "    }\n",
       "\n",
       "    .dataframe tbody tr th {\n",
       "        vertical-align: top;\n",
       "    }\n",
       "\n",
       "    .dataframe thead th {\n",
       "        text-align: right;\n",
       "    }\n",
       "</style>\n",
       "<table border=\"1\" class=\"dataframe\">\n",
       "  <thead>\n",
       "    <tr style=\"text-align: right;\">\n",
       "      <th></th>\n",
       "      <th>id</th>\n",
       "      <th>sex_female</th>\n",
       "      <th>comorbidity___smoking</th>\n",
       "      <th>comorbidity___alcohol</th>\n",
       "      <th>comorbidity___copd</th>\n",
       "      <th>comorbidity___hypertension</th>\n",
       "      <th>comorbidity___diabetes</th>\n",
       "      <th>comorbidity___atherosclerosis</th>\n",
       "      <th>comorbidity___hyperlipidemia</th>\n",
       "      <th>comorbidity___hypothyroidism</th>\n",
       "      <th>...</th>\n",
       "      <th>days_to_imaging_12_24</th>\n",
       "      <th>nonunion_12_24</th>\n",
       "      <th>nonunion_12_24_location___mandible_flap</th>\n",
       "      <th>nonunion_12_24_location___flap_flap</th>\n",
       "      <th>soft_tissue_complication</th>\n",
       "      <th>plate_failure</th>\n",
       "      <th>orn</th>\n",
       "      <th>nonunion</th>\n",
       "      <th>any_complication</th>\n",
       "      <th>follow_up_completed</th>\n",
       "    </tr>\n",
       "  </thead>\n",
       "  <tbody>\n",
       "    <tr>\n",
       "      <th>67</th>\n",
       "      <td>68</td>\n",
       "      <td>False</td>\n",
       "      <td>True</td>\n",
       "      <td>False</td>\n",
       "      <td>False</td>\n",
       "      <td>False</td>\n",
       "      <td>False</td>\n",
       "      <td>False</td>\n",
       "      <td>False</td>\n",
       "      <td>False</td>\n",
       "      <td>...</td>\n",
       "      <td>&lt;NA&gt;</td>\n",
       "      <td>&lt;NA&gt;</td>\n",
       "      <td>False</td>\n",
       "      <td>False</td>\n",
       "      <td>True</td>\n",
       "      <td>False</td>\n",
       "      <td>True</td>\n",
       "      <td>&lt;NA&gt;</td>\n",
       "      <td>True</td>\n",
       "      <td>True</td>\n",
       "    </tr>\n",
       "    <tr>\n",
       "      <th>87</th>\n",
       "      <td>88</td>\n",
       "      <td>False</td>\n",
       "      <td>True</td>\n",
       "      <td>True</td>\n",
       "      <td>False</td>\n",
       "      <td>False</td>\n",
       "      <td>False</td>\n",
       "      <td>False</td>\n",
       "      <td>False</td>\n",
       "      <td>False</td>\n",
       "      <td>...</td>\n",
       "      <td>&lt;NA&gt;</td>\n",
       "      <td>&lt;NA&gt;</td>\n",
       "      <td>False</td>\n",
       "      <td>False</td>\n",
       "      <td>True</td>\n",
       "      <td>False</td>\n",
       "      <td>False</td>\n",
       "      <td>&lt;NA&gt;</td>\n",
       "      <td>True</td>\n",
       "      <td>True</td>\n",
       "    </tr>\n",
       "    <tr>\n",
       "      <th>102</th>\n",
       "      <td>103</td>\n",
       "      <td>False</td>\n",
       "      <td>True</td>\n",
       "      <td>True</td>\n",
       "      <td>False</td>\n",
       "      <td>False</td>\n",
       "      <td>False</td>\n",
       "      <td>False</td>\n",
       "      <td>False</td>\n",
       "      <td>False</td>\n",
       "      <td>...</td>\n",
       "      <td>&lt;NA&gt;</td>\n",
       "      <td>&lt;NA&gt;</td>\n",
       "      <td>False</td>\n",
       "      <td>False</td>\n",
       "      <td>True</td>\n",
       "      <td>False</td>\n",
       "      <td>False</td>\n",
       "      <td>&lt;NA&gt;</td>\n",
       "      <td>True</td>\n",
       "      <td>True</td>\n",
       "    </tr>\n",
       "    <tr>\n",
       "      <th>134</th>\n",
       "      <td>135</td>\n",
       "      <td>False</td>\n",
       "      <td>True</td>\n",
       "      <td>True</td>\n",
       "      <td>True</td>\n",
       "      <td>False</td>\n",
       "      <td>False</td>\n",
       "      <td>False</td>\n",
       "      <td>False</td>\n",
       "      <td>False</td>\n",
       "      <td>...</td>\n",
       "      <td>&lt;NA&gt;</td>\n",
       "      <td>&lt;NA&gt;</td>\n",
       "      <td>False</td>\n",
       "      <td>False</td>\n",
       "      <td>False</td>\n",
       "      <td>False</td>\n",
       "      <td>False</td>\n",
       "      <td>&lt;NA&gt;</td>\n",
       "      <td>False</td>\n",
       "      <td>True</td>\n",
       "    </tr>\n",
       "    <tr>\n",
       "      <th>203</th>\n",
       "      <td>204</td>\n",
       "      <td>False</td>\n",
       "      <td>False</td>\n",
       "      <td>False</td>\n",
       "      <td>False</td>\n",
       "      <td>False</td>\n",
       "      <td>False</td>\n",
       "      <td>False</td>\n",
       "      <td>False</td>\n",
       "      <td>False</td>\n",
       "      <td>...</td>\n",
       "      <td>&lt;NA&gt;</td>\n",
       "      <td>&lt;NA&gt;</td>\n",
       "      <td>False</td>\n",
       "      <td>False</td>\n",
       "      <td>True</td>\n",
       "      <td>False</td>\n",
       "      <td>False</td>\n",
       "      <td>&lt;NA&gt;</td>\n",
       "      <td>True</td>\n",
       "      <td>True</td>\n",
       "    </tr>\n",
       "  </tbody>\n",
       "</table>\n",
       "<p>5 rows × 87 columns</p>\n",
       "</div>"
      ],
      "text/plain": [
       "      id  sex_female  comorbidity___smoking  comorbidity___alcohol  \\\n",
       "67    68       False                   True                  False   \n",
       "87    88       False                   True                   True   \n",
       "102  103       False                   True                   True   \n",
       "134  135       False                   True                   True   \n",
       "203  204       False                  False                  False   \n",
       "\n",
       "     comorbidity___copd  comorbidity___hypertension  comorbidity___diabetes  \\\n",
       "67                False                       False                   False   \n",
       "87                False                       False                   False   \n",
       "102               False                       False                   False   \n",
       "134                True                       False                   False   \n",
       "203               False                       False                   False   \n",
       "\n",
       "     comorbidity___atherosclerosis  comorbidity___hyperlipidemia  \\\n",
       "67                           False                         False   \n",
       "87                           False                         False   \n",
       "102                          False                         False   \n",
       "134                          False                         False   \n",
       "203                          False                         False   \n",
       "\n",
       "     comorbidity___hypothyroidism  ...  days_to_imaging_12_24  nonunion_12_24  \\\n",
       "67                          False  ...                   <NA>            <NA>   \n",
       "87                          False  ...                   <NA>            <NA>   \n",
       "102                         False  ...                   <NA>            <NA>   \n",
       "134                         False  ...                   <NA>            <NA>   \n",
       "203                         False  ...                   <NA>            <NA>   \n",
       "\n",
       "     nonunion_12_24_location___mandible_flap  \\\n",
       "67                                     False   \n",
       "87                                     False   \n",
       "102                                    False   \n",
       "134                                    False   \n",
       "203                                    False   \n",
       "\n",
       "     nonunion_12_24_location___flap_flap  soft_tissue_complication  \\\n",
       "67                                 False                      True   \n",
       "87                                 False                      True   \n",
       "102                                False                      True   \n",
       "134                                False                     False   \n",
       "203                                False                      True   \n",
       "\n",
       "     plate_failure    orn  nonunion  any_complication  follow_up_completed  \n",
       "67           False   True      <NA>              True                 True  \n",
       "87           False  False      <NA>              True                 True  \n",
       "102          False  False      <NA>              True                 True  \n",
       "134          False  False      <NA>             False                 True  \n",
       "203          False  False      <NA>              True                 True  \n",
       "\n",
       "[5 rows x 87 columns]"
      ]
     },
     "execution_count": 187,
     "metadata": {},
     "output_type": "execute_result"
    }
   ],
   "source": [
    "df_df[df_df['nonunion'].isna()]"
   ]
  },
  {
   "cell_type": "markdown",
   "id": "af3512cf-2a5a-4719-8830-13133a2a9ba4",
   "metadata": {},
   "source": [
    "## Preprocessing"
   ]
  },
  {
   "cell_type": "code",
   "execution_count": 188,
   "id": "1949179f-ac3b-4629-ba2b-0961fa5f57a2",
   "metadata": {
    "tags": []
   },
   "outputs": [],
   "source": [
    "from modules.functions import preprocessing as prp\n",
    "from modules.functions import threshold_optimized_metrics as tom"
   ]
  },
  {
   "cell_type": "code",
   "execution_count": 189,
   "id": "f24f5bec-daa6-44b9-b2eb-0898cce6f4a2",
   "metadata": {},
   "outputs": [],
   "source": [
    "acc_scorer = make_scorer(tom.optimized_accuracy, needs_proba=True)\n",
    "f1_scorer = make_scorer(tom.optimized_f1, needs_proba=True)\n",
    "mcc_scorer = make_scorer(tom.optimized_mcc, needs_proba=True)\n",
    "pr_auc_scorer = make_scorer(average_precision_score, needs_proba=True)"
   ]
  },
  {
   "cell_type": "markdown",
   "id": "a8fce90b-f7a6-4332-b49f-0bbb6a87b59e",
   "metadata": {
    "jp-MarkdownHeadingCollapsed": true,
    "tags": []
   },
   "source": [
    "## Model setup"
   ]
  },
  {
   "cell_type": "code",
   "execution_count": 190,
   "id": "af4d242f-d655-4edf-a58e-228ab57e0ce2",
   "metadata": {
    "tags": []
   },
   "outputs": [],
   "source": [
    "def logreg_regularized(outcome, scaler, df, method, alpha):\n",
    "    \n",
    "    x, y = prp.get_x_y(df=df, outcome=outcome, min_follow_up_days=91, scaler=scaler, drop_cols=drop_cols, inverse_pos=False)\n",
    "    boolean_columns = x.select_dtypes(include=bool).columns\n",
    "    x[boolean_columns] = x[boolean_columns].astype('int')\n",
    "    numeric_columns = x.select_dtypes(include='number').columns\n",
    "    x[numeric_columns] = x[numeric_columns].astype('float64')\n",
    "    y = y.astype('int')    \n",
    "    x_columns = x.columns\n",
    "    all_columns = \"+\".join(x_columns)\n",
    "    formula = outcome +  '~' + all_columns\n",
    "    \n",
    "    data = pd.concat([x, y], axis=1)\n",
    "    final_model = smf.logit(formula, data).fit_regularized(method=method, alpha=alpha)\n",
    "    print(final_model.summary())"
   ]
  },
  {
   "cell_type": "markdown",
   "id": "eafc7f85-23d7-404d-bda7-179525bd2c01",
   "metadata": {},
   "source": [
    "##### Export Parquet data for Exact Logistic Regression in R"
   ]
  },
  {
   "cell_type": "code",
   "execution_count": 191,
   "id": "7ecf4cdd-87e7-4adf-8ab4-1eb81ca02582",
   "metadata": {
    "tags": []
   },
   "outputs": [],
   "source": [
    "drop_cols = [\n",
    "    'id',\n",
    "    #'sex_female', \n",
    "    #'comorbidity___smoking', \n",
    "    #'comorbidity___alcohol',\n",
    "    'comorbidity___copd', \n",
    "    'comorbidity___hypertension',\n",
    "    'comorbidity___diabetes', \n",
    "    #'comorbidity___atherosclerosis',\n",
    "    'comorbidity___vascular_disease',\n",
    "    'comorbidity___hyperlipidemia', \n",
    "    'comorbidity___hypothyroidism',\n",
    "    'comorbidity___chronic_kidney_disease',\n",
    "    'comorbidity___autoimmune_disease', \n",
    "    #'age_surgery_years',\n",
    "    'radiotherapy___pre_surgery', \n",
    "    #'radiotherapy___post_surgery',\n",
    "    'chemotherapy___pre_surgery', \n",
    "    #'chemotherapy___post_surgery',\n",
    "    'urkens_classification___c', \n",
    "    'urkens_classification___r',\n",
    "    'surgery_duration_min', \n",
    "    #'bmi', \n",
    "    #'skin_transplanted',\n",
    "    'prior_flap___non_bony', \n",
    "    #'plate_type___cad_mix'\n",
    "]"
   ]
  },
  {
   "cell_type": "code",
   "execution_count": 192,
   "id": "980fcdd0-abb9-456a-a30b-f03597f4fbe5",
   "metadata": {
    "tags": []
   },
   "outputs": [],
   "source": [
    "def export_parquet(outcome, df):\n",
    "    x, y = prp.get_x_y(df=df, outcome=outcome, min_follow_up_days=91, scaler='None', drop_cols=drop_cols, inverse_pos=False)\n",
    "    df = pd.concat([x, y], axis=1)\n",
    "    df.to_parquet(f\"{outcome}_3_seg.parquet\")\n",
    "    destination_path = \"/Users/philipp.lampert/repositories/mymandible/data/outcome_df/\"\n",
    "    os.rename(f\"{outcome}_3_seg.parquet\", os.path.join(destination_path, f\"{outcome}_3_seg.parquet\"))"
   ]
  },
  {
   "cell_type": "code",
   "execution_count": 193,
   "id": "c5fe7026-8a1f-45c4-be97-c82725fa733a",
   "metadata": {},
   "outputs": [],
   "source": [
    "export_parquet('wound_infection', df_df)"
   ]
  },
  {
   "cell_type": "markdown",
   "id": "ff81e5fb-dc7f-468d-bf21-d7bd8194bbea",
   "metadata": {
    "tags": []
   },
   "source": [
    "## Patient characteristics"
   ]
  },
  {
   "cell_type": "markdown",
   "id": "aa59fb7d-47a1-4476-9553-b2a0948e03c8",
   "metadata": {
    "jp-MarkdownHeadingCollapsed": true,
    "tags": []
   },
   "source": [
    "### Numeric variable"
   ]
  },
  {
   "cell_type": "code",
   "execution_count": 194,
   "id": "150967b5-2319-42c9-ab46-5de8c3cdeacd",
   "metadata": {
    "tags": []
   },
   "outputs": [],
   "source": [
    "def num_variable(variable):\n",
    "    cad_mix_values = df_df.loc[df_df['plate_type___cad_mix'], variable]\n",
    "    cad_long_values = df_df.loc[~df_df['plate_type___cad_mix'], variable]\n",
    "    \n",
    "    cad_mix_mean = round(cad_mix_values.mean(), 1)\n",
    "    cad_mix_std = round(cad_mix_values.std(), 1)\n",
    "    cad_long_mean = round(cad_long_values.mean(), 1)\n",
    "    cad_long_std = round(cad_long_values.std(), 1)\n",
    "    \n",
    "    overall_mean = round(df_df[variable].mean(), 1)\n",
    "    overall_std = round(df_df[variable].std(), 1)\n",
    "    \n",
    "    data = {\n",
    "        'Mix': [cad_mix_mean, cad_mix_std],\n",
    "        'Reco': [cad_long_mean, cad_long_std],\n",
    "        'Overall': [overall_mean, overall_std]\n",
    "    }\n",
    "    \n",
    "    df = pd.DataFrame(data, index=['mean', 'std'])\n",
    "    print(df)"
   ]
  },
  {
   "cell_type": "code",
   "execution_count": 195,
   "id": "65f37527-0051-4a5c-b700-4e4081f355f2",
   "metadata": {},
   "outputs": [],
   "source": [
    "def t_test(variable, df):\n",
    "\n",
    "    df_mix = df[df['plate_type___cad_mix'] == True]\n",
    "    df_reco = df[df['plate_type___cad_mix'] == False]\n",
    "    array_mix = df_mix[variable].values.astype('int')\n",
    "    array_reco = df_reco[variable].values.astype('int')\n",
    "    t_test = ttest_ind(a=array_mix, b=array_reco, nan_policy='raise')\n",
    "    print(num_variable(variable))\n",
    "    print(f\"p-value: {t_test.pvalue}\")"
   ]
  },
  {
   "cell_type": "markdown",
   "id": "372d248d-e68a-4daa-9616-597ad478a47e",
   "metadata": {
    "jp-MarkdownHeadingCollapsed": true,
    "tags": []
   },
   "source": [
    "### Nominal variables"
   ]
  },
  {
   "cell_type": "code",
   "execution_count": 196,
   "id": "5d97ed20-2ea9-4f3e-ac2d-54e7bab4f295",
   "metadata": {
    "tags": []
   },
   "outputs": [],
   "source": [
    "def cat_variable(variable):\n",
    "    # Absolute frequencies\n",
    "    cad_mix_counts = df_df.loc[df_df['plate_type___cad_mix'], variable].value_counts()\n",
    "    cad_long_counts = df_df.loc[~df_df['plate_type___cad_mix'], variable].value_counts()\n",
    "    overall_counts = df_df[variable].value_counts()\n",
    "    \n",
    "    # Relative probabilities\n",
    "    cad_mix_probs = round((cad_mix_counts / cad_mix_counts.sum())*100, 1)\n",
    "    cad_long_probs = round((cad_long_counts / cad_long_counts.sum())*100, 1)\n",
    "    overall_probs = round((overall_counts / overall_counts.sum())*100, 1)\n",
    "    \n",
    "    # Create DataFrames for absolute frequencies and relative probabilities\n",
    "    absolute_freq_df = pd.DataFrame({\n",
    "        'Mix': cad_mix_counts,\n",
    "        'Reco': cad_long_counts,\n",
    "        'Overall': overall_counts\n",
    "    }).fillna(0)  # Fill NaN values with 0\n",
    "    \n",
    "    relative_prob_df = pd.DataFrame({\n",
    "        'Mix': cad_mix_probs,\n",
    "        'Reco': cad_long_probs,\n",
    "        'Overall': overall_probs\n",
    "    }).fillna(0)  # Fill NaN values with 0\n",
    "    \n",
    "    print(\"Absolute frequencies:\")\n",
    "    print(absolute_freq_df)\n",
    "    \n",
    "    print(\"\\nRelative probabilities:\")\n",
    "    print(relative_prob_df)"
   ]
  },
  {
   "cell_type": "code",
   "execution_count": 197,
   "id": "3df72aab-78c0-4c40-992d-82f762dc3da4",
   "metadata": {
    "tags": []
   },
   "outputs": [],
   "source": [
    "def chi2_test(variable, df):\n",
    "    contingency = pd.crosstab(df[variable], df['plate_type___cad_mix'])\n",
    "    chi2_object = chi2_contingency(observed=contingency, correction=False)\n",
    "    N = contingency.sum().sum()\n",
    "    n_minus_1 = chi2_object.statistic * (N - 1) / N\n",
    "    p_value = chi2.sf(n_minus_1, 1)\n",
    "    print(cat_variable(variable))\n",
    "    print(f\"p-value: {p_value}\")"
   ]
  },
  {
   "cell_type": "code",
   "execution_count": 198,
   "id": "f165f8e2-2f72-4f34-92b2-c3f7ff61d274",
   "metadata": {
    "tags": []
   },
   "outputs": [],
   "source": [
    "def barnard_test(variable, df):\n",
    "    contingency = pd.crosstab(df[variable], df['plate_type___cad_mix'])\n",
    "    obj = barnard_exact(contingency)\n",
    "    print(cat_variable(variable))\n",
    "    print(f\"p-value: {obj.pvalue}\")"
   ]
  },
  {
   "cell_type": "code",
   "execution_count": 199,
   "id": "08f78521-ad24-4138-b7e4-94aa93d19309",
   "metadata": {
    "tags": []
   },
   "outputs": [],
   "source": [
    "def fisher_test(variable, df):\n",
    "    contingency = pd.crosstab(df[variable], df['plate_type___cad_mix'])\n",
    "    obj = fisher_exact(contingency)\n",
    "    print(cat_variable(variable))\n",
    "    print(f\"p-value: {obj.pvalue}\")"
   ]
  },
  {
   "cell_type": "markdown",
   "id": "adcb6ed8-e5c4-41ca-a255-3229c136b825",
   "metadata": {
    "tags": []
   },
   "source": [
    "### Results"
   ]
  },
  {
   "cell_type": "code",
   "execution_count": 200,
   "id": "fbe62a23-cffb-4c35-b551-105915bc16d4",
   "metadata": {
    "tags": []
   },
   "outputs": [
    {
     "name": "stdout",
     "output_type": "stream",
     "text": [
      "       Mix  Reco  Overall\n",
      "mean  60.6  62.0     61.4\n",
      "std    7.6   7.8      7.6\n",
      "None\n",
      "p-value: 0.5955299274573307\n"
     ]
    }
   ],
   "source": [
    "t_test('age_surgery_years', df_df)"
   ]
  },
  {
   "cell_type": "code",
   "execution_count": 201,
   "id": "97e6462a-b61b-4a62-92a2-0bfa4b34d0db",
   "metadata": {
    "tags": []
   },
   "outputs": [
    {
     "name": "stdout",
     "output_type": "stream",
     "text": [
      "Absolute frequencies:\n",
      "            Mix  Reco  Overall\n",
      "sex_female                    \n",
      "False        11    17       28\n",
      "True          3     7       10\n",
      "\n",
      "Relative probabilities:\n",
      "             Mix  Reco  Overall\n",
      "sex_female                     \n",
      "False       78.6  70.8     73.7\n",
      "True        21.4  29.2     26.3\n",
      "None\n",
      "p-value: 0.6061233213607875\n"
     ]
    }
   ],
   "source": [
    "chi2_test('sex_female', df_df)"
   ]
  },
  {
   "cell_type": "code",
   "execution_count": 202,
   "id": "a7756c0a-fabb-4e20-a778-24063ca0d80f",
   "metadata": {
    "tags": []
   },
   "outputs": [
    {
     "name": "stdout",
     "output_type": "stream",
     "text": [
      "            Mix  Reco  Overall\n",
      "mean  23.700001  23.6     23.6\n",
      "std    2.300000   4.7      3.9\n",
      "None\n",
      "p-value: 0.9301029646165078\n"
     ]
    }
   ],
   "source": [
    "t_test('bmi', df_df)"
   ]
  },
  {
   "cell_type": "code",
   "execution_count": 203,
   "id": "e4367a05-ba86-4cf8-873b-112693530ca9",
   "metadata": {
    "tags": []
   },
   "outputs": [
    {
     "name": "stdout",
     "output_type": "stream",
     "text": [
      "Absolute frequencies:\n",
      "                       Mix  Reco  Overall\n",
      "comorbidity___smoking                    \n",
      "False                    8     9       17\n",
      "True                     6    15       21\n",
      "\n",
      "Relative probabilities:\n",
      "                        Mix  Reco  Overall\n",
      "comorbidity___smoking                     \n",
      "False                  57.1  37.5     44.7\n",
      "True                   42.9  62.5     55.3\n",
      "None\n",
      "p-value: 0.24639351297433254\n"
     ]
    }
   ],
   "source": [
    "chi2_test('comorbidity___smoking', df_df)"
   ]
  },
  {
   "cell_type": "code",
   "execution_count": 204,
   "id": "9f688ce2-8a51-424a-915a-35eb2b577deb",
   "metadata": {
    "tags": []
   },
   "outputs": [
    {
     "name": "stdout",
     "output_type": "stream",
     "text": [
      "Absolute frequencies:\n",
      "                       Mix  Reco  Overall\n",
      "comorbidity___alcohol                    \n",
      "False                   10    15       25\n",
      "True                     4     9       13\n",
      "\n",
      "Relative probabilities:\n",
      "                        Mix  Reco  Overall\n",
      "comorbidity___alcohol                     \n",
      "False                  71.4  62.5     65.8\n",
      "True                   28.6  37.5     34.2\n",
      "None\n",
      "p-value: 0.5807987953691733\n"
     ]
    }
   ],
   "source": [
    "chi2_test('comorbidity___alcohol', df_df)"
   ]
  },
  {
   "cell_type": "code",
   "execution_count": 205,
   "id": "fb930958-89ce-423e-b8f4-06f4e4129205",
   "metadata": {
    "tags": []
   },
   "outputs": [
    {
     "name": "stdout",
     "output_type": "stream",
     "text": [
      "Absolute frequencies:\n",
      "                               Mix  Reco  Overall\n",
      "comorbidity___atherosclerosis                    \n",
      "False                           12    18       30\n",
      "True                             2     6        8\n",
      "\n",
      "Relative probabilities:\n",
      "                                Mix  Reco  Overall\n",
      "comorbidity___atherosclerosis                     \n",
      "False                          85.7  75.0     78.9\n",
      "True                           14.3  25.0     21.1\n",
      "None\n",
      "p-value: 0.44062934980147084\n"
     ]
    }
   ],
   "source": [
    "chi2_test('comorbidity___atherosclerosis', df_df)"
   ]
  },
  {
   "cell_type": "code",
   "execution_count": 206,
   "id": "bcf2c835-7850-45bb-aa37-070696e47547",
   "metadata": {
    "tags": []
   },
   "outputs": [
    {
     "name": "stdout",
     "output_type": "stream",
     "text": [
      "Absolute frequencies:\n",
      "                             Mix  Reco  Overall\n",
      "radiotherapy___post_surgery                    \n",
      "True                           8    15       23\n",
      "False                          6     9       15\n",
      "\n",
      "Relative probabilities:\n",
      "                              Mix  Reco  Overall\n",
      "radiotherapy___post_surgery                     \n",
      "True                         57.1  62.5     60.5\n",
      "False                        42.9  37.5     39.5\n",
      "None\n",
      "p-value: 0.7477680079698745\n"
     ]
    }
   ],
   "source": [
    "chi2_test('radiotherapy___post_surgery', df_df)"
   ]
  },
  {
   "cell_type": "code",
   "execution_count": 207,
   "id": "a8c4f518-4c9d-4d9f-b2a1-23a73df30e84",
   "metadata": {
    "tags": []
   },
   "outputs": [
    {
     "name": "stdout",
     "output_type": "stream",
     "text": [
      "Absolute frequencies:\n",
      "                             Mix  Reco  Overall\n",
      "chemotherapy___post_surgery                    \n",
      "False                         10    12       22\n",
      "True                           4    12       16\n",
      "\n",
      "Relative probabilities:\n",
      "                              Mix  Reco  Overall\n",
      "chemotherapy___post_surgery                     \n",
      "False                        71.4  50.0     57.9\n",
      "True                         28.6  50.0     42.1\n",
      "None\n",
      "p-value: 0.20284749555189324\n"
     ]
    }
   ],
   "source": [
    "chi2_test('chemotherapy___post_surgery', df_df)"
   ]
  },
  {
   "cell_type": "code",
   "execution_count": 208,
   "id": "5b8e1141-53ff-4b47-8f4a-d0070bd41998",
   "metadata": {
    "tags": []
   },
   "outputs": [
    {
     "name": "stdout",
     "output_type": "stream",
     "text": [
      "Absolute frequencies:\n",
      "                   Mix  Reco  Overall\n",
      "skin_transplanted                    \n",
      "False                8     8       16\n",
      "True                 6    16       22\n",
      "\n",
      "Relative probabilities:\n",
      "                    Mix  Reco  Overall\n",
      "skin_transplanted                     \n",
      "False              57.1  33.3     42.1\n",
      "True               42.9  66.7     57.9\n",
      "None\n",
      "p-value: 0.15707476398631248\n"
     ]
    }
   ],
   "source": [
    "chi2_test('skin_transplanted', df_df)"
   ]
  },
  {
   "cell_type": "code",
   "execution_count": 209,
   "id": "72a53726-1565-4ef7-9231-3d0e9a448129",
   "metadata": {
    "tags": []
   },
   "outputs": [
    {
     "name": "stdout",
     "output_type": "stream",
     "text": [
      "Absolute frequencies:\n",
      "                     Mix  Reco  Overall\n",
      "follow_up_completed                    \n",
      "True                  14    24       38\n",
      "\n",
      "Relative probabilities:\n",
      "                       Mix   Reco  Overall\n",
      "follow_up_completed                       \n",
      "True                 100.0  100.0    100.0\n",
      "None\n",
      "p-value: 1.0\n"
     ]
    }
   ],
   "source": [
    "chi2_test('follow_up_completed', df_df)"
   ]
  },
  {
   "cell_type": "markdown",
   "id": "afc40215-1a3a-4721-a755-891ccab76d3a",
   "metadata": {
    "jp-MarkdownHeadingCollapsed": true,
    "tags": []
   },
   "source": [
    "## Logistic Regression"
   ]
  },
  {
   "cell_type": "markdown",
   "id": "11c050f2-99bc-4e96-accd-8fbfdefa1d8a",
   "metadata": {
    "tags": []
   },
   "source": [
    "#### VIF"
   ]
  },
  {
   "cell_type": "code",
   "execution_count": 210,
   "id": "90b6d611-7901-4a17-a444-0265b4c55989",
   "metadata": {
    "tags": []
   },
   "outputs": [
    {
     "data": {
      "text/plain": [
       "const                            130.364448\n",
       "sex_female                         1.190676\n",
       "comorbidity___smoking              1.369553\n",
       "comorbidity___alcohol              1.477339\n",
       "comorbidity___atherosclerosis      1.510058\n",
       "age_surgery_years                  1.275705\n",
       "radiotherapy___post_surgery        1.666030\n",
       "chemotherapy___post_surgery        1.939070\n",
       "bmi                                1.267858\n",
       "skin_transplanted                  1.422372\n",
       "plate_type___cad_mix               1.252540\n",
       "dtype: float64"
      ]
     },
     "execution_count": 210,
     "metadata": {},
     "output_type": "execute_result"
    }
   ],
   "source": [
    "vif_df, y = prp.get_x_y(df=df_df, outcome='any_complication', min_follow_up_days=91, scaler='None', drop_cols=drop_cols, inverse_pos=False)\n",
    "boolean_columns = vif_df.select_dtypes(include=bool).columns\n",
    "vif_df[boolean_columns] = vif_df[boolean_columns].astype('int')\n",
    "numeric_columns = vif_df.select_dtypes(include='number').columns\n",
    "vif_df[numeric_columns] =vif_df[numeric_columns].astype('float64')\n",
    "X = add_constant(vif_df)\n",
    "pd.Series([variance_inflation_factor(X.values, i) \n",
    "               for i in range(X.shape[1])], \n",
    "              index=X.columns)"
   ]
  },
  {
   "cell_type": "markdown",
   "id": "98354246-6f7e-4e5b-b72c-ff8b2e637747",
   "metadata": {
    "tags": []
   },
   "source": [
    "### Any complication"
   ]
  },
  {
   "cell_type": "code",
   "execution_count": 211,
   "id": "aa6d4693-01be-4395-a22c-4d023a9520a6",
   "metadata": {
    "tags": []
   },
   "outputs": [
    {
     "data": {
      "text/plain": [
       "any_complication\n",
       "True     30\n",
       "False     8\n",
       "Name: count, dtype: Int64"
      ]
     },
     "execution_count": 211,
     "metadata": {},
     "output_type": "execute_result"
    }
   ],
   "source": [
    "df_df['any_complication'].value_counts()"
   ]
  },
  {
   "cell_type": "code",
   "execution_count": 212,
   "id": "fe5e6cb1-dc89-4ad0-bf5b-51af30dd9d8c",
   "metadata": {
    "tags": []
   },
   "outputs": [
    {
     "name": "stdout",
     "output_type": "stream",
     "text": [
      "Optimization terminated successfully    (Exit mode 0)\n",
      "            Current function value: 0.3808234793434244\n",
      "            Iterations: 67\n",
      "            Function evaluations: 71\n",
      "            Gradient evaluations: 67\n",
      "                           Logit Regression Results                           \n",
      "==============================================================================\n",
      "Dep. Variable:       any_complication   No. Observations:                   38\n",
      "Model:                          Logit   Df Residuals:                       27\n",
      "Method:                           MLE   Df Model:                           10\n",
      "Date:                Tue, 16 Apr 2024   Pseudo R-squ.:                  0.2600\n",
      "Time:                        18:29:13   Log-Likelihood:                -14.471\n",
      "converged:                       True   LL-Null:                       -19.557\n",
      "Covariance Type:            nonrobust   LLR p-value:                    0.4256\n",
      "=================================================================================================\n",
      "                                    coef    std err          z      P>|z|      [0.025      0.975]\n",
      "-------------------------------------------------------------------------------------------------\n",
      "Intercept                        16.5689      8.722      1.900      0.057      -0.527      33.664\n",
      "sex_female                       -2.0854      1.257     -1.659      0.097      -4.549       0.379\n",
      "comorbidity___smoking            -1.4261      1.333     -1.070      0.285      -4.039       1.186\n",
      "comorbidity___alcohol            -0.8944      1.389     -0.644      0.519      -3.616       1.827\n",
      "comorbidity___atherosclerosis     1.7291      1.933      0.895      0.371      -2.059       5.518\n",
      "age_surgery_years                -0.1274      0.082     -1.557      0.119      -0.288       0.033\n",
      "radiotherapy___post_surgery       0.1727      1.198      0.144      0.885      -2.174       2.520\n",
      "chemotherapy___post_surgery      -0.5446      1.298     -0.420      0.675      -3.088       1.999\n",
      "bmi                              -0.2143      0.196     -1.092      0.275      -0.599       0.170\n",
      "skin_transplanted                -0.4528      1.312     -0.345      0.730      -3.024       2.118\n",
      "plate_type___cad_mix             -0.1024      1.231     -0.083      0.934      -2.515       2.310\n",
      "=================================================================================================\n"
     ]
    },
    {
     "name": "stderr",
     "output_type": "stream",
     "text": [
      "overflow encountered in exp\n",
      "divide by zero encountered in log\n"
     ]
    }
   ],
   "source": [
    "logreg_regularized('any_complication', 'None', df_df, 'l1', alpha=0)"
   ]
  },
  {
   "cell_type": "markdown",
   "id": "7dd90118-c3e2-46a9-95d1-ea1a4026ee81",
   "metadata": {
    "tags": []
   },
   "source": [
    "### Soft tissue complication"
   ]
  },
  {
   "cell_type": "code",
   "execution_count": 213,
   "id": "90a1ce44-9c7d-4488-bd32-55f50070ccfd",
   "metadata": {
    "tags": []
   },
   "outputs": [
    {
     "data": {
      "text/plain": [
       "soft_tissue_complication\n",
       "True     23\n",
       "False    15\n",
       "Name: count, dtype: Int64"
      ]
     },
     "execution_count": 213,
     "metadata": {},
     "output_type": "execute_result"
    }
   ],
   "source": [
    "df_df['soft_tissue_complication'].value_counts()"
   ]
  },
  {
   "cell_type": "code",
   "execution_count": 214,
   "id": "0ad41aad-375c-4c73-ba35-898bfd5cb1dd",
   "metadata": {
    "tags": []
   },
   "outputs": [
    {
     "name": "stdout",
     "output_type": "stream",
     "text": [
      "Optimization terminated successfully    (Exit mode 0)\n",
      "            Current function value: 0.4664530126714283\n",
      "            Iterations: 58\n",
      "            Function evaluations: 58\n",
      "            Gradient evaluations: 58\n",
      "                              Logit Regression Results                              \n",
      "====================================================================================\n",
      "Dep. Variable:     soft_tissue_complication   No. Observations:                   38\n",
      "Model:                                Logit   Df Residuals:                       27\n",
      "Method:                                 MLE   Df Model:                           10\n",
      "Date:                      Tue, 16 Apr 2024   Pseudo R-squ.:                  0.3047\n",
      "Time:                              18:29:13   Log-Likelihood:                -17.725\n",
      "converged:                             True   LL-Null:                       -25.491\n",
      "Covariance Type:                  nonrobust   LLR p-value:                    0.1138\n",
      "=================================================================================================\n",
      "                                    coef    std err          z      P>|z|      [0.025      0.975]\n",
      "-------------------------------------------------------------------------------------------------\n",
      "Intercept                         1.9742      1.493      1.323      0.186      -0.952       4.900\n",
      "sex_female                       -0.5895      0.974     -0.605      0.545      -2.498       1.319\n",
      "comorbidity___smoking            -3.6318      1.717     -2.115      0.034      -6.997      -0.266\n",
      "comorbidity___alcohol             2.1860      1.440      1.518      0.129      -0.636       5.008\n",
      "comorbidity___atherosclerosis     0.8107      1.437      0.564      0.573      -2.005       3.627\n",
      "age_surgery_years                -0.4814      0.296     -1.628      0.103      -1.061       0.098\n",
      "radiotherapy___post_surgery       3.3988      1.751      1.941      0.052      -0.034       6.831\n",
      "chemotherapy___post_surgery      -4.7596      2.232     -2.132      0.033      -9.135      -0.385\n",
      "bmi                              -0.4348      0.305     -1.426      0.154      -1.032       0.163\n",
      "skin_transplanted                 0.9669      1.108      0.873      0.383      -1.204       3.138\n",
      "plate_type___cad_mix             -1.6033      1.094     -1.465      0.143      -3.748       0.541\n",
      "=================================================================================================\n"
     ]
    },
    {
     "name": "stderr",
     "output_type": "stream",
     "text": [
      "n_quantiles (1000) is greater than the total number of samples (38). n_quantiles is set to n_samples.\n"
     ]
    }
   ],
   "source": [
    "logreg_regularized('soft_tissue_complication', QuantileTransformer(output_distribution='normal'), df_df, 'l1', alpha=0)"
   ]
  },
  {
   "cell_type": "markdown",
   "id": "16a342df-f25c-4c06-b585-92799d019fa3",
   "metadata": {
    "tags": []
   },
   "source": [
    "### Nonunion"
   ]
  },
  {
   "cell_type": "code",
   "execution_count": 215,
   "id": "d026847a-4fc5-41f8-87d5-daa3bc6fbeb9",
   "metadata": {
    "tags": []
   },
   "outputs": [
    {
     "data": {
      "text/plain": [
       "nonunion\n",
       "True     19\n",
       "False    14\n",
       "Name: count, dtype: Int64"
      ]
     },
     "execution_count": 215,
     "metadata": {},
     "output_type": "execute_result"
    }
   ],
   "source": [
    "df_df['nonunion'].value_counts()"
   ]
  },
  {
   "cell_type": "code",
   "execution_count": 216,
   "id": "e69e1d7b-0567-4b02-90c9-1ec40ea9112c",
   "metadata": {
    "tags": []
   },
   "outputs": [
    {
     "name": "stdout",
     "output_type": "stream",
     "text": [
      "Optimization terminated successfully    (Exit mode 0)\n",
      "            Current function value: 0.6290043884868978\n",
      "            Iterations: 52\n",
      "            Function evaluations: 52\n",
      "            Gradient evaluations: 52\n",
      "                           Logit Regression Results                           \n",
      "==============================================================================\n",
      "Dep. Variable:               nonunion   No. Observations:                   33\n",
      "Model:                          Logit   Df Residuals:                       22\n",
      "Method:                           MLE   Df Model:                           10\n",
      "Date:                Tue, 16 Apr 2024   Pseudo R-squ.:                 0.07720\n",
      "Time:                        18:29:13   Log-Likelihood:                -20.757\n",
      "converged:                       True   LL-Null:                       -22.494\n",
      "Covariance Type:            nonrobust   LLR p-value:                    0.9680\n",
      "=================================================================================================\n",
      "                                    coef    std err          z      P>|z|      [0.025      0.975]\n",
      "-------------------------------------------------------------------------------------------------\n",
      "Intercept                         0.2385      1.083      0.220      0.826      -1.885       2.362\n",
      "sex_female                       -0.1883      0.905     -0.208      0.835      -1.962       1.585\n",
      "comorbidity___smoking            -0.8300      0.868     -0.956      0.339      -2.531       0.871\n",
      "comorbidity___alcohol             0.6912      1.030      0.671      0.502      -1.328       2.711\n",
      "comorbidity___atherosclerosis    -0.1467      1.078     -0.136      0.892      -2.259       1.966\n",
      "age_surgery_years                -0.2415      0.308     -0.784      0.433      -0.845       0.362\n",
      "radiotherapy___post_surgery       0.7168      1.036      0.692      0.489      -1.313       2.746\n",
      "chemotherapy___post_surgery      -0.1829      1.114     -0.164      0.870      -2.367       2.001\n",
      "bmi                               0.0201      0.293      0.069      0.945      -0.554       0.594\n",
      "skin_transplanted                -0.0270      0.865     -0.031      0.975      -1.722       1.668\n",
      "plate_type___cad_mix              0.1752      0.840      0.209      0.835      -1.471       1.821\n",
      "=================================================================================================\n"
     ]
    },
    {
     "name": "stderr",
     "output_type": "stream",
     "text": [
      "n_quantiles (1000) is greater than the total number of samples (33). n_quantiles is set to n_samples.\n"
     ]
    }
   ],
   "source": [
    "logreg_regularized('nonunion', QuantileTransformer(output_distribution='normal'), df_df, 'l1', alpha=0)"
   ]
  },
  {
   "cell_type": "markdown",
   "id": "88e6d8e8-b2c2-4c62-a01d-4f1698224304",
   "metadata": {},
   "source": [
    "### Wound infection"
   ]
  },
  {
   "cell_type": "code",
   "execution_count": 217,
   "id": "d71f4db7-8116-4ca1-bec2-8c5ee6f126e7",
   "metadata": {
    "tags": []
   },
   "outputs": [
    {
     "data": {
      "text/plain": [
       "wound_infection\n",
       "False    25\n",
       "True     13\n",
       "Name: count, dtype: Int64"
      ]
     },
     "execution_count": 217,
     "metadata": {},
     "output_type": "execute_result"
    }
   ],
   "source": [
    "df_df['wound_infection'].value_counts()"
   ]
  },
  {
   "cell_type": "code",
   "execution_count": 218,
   "id": "938a48d7-5d5c-4cc8-914a-a5a2087a1011",
   "metadata": {
    "tags": []
   },
   "outputs": [
    {
     "name": "stdout",
     "output_type": "stream",
     "text": [
      "Optimization terminated successfully    (Exit mode 0)\n",
      "            Current function value: 0.4312572412469582\n",
      "            Iterations: 58\n",
      "            Function evaluations: 58\n",
      "            Gradient evaluations: 58\n",
      "                           Logit Regression Results                           \n",
      "==============================================================================\n",
      "Dep. Variable:        wound_infection   No. Observations:                   38\n",
      "Model:                          Logit   Df Residuals:                       27\n",
      "Method:                           MLE   Df Model:                           10\n",
      "Date:                Tue, 16 Apr 2024   Pseudo R-squ.:                  0.3287\n",
      "Time:                        18:29:13   Log-Likelihood:                -16.388\n",
      "converged:                       True   LL-Null:                       -24.412\n",
      "Covariance Type:            nonrobust   LLR p-value:                   0.09825\n",
      "=================================================================================================\n",
      "                                    coef    std err          z      P>|z|      [0.025      0.975]\n",
      "-------------------------------------------------------------------------------------------------\n",
      "Intercept                         0.6134      1.271      0.482      0.630      -1.879       3.105\n",
      "sex_female                       -1.1623      1.162     -1.000      0.317      -3.440       1.115\n",
      "comorbidity___smoking            -2.0699      1.294     -1.599      0.110      -4.607       0.467\n",
      "comorbidity___alcohol             1.7325      1.291      1.342      0.180      -0.797       4.263\n",
      "comorbidity___atherosclerosis    -1.7575      1.296     -1.356      0.175      -4.298       0.783\n",
      "age_surgery_years                 0.0059      0.284      0.021      0.983      -0.550       0.562\n",
      "radiotherapy___post_surgery       1.3032      1.303      1.000      0.317      -1.251       3.857\n",
      "chemotherapy___post_surgery      -3.6958      1.590     -2.325      0.020      -6.811      -0.580\n",
      "bmi                              -0.0564      0.381     -0.148      0.882      -0.803       0.690\n",
      "skin_transplanted                 0.3846      1.081      0.356      0.722      -1.735       2.504\n",
      "plate_type___cad_mix              0.5151      1.016      0.507      0.612      -1.476       2.506\n",
      "=================================================================================================\n"
     ]
    },
    {
     "name": "stderr",
     "output_type": "stream",
     "text": [
      "n_quantiles (1000) is greater than the total number of samples (38). n_quantiles is set to n_samples.\n"
     ]
    }
   ],
   "source": [
    "logreg_regularized('wound_infection', QuantileTransformer(output_distribution='normal'), df_df, 'l1', alpha=0)"
   ]
  },
  {
   "cell_type": "code",
   "execution_count": 219,
   "id": "e7b5f866-4c7a-4fb9-9ac8-5f2dba2f87cf",
   "metadata": {
    "tags": []
   },
   "outputs": [
    {
     "data": {
      "text/plain": [
       "3.691747783578271"
      ]
     },
     "execution_count": 219,
     "metadata": {},
     "output_type": "execute_result"
    }
   ],
   "source": [
    "np.exp(1.3061)"
   ]
  },
  {
   "cell_type": "markdown",
   "id": "1395f15b-dd99-4223-960d-fc01dd5988bb",
   "metadata": {},
   "source": [
    "### Plate exposure"
   ]
  },
  {
   "cell_type": "code",
   "execution_count": 220,
   "id": "a8d0c07b-b6e4-4d10-8f12-b405f4a49e80",
   "metadata": {
    "tags": []
   },
   "outputs": [
    {
     "data": {
      "text/plain": [
       "complication_plate___exposure\n",
       "False    26\n",
       "True     12\n",
       "Name: count, dtype: Int64"
      ]
     },
     "execution_count": 220,
     "metadata": {},
     "output_type": "execute_result"
    }
   ],
   "source": [
    "df_df['complication_plate___exposure'].value_counts()"
   ]
  },
  {
   "cell_type": "code",
   "execution_count": 221,
   "id": "b149278b-d676-4ca9-8b21-ce3641a07b07",
   "metadata": {
    "tags": []
   },
   "outputs": [
    {
     "name": "stderr",
     "output_type": "stream",
     "text": [
      "n_quantiles (1000) is greater than the total number of samples (38). n_quantiles is set to n_samples.\n"
     ]
    },
    {
     "name": "stdout",
     "output_type": "stream",
     "text": [
      "Optimization terminated successfully    (Exit mode 0)\n",
      "            Current function value: 0.4779827720376916\n",
      "            Iterations: 57\n",
      "            Function evaluations: 58\n",
      "            Gradient evaluations: 57\n",
      "                                 Logit Regression Results                                \n",
      "=========================================================================================\n",
      "Dep. Variable:     complication_plate___exposure   No. Observations:                   38\n",
      "Model:                                     Logit   Df Residuals:                       27\n",
      "Method:                                      MLE   Df Model:                           10\n",
      "Date:                           Tue, 16 Apr 2024   Pseudo R-squ.:                  0.2336\n",
      "Time:                                   18:29:13   Log-Likelihood:                -18.163\n",
      "converged:                                  True   LL-Null:                       -23.699\n",
      "Covariance Type:                       nonrobust   LLR p-value:                    0.3520\n",
      "=================================================================================================\n",
      "                                    coef    std err          z      P>|z|      [0.025      0.975]\n",
      "-------------------------------------------------------------------------------------------------\n",
      "Intercept                        -0.8558      1.254     -0.682      0.495      -3.314       1.602\n",
      "sex_female                       -0.5686      1.017     -0.559      0.576      -2.562       1.425\n",
      "comorbidity___smoking            -0.9103      1.067     -0.853      0.394      -3.002       1.182\n",
      "comorbidity___alcohol             1.6485      1.105      1.492      0.136      -0.517       3.814\n",
      "comorbidity___atherosclerosis     1.1370      1.166      0.975      0.330      -1.149       3.423\n",
      "age_surgery_years                -0.1037      0.265     -0.392      0.695      -0.622       0.415\n",
      "radiotherapy___post_surgery       0.0662      1.103      0.060      0.952      -2.097       2.229\n",
      "chemotherapy___post_surgery      -1.8815      1.272     -1.479      0.139      -4.374       0.611\n",
      "bmi                              -0.2461      0.379     -0.649      0.517      -0.990       0.498\n",
      "skin_transplanted                 0.3236      1.010      0.320      0.749      -1.656       2.303\n",
      "plate_type___cad_mix              0.7014      1.032      0.680      0.497      -1.321       2.724\n",
      "=================================================================================================\n"
     ]
    }
   ],
   "source": [
    "logreg_regularized('complication_plate___exposure', QuantileTransformer(output_distribution='normal'), df_df, 'l1', alpha=0)"
   ]
  },
  {
   "cell_type": "markdown",
   "id": "176ca6ec-2a89-4246-a6c3-8eb782f06bc1",
   "metadata": {
    "tags": []
   },
   "source": [
    "## Univariate Analysis"
   ]
  },
  {
   "cell_type": "markdown",
   "id": "227520da-2dbd-4f4d-a575-45ca55c8f230",
   "metadata": {},
   "source": [
    "### Plate failure"
   ]
  },
  {
   "cell_type": "code",
   "execution_count": 222,
   "id": "b0eda96c-c02a-40e7-a6e4-522b0cce3f96",
   "metadata": {
    "tags": []
   },
   "outputs": [
    {
     "name": "stdout",
     "output_type": "stream",
     "text": [
      "Absolute frequencies:\n",
      "               Mix  Reco  Overall\n",
      "plate_failure                    \n",
      "False           13    24       37\n",
      "True             1     0        1\n",
      "\n",
      "Relative probabilities:\n",
      "                Mix   Reco  Overall\n",
      "plate_failure                      \n",
      "False          92.9  100.0     97.4\n",
      "True            7.1    0.0      2.6\n",
      "None\n",
      "p-value: 0.19043026382552042\n"
     ]
    }
   ],
   "source": [
    "chi2_test('plate_failure', df_df)"
   ]
  },
  {
   "cell_type": "markdown",
   "id": "0bd262fe-9817-4f42-be61-6e2f742283bf",
   "metadata": {
    "tags": []
   },
   "source": [
    "### Any complication"
   ]
  },
  {
   "cell_type": "code",
   "execution_count": 223,
   "id": "2381281f-b5cc-4869-849c-356ba8aa510d",
   "metadata": {
    "tags": []
   },
   "outputs": [
    {
     "name": "stdout",
     "output_type": "stream",
     "text": [
      "Absolute frequencies:\n",
      "                  Mix  Reco  Overall\n",
      "any_complication                    \n",
      "True               12    18       30\n",
      "False               2     6        8\n",
      "\n",
      "Relative probabilities:\n",
      "                   Mix  Reco  Overall\n",
      "any_complication                     \n",
      "True              85.7  75.0     78.9\n",
      "False             14.3  25.0     21.1\n",
      "None\n",
      "p-value: 0.44062934980147084\n"
     ]
    }
   ],
   "source": [
    "chi2_test('any_complication', df_df)"
   ]
  },
  {
   "cell_type": "markdown",
   "id": "ad3aecfa-52f4-4359-b5fd-e50be6c16585",
   "metadata": {},
   "source": [
    "### Soft tissue complication"
   ]
  },
  {
   "cell_type": "code",
   "execution_count": 224,
   "id": "05db907c-79fc-4f0d-9a57-5b40294c3df3",
   "metadata": {
    "tags": []
   },
   "outputs": [
    {
     "name": "stdout",
     "output_type": "stream",
     "text": [
      "Absolute frequencies:\n",
      "                          Mix  Reco  Overall\n",
      "soft_tissue_complication                    \n",
      "True                        8    15       23\n",
      "False                       6     9       15\n",
      "\n",
      "Relative probabilities:\n",
      "                           Mix  Reco  Overall\n",
      "soft_tissue_complication                     \n",
      "True                      57.1  62.5     60.5\n",
      "False                     42.9  37.5     39.5\n",
      "None\n",
      "p-value: 0.7477680079698745\n"
     ]
    }
   ],
   "source": [
    "chi2_test('soft_tissue_complication', df_df)"
   ]
  },
  {
   "cell_type": "markdown",
   "id": "cf706731-f3c2-4b84-be7d-888219a9fac5",
   "metadata": {},
   "source": [
    "### Nonunion"
   ]
  },
  {
   "cell_type": "code",
   "execution_count": 225,
   "id": "8836a7e8-a925-4231-a87d-ffebd35e1ff1",
   "metadata": {
    "tags": []
   },
   "outputs": [
    {
     "name": "stdout",
     "output_type": "stream",
     "text": [
      "Absolute frequencies:\n",
      "          Mix  Reco  Overall\n",
      "nonunion                    \n",
      "True        9    10       19\n",
      "False       5     9       14\n",
      "\n",
      "Relative probabilities:\n",
      "           Mix  Reco  Overall\n",
      "nonunion                     \n",
      "True      64.3  52.6     57.6\n",
      "False     35.7  47.4     42.4\n",
      "None\n",
      "p-value: 0.5097304608361317\n"
     ]
    }
   ],
   "source": [
    "chi2_test('nonunion', df_df)"
   ]
  },
  {
   "cell_type": "markdown",
   "id": "ba24d1ab-51a2-4ebd-9d71-e7d1c6ea85b8",
   "metadata": {},
   "source": [
    "### Wound infection"
   ]
  },
  {
   "cell_type": "code",
   "execution_count": 226,
   "id": "7e1050af-f98c-4855-b7b4-a1b7fdf74398",
   "metadata": {
    "tags": []
   },
   "outputs": [
    {
     "name": "stdout",
     "output_type": "stream",
     "text": [
      "Absolute frequencies:\n",
      "                 Mix  Reco  Overall\n",
      "wound_infection                    \n",
      "False              7    18       25\n",
      "True               7     6       13\n",
      "\n",
      "Relative probabilities:\n",
      "                  Mix  Reco  Overall\n",
      "wound_infection                     \n",
      "False            50.0  75.0     65.8\n",
      "True             50.0  25.0     34.2\n",
      "None\n",
      "p-value: 0.1220535573278638\n"
     ]
    }
   ],
   "source": [
    "chi2_test('wound_infection', df_df)"
   ]
  },
  {
   "cell_type": "markdown",
   "id": "88509ba5-69e1-4867-b6e1-0b046cc352f3",
   "metadata": {},
   "source": [
    "### Plate exposure"
   ]
  },
  {
   "cell_type": "code",
   "execution_count": 227,
   "id": "b514a2e3-16ba-430a-9034-6c1c9d6eca26",
   "metadata": {
    "tags": []
   },
   "outputs": [
    {
     "name": "stdout",
     "output_type": "stream",
     "text": [
      "Absolute frequencies:\n",
      "                               Mix  Reco  Overall\n",
      "complication_plate___exposure                    \n",
      "False                            8    18       26\n",
      "True                             6     6       12\n",
      "\n",
      "Relative probabilities:\n",
      "                                Mix  Reco  Overall\n",
      "complication_plate___exposure                     \n",
      "False                          57.1  75.0     68.4\n",
      "True                           42.9  25.0     31.6\n",
      "None\n",
      "p-value: 0.2596533263226399\n"
     ]
    }
   ],
   "source": [
    "chi2_test('complication_plate___exposure', df_df)"
   ]
  }
 ],
 "metadata": {
  "kernelspec": {
   "display_name": "Python 3 (ipykernel)",
   "language": "python",
   "name": "python3"
  },
  "language_info": {
   "codemirror_mode": {
    "name": "ipython",
    "version": 3
   },
   "file_extension": ".py",
   "mimetype": "text/x-python",
   "name": "python",
   "nbconvert_exporter": "python",
   "pygments_lexer": "ipython3",
   "version": "3.11.5"
  }
 },
 "nbformat": 4,
 "nbformat_minor": 5
}
