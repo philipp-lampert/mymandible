{
 "cells": [
  {
   "cell_type": "markdown",
   "id": "15aaf6a6-5ad4-4cc0-bdf6-7a082028e6ae",
   "metadata": {},
   "source": [
    "# Model training for 3-segment reconstructions"
   ]
  },
  {
   "cell_type": "markdown",
   "id": "2d7d8b97-fc08-4efb-8d71-702da396f8ce",
   "metadata": {
    "tags": []
   },
   "source": [
    "## Import"
   ]
  },
  {
   "cell_type": "code",
   "execution_count": 758,
   "id": "c0c8944c-dbfc-4f35-8bea-a99b17c4eda6",
   "metadata": {
    "tags": []
   },
   "outputs": [
    {
     "data": {
      "text/plain": [
       "1.3086551410464666"
      ]
     },
     "execution_count": 758,
     "metadata": {},
     "output_type": "execute_result"
    }
   ],
   "source": [
    "np.exp(0.269)"
   ]
  },
  {
   "cell_type": "code",
   "execution_count": 689,
   "id": "d84553f8-5de5-427d-bef2-bdceb3d07a24",
   "metadata": {
    "tags": []
   },
   "outputs": [],
   "source": [
    "import warnings\n",
    "import numpy as np\n",
    "import pandas as pd\n",
    "import copy\n",
    "from statistics import mean, stdev\n",
    "from sklearn.preprocessing import QuantileTransformer, RobustScaler\n",
    "from sklearn.metrics import make_scorer, matthews_corrcoef, f1_score, accuracy_score, average_precision_score, roc_auc_score, brier_score_loss\n",
    "from sklearn.model_selection import cross_validate, StratifiedKFold, RepeatedStratifiedKFold\n",
    "from sklearn.linear_model import LogisticRegression \n",
    "from sklearn.neighbors import KNeighborsClassifier\n",
    "from sklearn.ensemble import RandomForestClassifier\n",
    "from xgboost import XGBClassifier\n",
    "from scipy.stats import chi2_contingency, chi2, ttest_ind, barnard_exact\n",
    "import shap\n",
    "import statsmodels.formula.api as smf\n",
    "from statsmodels.stats.outliers_influence import variance_inflation_factor\n",
    "from statsmodels.tools.tools import add_constant\n",
    "import seaborn as sns\n",
    "import matplotlib.pyplot as plt"
   ]
  },
  {
   "cell_type": "code",
   "execution_count": 650,
   "id": "4338d1bd-ee42-482b-a974-4270bc8b8d6d",
   "metadata": {
    "tags": []
   },
   "outputs": [],
   "source": [
    "df_dropped_first = pd.read_parquet('/Users/philipp.lampert/repositories/mymandible/data/dropped_first_imputed.parquet')\n",
    "df_all_levels = pd.read_parquet('/Users/philipp.lampert/repositories/mymandible/data/all_levels_imputed.parquet')"
   ]
  },
  {
   "cell_type": "code",
   "execution_count": 698,
   "id": "397d1123-728e-46a4-a32d-e78630e59678",
   "metadata": {
    "tags": []
   },
   "outputs": [],
   "source": [
    "def get_3_segment_df(df):\n",
    "    df3 = df[\n",
    "        (df['flap_segment_count'] == 3) \n",
    "        & (df['flap_donor_site___scapula'] == False) \n",
    "        & (df['plate_type___cad_mini'] == False)\n",
    "        & (df['indication___secondary_reconstruction'] == False)\n",
    "        & (df['indication___osteoradionecrosis'] == False)\n",
    "        & (df['days_to_follow_up'] >= 91)\n",
    "    ].copy()\n",
    "    \n",
    "    df3['follow_up_completed'] = df3['days_to_follow_up'] > 365\n",
    "    \n",
    "    flap_loss_mix = df3[(df3['plate_type___cad_mix'] == True) & (df3['days_to_flap_loss'] < 366)]['flap_loss'].sum()\n",
    "    flap_loss_reco = df3[(df3['plate_type___cad_mix'] == False) & (df3['days_to_flap_loss'] < 366)]['flap_loss'].sum()\n",
    "\n",
    "    print(\"Number of flap loss within 12 months for mixed plates:\", flap_loss_mix)\n",
    "    print(\"Number of flap loss within 12 months for reco plates:\", flap_loss_reco)\n",
    "    \n",
    "    df3 = df3[~((df3['flap_loss'] == True) & (df3['days_to_flap_loss'] < 366))]\n",
    "\n",
    "    # drop unused variables\n",
    "    df3 = df3.drop(['flap_donor_site___scapula', \n",
    "                    'flap_segment_count', \n",
    "                    'plate_type___cad_mini', \n",
    "                    'urkens_classification___s',\n",
    "                    'indication___osteoradionecrosis',\n",
    "                    'indication___secondary_reconstruction',\n",
    "                    'prior_flap___bony'\n",
    "                   ], axis=1)\n",
    "    return df3"
   ]
  },
  {
   "cell_type": "code",
   "execution_count": 699,
   "id": "e50cb7b4-161e-476a-a64f-60082a92a4c9",
   "metadata": {
    "tags": []
   },
   "outputs": [
    {
     "name": "stdout",
     "output_type": "stream",
     "text": [
      "Number of flap loss within 12 months for mixed plates: 1\n",
      "Number of flap loss within 12 months for reco plates: 2\n",
      "Number of flap loss within 12 months for mixed plates: 1\n",
      "Number of flap loss within 12 months for reco plates: 2\n"
     ]
    }
   ],
   "source": [
    "df_df = get_3_segment_df(df_dropped_first)\n",
    "df_all = get_3_segment_df(df_all_levels)"
   ]
  },
  {
   "cell_type": "markdown",
   "id": "af3512cf-2a5a-4719-8830-13133a2a9ba4",
   "metadata": {},
   "source": [
    "## Preprocessing"
   ]
  },
  {
   "cell_type": "code",
   "execution_count": 653,
   "id": "1949179f-ac3b-4629-ba2b-0961fa5f57a2",
   "metadata": {
    "tags": []
   },
   "outputs": [],
   "source": [
    "from modules.functions import preprocessing as prp\n",
    "from modules.functions import threshold_optimized_metrics as tom"
   ]
  },
  {
   "cell_type": "code",
   "execution_count": 654,
   "id": "f24f5bec-daa6-44b9-b2eb-0898cce6f4a2",
   "metadata": {},
   "outputs": [],
   "source": [
    "acc_scorer = make_scorer(tom.optimized_accuracy, needs_proba=True)\n",
    "f1_scorer = make_scorer(tom.optimized_f1, needs_proba=True)\n",
    "mcc_scorer = make_scorer(tom.optimized_mcc, needs_proba=True)\n",
    "pr_auc_scorer = make_scorer(average_precision_score, needs_proba=True)"
   ]
  },
  {
   "cell_type": "markdown",
   "id": "a8fce90b-f7a6-4332-b49f-0bbb6a87b59e",
   "metadata": {},
   "source": [
    "## Model setup"
   ]
  },
  {
   "cell_type": "code",
   "execution_count": 655,
   "id": "af4d242f-d655-4edf-a58e-228ab57e0ce2",
   "metadata": {
    "tags": []
   },
   "outputs": [],
   "source": [
    "def logreg_regularized(outcome, scaler, df, method, alpha):\n",
    "    \n",
    "    x, y = prp.get_x_y(df=df, outcome=outcome, min_follow_up_days=91, scaler=scaler, drop_cols=drop_cols, inverse_pos=False)\n",
    "    boolean_columns = x.select_dtypes(include=bool).columns\n",
    "    x[boolean_columns] = x[boolean_columns].astype('int')\n",
    "    numeric_columns = x.select_dtypes(include='number').columns\n",
    "    x[numeric_columns] = x[numeric_columns].astype('float64')\n",
    "    y = y.astype('int')    \n",
    "    x_columns = x.columns\n",
    "    all_columns = \"+\".join(x_columns)\n",
    "    formula = outcome +  '~' + all_columns\n",
    "    \n",
    "    data = pd.concat([x, y], axis=1)\n",
    "    final_model = smf.logit(formula, data).fit_regularized(method=method, alpha=alpha)\n",
    "    print(final_model.summary())"
   ]
  },
  {
   "cell_type": "code",
   "execution_count": 656,
   "id": "7ecf4cdd-87e7-4adf-8ab4-1eb81ca02582",
   "metadata": {
    "tags": []
   },
   "outputs": [],
   "source": [
    "drop_cols = [\n",
    "    #'sex_female', \n",
    "    #'comorbidity___smoking', \n",
    "    #'comorbidity___alcohol',\n",
    "    'comorbidity___copd', \n",
    "    'comorbidity___hypertension',\n",
    "    'comorbidity___diabetes', \n",
    "    #'comorbidity___atherosclerosis',\n",
    "    'comorbidity___vascular_disease',\n",
    "    'comorbidity___hyperlipidemia', \n",
    "    'comorbidity___hypothyroidism',\n",
    "    'comorbidity___chronic_kidney_disease',\n",
    "    'comorbidity___autoimmune_disease', \n",
    "    #'age_surgery_years',\n",
    "    'radiotherapy___pre_surgery', \n",
    "    #'radiotherapy___post_surgery',\n",
    "    'chemotherapy___pre_surgery', \n",
    "    #'chemotherapy___post_surgery',\n",
    "    'urkens_classification___c', \n",
    "    'urkens_classification___r',\n",
    "    #'surgery_duration_min', \n",
    "    #'bmi', \n",
    "    #'skin_transplanted',\n",
    "    'prior_flap___non_bony', \n",
    "    #'plate_type___cad_mix'\n",
    "]"
   ]
  },
  {
   "cell_type": "markdown",
   "id": "ff81e5fb-dc7f-468d-bf21-d7bd8194bbea",
   "metadata": {
    "tags": []
   },
   "source": [
    "## Patient characteristics"
   ]
  },
  {
   "cell_type": "markdown",
   "id": "aa59fb7d-47a1-4476-9553-b2a0948e03c8",
   "metadata": {
    "jp-MarkdownHeadingCollapsed": true,
    "tags": []
   },
   "source": [
    "### Numeric variable"
   ]
  },
  {
   "cell_type": "code",
   "execution_count": 657,
   "id": "150967b5-2319-42c9-ab46-5de8c3cdeacd",
   "metadata": {
    "tags": []
   },
   "outputs": [],
   "source": [
    "def num_variable(variable):\n",
    "    cad_mix_values = df_df.loc[df_df['plate_type___cad_mix'], variable]\n",
    "    cad_long_values = df_df.loc[~df_df['plate_type___cad_mix'], variable]\n",
    "    \n",
    "    cad_mix_mean = round(cad_mix_values.mean(), 1)\n",
    "    cad_mix_std = round(cad_mix_values.std(), 1)\n",
    "    cad_long_mean = round(cad_long_values.mean(), 1)\n",
    "    cad_long_std = round(cad_long_values.std(), 1)\n",
    "    \n",
    "    overall_mean = round(df_df[variable].mean(), 1)\n",
    "    overall_std = round(df_df[variable].std(), 1)\n",
    "    \n",
    "    data = {\n",
    "        'Mix': [cad_mix_mean, cad_mix_std],\n",
    "        'Reco': [cad_long_mean, cad_long_std],\n",
    "        'Overall': [overall_mean, overall_std]\n",
    "    }\n",
    "    \n",
    "    df = pd.DataFrame(data, index=['mean', 'std'])\n",
    "    print(df)"
   ]
  },
  {
   "cell_type": "code",
   "execution_count": 658,
   "id": "65f37527-0051-4a5c-b700-4e4081f355f2",
   "metadata": {},
   "outputs": [],
   "source": [
    "def t_test(variable, df):\n",
    "\n",
    "    df_mix = df[df['plate_type___cad_mix'] == True]\n",
    "    df_reco = df[df['plate_type___cad_mix'] == False]\n",
    "    array_mix = df_mix[variable].values.astype('int')\n",
    "    array_reco = df_reco[variable].values.astype('int')\n",
    "    t_test = ttest_ind(a=array_mix, b=array_reco, nan_policy='raise')\n",
    "    print(num_variable(variable))\n",
    "    print(f\"p-value: {t_test.pvalue}\")"
   ]
  },
  {
   "cell_type": "markdown",
   "id": "372d248d-e68a-4daa-9616-597ad478a47e",
   "metadata": {
    "tags": []
   },
   "source": [
    "### Nominal variables"
   ]
  },
  {
   "cell_type": "code",
   "execution_count": 659,
   "id": "5d97ed20-2ea9-4f3e-ac2d-54e7bab4f295",
   "metadata": {
    "tags": []
   },
   "outputs": [],
   "source": [
    "def cat_variable(variable):\n",
    "    # Absolute frequencies\n",
    "    cad_mix_counts = df_df.loc[df_df['plate_type___cad_mix'], variable].value_counts()\n",
    "    cad_long_counts = df_df.loc[~df_df['plate_type___cad_mix'], variable].value_counts()\n",
    "    overall_counts = df_df[variable].value_counts()\n",
    "    \n",
    "    # Relative probabilities\n",
    "    cad_mix_probs = round((cad_mix_counts / cad_mix_counts.sum())*100, 1)\n",
    "    cad_long_probs = round((cad_long_counts / cad_long_counts.sum())*100, 1)\n",
    "    overall_probs = round((overall_counts / overall_counts.sum())*100, 1)\n",
    "    \n",
    "    # Create DataFrames for absolute frequencies and relative probabilities\n",
    "    absolute_freq_df = pd.DataFrame({\n",
    "        'Mix': cad_mix_counts,\n",
    "        'Reco': cad_long_counts,\n",
    "        'Overall': overall_counts\n",
    "    }).fillna(0)  # Fill NaN values with 0\n",
    "    \n",
    "    relative_prob_df = pd.DataFrame({\n",
    "        'Mix': cad_mix_probs,\n",
    "        'Reco': cad_long_probs,\n",
    "        'Overall': overall_probs\n",
    "    }).fillna(0)  # Fill NaN values with 0\n",
    "    \n",
    "    print(\"Absolute frequencies:\")\n",
    "    print(absolute_freq_df)\n",
    "    \n",
    "    print(\"\\nRelative probabilities:\")\n",
    "    print(relative_prob_df)"
   ]
  },
  {
   "cell_type": "code",
   "execution_count": 660,
   "id": "3df72aab-78c0-4c40-992d-82f762dc3da4",
   "metadata": {
    "tags": []
   },
   "outputs": [],
   "source": [
    "def chi2_test(variable, df):\n",
    "    contingency = pd.crosstab(df[variable], df['plate_type___cad_mix'])\n",
    "    chi2_object = chi2_contingency(observed=contingency, correction=False)\n",
    "    N = contingency.sum().sum()\n",
    "    n_minus_1 = chi2_object.statistic * (N - 1) / N\n",
    "    p_value = chi2.sf(n_minus_1, 1)\n",
    "    print(cat_variable(variable))\n",
    "    print(f\"p-value: {p_value}\")"
   ]
  },
  {
   "cell_type": "code",
   "execution_count": 692,
   "id": "f165f8e2-2f72-4f34-92b2-c3f7ff61d274",
   "metadata": {
    "tags": []
   },
   "outputs": [],
   "source": [
    "def barnard_test(variable, df):\n",
    "    contingency = pd.crosstab(df[variable], df['plate_type___cad_mix'])\n",
    "    obj = barnard_exact(contingency)\n",
    "    print(cat_variable(variable))\n",
    "    print(f\"p-value: {obj.pvalue}\")"
   ]
  },
  {
   "cell_type": "markdown",
   "id": "adcb6ed8-e5c4-41ca-a255-3229c136b825",
   "metadata": {
    "tags": []
   },
   "source": [
    "### Results"
   ]
  },
  {
   "cell_type": "code",
   "execution_count": 661,
   "id": "fbe62a23-cffb-4c35-b551-105915bc16d4",
   "metadata": {
    "tags": []
   },
   "outputs": [
    {
     "name": "stdout",
     "output_type": "stream",
     "text": [
      "       Mix  Reco  Overall\n",
      "mean  62.3  63.0     62.8\n",
      "std    7.5   9.3      8.7\n",
      "None\n",
      "p-value: 0.7797515178913486\n"
     ]
    }
   ],
   "source": [
    "t_test('age_surgery_years', df_df)"
   ]
  },
  {
   "cell_type": "code",
   "execution_count": 662,
   "id": "97e6462a-b61b-4a62-92a2-0bfa4b34d0db",
   "metadata": {
    "tags": []
   },
   "outputs": [
    {
     "name": "stdout",
     "output_type": "stream",
     "text": [
      "Absolute frequencies:\n",
      "            Mix  Reco  Overall\n",
      "sex_female                    \n",
      "False        14    30       44\n",
      "True          5    10       15\n",
      "\n",
      "Relative probabilities:\n",
      "             Mix  Reco  Overall\n",
      "sex_female                     \n",
      "False       73.7  75.0     74.6\n",
      "True        26.3  25.0     25.4\n",
      "None\n",
      "p-value: 0.9143674293438667\n"
     ]
    }
   ],
   "source": [
    "chi2_test('sex_female', df_df)"
   ]
  },
  {
   "cell_type": "code",
   "execution_count": 663,
   "id": "a7756c0a-fabb-4e20-a778-24063ca0d80f",
   "metadata": {
    "tags": []
   },
   "outputs": [
    {
     "name": "stdout",
     "output_type": "stream",
     "text": [
      "            Mix  Reco  Overall\n",
      "mean  24.299999  23.0     23.4\n",
      "std    3.700000   4.2      4.1\n",
      "None\n",
      "p-value: 0.29794716373633423\n"
     ]
    }
   ],
   "source": [
    "t_test('bmi', df_df)"
   ]
  },
  {
   "cell_type": "code",
   "execution_count": 664,
   "id": "e4367a05-ba86-4cf8-873b-112693530ca9",
   "metadata": {
    "tags": []
   },
   "outputs": [
    {
     "name": "stdout",
     "output_type": "stream",
     "text": [
      "Absolute frequencies:\n",
      "                       Mix  Reco  Overall\n",
      "comorbidity___smoking                    \n",
      "False                   12    22       34\n",
      "True                     7    18       25\n",
      "\n",
      "Relative probabilities:\n",
      "                        Mix  Reco  Overall\n",
      "comorbidity___smoking                     \n",
      "False                  63.2  55.0     57.6\n",
      "True                   36.8  45.0     42.4\n",
      "None\n",
      "p-value: 0.5568847020132546\n"
     ]
    }
   ],
   "source": [
    "chi2_test('comorbidity___smoking', df_df)"
   ]
  },
  {
   "cell_type": "code",
   "execution_count": 688,
   "id": "9f688ce2-8a51-424a-915a-35eb2b577deb",
   "metadata": {
    "tags": []
   },
   "outputs": [
    {
     "name": "stdout",
     "output_type": "stream",
     "text": [
      "Absolute frequencies:\n",
      "                       Mix  Reco  Overall\n",
      "comorbidity___alcohol                    \n",
      "False                   14    29       43\n",
      "True                     5    11       16\n",
      "\n",
      "Relative probabilities:\n",
      "                        Mix  Reco  Overall\n",
      "comorbidity___alcohol                     \n",
      "False                  73.7  72.5     72.9\n",
      "True                   26.3  27.5     27.1\n",
      "None\n",
      "p-value: 0.9244828491119699\n"
     ]
    }
   ],
   "source": [
    "chi2_test('comorbidity___alcohol', df_df)"
   ]
  },
  {
   "cell_type": "code",
   "execution_count": 665,
   "id": "fb930958-89ce-423e-b8f4-06f4e4129205",
   "metadata": {
    "tags": []
   },
   "outputs": [
    {
     "name": "stdout",
     "output_type": "stream",
     "text": [
      "Absolute frequencies:\n",
      "                               Mix  Reco  Overall\n",
      "comorbidity___atherosclerosis                    \n",
      "False                           17    31       48\n",
      "True                             2     9       11\n",
      "\n",
      "Relative probabilities:\n",
      "                                Mix  Reco  Overall\n",
      "comorbidity___atherosclerosis                     \n",
      "False                          89.5  77.5     81.4\n",
      "True                           10.5  22.5     18.6\n",
      "None\n",
      "p-value: 0.2739391689162969\n"
     ]
    }
   ],
   "source": [
    "chi2_test('comorbidity___atherosclerosis', df_df)"
   ]
  },
  {
   "cell_type": "code",
   "execution_count": 666,
   "id": "bcf2c835-7850-45bb-aa37-070696e47547",
   "metadata": {
    "tags": []
   },
   "outputs": [
    {
     "name": "stdout",
     "output_type": "stream",
     "text": [
      "Absolute frequencies:\n",
      "                             Mix  Reco  Overall\n",
      "radiotherapy___post_surgery                    \n",
      "True                          12    23       35\n",
      "False                          7    17       24\n",
      "\n",
      "Relative probabilities:\n",
      "                              Mix  Reco  Overall\n",
      "radiotherapy___post_surgery                     \n",
      "True                         63.2  57.5     59.3\n",
      "False                        36.8  42.5     40.7\n",
      "None\n",
      "p-value: 0.6819083187890074\n"
     ]
    }
   ],
   "source": [
    "chi2_test('radiotherapy___post_surgery', df_df)"
   ]
  },
  {
   "cell_type": "code",
   "execution_count": 667,
   "id": "a8c4f518-4c9d-4d9f-b2a1-23a73df30e84",
   "metadata": {
    "tags": []
   },
   "outputs": [
    {
     "name": "stdout",
     "output_type": "stream",
     "text": [
      "Absolute frequencies:\n",
      "                             Mix  Reco  Overall\n",
      "chemotherapy___post_surgery                    \n",
      "False                         14    21       35\n",
      "True                           5    19       24\n",
      "\n",
      "Relative probabilities:\n",
      "                              Mix  Reco  Overall\n",
      "chemotherapy___post_surgery                     \n",
      "False                        73.7  52.5     59.3\n",
      "True                         26.3  47.5     40.7\n",
      "None\n",
      "p-value: 0.12488364142845684\n"
     ]
    }
   ],
   "source": [
    "chi2_test('chemotherapy___post_surgery', df_df)"
   ]
  },
  {
   "cell_type": "code",
   "execution_count": 668,
   "id": "a2527507-f99d-47f4-aacf-1b3f80879860",
   "metadata": {
    "tags": []
   },
   "outputs": [
    {
     "name": "stdout",
     "output_type": "stream",
     "text": [
      "        Mix   Reco  Overall\n",
      "mean  702.4  576.5    617.1\n",
      "std   107.3  102.2    118.8\n",
      "None\n",
      "p-value: 5.660997643798076e-05\n"
     ]
    }
   ],
   "source": [
    "t_test('surgery_duration_min', df_df)"
   ]
  },
  {
   "cell_type": "code",
   "execution_count": 669,
   "id": "5b8e1141-53ff-4b47-8f4a-d0070bd41998",
   "metadata": {
    "tags": []
   },
   "outputs": [
    {
     "name": "stdout",
     "output_type": "stream",
     "text": [
      "Absolute frequencies:\n",
      "                   Mix  Reco  Overall\n",
      "skin_transplanted                    \n",
      "True                14    33       47\n",
      "False                5     7       12\n",
      "\n",
      "Relative probabilities:\n",
      "                    Mix  Reco  Overall\n",
      "skin_transplanted                     \n",
      "True               73.7  82.5     79.7\n",
      "False              26.3  17.5     20.3\n",
      "None\n",
      "p-value: 0.43576309397587243\n"
     ]
    }
   ],
   "source": [
    "chi2_test('skin_transplanted', df_df)"
   ]
  },
  {
   "cell_type": "code",
   "execution_count": 670,
   "id": "72a53726-1565-4ef7-9231-3d0e9a448129",
   "metadata": {
    "tags": []
   },
   "outputs": [
    {
     "name": "stdout",
     "output_type": "stream",
     "text": [
      "Absolute frequencies:\n",
      "                     Mix  Reco  Overall\n",
      "follow_up_completed                    \n",
      "True                  12    24       36\n",
      "False                  7    16       23\n",
      "\n",
      "Relative probabilities:\n",
      "                      Mix  Reco  Overall\n",
      "follow_up_completed                     \n",
      "True                 63.2  60.0     61.0\n",
      "False                36.8  40.0     39.0\n",
      "None\n",
      "p-value: 0.8177723874627011\n"
     ]
    }
   ],
   "source": [
    "chi2_test('follow_up_completed', df_df)"
   ]
  },
  {
   "cell_type": "markdown",
   "id": "afc40215-1a3a-4721-a755-891ccab76d3a",
   "metadata": {
    "jp-MarkdownHeadingCollapsed": true,
    "tags": []
   },
   "source": [
    "## Logistic Regression"
   ]
  },
  {
   "cell_type": "code",
   "execution_count": 671,
   "id": "90b6d611-7901-4a17-a444-0265b4c55989",
   "metadata": {
    "tags": []
   },
   "outputs": [
    {
     "data": {
      "text/plain": [
       "const                            132.988364\n",
       "sex_female                         1.195649\n",
       "comorbidity___smoking              1.559293\n",
       "comorbidity___alcohol              1.617233\n",
       "comorbidity___atherosclerosis      1.102941\n",
       "age_surgery_years                  1.255529\n",
       "radiotherapy___post_surgery        1.284153\n",
       "chemotherapy___post_surgery        1.432032\n",
       "surgery_duration_min               1.632967\n",
       "bmi                                1.138792\n",
       "skin_transplanted                  1.260866\n",
       "plate_type___cad_mix               1.493307\n",
       "dtype: float64"
      ]
     },
     "execution_count": 671,
     "metadata": {},
     "output_type": "execute_result"
    }
   ],
   "source": [
    "vif_df, y = prp.get_x_y(df=df_df, outcome='any_complication', min_follow_up_days=91, scaler='None', drop_cols=drop_cols, inverse_pos=False)\n",
    "boolean_columns = vif_df.select_dtypes(include=bool).columns\n",
    "vif_df[boolean_columns] = vif_df[boolean_columns].astype('int')\n",
    "numeric_columns = vif_df.select_dtypes(include='number').columns\n",
    "vif_df[numeric_columns] =vif_df[numeric_columns].astype('float64')\n",
    "X = add_constant(vif_df)\n",
    "pd.Series([variance_inflation_factor(X.values, i) \n",
    "               for i in range(X.shape[1])], \n",
    "              index=X.columns)"
   ]
  },
  {
   "cell_type": "markdown",
   "id": "98354246-6f7e-4e5b-b72c-ff8b2e637747",
   "metadata": {
    "tags": []
   },
   "source": [
    "### Any complication"
   ]
  },
  {
   "cell_type": "code",
   "execution_count": 672,
   "id": "aa6d4693-01be-4395-a22c-4d023a9520a6",
   "metadata": {
    "tags": []
   },
   "outputs": [
    {
     "data": {
      "text/plain": [
       "comorbidity___autoimmune_disease\n",
       "False    56\n",
       "True      3\n",
       "Name: count, dtype: Int64"
      ]
     },
     "execution_count": 672,
     "metadata": {},
     "output_type": "execute_result"
    }
   ],
   "source": [
    "df_df['comorbidity___autoimmune_disease'].value_counts()"
   ]
  },
  {
   "cell_type": "code",
   "execution_count": 673,
   "id": "fe5e6cb1-dc89-4ad0-bf5b-51af30dd9d8c",
   "metadata": {
    "tags": []
   },
   "outputs": [
    {
     "name": "stdout",
     "output_type": "stream",
     "text": [
      "Optimization terminated successfully    (Exit mode 0)\n",
      "            Current function value: 0.4032554132111667\n",
      "            Iterations: 66\n",
      "            Function evaluations: 66\n",
      "            Gradient evaluations: 66\n",
      "                           Logit Regression Results                           \n",
      "==============================================================================\n",
      "Dep. Variable:       any_complication   No. Observations:                   59\n",
      "Model:                          Logit   Df Residuals:                       47\n",
      "Method:                           MLE   Df Model:                           11\n",
      "Date:                Tue, 05 Mar 2024   Pseudo R-squ.:                  0.3284\n",
      "Time:                        19:51:04   Log-Likelihood:                -23.792\n",
      "converged:                       True   LL-Null:                       -35.428\n",
      "Covariance Type:            nonrobust   LLR p-value:                   0.01618\n",
      "=================================================================================================\n",
      "                                    coef    std err          z      P>|z|      [0.025      0.975]\n",
      "-------------------------------------------------------------------------------------------------\n",
      "Intercept                         1.6140      1.122      1.438      0.150      -0.586       3.814\n",
      "sex_female                       -1.3592      0.895     -1.519      0.129      -3.113       0.395\n",
      "comorbidity___smoking             0.1499      0.982      0.153      0.879      -1.775       2.074\n",
      "comorbidity___alcohol             0.6312      1.142      0.553      0.580      -1.607       2.869\n",
      "comorbidity___atherosclerosis     2.7715      1.423      1.948      0.051      -0.017       5.560\n",
      "age_surgery_years                -0.7439      0.409     -1.820      0.069      -1.545       0.057\n",
      "radiotherapy___post_surgery      -2.3106      0.984     -2.349      0.019      -4.239      -0.382\n",
      "chemotherapy___post_surgery       1.0005      0.939      1.065      0.287      -0.841       2.842\n",
      "surgery_duration_min             -0.3438      0.305     -1.126      0.260      -0.942       0.254\n",
      "bmi                              -0.3317      0.279     -1.190      0.234      -0.878       0.215\n",
      "skin_transplanted                -0.4171      1.063     -0.393      0.695      -2.500       1.666\n",
      "plate_type___cad_mix              2.1744      1.123      1.937      0.053      -0.026       4.375\n",
      "=================================================================================================\n"
     ]
    },
    {
     "name": "stderr",
     "output_type": "stream",
     "text": [
      "n_quantiles (1000) is greater than the total number of samples (59). n_quantiles is set to n_samples.\n"
     ]
    }
   ],
   "source": [
    "logreg_regularized('any_complication', QuantileTransformer(output_distribution='normal'), df_df, 'l1', alpha=0)"
   ]
  },
  {
   "cell_type": "markdown",
   "id": "7dd90118-c3e2-46a9-95d1-ea1a4026ee81",
   "metadata": {
    "tags": []
   },
   "source": [
    "### Soft tissue complication"
   ]
  },
  {
   "cell_type": "code",
   "execution_count": 674,
   "id": "90a1ce44-9c7d-4488-bd32-55f50070ccfd",
   "metadata": {
    "tags": []
   },
   "outputs": [
    {
     "data": {
      "text/plain": [
       "soft_tissue_complication\n",
       "True     35\n",
       "False    24\n",
       "Name: count, dtype: Int64"
      ]
     },
     "execution_count": 674,
     "metadata": {},
     "output_type": "execute_result"
    }
   ],
   "source": [
    "df_df['soft_tissue_complication'].value_counts()"
   ]
  },
  {
   "cell_type": "code",
   "execution_count": 675,
   "id": "0ad41aad-375c-4c73-ba35-898bfd5cb1dd",
   "metadata": {
    "tags": []
   },
   "outputs": [
    {
     "name": "stdout",
     "output_type": "stream",
     "text": [
      "Optimization terminated successfully    (Exit mode 0)\n",
      "            Current function value: 0.5361068224720393\n",
      "            Iterations: 57\n",
      "            Function evaluations: 57\n",
      "            Gradient evaluations: 57\n",
      "                              Logit Regression Results                              \n",
      "====================================================================================\n",
      "Dep. Variable:     soft_tissue_complication   No. Observations:                   59\n",
      "Model:                                Logit   Df Residuals:                       47\n",
      "Method:                                 MLE   Df Model:                           11\n",
      "Date:                      Tue, 05 Mar 2024   Pseudo R-squ.:                  0.2065\n",
      "Time:                              19:51:04   Log-Likelihood:                -31.630\n",
      "converged:                             True   LL-Null:                       -39.864\n",
      "Covariance Type:                  nonrobust   LLR p-value:                    0.1246\n",
      "=================================================================================================\n",
      "                                    coef    std err          z      P>|z|      [0.025      0.975]\n",
      "-------------------------------------------------------------------------------------------------\n",
      "Intercept                        -0.2802      0.961     -0.291      0.771      -2.164       1.604\n",
      "sex_female                       -0.5040      0.750     -0.672      0.501      -1.973       0.965\n",
      "comorbidity___smoking            -1.1712      0.843     -1.389      0.165      -2.824       0.482\n",
      "comorbidity___alcohol             2.2903      1.076      2.128      0.033       0.181       4.400\n",
      "comorbidity___atherosclerosis     1.8823      1.059      1.778      0.075      -0.192       3.957\n",
      "age_surgery_years                -0.2668      0.256     -1.043      0.297      -0.768       0.235\n",
      "radiotherapy___post_surgery      -1.1139      0.726     -1.534      0.125      -2.537       0.310\n",
      "chemotherapy___post_surgery      -0.1279      0.743     -0.172      0.863      -1.585       1.329\n",
      "surgery_duration_min             -0.6752      0.315     -2.146      0.032      -1.292      -0.059\n",
      "bmi                              -0.2514      0.244     -1.032      0.302      -0.729       0.226\n",
      "skin_transplanted                 1.0348      0.922      1.123      0.262      -0.772       2.841\n",
      "plate_type___cad_mix              1.2334      0.823      1.498      0.134      -0.380       2.847\n",
      "=================================================================================================\n"
     ]
    },
    {
     "name": "stderr",
     "output_type": "stream",
     "text": [
      "n_quantiles (1000) is greater than the total number of samples (59). n_quantiles is set to n_samples.\n"
     ]
    }
   ],
   "source": [
    "logreg_regularized('soft_tissue_complication', QuantileTransformer(output_distribution='normal'), df_df, 'l1', alpha=0)"
   ]
  },
  {
   "cell_type": "markdown",
   "id": "16a342df-f25c-4c06-b585-92799d019fa3",
   "metadata": {
    "tags": []
   },
   "source": [
    "### Nonunion"
   ]
  },
  {
   "cell_type": "code",
   "execution_count": 676,
   "id": "d026847a-4fc5-41f8-87d5-daa3bc6fbeb9",
   "metadata": {
    "tags": []
   },
   "outputs": [
    {
     "data": {
      "text/plain": [
       "nonunion\n",
       "True     21\n",
       "False    19\n",
       "Name: count, dtype: Int64"
      ]
     },
     "execution_count": 676,
     "metadata": {},
     "output_type": "execute_result"
    }
   ],
   "source": [
    "df_df['nonunion'].value_counts()"
   ]
  },
  {
   "cell_type": "code",
   "execution_count": 677,
   "id": "e69e1d7b-0567-4b02-90c9-1ec40ea9112c",
   "metadata": {
    "tags": []
   },
   "outputs": [
    {
     "name": "stdout",
     "output_type": "stream",
     "text": [
      "Optimization terminated successfully    (Exit mode 0)\n",
      "            Current function value: 0.5254445105478194\n",
      "            Iterations: 60\n",
      "            Function evaluations: 60\n",
      "            Gradient evaluations: 60\n",
      "                           Logit Regression Results                           \n",
      "==============================================================================\n",
      "Dep. Variable:               nonunion   No. Observations:                   40\n",
      "Model:                          Logit   Df Residuals:                       28\n",
      "Method:                           MLE   Df Model:                           11\n",
      "Date:                Tue, 05 Mar 2024   Pseudo R-squ.:                  0.2406\n",
      "Time:                        19:51:04   Log-Likelihood:                -21.018\n",
      "converged:                       True   LL-Null:                       -27.676\n",
      "Covariance Type:            nonrobust   LLR p-value:                    0.2732\n",
      "=================================================================================================\n",
      "                                    coef    std err          z      P>|z|      [0.025      0.975]\n",
      "-------------------------------------------------------------------------------------------------\n",
      "Intercept                         0.7587      1.178      0.644      0.519      -1.550       3.067\n",
      "sex_female                       -0.8026      1.113     -0.721      0.471      -2.984       1.379\n",
      "comorbidity___smoking            -0.2475      0.900     -0.275      0.783      -2.011       1.516\n",
      "comorbidity___alcohol             1.2046      1.099      1.096      0.273      -0.949       3.358\n",
      "comorbidity___atherosclerosis     0.1194      1.122      0.106      0.915      -2.080       2.319\n",
      "age_surgery_years                -0.4131      0.409     -1.010      0.312      -1.214       0.388\n",
      "radiotherapy___post_surgery      -0.2120      1.029     -0.206      0.837      -2.229       1.805\n",
      "chemotherapy___post_surgery       1.1680      1.011      1.156      0.248      -0.813       3.149\n",
      "surgery_duration_min             -0.5423      0.385     -1.408      0.159      -1.297       0.213\n",
      "bmi                               0.1748      0.318      0.549      0.583      -0.449       0.799\n",
      "skin_transplanted                -1.9779      1.167     -1.695      0.090      -4.265       0.309\n",
      "plate_type___cad_mix              1.2416      1.033      1.202      0.229      -0.783       3.266\n",
      "=================================================================================================\n"
     ]
    },
    {
     "name": "stderr",
     "output_type": "stream",
     "text": [
      "n_quantiles (1000) is greater than the total number of samples (40). n_quantiles is set to n_samples.\n"
     ]
    }
   ],
   "source": [
    "logreg_regularized('nonunion', QuantileTransformer(output_distribution='normal'), df_df, 'l1', alpha=0)"
   ]
  },
  {
   "cell_type": "markdown",
   "id": "88e6d8e8-b2c2-4c62-a01d-4f1698224304",
   "metadata": {},
   "source": [
    "### Wound infection"
   ]
  },
  {
   "cell_type": "code",
   "execution_count": 678,
   "id": "d71f4db7-8116-4ca1-bec2-8c5ee6f126e7",
   "metadata": {
    "tags": []
   },
   "outputs": [
    {
     "data": {
      "text/plain": [
       "wound_infection\n",
       "False    38\n",
       "True     21\n",
       "Name: count, dtype: Int64"
      ]
     },
     "execution_count": 678,
     "metadata": {},
     "output_type": "execute_result"
    }
   ],
   "source": [
    "df_df['wound_infection'].value_counts()"
   ]
  },
  {
   "cell_type": "code",
   "execution_count": 679,
   "id": "938a48d7-5d5c-4cc8-914a-a5a2087a1011",
   "metadata": {
    "tags": []
   },
   "outputs": [
    {
     "name": "stdout",
     "output_type": "stream",
     "text": [
      "Optimization terminated successfully    (Exit mode 0)\n",
      "            Current function value: 0.4962138845688427\n",
      "            Iterations: 60\n",
      "            Function evaluations: 60\n",
      "            Gradient evaluations: 60\n",
      "                           Logit Regression Results                           \n",
      "==============================================================================\n",
      "Dep. Variable:        wound_infection   No. Observations:                   59\n",
      "Model:                          Logit   Df Residuals:                       47\n",
      "Method:                           MLE   Df Model:                           11\n",
      "Date:                Tue, 05 Mar 2024   Pseudo R-squ.:                  0.2378\n",
      "Time:                        19:51:04   Log-Likelihood:                -29.277\n",
      "converged:                       True   LL-Null:                       -38.411\n",
      "Covariance Type:            nonrobust   LLR p-value:                   0.07553\n",
      "=================================================================================================\n",
      "                                    coef    std err          z      P>|z|      [0.025      0.975]\n",
      "-------------------------------------------------------------------------------------------------\n",
      "Intercept                        -0.8070      0.951     -0.849      0.396      -2.670       1.056\n",
      "sex_female                       -0.2694      0.857     -0.314      0.753      -1.950       1.411\n",
      "comorbidity___smoking            -0.5145      0.861     -0.598      0.550      -2.201       1.172\n",
      "comorbidity___alcohol             2.8224      1.041      2.712      0.007       0.782       4.862\n",
      "comorbidity___atherosclerosis     0.0973      0.867      0.112      0.911      -1.602       1.796\n",
      "age_surgery_years                -0.2171      0.292     -0.743      0.457      -0.790       0.356\n",
      "radiotherapy___post_surgery      -1.8154      0.843     -2.154      0.031      -3.467      -0.164\n",
      "chemotherapy___post_surgery      -0.2640      0.788     -0.335      0.738      -1.809       1.281\n",
      "surgery_duration_min             -0.6699      0.315     -2.130      0.033      -1.286      -0.053\n",
      "bmi                              -0.0952      0.290     -0.328      0.743      -0.664       0.474\n",
      "skin_transplanted                 0.2691      0.854      0.315      0.753      -1.405       1.943\n",
      "plate_type___cad_mix              1.5476      0.882      1.755      0.079      -0.180       3.276\n",
      "=================================================================================================\n"
     ]
    },
    {
     "name": "stderr",
     "output_type": "stream",
     "text": [
      "n_quantiles (1000) is greater than the total number of samples (59). n_quantiles is set to n_samples.\n"
     ]
    }
   ],
   "source": [
    "logreg_regularized('wound_infection', QuantileTransformer(output_distribution='normal'), df_df, 'l1', alpha=0)"
   ]
  },
  {
   "cell_type": "markdown",
   "id": "1395f15b-dd99-4223-960d-fc01dd5988bb",
   "metadata": {},
   "source": [
    "### Plate exposure"
   ]
  },
  {
   "cell_type": "code",
   "execution_count": 680,
   "id": "a8d0c07b-b6e4-4d10-8f12-b405f4a49e80",
   "metadata": {
    "tags": []
   },
   "outputs": [
    {
     "data": {
      "text/plain": [
       "complication_plate___exposure\n",
       "False    39\n",
       "True     20\n",
       "Name: count, dtype: Int64"
      ]
     },
     "execution_count": 680,
     "metadata": {},
     "output_type": "execute_result"
    }
   ],
   "source": [
    "df_df['complication_plate___exposure'].value_counts()"
   ]
  },
  {
   "cell_type": "code",
   "execution_count": 681,
   "id": "b149278b-d676-4ca9-8b21-ce3641a07b07",
   "metadata": {
    "tags": []
   },
   "outputs": [
    {
     "name": "stderr",
     "output_type": "stream",
     "text": [
      "n_quantiles (1000) is greater than the total number of samples (59). n_quantiles is set to n_samples.\n"
     ]
    },
    {
     "name": "stdout",
     "output_type": "stream",
     "text": [
      "Optimization terminated successfully    (Exit mode 0)\n",
      "            Current function value: 0.4744457710061555\n",
      "            Iterations: 62\n",
      "            Function evaluations: 62\n",
      "            Gradient evaluations: 62\n",
      "                                 Logit Regression Results                                \n",
      "=========================================================================================\n",
      "Dep. Variable:     complication_plate___exposure   No. Observations:                   59\n",
      "Model:                                     Logit   Df Residuals:                       47\n",
      "Method:                                      MLE   Df Model:                           11\n",
      "Date:                           Tue, 05 Mar 2024   Pseudo R-squ.:                  0.2591\n",
      "Time:                                   19:51:04   Log-Likelihood:                -27.992\n",
      "converged:                                  True   LL-Null:                       -37.781\n",
      "Covariance Type:                       nonrobust   LLR p-value:                   0.05148\n",
      "=================================================================================================\n",
      "                                    coef    std err          z      P>|z|      [0.025      0.975]\n",
      "-------------------------------------------------------------------------------------------------\n",
      "Intercept                        -1.2732      1.051     -1.212      0.226      -3.332       0.786\n",
      "sex_female                       -0.3984      0.886     -0.450      0.653      -2.134       1.338\n",
      "comorbidity___smoking            -1.2754      0.991     -1.287      0.198      -3.218       0.667\n",
      "comorbidity___alcohol             3.0553      1.220      2.503      0.012       0.663       5.447\n",
      "comorbidity___atherosclerosis     1.5145      0.888      1.705      0.088      -0.226       3.255\n",
      "age_surgery_years                -0.2969      0.322     -0.923      0.356      -0.927       0.333\n",
      "radiotherapy___post_surgery      -1.3957      0.808     -1.728      0.084      -2.979       0.187\n",
      "chemotherapy___post_surgery      -1.0315      0.824     -1.252      0.210      -2.646       0.583\n",
      "surgery_duration_min             -0.3906      0.308     -1.269      0.204      -0.994       0.213\n",
      "bmi                              -0.0504      0.312     -0.161      0.872      -0.662       0.561\n",
      "skin_transplanted                 0.9547      0.933      1.024      0.306      -0.873       2.782\n",
      "plate_type___cad_mix              1.4108      0.922      1.530      0.126      -0.396       3.218\n",
      "=================================================================================================\n"
     ]
    }
   ],
   "source": [
    "logreg_regularized('complication_plate___exposure', QuantileTransformer(output_distribution='normal'), df_df, 'l1', alpha=0)"
   ]
  },
  {
   "cell_type": "markdown",
   "id": "176ca6ec-2a89-4246-a6c3-8eb782f06bc1",
   "metadata": {
    "tags": []
   },
   "source": [
    "## Univariate Analysis"
   ]
  },
  {
   "cell_type": "markdown",
   "id": "227520da-2dbd-4f4d-a575-45ca55c8f230",
   "metadata": {},
   "source": [
    "### Plate failure"
   ]
  },
  {
   "cell_type": "code",
   "execution_count": 682,
   "id": "b0eda96c-c02a-40e7-a6e4-522b0cce3f96",
   "metadata": {
    "tags": []
   },
   "outputs": [
    {
     "name": "stdout",
     "output_type": "stream",
     "text": [
      "Absolute frequencies:\n",
      "               Mix  Reco  Overall\n",
      "plate_failure                    \n",
      "False           15    39       54\n",
      "True             4     1        5\n",
      "\n",
      "Relative probabilities:\n",
      "                Mix  Reco  Overall\n",
      "plate_failure                     \n",
      "False          78.9  97.5     91.5\n",
      "True           21.1   2.5      8.5\n",
      "None\n",
      "p-value: 0.017762871103301235\n"
     ]
    }
   ],
   "source": [
    "chi2_test('plate_failure', df_df)"
   ]
  },
  {
   "cell_type": "markdown",
   "id": "0bd262fe-9817-4f42-be61-6e2f742283bf",
   "metadata": {},
   "source": [
    "### Any complication"
   ]
  },
  {
   "cell_type": "code",
   "execution_count": 683,
   "id": "2381281f-b5cc-4869-849c-356ba8aa510d",
   "metadata": {
    "tags": []
   },
   "outputs": [
    {
     "name": "stdout",
     "output_type": "stream",
     "text": [
      "Absolute frequencies:\n",
      "                  Mix  Reco  Overall\n",
      "any_complication                    \n",
      "True               15    27       42\n",
      "False               4    13       17\n",
      "\n",
      "Relative probabilities:\n",
      "                   Mix  Reco  Overall\n",
      "any_complication                     \n",
      "True              78.9  67.5     71.2\n",
      "False             21.1  32.5     28.8\n",
      "None\n",
      "p-value: 0.36841266267085904\n"
     ]
    }
   ],
   "source": [
    "chi2_test('any_complication', df_df)"
   ]
  },
  {
   "cell_type": "markdown",
   "id": "ad3aecfa-52f4-4359-b5fd-e50be6c16585",
   "metadata": {},
   "source": [
    "### Soft tissue complication"
   ]
  },
  {
   "cell_type": "code",
   "execution_count": 684,
   "id": "05db907c-79fc-4f0d-9a57-5b40294c3df3",
   "metadata": {
    "tags": []
   },
   "outputs": [
    {
     "name": "stdout",
     "output_type": "stream",
     "text": [
      "Absolute frequencies:\n",
      "                          Mix  Reco  Overall\n",
      "soft_tissue_complication                    \n",
      "True                       11    24       35\n",
      "False                       8    16       24\n",
      "\n",
      "Relative probabilities:\n",
      "                           Mix  Reco  Overall\n",
      "soft_tissue_complication                     \n",
      "True                      57.9  60.0     59.3\n",
      "False                     42.1  40.0     40.7\n",
      "None\n",
      "p-value: 0.8787876895620828\n"
     ]
    }
   ],
   "source": [
    "chi2_test('soft_tissue_complication', df_df)"
   ]
  },
  {
   "cell_type": "markdown",
   "id": "cf706731-f3c2-4b84-be7d-888219a9fac5",
   "metadata": {},
   "source": [
    "### Nonunion"
   ]
  },
  {
   "cell_type": "code",
   "execution_count": 685,
   "id": "8836a7e8-a925-4231-a87d-ffebd35e1ff1",
   "metadata": {
    "tags": []
   },
   "outputs": [
    {
     "name": "stdout",
     "output_type": "stream",
     "text": [
      "Absolute frequencies:\n",
      "          Mix  Reco  Overall\n",
      "nonunion                    \n",
      "False       6    13       19\n",
      "True        8    13       21\n",
      "\n",
      "Relative probabilities:\n",
      "           Mix  Reco  Overall\n",
      "nonunion                     \n",
      "False     42.9  50.0     47.5\n",
      "True      57.1  50.0     52.5\n",
      "None\n",
      "p-value: 0.6700657354052906\n"
     ]
    }
   ],
   "source": [
    "chi2_test('nonunion', df_df)"
   ]
  },
  {
   "cell_type": "markdown",
   "id": "ba24d1ab-51a2-4ebd-9d71-e7d1c6ea85b8",
   "metadata": {},
   "source": [
    "### Wound infection"
   ]
  },
  {
   "cell_type": "code",
   "execution_count": 686,
   "id": "7e1050af-f98c-4855-b7b4-a1b7fdf74398",
   "metadata": {
    "tags": []
   },
   "outputs": [
    {
     "name": "stdout",
     "output_type": "stream",
     "text": [
      "Absolute frequencies:\n",
      "                 Mix  Reco  Overall\n",
      "wound_infection                    \n",
      "False             11    27       38\n",
      "True               8    13       21\n",
      "\n",
      "Relative probabilities:\n",
      "                  Mix  Reco  Overall\n",
      "wound_infection                     \n",
      "False            57.9  67.5     64.4\n",
      "True             42.1  32.5     35.6\n",
      "None\n",
      "p-value: 0.47529792916920766\n"
     ]
    }
   ],
   "source": [
    "chi2_test('wound_infection', df_df)"
   ]
  },
  {
   "cell_type": "markdown",
   "id": "88509ba5-69e1-4867-b6e1-0b046cc352f3",
   "metadata": {},
   "source": [
    "### Plate exposure"
   ]
  },
  {
   "cell_type": "code",
   "execution_count": 687,
   "id": "b514a2e3-16ba-430a-9034-6c1c9d6eca26",
   "metadata": {
    "tags": []
   },
   "outputs": [
    {
     "name": "stdout",
     "output_type": "stream",
     "text": [
      "Absolute frequencies:\n",
      "                               Mix  Reco  Overall\n",
      "complication_plate___exposure                    \n",
      "False                           11    28       39\n",
      "True                             8    12       20\n",
      "\n",
      "Relative probabilities:\n",
      "                                Mix  Reco  Overall\n",
      "complication_plate___exposure                     \n",
      "False                          57.9  70.0     66.1\n",
      "True                           42.1  30.0     33.9\n",
      "None\n",
      "p-value: 0.3628155101053636\n"
     ]
    }
   ],
   "source": [
    "chi2_test('complication_plate___exposure', df_df)"
   ]
  }
 ],
 "metadata": {
  "kernelspec": {
   "display_name": "Python 3 (ipykernel)",
   "language": "python",
   "name": "python3"
  },
  "language_info": {
   "codemirror_mode": {
    "name": "ipython",
    "version": 3
   },
   "file_extension": ".py",
   "mimetype": "text/x-python",
   "name": "python",
   "nbconvert_exporter": "python",
   "pygments_lexer": "ipython3",
   "version": "3.11.5"
  }
 },
 "nbformat": 4,
 "nbformat_minor": 5
}
