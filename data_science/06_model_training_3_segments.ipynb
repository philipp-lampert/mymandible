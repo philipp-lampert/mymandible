{
 "cells": [
  {
   "cell_type": "markdown",
   "id": "15aaf6a6-5ad4-4cc0-bdf6-7a082028e6ae",
   "metadata": {},
   "source": [
    "# Model training for 3-segment reconstructions"
   ]
  },
  {
   "cell_type": "markdown",
   "id": "2d7d8b97-fc08-4efb-8d71-702da396f8ce",
   "metadata": {
    "tags": []
   },
   "source": [
    "## Import"
   ]
  },
  {
   "cell_type": "code",
   "execution_count": 347,
   "id": "d84553f8-5de5-427d-bef2-bdceb3d07a24",
   "metadata": {
    "tags": []
   },
   "outputs": [],
   "source": [
    "import warnings\n",
    "import numpy as np\n",
    "import pandas as pd\n",
    "import copy\n",
    "from statistics import mean, stdev\n",
    "from sklearn.preprocessing import QuantileTransformer\n",
    "from sklearn.metrics import make_scorer, matthews_corrcoef, f1_score, accuracy_score, average_precision_score, roc_auc_score, brier_score_loss\n",
    "from sklearn.model_selection import cross_validate, StratifiedKFold, RepeatedStratifiedKFold\n",
    "from sklearn.linear_model import LogisticRegression \n",
    "from sklearn.neighbors import KNeighborsClassifier\n",
    "from sklearn.ensemble import RandomForestClassifier\n",
    "from xgboost import XGBClassifier\n",
    "from scipy.stats import chi2_contingency\n",
    "import shap\n",
    "import statsmodels.formula.api as smf\n",
    "import seaborn as sns\n",
    "import matplotlib.pyplot as plt"
   ]
  },
  {
   "cell_type": "code",
   "execution_count": 348,
   "id": "4338d1bd-ee42-482b-a974-4270bc8b8d6d",
   "metadata": {
    "tags": []
   },
   "outputs": [],
   "source": [
    "df_dropped_first = pd.read_parquet('/Users/philipp.lampert/repositories/mymandible/data/dropped_first_imputed.parquet')\n",
    "df_all_levels = pd.read_parquet('/Users/philipp.lampert/repositories/mymandible/data/all_levels_imputed.parquet')"
   ]
  },
  {
   "cell_type": "code",
   "execution_count": 349,
   "id": "397d1123-728e-46a4-a32d-e78630e59678",
   "metadata": {
    "tags": []
   },
   "outputs": [],
   "source": [
    "def get_3_segment_df(df):\n",
    "    df3 = df[\n",
    "        (df['flap_segment_count'] == 3) \n",
    "        & (df['flap_donor_site___scapula'] == False) \n",
    "        & (df['plate_type___cad_mini'] == False)\n",
    "        & (df['flap_loss'] == False)\n",
    "        & (df['indication___secondary_reconstruction'] == False)\n",
    "        & (df['indication___osteoradionecrosis'] == False)\n",
    "        & (df['days_to_follow_up'] >= 91)\n",
    "    ].copy()\n",
    "\n",
    "    # drop unused variables\n",
    "    df3 = df3.drop(['flap_donor_site___scapula', \n",
    "                    'flap_segment_count', \n",
    "                    'plate_type___cad_mini', \n",
    "                    'urkens_classification___s',\n",
    "                    'indication___osteoradionecrosis',\n",
    "                    'indication___secondary_reconstruction',\n",
    "                    'prior_flap___bony'\n",
    "                   ], axis=1)\n",
    "    return df3"
   ]
  },
  {
   "cell_type": "code",
   "execution_count": 350,
   "id": "e50cb7b4-161e-476a-a64f-60082a92a4c9",
   "metadata": {
    "tags": []
   },
   "outputs": [],
   "source": [
    "df_df = get_3_segment_df(df_dropped_first)\n",
    "df_all = get_3_segment_df(df_all_levels)"
   ]
  },
  {
   "cell_type": "markdown",
   "id": "af3512cf-2a5a-4719-8830-13133a2a9ba4",
   "metadata": {},
   "source": [
    "## Preprocessing"
   ]
  },
  {
   "cell_type": "code",
   "execution_count": 351,
   "id": "1949179f-ac3b-4629-ba2b-0961fa5f57a2",
   "metadata": {
    "tags": []
   },
   "outputs": [],
   "source": [
    "from modules.functions import preprocessing as prp\n",
    "from modules.functions import threshold_optimized_metrics as tom"
   ]
  },
  {
   "cell_type": "code",
   "execution_count": 352,
   "id": "f24f5bec-daa6-44b9-b2eb-0898cce6f4a2",
   "metadata": {},
   "outputs": [],
   "source": [
    "acc_scorer = make_scorer(tom.optimized_accuracy, needs_proba=True)\n",
    "f1_scorer = make_scorer(tom.optimized_f1, needs_proba=True)\n",
    "mcc_scorer = make_scorer(tom.optimized_mcc, needs_proba=True)\n",
    "pr_auc_scorer = make_scorer(average_precision_score, needs_proba=True)"
   ]
  },
  {
   "cell_type": "markdown",
   "id": "a8fce90b-f7a6-4332-b49f-0bbb6a87b59e",
   "metadata": {},
   "source": [
    "## Model setup"
   ]
  },
  {
   "cell_type": "code",
   "execution_count": 353,
   "id": "af4d242f-d655-4edf-a58e-228ab57e0ce2",
   "metadata": {
    "tags": []
   },
   "outputs": [],
   "source": [
    "def logreg_regularized(outcome, scaler, df, method, alpha):\n",
    "    \n",
    "    x, y = prp.get_x_y(df=df, outcome=outcome, min_follow_up_days=91, scaler=scaler, drop_cols=drop_cols, inverse_pos=False)\n",
    "    boolean_columns = x.select_dtypes(include=bool).columns\n",
    "    x[boolean_columns] = x[boolean_columns].astype('int')\n",
    "    numeric_columns = x.select_dtypes(include='number').columns\n",
    "    x[numeric_columns] = x[numeric_columns].astype('float64')\n",
    "    y = y.astype('int')    \n",
    "    x_columns = x.columns\n",
    "    all_columns = \"+\".join(x_columns)\n",
    "    formula = outcome +  '~' + all_columns\n",
    "    \n",
    "    data = pd.concat([x, y], axis=1)\n",
    "    final_model = smf.logit(formula, data).fit_regularized(method=method, alpha=alpha)\n",
    "    print(final_model.summary())"
   ]
  },
  {
   "cell_type": "code",
   "execution_count": 354,
   "id": "7ecf4cdd-87e7-4adf-8ab4-1eb81ca02582",
   "metadata": {
    "tags": []
   },
   "outputs": [],
   "source": [
    "drop_cols = [\n",
    "    #'sex_female', \n",
    "    #'comorbidity___smoking', \n",
    "    #'comorbidity___alcohol',\n",
    "    'comorbidity___copd', \n",
    "    #'comorbidity___hypertension',\n",
    "    'comorbidity___diabetes', \n",
    "    #'comorbidity___atherosclerosis',\n",
    "    'comorbidity___hyperlipidemia', \n",
    "    'comorbidity___hypothyroidism',\n",
    "    'comorbidity___chronic_kidney_disease',\n",
    "    'comorbidity___autoimmune_disease', \n",
    "    #'age_surgery_years',\n",
    "    'radiotherapy___pre_surgery', \n",
    "    #'radiotherapy___post_surgery',\n",
    "    'chemotherapy___pre_surgery', \n",
    "    #'chemotherapy___post_surgery',\n",
    "    'urkens_classification___c', \n",
    "    'urkens_classification___r',\n",
    "    'surgery_duration_min', \n",
    "    #'bmi', \n",
    "    'skin_transplanted',\n",
    "    'prior_flap___non_bony', \n",
    "    #'plate_type___cad_mix'\n",
    "]"
   ]
  },
  {
   "cell_type": "markdown",
   "id": "ff81e5fb-dc7f-468d-bf21-d7bd8194bbea",
   "metadata": {},
   "source": [
    "## Patient characteristics"
   ]
  },
  {
   "cell_type": "code",
   "execution_count": 355,
   "id": "150967b5-2319-42c9-ab46-5de8c3cdeacd",
   "metadata": {
    "tags": []
   },
   "outputs": [],
   "source": [
    "def num_variable(variable):\n",
    "    cad_mix_values = df_df.loc[df_df['plate_type___cad_mix'], variable]\n",
    "    cad_long_values = df_df.loc[~df_df['plate_type___cad_mix'], variable]\n",
    "    \n",
    "    cad_mix_mean = round(cad_mix_values.mean(), 1)\n",
    "    cad_mix_std = round(cad_mix_values.std(), 1)\n",
    "    cad_long_mean = round(cad_long_values.mean(), 1)\n",
    "    cad_long_std = round(cad_long_values.std(), 1)\n",
    "    \n",
    "    overall_mean = round(df_df[variable].mean(), 1)\n",
    "    overall_std = round(df_df[variable].std(), 1)\n",
    "    \n",
    "    data = {\n",
    "        'Mix': [cad_mix_mean, cad_mix_std],\n",
    "        'Reco': [cad_long_mean, cad_long_std],\n",
    "        'Overall': [overall_mean, overall_std]\n",
    "    }\n",
    "    \n",
    "    df = pd.DataFrame(data, index=['mean', 'std'])\n",
    "    print(df)"
   ]
  },
  {
   "cell_type": "code",
   "execution_count": 356,
   "id": "5d97ed20-2ea9-4f3e-ac2d-54e7bab4f295",
   "metadata": {
    "tags": []
   },
   "outputs": [],
   "source": [
    "def cat_variable(variable):\n",
    "    # Absolute frequencies\n",
    "    cad_mix_counts = df_df.loc[df_df['plate_type___cad_mix'], variable].value_counts()\n",
    "    cad_long_counts = df_df.loc[~df_df['plate_type___cad_mix'], variable].value_counts()\n",
    "    overall_counts = df_df[variable].value_counts()\n",
    "    \n",
    "    # Relative probabilities\n",
    "    cad_mix_probs = round((cad_mix_counts / cad_mix_counts.sum())*100, 1)\n",
    "    cad_long_probs = round((cad_long_counts / cad_long_counts.sum())*100, 1)\n",
    "    overall_probs = round((overall_counts / overall_counts.sum())*100, 1)\n",
    "    \n",
    "    # Create DataFrames for absolute frequencies and relative probabilities\n",
    "    absolute_freq_df = pd.DataFrame({\n",
    "        'Mix': cad_mix_counts,\n",
    "        'Reco': cad_long_counts,\n",
    "        'Overall': overall_counts\n",
    "    }).fillna(0)  # Fill NaN values with 0\n",
    "    \n",
    "    relative_prob_df = pd.DataFrame({\n",
    "        'Mix': cad_mix_probs,\n",
    "        'Reco': cad_long_probs,\n",
    "        'Overall': overall_probs\n",
    "    }).fillna(0)  # Fill NaN values with 0\n",
    "    \n",
    "    print(\"Absolute frequencies:\")\n",
    "    print(absolute_freq_df)\n",
    "    \n",
    "    print(\"\\nRelative probabilities:\")\n",
    "    print(relative_prob_df)"
   ]
  },
  {
   "cell_type": "code",
   "execution_count": 357,
   "id": "fbe62a23-cffb-4c35-b551-105915bc16d4",
   "metadata": {
    "tags": []
   },
   "outputs": [
    {
     "name": "stdout",
     "output_type": "stream",
     "text": [
      "       Mix  Reco  Overall\n",
      "mean  62.3  63.1     62.8\n",
      "std    7.5   9.7      9.0\n"
     ]
    }
   ],
   "source": [
    "num_variable('age_surgery_years')"
   ]
  },
  {
   "cell_type": "code",
   "execution_count": 358,
   "id": "bf09fc0e-d75a-49a3-9019-890b7bf1c657",
   "metadata": {
    "tags": []
   },
   "outputs": [
    {
     "name": "stdout",
     "output_type": "stream",
     "text": [
      "Absolute frequencies:\n",
      "            Mix  Reco  Overall\n",
      "sex_female                    \n",
      "False        14    27       41\n",
      "True          5     9       14\n",
      "\n",
      "Relative probabilities:\n",
      "             Mix  Reco  Overall\n",
      "sex_female                     \n",
      "False       73.7  75.0     74.5\n",
      "True        26.3  25.0     25.5\n"
     ]
    }
   ],
   "source": [
    "cat_variable('sex_female')"
   ]
  },
  {
   "cell_type": "code",
   "execution_count": 359,
   "id": "a7756c0a-fabb-4e20-a778-24063ca0d80f",
   "metadata": {
    "tags": []
   },
   "outputs": [
    {
     "name": "stdout",
     "output_type": "stream",
     "text": [
      "            Mix  Reco  Overall\n",
      "mean  24.299999  23.0     23.4\n",
      "std    3.700000   4.4      4.2\n"
     ]
    }
   ],
   "source": [
    "num_variable('bmi')"
   ]
  },
  {
   "cell_type": "code",
   "execution_count": 360,
   "id": "e4367a05-ba86-4cf8-873b-112693530ca9",
   "metadata": {
    "tags": []
   },
   "outputs": [
    {
     "name": "stdout",
     "output_type": "stream",
     "text": [
      "Absolute frequencies:\n",
      "                       Mix  Reco  Overall\n",
      "comorbidity___smoking                    \n",
      "False                   12    22       34\n",
      "True                     7    14       21\n",
      "\n",
      "Relative probabilities:\n",
      "                        Mix  Reco  Overall\n",
      "comorbidity___smoking                     \n",
      "False                  63.2  61.1     61.8\n",
      "True                   36.8  38.9     38.2\n"
     ]
    }
   ],
   "source": [
    "cat_variable('comorbidity___smoking')"
   ]
  },
  {
   "cell_type": "code",
   "execution_count": 361,
   "id": "fb930958-89ce-423e-b8f4-06f4e4129205",
   "metadata": {
    "tags": []
   },
   "outputs": [
    {
     "name": "stdout",
     "output_type": "stream",
     "text": [
      "Absolute frequencies:\n",
      "                               Mix  Reco  Overall\n",
      "comorbidity___atherosclerosis                    \n",
      "False                           17    28       45\n",
      "True                             2     8       10\n",
      "\n",
      "Relative probabilities:\n",
      "                                Mix  Reco  Overall\n",
      "comorbidity___atherosclerosis                     \n",
      "False                          89.5  77.8     81.8\n",
      "True                           10.5  22.2     18.2\n"
     ]
    }
   ],
   "source": [
    "cat_variable('comorbidity___atherosclerosis')"
   ]
  },
  {
   "cell_type": "code",
   "execution_count": 362,
   "id": "dddeb810-7a4b-45d5-8f28-42c4ba59c304",
   "metadata": {
    "tags": []
   },
   "outputs": [
    {
     "name": "stdout",
     "output_type": "stream",
     "text": [
      "Absolute frequencies:\n",
      "                       Mix  Reco  Overall\n",
      "comorbidity___alcohol                    \n",
      "False                   14    28       42\n",
      "True                     5     8       13\n",
      "\n",
      "Relative probabilities:\n",
      "                        Mix  Reco  Overall\n",
      "comorbidity___alcohol                     \n",
      "False                  73.7  77.8     76.4\n",
      "True                   26.3  22.2     23.6\n"
     ]
    }
   ],
   "source": [
    "cat_variable('comorbidity___alcohol')"
   ]
  },
  {
   "cell_type": "code",
   "execution_count": 363,
   "id": "9a78cdc0-6072-4a8a-bda4-1bf06e9c8e63",
   "metadata": {
    "tags": []
   },
   "outputs": [
    {
     "name": "stdout",
     "output_type": "stream",
     "text": [
      "Absolute frequencies:\n",
      "                            Mix  Reco  Overall\n",
      "comorbidity___hypertension                    \n",
      "False                        10    24       34\n",
      "True                          9    12       21\n",
      "\n",
      "Relative probabilities:\n",
      "                             Mix  Reco  Overall\n",
      "comorbidity___hypertension                     \n",
      "False                       52.6  66.7     61.8\n",
      "True                        47.4  33.3     38.2\n"
     ]
    }
   ],
   "source": [
    "cat_variable('comorbidity___hypertension')"
   ]
  },
  {
   "cell_type": "code",
   "execution_count": 364,
   "id": "bcf2c835-7850-45bb-aa37-070696e47547",
   "metadata": {
    "tags": []
   },
   "outputs": [
    {
     "name": "stdout",
     "output_type": "stream",
     "text": [
      "Absolute frequencies:\n",
      "                             Mix  Reco  Overall\n",
      "radiotherapy___post_surgery                    \n",
      "True                          12    19       31\n",
      "False                          7    17       24\n",
      "\n",
      "Relative probabilities:\n",
      "                              Mix  Reco  Overall\n",
      "radiotherapy___post_surgery                     \n",
      "True                         63.2  52.8     56.4\n",
      "False                        36.8  47.2     43.6\n"
     ]
    }
   ],
   "source": [
    "cat_variable('radiotherapy___post_surgery')"
   ]
  },
  {
   "cell_type": "code",
   "execution_count": 384,
   "id": "a8c4f518-4c9d-4d9f-b2a1-23a73df30e84",
   "metadata": {
    "tags": []
   },
   "outputs": [
    {
     "name": "stdout",
     "output_type": "stream",
     "text": [
      "Absolute frequencies:\n",
      "                             Mix  Reco  Overall\n",
      "chemotherapy___post_surgery                    \n",
      "False                         14    20       34\n",
      "True                           5    16       21\n",
      "\n",
      "Relative probabilities:\n",
      "                              Mix  Reco  Overall\n",
      "chemotherapy___post_surgery                     \n",
      "False                        73.7  55.6     61.8\n",
      "True                         26.3  44.4     38.2\n"
     ]
    }
   ],
   "source": [
    "cat_variable('chemotherapy___post_surgery')"
   ]
  },
  {
   "cell_type": "code",
   "execution_count": 365,
   "id": "72a53726-1565-4ef7-9231-3d0e9a448129",
   "metadata": {
    "tags": []
   },
   "outputs": [
    {
     "name": "stdout",
     "output_type": "stream",
     "text": [
      "        Mix   Reco  Overall\n",
      "mean  442.3  679.3    597.4\n",
      "std   213.1  555.5    477.6\n"
     ]
    }
   ],
   "source": [
    "num_variable('days_to_follow_up')"
   ]
  },
  {
   "cell_type": "markdown",
   "id": "afc40215-1a3a-4721-a755-891ccab76d3a",
   "metadata": {
    "tags": []
   },
   "source": [
    "## Logistic Regression"
   ]
  },
  {
   "cell_type": "markdown",
   "id": "98354246-6f7e-4e5b-b72c-ff8b2e637747",
   "metadata": {
    "tags": []
   },
   "source": [
    "### Any complication"
   ]
  },
  {
   "cell_type": "code",
   "execution_count": 366,
   "id": "aa6d4693-01be-4395-a22c-4d023a9520a6",
   "metadata": {
    "tags": []
   },
   "outputs": [
    {
     "data": {
      "text/plain": [
       "comorbidity___autoimmune_disease\n",
       "False    52\n",
       "True      3\n",
       "Name: count, dtype: Int64"
      ]
     },
     "execution_count": 366,
     "metadata": {},
     "output_type": "execute_result"
    }
   ],
   "source": [
    "df_df['comorbidity___autoimmune_disease'].value_counts()"
   ]
  },
  {
   "cell_type": "code",
   "execution_count": 367,
   "id": "fe5e6cb1-dc89-4ad0-bf5b-51af30dd9d8c",
   "metadata": {
    "tags": []
   },
   "outputs": [
    {
     "name": "stdout",
     "output_type": "stream",
     "text": [
      "Optimization terminated successfully    (Exit mode 0)\n",
      "            Current function value: 0.4047605114111938\n",
      "            Iterations: 62\n",
      "            Function evaluations: 67\n",
      "            Gradient evaluations: 62\n",
      "                           Logit Regression Results                           \n",
      "==============================================================================\n",
      "Dep. Variable:       any_complication   No. Observations:                   55\n",
      "Model:                          Logit   Df Residuals:                       44\n",
      "Method:                           MLE   Df Model:                           10\n",
      "Date:                Fri, 23 Feb 2024   Pseudo R-squ.:                  0.3287\n",
      "Time:                        17:07:52   Log-Likelihood:                -22.262\n",
      "converged:                       True   LL-Null:                       -33.163\n",
      "Covariance Type:            nonrobust   LLR p-value:                   0.01614\n",
      "=================================================================================================\n",
      "                                    coef    std err          z      P>|z|      [0.025      0.975]\n",
      "-------------------------------------------------------------------------------------------------\n",
      "Intercept                        12.7403      4.381      2.908      0.004       4.153      21.327\n",
      "sex_female                       -1.1599      0.861     -1.347      0.178      -2.848       0.528\n",
      "comorbidity___smoking            -0.9340      1.076     -0.868      0.385      -3.043       1.175\n",
      "comorbidity___alcohol             0.6533      1.215      0.538      0.591      -1.728       3.034\n",
      "comorbidity___hypertension        0.1770      0.922      0.192      0.848      -1.630       1.984\n",
      "comorbidity___atherosclerosis     3.1029      1.608      1.929      0.054      -0.049       6.255\n",
      "age_surgery_years                -0.1016      0.048     -2.101      0.036      -0.196      -0.007\n",
      "radiotherapy___post_surgery      -2.1147      1.002     -2.110      0.035      -4.079      -0.150\n",
      "chemotherapy___post_surgery       0.5567      0.882      0.631      0.528      -1.173       2.286\n",
      "bmi                              -0.1953      0.103     -1.904      0.057      -0.396       0.006\n",
      "plate_type___cad_mix              1.5517      0.928      1.672      0.095      -0.267       3.371\n",
      "=================================================================================================\n"
     ]
    }
   ],
   "source": [
    "logreg_regularized('any_complication', 'None', df_df, 'l1', alpha=0)"
   ]
  },
  {
   "cell_type": "markdown",
   "id": "7dd90118-c3e2-46a9-95d1-ea1a4026ee81",
   "metadata": {
    "tags": []
   },
   "source": [
    "### Soft tissue complication"
   ]
  },
  {
   "cell_type": "code",
   "execution_count": 368,
   "id": "90a1ce44-9c7d-4488-bd32-55f50070ccfd",
   "metadata": {
    "tags": []
   },
   "outputs": [
    {
     "data": {
      "text/plain": [
       "soft_tissue_complication\n",
       "True     34\n",
       "False    21\n",
       "Name: count, dtype: Int64"
      ]
     },
     "execution_count": 368,
     "metadata": {},
     "output_type": "execute_result"
    }
   ],
   "source": [
    "df_df['soft_tissue_complication'].value_counts()"
   ]
  },
  {
   "cell_type": "code",
   "execution_count": 369,
   "id": "0ad41aad-375c-4c73-ba35-898bfd5cb1dd",
   "metadata": {
    "tags": []
   },
   "outputs": [
    {
     "name": "stdout",
     "output_type": "stream",
     "text": [
      "Optimization terminated successfully    (Exit mode 0)\n",
      "            Current function value: 0.4971603208500139\n",
      "            Iterations: 61\n",
      "            Function evaluations: 65\n",
      "            Gradient evaluations: 61\n",
      "                              Logit Regression Results                              \n",
      "====================================================================================\n",
      "Dep. Variable:     soft_tissue_complication   No. Observations:                   55\n",
      "Model:                                Logit   Df Residuals:                       44\n",
      "Method:                                 MLE   Df Model:                           10\n",
      "Date:                      Fri, 23 Feb 2024   Pseudo R-squ.:                  0.2523\n",
      "Time:                              17:07:52   Log-Likelihood:                -27.344\n",
      "converged:                             True   LL-Null:                       -36.572\n",
      "Covariance Type:                  nonrobust   LLR p-value:                   0.04773\n",
      "=================================================================================================\n",
      "                                    coef    std err          z      P>|z|      [0.025      0.975]\n",
      "-------------------------------------------------------------------------------------------------\n",
      "Intercept                        11.3456      3.930      2.887      0.004       3.642      19.049\n",
      "sex_female                       -0.3795      0.780     -0.486      0.627      -1.908       1.149\n",
      "comorbidity___smoking            -1.5306      0.922     -1.661      0.097      -3.337       0.276\n",
      "comorbidity___alcohol             1.2112      1.068      1.134      0.257      -0.883       3.305\n",
      "comorbidity___hypertension        0.8070      0.934      0.864      0.387      -1.023       2.637\n",
      "comorbidity___atherosclerosis     2.0208      1.226      1.649      0.099      -0.382       4.423\n",
      "age_surgery_years                -0.0766      0.042     -1.819      0.069      -0.159       0.006\n",
      "radiotherapy___post_surgery      -1.4245      0.851     -1.674      0.094      -3.092       0.243\n",
      "chemotherapy___post_surgery       0.2828      0.766      0.369      0.712      -1.218       1.784\n",
      "bmi                              -0.2475      0.108     -2.298      0.022      -0.459      -0.036\n",
      "plate_type___cad_mix              1.0045      0.753      1.335      0.182      -0.471       2.480\n",
      "=================================================================================================\n"
     ]
    }
   ],
   "source": [
    "logreg_regularized('soft_tissue_complication', 'None', df_df, 'l1', alpha=0)"
   ]
  },
  {
   "cell_type": "markdown",
   "id": "16a342df-f25c-4c06-b585-92799d019fa3",
   "metadata": {
    "tags": []
   },
   "source": [
    "### Nonunion"
   ]
  },
  {
   "cell_type": "code",
   "execution_count": 370,
   "id": "d026847a-4fc5-41f8-87d5-daa3bc6fbeb9",
   "metadata": {
    "tags": []
   },
   "outputs": [
    {
     "data": {
      "text/plain": [
       "nonunion\n",
       "False    19\n",
       "True     17\n",
       "Name: count, dtype: Int64"
      ]
     },
     "execution_count": 370,
     "metadata": {},
     "output_type": "execute_result"
    }
   ],
   "source": [
    "df_df['nonunion'].value_counts()"
   ]
  },
  {
   "cell_type": "code",
   "execution_count": 371,
   "id": "e69e1d7b-0567-4b02-90c9-1ec40ea9112c",
   "metadata": {
    "tags": []
   },
   "outputs": [
    {
     "name": "stdout",
     "output_type": "stream",
     "text": [
      "Optimization terminated successfully    (Exit mode 0)\n",
      "            Current function value: 0.5951844157905586\n",
      "            Iterations: 58\n",
      "            Function evaluations: 62\n",
      "            Gradient evaluations: 58\n",
      "                           Logit Regression Results                           \n",
      "==============================================================================\n",
      "Dep. Variable:               nonunion   No. Observations:                   36\n",
      "Model:                          Logit   Df Residuals:                       25\n",
      "Method:                           MLE   Df Model:                           10\n",
      "Date:                Fri, 23 Feb 2024   Pseudo R-squ.:                  0.1394\n",
      "Time:                        17:07:52   Log-Likelihood:                -21.427\n",
      "converged:                       True   LL-Null:                       -24.898\n",
      "Covariance Type:            nonrobust   LLR p-value:                    0.7309\n",
      "=================================================================================================\n",
      "                                    coef    std err          z      P>|z|      [0.025      0.975]\n",
      "-------------------------------------------------------------------------------------------------\n",
      "Intercept                         5.2605      4.924      1.068      0.285      -4.390      14.911\n",
      "sex_female                       -0.5612      1.018     -0.551      0.581      -2.556       1.433\n",
      "comorbidity___smoking            -0.9036      0.946     -0.955      0.340      -2.758       0.951\n",
      "comorbidity___alcohol             0.8010      1.101      0.728      0.467      -1.357       2.959\n",
      "comorbidity___hypertension        0.0994      1.068      0.093      0.926      -1.994       2.193\n",
      "comorbidity___atherosclerosis    -0.2437      1.094     -0.223      0.824      -2.387       1.900\n",
      "age_surgery_years                -0.0915      0.056     -1.626      0.104      -0.202       0.019\n",
      "radiotherapy___post_surgery      -0.4076      1.208     -0.337      0.736      -2.776       1.961\n",
      "chemotherapy___post_surgery       0.7187      0.947      0.759      0.448      -1.138       2.575\n",
      "bmi                               0.0116      0.135      0.086      0.931      -0.252       0.276\n",
      "plate_type___cad_mix              0.6331      0.871      0.727      0.468      -1.075       2.341\n",
      "=================================================================================================\n"
     ]
    }
   ],
   "source": [
    "logreg_regularized('nonunion', 'None', df_df, 'l1', alpha=0)"
   ]
  },
  {
   "cell_type": "markdown",
   "id": "88e6d8e8-b2c2-4c62-a01d-4f1698224304",
   "metadata": {},
   "source": [
    "### Wound infection"
   ]
  },
  {
   "cell_type": "code",
   "execution_count": 372,
   "id": "d71f4db7-8116-4ca1-bec2-8c5ee6f126e7",
   "metadata": {
    "tags": []
   },
   "outputs": [
    {
     "data": {
      "text/plain": [
       "wound_infection\n",
       "False    37\n",
       "True     18\n",
       "Name: count, dtype: Int64"
      ]
     },
     "execution_count": 372,
     "metadata": {},
     "output_type": "execute_result"
    }
   ],
   "source": [
    "df_df['wound_infection'].value_counts()"
   ]
  },
  {
   "cell_type": "code",
   "execution_count": 373,
   "id": "938a48d7-5d5c-4cc8-914a-a5a2087a1011",
   "metadata": {
    "tags": []
   },
   "outputs": [
    {
     "name": "stdout",
     "output_type": "stream",
     "text": [
      "Optimization terminated successfully    (Exit mode 0)\n",
      "            Current function value: 0.3786375965837924\n",
      "            Iterations: 65\n",
      "            Function evaluations: 69\n",
      "            Gradient evaluations: 65\n",
      "                           Logit Regression Results                           \n",
      "==============================================================================\n",
      "Dep. Variable:        wound_infection   No. Observations:                   55\n",
      "Model:                          Logit   Df Residuals:                       44\n",
      "Method:                           MLE   Df Model:                           10\n",
      "Date:                Fri, 23 Feb 2024   Pseudo R-squ.:                  0.4011\n",
      "Time:                        17:07:52   Log-Likelihood:                -20.825\n",
      "converged:                       True   LL-Null:                       -34.773\n",
      "Covariance Type:            nonrobust   LLR p-value:                  0.001876\n",
      "=================================================================================================\n",
      "                                    coef    std err          z      P>|z|      [0.025      0.975]\n",
      "-------------------------------------------------------------------------------------------------\n",
      "Intercept                        14.6125      5.723      2.553      0.011       3.395      25.830\n",
      "sex_female                       -0.0507      0.958     -0.053      0.958      -1.928       1.827\n",
      "comorbidity___smoking            -1.4091      1.057     -1.333      0.183      -3.481       0.663\n",
      "comorbidity___alcohol             3.6376      1.457      2.497      0.013       0.783       6.493\n",
      "comorbidity___hypertension        2.9457      1.391      2.118      0.034       0.220       5.672\n",
      "comorbidity___atherosclerosis    -0.7612      1.141     -0.667      0.505      -2.997       1.475\n",
      "age_surgery_years                -0.1587      0.065     -2.460      0.014      -0.285      -0.032\n",
      "radiotherapy___post_surgery      -4.6327      1.560     -2.969      0.003      -7.691      -1.574\n",
      "chemotherapy___post_surgery       0.2189      0.943      0.232      0.816      -1.629       2.067\n",
      "bmi                              -0.2376      0.145     -1.642      0.101      -0.521       0.046\n",
      "plate_type___cad_mix              2.0528      1.048      1.958      0.050      -0.002       4.108\n",
      "=================================================================================================\n"
     ]
    }
   ],
   "source": [
    "logreg_regularized('wound_infection', 'None', df_df, 'l1', alpha=0)"
   ]
  },
  {
   "cell_type": "markdown",
   "id": "1395f15b-dd99-4223-960d-fc01dd5988bb",
   "metadata": {},
   "source": [
    "### Plate exposure"
   ]
  },
  {
   "cell_type": "code",
   "execution_count": 374,
   "id": "a8d0c07b-b6e4-4d10-8f12-b405f4a49e80",
   "metadata": {
    "tags": []
   },
   "outputs": [
    {
     "data": {
      "text/plain": [
       "complication_plate___exposure\n",
       "False    35\n",
       "True     20\n",
       "Name: count, dtype: Int64"
      ]
     },
     "execution_count": 374,
     "metadata": {},
     "output_type": "execute_result"
    }
   ],
   "source": [
    "df_df['complication_plate___exposure'].value_counts()"
   ]
  },
  {
   "cell_type": "code",
   "execution_count": 375,
   "id": "b149278b-d676-4ca9-8b21-ce3641a07b07",
   "metadata": {
    "tags": []
   },
   "outputs": [
    {
     "name": "stdout",
     "output_type": "stream",
     "text": [
      "Optimization terminated successfully    (Exit mode 0)\n",
      "            Current function value: 0.5024857942233203\n",
      "            Iterations: 58\n",
      "            Function evaluations: 64\n",
      "            Gradient evaluations: 58\n",
      "                                 Logit Regression Results                                \n",
      "=========================================================================================\n",
      "Dep. Variable:     complication_plate___exposure   No. Observations:                   55\n",
      "Model:                                     Logit   Df Residuals:                       44\n",
      "Method:                                      MLE   Df Model:                           10\n",
      "Date:                           Fri, 23 Feb 2024   Pseudo R-squ.:                  0.2334\n",
      "Time:                                   17:07:53   Log-Likelihood:                -27.637\n",
      "converged:                                  True   LL-Null:                       -36.051\n",
      "Covariance Type:                       nonrobust   LLR p-value:                   0.07822\n",
      "=================================================================================================\n",
      "                                    coef    std err          z      P>|z|      [0.025      0.975]\n",
      "-------------------------------------------------------------------------------------------------\n",
      "Intercept                         7.2618      3.944      1.841      0.066      -0.467      14.991\n",
      "sex_female                       -0.1302      0.797     -0.163      0.870      -1.692       1.432\n",
      "comorbidity___smoking            -1.6912      1.003     -1.686      0.092      -3.657       0.274\n",
      "comorbidity___alcohol             2.1652      1.166      1.856      0.063      -0.121       4.451\n",
      "comorbidity___hypertension        0.8575      0.964      0.890      0.374      -1.031       2.746\n",
      "comorbidity___atherosclerosis     0.9483      0.882      1.076      0.282      -0.780       2.676\n",
      "age_surgery_years                -0.0415      0.044     -0.942      0.346      -0.128       0.045\n",
      "radiotherapy___post_surgery      -1.3639      0.889     -1.534      0.125      -3.107       0.379\n",
      "chemotherapy___post_surgery      -0.8566      0.795     -1.077      0.282      -2.416       0.702\n",
      "bmi                              -0.2164      0.115     -1.884      0.060      -0.441       0.009\n",
      "plate_type___cad_mix              1.0514      0.763      1.378      0.168      -0.444       2.547\n",
      "=================================================================================================\n"
     ]
    }
   ],
   "source": [
    "logreg_regularized('complication_plate___exposure', 'None', df_df, 'l1', alpha=0)"
   ]
  },
  {
   "cell_type": "markdown",
   "id": "176ca6ec-2a89-4246-a6c3-8eb782f06bc1",
   "metadata": {
    "tags": []
   },
   "source": [
    "## Univariate Analysis"
   ]
  },
  {
   "cell_type": "code",
   "execution_count": 376,
   "id": "898dd295-49eb-43f4-99e9-99ff8af7cc50",
   "metadata": {
    "tags": []
   },
   "outputs": [],
   "source": [
    "def chi2_test(outcome, df):\n",
    "    contingency = pd.crosstab(df[outcome], df['plate_type___cad_mix'])\n",
    "    c, p, dof, expected = chi2_contingency(contingency)\n",
    "    print(contingency)\n",
    "    print(f\"p-value: {p}\")"
   ]
  },
  {
   "cell_type": "markdown",
   "id": "6b4f8d3d-0217-4ca9-b9f9-679d32db59af",
   "metadata": {
    "tags": []
   },
   "source": [
    "### ORN"
   ]
  },
  {
   "cell_type": "code",
   "execution_count": 377,
   "id": "c0b244e6-0dde-497d-8857-a214eec43495",
   "metadata": {
    "tags": []
   },
   "outputs": [
    {
     "name": "stdout",
     "output_type": "stream",
     "text": [
      "plate_type___cad_mix  False  True \n",
      "orn                               \n",
      "False                    32     15\n",
      "True                      4      4\n",
      "p-value: 0.553674677711491\n"
     ]
    }
   ],
   "source": [
    "chi2_test('orn', df_df)"
   ]
  },
  {
   "cell_type": "markdown",
   "id": "227520da-2dbd-4f4d-a575-45ca55c8f230",
   "metadata": {},
   "source": [
    "### Plate failure"
   ]
  },
  {
   "cell_type": "code",
   "execution_count": 378,
   "id": "b0eda96c-c02a-40e7-a6e4-522b0cce3f96",
   "metadata": {
    "tags": []
   },
   "outputs": [
    {
     "name": "stdout",
     "output_type": "stream",
     "text": [
      "plate_type___cad_mix  False  True \n",
      "plate_failure                     \n",
      "False                    36     15\n",
      "True                      0      4\n",
      "p-value: 0.020726005952780586\n"
     ]
    }
   ],
   "source": [
    "chi2_test('plate_failure', df_df)"
   ]
  },
  {
   "cell_type": "markdown",
   "id": "0bd262fe-9817-4f42-be61-6e2f742283bf",
   "metadata": {},
   "source": [
    "### Any complication"
   ]
  },
  {
   "cell_type": "code",
   "execution_count": 379,
   "id": "2381281f-b5cc-4869-849c-356ba8aa510d",
   "metadata": {
    "tags": []
   },
   "outputs": [
    {
     "name": "stdout",
     "output_type": "stream",
     "text": [
      "plate_type___cad_mix  False  True \n",
      "any_complication                  \n",
      "False                    12      4\n",
      "True                     24     15\n",
      "p-value: 0.5212815473335353\n"
     ]
    }
   ],
   "source": [
    "chi2_test('any_complication', df_df)"
   ]
  },
  {
   "cell_type": "markdown",
   "id": "ad3aecfa-52f4-4359-b5fd-e50be6c16585",
   "metadata": {},
   "source": [
    "### Soft tissue complication"
   ]
  },
  {
   "cell_type": "code",
   "execution_count": 380,
   "id": "05db907c-79fc-4f0d-9a57-5b40294c3df3",
   "metadata": {
    "tags": []
   },
   "outputs": [
    {
     "name": "stdout",
     "output_type": "stream",
     "text": [
      "plate_type___cad_mix      False  True \n",
      "soft_tissue_complication              \n",
      "False                        15      6\n",
      "True                         21     13\n",
      "p-value: 0.6596437720763275\n"
     ]
    }
   ],
   "source": [
    "chi2_test('soft_tissue_complication', df_df)"
   ]
  },
  {
   "cell_type": "markdown",
   "id": "cf706731-f3c2-4b84-be7d-888219a9fac5",
   "metadata": {},
   "source": [
    "### Nonunion"
   ]
  },
  {
   "cell_type": "code",
   "execution_count": 381,
   "id": "8836a7e8-a925-4231-a87d-ffebd35e1ff1",
   "metadata": {
    "tags": []
   },
   "outputs": [
    {
     "name": "stdout",
     "output_type": "stream",
     "text": [
      "plate_type___cad_mix  False  True \n",
      "nonunion                          \n",
      "False                    13      6\n",
      "True                      9      8\n",
      "p-value: 0.5427035080655522\n"
     ]
    }
   ],
   "source": [
    "chi2_test('nonunion', df_df)"
   ]
  },
  {
   "cell_type": "markdown",
   "id": "ba24d1ab-51a2-4ebd-9d71-e7d1c6ea85b8",
   "metadata": {},
   "source": [
    "### Wound infection"
   ]
  },
  {
   "cell_type": "code",
   "execution_count": 382,
   "id": "7e1050af-f98c-4855-b7b4-a1b7fdf74398",
   "metadata": {
    "tags": []
   },
   "outputs": [
    {
     "name": "stdout",
     "output_type": "stream",
     "text": [
      "plate_type___cad_mix  False  True \n",
      "wound_infection                   \n",
      "False                    27     10\n",
      "True                      9      9\n",
      "p-value: 0.16789902340466287\n"
     ]
    }
   ],
   "source": [
    "chi2_test('wound_infection', df_df)"
   ]
  },
  {
   "cell_type": "markdown",
   "id": "88509ba5-69e1-4867-b6e1-0b046cc352f3",
   "metadata": {},
   "source": [
    "### Plate exposure"
   ]
  },
  {
   "cell_type": "code",
   "execution_count": 383,
   "id": "b514a2e3-16ba-430a-9034-6c1c9d6eca26",
   "metadata": {
    "tags": []
   },
   "outputs": [
    {
     "name": "stdout",
     "output_type": "stream",
     "text": [
      "plate_type___cad_mix           False  True \n",
      "complication_plate___exposure              \n",
      "False                             25     10\n",
      "True                              11      9\n",
      "p-value: 0.34834487194004304\n"
     ]
    }
   ],
   "source": [
    "chi2_test('complication_plate___exposure', df_df)"
   ]
  }
 ],
 "metadata": {
  "kernelspec": {
   "display_name": "Python 3 (ipykernel)",
   "language": "python",
   "name": "python3"
  },
  "language_info": {
   "codemirror_mode": {
    "name": "ipython",
    "version": 3
   },
   "file_extension": ".py",
   "mimetype": "text/x-python",
   "name": "python",
   "nbconvert_exporter": "python",
   "pygments_lexer": "ipython3",
   "version": "3.11.5"
  }
 },
 "nbformat": 4,
 "nbformat_minor": 5
}
