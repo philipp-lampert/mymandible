{
 "cells": [
  {
   "cell_type": "markdown",
   "metadata": {
    "colab_type": "text",
    "id": "view-in-github"
   },
   "source": [
    "<a href=\"https://colab.research.google.com/github/philipp-lampert/mymandible/blob/main/data_science/05_model_training.ipynb\" target=\"_parent\"><img src=\"https://colab.research.google.com/assets/colab-badge.svg\" alt=\"Open In Colab\"/></a>"
   ]
  },
  {
   "cell_type": "markdown",
   "metadata": {
    "id": "umTBTdUKiRSB"
   },
   "source": [
    "# Model training"
   ]
  },
  {
   "cell_type": "markdown",
   "metadata": {},
   "source": [
    "### Importing libraries"
   ]
  },
  {
   "cell_type": "code",
   "execution_count": 2,
   "metadata": {
    "id": "YUwr51evyVpD",
    "tags": []
   },
   "outputs": [],
   "source": [
    "import numpy as np\n",
    "import pandas as pd\n",
    "from sklearn.preprocessing import RobustScaler, StandardScaler, MinMaxScaler, Normalizer, QuantileTransformer\n",
    "from sklearn.metrics import make_scorer, matthews_corrcoef, f1_score, accuracy_score, average_precision_score, roc_auc_score\n",
    "from sklearn.experimental import enable_halving_search_cv\n",
    "from sklearn.model_selection import cross_validate, StratifiedKFold, RepeatedStratifiedKFold, GridSearchCV, HalvingGridSearchCV\n",
    "from sklearn.linear_model import LogisticRegression \n",
    "from sklearn.neighbors import KNeighborsClassifier\n",
    "from sklearn.ensemble import RandomForestClassifier"
   ]
  },
  {
   "cell_type": "markdown",
   "metadata": {},
   "source": [
    "### Importing data"
   ]
  },
  {
   "cell_type": "code",
   "execution_count": 6,
   "metadata": {
    "id": "o1ojEJRpI9Mh",
    "tags": []
   },
   "outputs": [],
   "source": [
    "df_dropped_first_cca = pd.read_parquet('/Users/philipp.lampert/repositories/mymandible/data/dropped_first_cca.parquet')\n",
    "df_dropped_first_imp = pd.read_parquet('/Users/philipp.lampert/repositories/mymandible/data/dropped_first_imputed.parquet')\n",
    "\n",
    "df_all_levels_cca = pd.read_parquet('/Users/philipp.lampert/repositories/mymandible/data/all_levels_cca.parquet')\n",
    "df_all_levels_imp = pd.read_parquet('/Users/philipp.lampert/repositories/mymandible/data/dropped_first_imputed.parquet')"
   ]
  },
  {
   "cell_type": "code",
   "execution_count": 7,
   "metadata": {
    "tags": []
   },
   "outputs": [
    {
     "data": {
      "text/plain": [
       "array(['sex_female', 'comorbidity___smoking', 'comorbidity___alcohol',\n",
       "       'comorbidity___copd', 'comorbidity___hypertension',\n",
       "       'comorbidity___diabetes', 'comorbidity___atherosclerosis',\n",
       "       'comorbidity___hyperlipidemia', 'comorbidity___hypothyroidism',\n",
       "       'comorbidity___chronic_kidney_disease',\n",
       "       'comorbidity___autoimmune_disease', 'age_surgery_years',\n",
       "       'radiotherapy___pre_surgery', 'radiotherapy___post_surgery',\n",
       "       'chemotherapy___pre_surgery', 'chemotherapy___post_surgery',\n",
       "       'urkens_classification___c', 'urkens_classification___r',\n",
       "       'urkens_classification___s', 'flap_segment_count',\n",
       "       'surgery_duration_min', 'bmi', 'skin_transplanted',\n",
       "       'venous_anastomosis_type___end_end',\n",
       "       'venous_anastomosis_type___end_side',\n",
       "       'indication___osteoradionecrosis',\n",
       "       'indication___secondary_reconstruction', 'prior_flap___bony',\n",
       "       'prior_flap___non_bony', 'flap_donor_site___scapula',\n",
       "       'plate_type___cad_mini', 'plate_type___cad_mix',\n",
       "       'days_to_follow_up', 'flap_revision', 'days_to_flap_revision',\n",
       "       'flap_loss', 'days_to_flap_loss', 'complication___none',\n",
       "       'complication___whd_recipient_site',\n",
       "       'complication___partial_necrosis', 'complication___whd_donor_site',\n",
       "       'complication___salivary_fistula',\n",
       "       'complication___vestibuloplasty',\n",
       "       'complication___osteoradionecrosis',\n",
       "       'complication___bone_exposure', 'wound_infection',\n",
       "       'infectious_complication___none',\n",
       "       'infectious_complication___fistula',\n",
       "       'infectious_complication___abscess', 'complication_plate___none',\n",
       "       'complication_plate___exposure', 'complication_plate___removal',\n",
       "       'complication_plate___fracture', 'complication_plate___loosening',\n",
       "       'plate_exposure_location___intraoral',\n",
       "       'plate_exposure_location___extraoral', 'complication_bony___none',\n",
       "       'complication_bony___fracture', 'complication_bony___dislocation',\n",
       "       'implant___none', 'implant___planned', 'implant___received',\n",
       "       'implant___plate_removal', 'implant___iliac_crest_augmentation',\n",
       "       'days_to_whd_recipient_site', 'days_to_partial_necrosis',\n",
       "       'days_to_whd_donor_site', 'days_to_salivary_fistula',\n",
       "       'days_to_wound_infection', 'days_to_vestibuloplasty',\n",
       "       'days_to_osteoradionecrosis', 'days_to_bone_exposure',\n",
       "       'days_to_plate_exposure', 'days_to_plate_removal',\n",
       "       'days_to_plate_fracture', 'days_to_plate_loosening',\n",
       "       'days_to_fracture', 'days_to_dislocation',\n",
       "       'days_to_implant_received', 'days_to_implant_planned',\n",
       "       'days_to_implant_plate_removal',\n",
       "       'days_to_iliac_crest_augmentation', 'imaging_6_12',\n",
       "       'days_to_imaging_6_12', 'nonunion_6_12',\n",
       "       'nonunion_6_12_location___mandible_flap',\n",
       "       'nonunion_6_12_location___flap_flap', 'imaging_12_24_months',\n",
       "       'days_to_imaging_12_24', 'nonunion_12_24',\n",
       "       'nonunion_12_24_location___mandible_flap',\n",
       "       'nonunion_12_24_location___flap_flap', 'soft_tissue_complication',\n",
       "       'nonunion', 'any_complication'], dtype=object)"
      ]
     },
     "execution_count": 7,
     "metadata": {},
     "output_type": "execute_result"
    }
   ],
   "source": [
    "df_dropped_first_cca.columns.values"
   ]
  },
  {
   "cell_type": "markdown",
   "metadata": {},
   "source": [
    "## Defining functions"
   ]
  },
  {
   "cell_type": "markdown",
   "metadata": {},
   "source": [
    "### Preprocessing"
   ]
  },
  {
   "cell_type": "code",
   "execution_count": 8,
   "metadata": {
    "id": "4di1gihVdYTd",
    "tags": []
   },
   "outputs": [],
   "source": [
    "def get_x_y(df, outcome, min_follow_up_days, scaling, remove_cols):\n",
    "\n",
    "    first_outcome_var = df.columns.get_loc('days_to_follow_up')\n",
    "    predictors = df.columns[:first_outcome_var].tolist()\n",
    "\n",
    "    data = df[df['days_to_follow_up'] >= min_follow_up_days].copy()\n",
    "    data['days_to_flap_loss'] = data['days_to_flap_loss'].fillna(10000)\n",
    "    data = data[data['days_to_flap_loss'] >= min_follow_up_days]\n",
    "    data = data[predictors + [outcome]].dropna()\n",
    "\n",
    "    data.drop(remove_cols, axis=1)\n",
    "\n",
    "    if scaling != 'None':\n",
    "        numeric_columns = data[predictors].select_dtypes(np.number).columns.tolist()\n",
    "        scaler = scaling\n",
    "        data[numeric_columns] = scaler.fit_transform(data[numeric_columns])\n",
    "\n",
    "    return data[predictors], data[outcome]"
   ]
  },
  {
   "cell_type": "markdown",
   "metadata": {},
   "source": [
    "### Scoring metrics"
   ]
  },
  {
   "cell_type": "code",
   "execution_count": 9,
   "metadata": {
    "id": "Pcujf-i2Cq8y",
    "tags": []
   },
   "outputs": [],
   "source": [
    "def optimized_accuracy(y_test, y_pred):\n",
    "    thresholds = np.arange(0.05, 0.95, 0.05)\n",
    "    best_acc = 0\n",
    "\n",
    "    for threshold in thresholds:\n",
    "        predicted_labels = (y_pred >= threshold).astype(int)\n",
    "        acc = accuracy_score(y_test, predicted_labels)\n",
    "        if acc > best_acc:\n",
    "            best_acc = acc\n",
    "\n",
    "    return best_acc"
   ]
  },
  {
   "cell_type": "code",
   "execution_count": 10,
   "metadata": {
    "id": "fSenqBWCr7Id",
    "tags": []
   },
   "outputs": [],
   "source": [
    "def optimized_f1(y_test, y_pred):\n",
    "    thresholds = np.arange(0.05, 0.95, 0.05)\n",
    "    best_f1 = 0\n",
    "\n",
    "    for threshold in thresholds:\n",
    "        predicted_labels = (y_pred >= threshold).astype(int)\n",
    "        f1 = f1_score(y_test, predicted_labels)\n",
    "        if f1 > best_f1:\n",
    "            best_f1 = f1\n",
    "\n",
    "    return best_f1"
   ]
  },
  {
   "cell_type": "code",
   "execution_count": 11,
   "metadata": {
    "id": "mOPgguC6AXC9",
    "tags": []
   },
   "outputs": [],
   "source": [
    "def optimized_mcc(y_test, y_pred):\n",
    "    thresholds = np.arange(0.05, 0.95, 0.05)\n",
    "    best_mcc = -1\n",
    "\n",
    "    for threshold in thresholds:\n",
    "        predicted_labels = (y_pred >= threshold).astype(int)\n",
    "        mcc = matthews_corrcoef(y_test, predicted_labels)\n",
    "        if mcc > best_mcc:\n",
    "            best_mcc = mcc\n",
    "\n",
    "    return best_mcc"
   ]
  },
  {
   "cell_type": "code",
   "execution_count": 12,
   "metadata": {
    "tags": []
   },
   "outputs": [],
   "source": [
    "acc_scorer = make_scorer(optimized_accuracy, needs_proba=True)\n",
    "f1_scorer = make_scorer(optimized_f1, needs_proba=True)\n",
    "mcc_scorer = make_scorer(optimized_mcc, needs_proba=True)"
   ]
  },
  {
   "cell_type": "markdown",
   "metadata": {},
   "source": [
    "### Nested CV"
   ]
  },
  {
   "cell_type": "code",
   "execution_count": 13,
   "metadata": {
    "tags": []
   },
   "outputs": [],
   "source": [
    "# Draft, not yet in use\n",
    "outcome_counts = df_all_levels_cca['complication_plate___exposure'].value_counts().tolist()\n",
    "outcome_counts = outcome_counts[1]\n",
    "nested_inner_k = round(outcome_counts / 20, 0)\n",
    "nested_outer_k = round(outcome_counts / 20, 0)\n",
    "repeated_inner_k = round(outcome_counts / 12, 0)\n",
    "repeated_outer_k = round(outcome_counts / 20, 0)"
   ]
  },
  {
   "cell_type": "code",
   "execution_count": 14,
   "metadata": {
    "id": "3oU-8gHKY6Pt",
    "tags": []
   },
   "outputs": [],
   "source": [
    "def nested_cv(outcome, min_follow_up_days, inner_k, outer_k, remove_cols, model, parameter_grid, scaling, df):\n",
    "    \n",
    "    inner_cv = StratifiedKFold(n_splits=inner_k, shuffle=True, random_state=0)\n",
    "    outer_cv = StratifiedKFold(n_splits=outer_k, shuffle=True, random_state=0)   \n",
    "\n",
    "    x, y = get_x_y(df, outcome, min_follow_up_days, scaling, remove_cols) \n",
    "\n",
    "    # Inner cross-validation for parameter search\n",
    "    inner_model = GridSearchCV(estimator=model, param_grid=parameter_grid, cv=inner_cv, n_jobs=-1, scoring='average_precision')\n",
    "\n",
    "    # Outer cross-validation to compute the testing score\n",
    "    cv_results = cross_validate(inner_model, x, y, cv=outer_cv, n_jobs=-1, scoring={'mcc': mcc_scorer, 'f1': f1_scorer, 'accuracy': acc_scorer, 'pr_auc': 'average_precision', 'roc_auc': 'roc_auc'})\n",
    "\n",
    "    print(\"Mean MCC: \"f\"{cv_results['test_mcc'].mean():.3f} ± {cv_results['test_mcc'].std():.3f}\")\n",
    "    print(\"Mean F1: \"f\"{cv_results['test_f1'].mean():.3f} ± {cv_results['test_f1'].std():.3f}\")\n",
    "    print(\"Mean Accuracy: \"f\"{cv_results['test_accuracy'].mean():.3f} ± {cv_results['test_accuracy'].std():.3f}\")\n",
    "    print(\"Mean PR AUC: \"f\"{cv_results['test_pr_auc'].mean():.3f} ± {cv_results['test_pr_auc'].std():.3f}\")\n",
    "    print(\"Mean ROC AUC: \"f\"{cv_results['test_roc_auc'].mean():.3f} ± {cv_results['test_roc_auc'].std():.3f}\")"
   ]
  },
  {
   "cell_type": "markdown",
   "metadata": {},
   "source": [
    "### Nested repeated CV"
   ]
  },
  {
   "cell_type": "code",
   "execution_count": 20,
   "metadata": {
    "id": "Jg60emeMwK-6",
    "tags": []
   },
   "outputs": [],
   "source": [
    "def nested_repeated_cv(outcome, min_follow_up_days, inner_k, outer_k, remove_cols, model, parameter_grid, scaling, df):\n",
    "\n",
    "    inner_cv = StratifiedKFold(n_splits=inner_k, shuffle=True, random_state=0)\n",
    "    outer_cv = RepeatedStratifiedKFold(n_splits=outer_k, n_repeats=8, random_state=0)\n",
    "\n",
    "    x, y = get_x_y(df, outcome, min_follow_up_days, scaling, remove_cols)\n",
    "\n",
    "    # Inner cross-validation for parameter search\n",
    "    inner_model = GridSearchCV(estimator=model, param_grid=parameter_grid, cv=inner_cv, n_jobs=-1, scoring='average_precision')\n",
    "\n",
    "    # Outer cross-validation to compute the testing score\n",
    "    cv_results = cross_validate(inner_model, x, y, cv=outer_cv, n_jobs=-1, scoring={'mcc': mcc_scorer, 'f1': f1_scorer, 'accuracy': acc_scorer, 'pr_auc': 'average_precision', 'roc_auc': 'roc_auc'})\n",
    "\n",
    "    print(\"Mean MCC: \"f\"{cv_results['test_mcc'].mean():.3f} ± {cv_results['test_mcc'].std():.3f}\")\n",
    "    print(\"Mean F1: \"f\"{cv_results['test_f1'].mean():.3f} ± {cv_results['test_f1'].std():.3f}\")\n",
    "    print(\"Mean Accuracy: \"f\"{cv_results['test_accuracy'].mean():.3f} ± {cv_results['test_accuracy'].std():.3f}\")\n",
    "    print(\"Mean PR AUC: \"f\"{cv_results['test_pr_auc'].mean():.3f} ± {cv_results['test_pr_auc'].std():.3f}\")\n",
    "    print(\"Mean ROC AUC: \"f\"{cv_results['test_roc_auc'].mean():.3f} ± {cv_results['test_roc_auc'].std():.3f}\")"
   ]
  },
  {
   "cell_type": "markdown",
   "metadata": {
    "id": "ukIA11HJmEQn",
    "tags": []
   },
   "source": [
    "### Logistic Regression"
   ]
  },
  {
   "cell_type": "code",
   "execution_count": 16,
   "metadata": {
    "id": "01lHw2-dDfGs",
    "tags": []
   },
   "outputs": [],
   "source": [
    "weights = np.arange(0, 1, 0.05)\n",
    "lr_param_grid = {\n",
    "    'max_iter': [5000],\n",
    "    'C': np.arange(0.1, 10, 0.2),\n",
    "    'class_weight': [{0:x, 1:1-x} for x in weights],\n",
    "    #'solver': ['lbfgs', 'liblinear', 'newton-cg', 'sag', 'saga']\n",
    "    'solver': ['lbfgs', 'liblinear', 'newton-cg']\n",
    "}"
   ]
  },
  {
   "cell_type": "markdown",
   "metadata": {
    "id": "eUVKas4ODgeh",
    "tags": []
   },
   "source": [
    "#### Plate exposure"
   ]
  },
  {
   "cell_type": "code",
   "execution_count": 17,
   "metadata": {
    "id": "boDd9D_llw9_",
    "tags": []
   },
   "outputs": [],
   "source": [
    "remove_cols_pe = ['venous_anastomosis_type___end_end', 'venous_anastomosis_type___end_side', 'urkens_classification___c', 'surgery_duration_min']"
   ]
  },
  {
   "cell_type": "markdown",
   "metadata": {},
   "source": [
    "##### Complete-case-analysis"
   ]
  },
  {
   "cell_type": "code",
   "execution_count": 18,
   "metadata": {
    "colab": {
     "base_uri": "https://localhost:8080/"
    },
    "id": "YAgXE56-hg_2",
    "outputId": "be41e00b-d4ee-4766-9a45-80fbcee9d79b",
    "scrolled": true,
    "tags": []
   },
   "outputs": [
    {
     "name": "stdout",
     "output_type": "stream",
     "text": [
      "Mean MCC: 0.064 ± 0.090\n",
      "Mean F1: 0.396 ± 0.021\n",
      "Mean Accuracy: 0.413 ± 0.251\n",
      "Mean PR AUC: 0.338 ± 0.093\n",
      "Mean ROC AUC: 0.570 ± 0.105\n"
     ]
    }
   ],
   "source": [
    "nested_cv(\n",
    "    outcome = 'complication_plate___exposure', \n",
    "    min_follow_up_days = 60, \n",
    "    inner_k = 3,\n",
    "    outer_k = 3,\n",
    "    remove_cols = remove_cols_pe,\n",
    "    model = LogisticRegression(), \n",
    "    parameter_grid = lr_param_grid, \n",
    "    scaling = RobustScaler(), \n",
    "    df = df_dropped_first_cca\n",
    ")"
   ]
  },
  {
   "cell_type": "code",
   "execution_count": 19,
   "metadata": {
    "tags": []
   },
   "outputs": [
    {
     "name": "stdout",
     "output_type": "stream",
     "text": [
      "Mean MCC: 0.220 ± 0.124\n",
      "Mean F1: 0.439 ± 0.092\n",
      "Mean Accuracy: 0.665 ± 0.197\n",
      "Mean PR AUC: 0.375 ± 0.083\n",
      "Mean ROC AUC: 0.643 ± 0.095\n"
     ]
    }
   ],
   "source": [
    "nested_repeated_cv(\n",
    "    outcome = 'complication_plate___exposure', \n",
    "    min_follow_up_days = 60,\n",
    "    inner_k = 5,\n",
    "    outer_k = 4,\n",
    "    remove_cols = remove_cols_pe, \n",
    "    model = LogisticRegression(), \n",
    "    parameter_grid = lr_param_grid,  \n",
    "    scaling = RobustScaler(), \n",
    "    df = df_dropped_first_cca\n",
    ")"
   ]
  },
  {
   "cell_type": "markdown",
   "metadata": {},
   "source": [
    "##### Imputed data"
   ]
  },
  {
   "cell_type": "code",
   "execution_count": 21,
   "metadata": {
    "tags": []
   },
   "outputs": [
    {
     "name": "stdout",
     "output_type": "stream",
     "text": [
      "Mean MCC: 0.190 ± 0.141\n",
      "Mean F1: 0.454 ± 0.039\n",
      "Mean Accuracy: 0.582 ± 0.233\n",
      "Mean PR AUC: 0.325 ± 0.077\n",
      "Mean ROC AUC: 0.595 ± 0.123\n"
     ]
    }
   ],
   "source": [
    "nested_cv(\n",
    "    outcome = 'complication_plate___exposure', \n",
    "    min_follow_up_days = 60, \n",
    "    inner_k = 3,\n",
    "    outer_k = 3,\n",
    "    remove_cols = remove_cols_pe,\n",
    "    model = LogisticRegression(), \n",
    "    parameter_grid = lr_param_grid, \n",
    "    scaling = RobustScaler(), \n",
    "    df = df_dropped_first_imp\n",
    ")"
   ]
  },
  {
   "cell_type": "code",
   "execution_count": 22,
   "metadata": {
    "tags": []
   },
   "outputs": [
    {
     "name": "stdout",
     "output_type": "stream",
     "text": [
      "Mean MCC: 0.212 ± 0.128\n",
      "Mean F1: 0.450 ± 0.079\n",
      "Mean Accuracy: 0.610 ± 0.216\n",
      "Mean PR AUC: 0.378 ± 0.084\n",
      "Mean ROC AUC: 0.649 ± 0.082\n"
     ]
    }
   ],
   "source": [
    "nested_repeated_cv(\n",
    "    outcome = 'complication_plate___exposure', \n",
    "    min_follow_up_days = 60,\n",
    "    inner_k = 5,\n",
    "    outer_k = 4,\n",
    "    remove_cols = remove_cols_pe, \n",
    "    model = LogisticRegression(), \n",
    "    parameter_grid = lr_param_grid,  \n",
    "    scaling = RobustScaler(), \n",
    "    df = df_dropped_first_imp\n",
    ")"
   ]
  },
  {
   "cell_type": "markdown",
   "metadata": {
    "id": "i4lZqvTdDkFx"
   },
   "source": [
    "#### Nonunion"
   ]
  },
  {
   "cell_type": "code",
   "execution_count": null,
   "metadata": {
    "id": "TJ418qRAsJ8o"
   },
   "outputs": [],
   "source": [
    "remove_cols_nu = ['venous_anastomosis_type___end_end', 'venous_anastomosis_type___end_side', 'urkens_classification___c', 'surgery_duration_min']"
   ]
  },
  {
   "cell_type": "code",
   "execution_count": null,
   "metadata": {
    "colab": {
     "base_uri": "https://localhost:8080/"
    },
    "id": "e1RcxoK9R_4_",
    "outputId": "38ac64f2-f307-4fb9-cd31-0051def28a73",
    "scrolled": true,
    "tags": []
   },
   "outputs": [],
   "source": [
    "nested_cv(outcome='nonunion', model=LogisticRegression(), parameter_grid=lr_param_grid, min_follow_up_days=180, scaling=RobustScaler(), df=df_dropped_first_cca, remove_cols=remove_cols_nu)"
   ]
  },
  {
   "cell_type": "code",
   "execution_count": null,
   "metadata": {
    "colab": {
     "base_uri": "https://localhost:8080/"
    },
    "id": "RgPTePU3XGzf",
    "outputId": "54574cb2-0294-4ca3-e356-2b2d8f4be0aa"
   },
   "outputs": [],
   "source": [
    "nested_repeated_cv(outcome='nonunion', model=LogisticRegression(), parameter_grid=lr_param_grid, min_follow_up_days=180, scaling=True, df=df_dropped_first_cca, remove_cols=remove_cols_nu)"
   ]
  },
  {
   "cell_type": "markdown",
   "metadata": {
    "id": "KLUfcvFFDmpY"
   },
   "source": [
    "#### Soft tissue complication"
   ]
  },
  {
   "cell_type": "code",
   "execution_count": null,
   "metadata": {
    "id": "nlYH78NYuwx5"
   },
   "outputs": [],
   "source": [
    "remove_cols_stx = ['venous_anastomosis_type___end_end', 'venous_anastomosis_type___end_side', 'urkens_classification___c']"
   ]
  },
  {
   "cell_type": "code",
   "execution_count": null,
   "metadata": {
    "colab": {
     "base_uri": "https://localhost:8080/"
    },
    "id": "l4xVk1sxj7_U",
    "outputId": "44ad06aa-f234-48b1-dcbf-c48efda60c4d"
   },
   "outputs": [],
   "source": [
    "nested_cv(outcome='soft_tissue_complication', model=LogisticRegression(), parameter_grid=lr_param_grid, min_follow_up_days=30, scaling='None', df=df_dropped_first_cca, remove_cols=remove_cols_stx)"
   ]
  },
  {
   "cell_type": "code",
   "execution_count": null,
   "metadata": {
    "colab": {
     "base_uri": "https://localhost:8080/"
    },
    "id": "o8WwuLVEZ8Oh",
    "outputId": "71492ad8-e3f7-4388-e623-f882dff34845"
   },
   "outputs": [],
   "source": [
    "nested_cv_bootstrapping(outcome='soft_tissue_complication', model=LogisticRegression(), parameter_grid=lr_param_grid, min_follow_up_days=30, scaling=True, df=df_dropped_first_cca, remove_cols=remove_cols_stx)"
   ]
  },
  {
   "cell_type": "markdown",
   "metadata": {
    "id": "Wmll9RJEDqST"
   },
   "source": [
    "#### Wound infection"
   ]
  },
  {
   "cell_type": "code",
   "execution_count": null,
   "metadata": {
    "id": "xFgyMd2SBEii"
   },
   "outputs": [],
   "source": [
    "remove_cols_wi = ['venous_anastomosis_type___end_end', 'venous_anastomosis_type___end_side', 'urkens_classification___c']"
   ]
  },
  {
   "cell_type": "code",
   "execution_count": null,
   "metadata": {
    "colab": {
     "base_uri": "https://localhost:8080/"
    },
    "id": "b5pULZ55pU_f",
    "outputId": "3899ddd8-da4d-4542-badd-dc3a21f37b5d"
   },
   "outputs": [],
   "source": [
    "nested_cv(outcome='wound_infection', model=LogisticRegression(), parameter_grid=lr_param_grid, min_follow_up_days=60, scaling=True, df=df_dropped_first_cca, remove_cols=remove_cols_wi)"
   ]
  },
  {
   "cell_type": "code",
   "execution_count": null,
   "metadata": {
    "colab": {
     "base_uri": "https://localhost:8080/"
    },
    "id": "90nIzC5bgUyv",
    "outputId": "d48d6fce-fcb8-4bd8-e368-b44b94f08036",
    "scrolled": true,
    "tags": []
   },
   "outputs": [],
   "source": [
    "nested_cv_bootstrapping(outcome='wound_infection', model=LogisticRegression(), parameter_grid=lr_param_grid, min_follow_up_days=60, scaling=True, df=df_dropped_first_cca, remove_cols=remove_cols_wi)"
   ]
  },
  {
   "cell_type": "markdown",
   "metadata": {
    "id": "Y7opv3cYDs_H"
   },
   "source": [
    "#### Flap loss"
   ]
  },
  {
   "cell_type": "code",
   "execution_count": null,
   "metadata": {
    "id": "nEo87XTUxxA5"
   },
   "outputs": [],
   "source": [
    "remove_cols_fl = []"
   ]
  },
  {
   "cell_type": "code",
   "execution_count": null,
   "metadata": {
    "colab": {
     "base_uri": "https://localhost:8080/"
    },
    "id": "tmFZ7zKPlBtQ",
    "outputId": "13ef06f9-fee9-4ece-fdba-db3eba61d787",
    "scrolled": true,
    "tags": []
   },
   "outputs": [],
   "source": [
    "nested_cv(outcome='flap_loss', model=LogisticRegression(), parameter_grid=lr_param_grid, min_follow_up_days=0, scaling=True, df=df_dropped_first_cca, remove_cols=remove_cols_fl)"
   ]
  },
  {
   "cell_type": "code",
   "execution_count": null,
   "metadata": {
    "colab": {
     "base_uri": "https://localhost:8080/"
    },
    "id": "2TyuPQOIgW54",
    "outputId": "fcbf0cd9-3251-41be-fde6-4070045459bc",
    "scrolled": true,
    "tags": []
   },
   "outputs": [],
   "source": [
    "nested_cv_bootstrapping(outcome='flap_loss', model=LogisticRegression(), parameter_grid=lr_param_grid, min_follow_up_days=0, scaling=True, df=df_dropped_first_cca, remove_cols=remove_cols_fl)"
   ]
  },
  {
   "cell_type": "markdown",
   "metadata": {
    "id": "ySF20KJfAvLG"
   },
   "source": [
    "## Random Forest"
   ]
  },
  {
   "cell_type": "code",
   "execution_count": 29,
   "metadata": {
    "id": "LJMZoCCBDxNt"
   },
   "outputs": [],
   "source": [
    "rf_param_grid = {\n",
    "    'n_estimators': [50, 100, 500, 1000],\n",
    "    'max_depth': np.arange(2, 8, 1),\n",
    "    'min_samples_split': np.arange(0, 1, 0.1),\n",
    "    #'min_weight_fraction_leaf': np.arange(0, 1, 0.1),\n",
    "    'max_features': np.arange(0, 1, 0.1)\n",
    "}"
   ]
  },
  {
   "cell_type": "markdown",
   "metadata": {
    "id": "FTXS3UC7DyVE"
   },
   "source": [
    "#### Plate exposure"
   ]
  },
  {
   "cell_type": "markdown",
   "metadata": {},
   "source": [
    "##### CCA"
   ]
  },
  {
   "cell_type": "code",
   "execution_count": null,
   "metadata": {
    "id": "BJCnUO7kAy08"
   },
   "outputs": [],
   "source": [
    "nested_cv(\n",
    "    outcome = 'complication_plate___exposure', \n",
    "    min_follow_up_days = 60, \n",
    "    inner_k = 3,\n",
    "    outer_k = 3,\n",
    "    remove_cols = remove_cols_pe,\n",
    "    model = RandomForestClassifier(), \n",
    "    parameter_grid = rf_param_grid, \n",
    "    scaling = 'None', \n",
    "    df = df_all_levels_cca\n",
    ")"
   ]
  },
  {
   "cell_type": "code",
   "execution_count": null,
   "metadata": {
    "id": "NLEnIg1JrkyA"
   },
   "outputs": [],
   "source": [
    "nested_cv_bootstrapping(outcome='complication_plate___exposure', model=RandomForestClassifier(n_jobs=-1, random_state=0), parameter_grid=rf_param_grid, min_follow_up_days=90, scaling=False, df=df_all_levels_cca, remove_cols=remove_cols_pe)"
   ]
  },
  {
   "cell_type": "markdown",
   "metadata": {},
   "source": [
    "##### Imputed"
   ]
  },
  {
   "cell_type": "markdown",
   "metadata": {
    "id": "3wWCbrS7_MYA"
   },
   "source": [
    "#### Nonunion"
   ]
  },
  {
   "cell_type": "code",
   "execution_count": null,
   "metadata": {
    "id": "vQ5fisP-_PbK"
   },
   "outputs": [],
   "source": [
    "nested_cv(outcome='nonunion', model=RandomForestClassifier(n_jobs=-1, random_state=0), parameter_grid=rf_param_grid, min_follow_up_days=180, scaling=False, df=df_all_levels_cca, remove_cols=remove_cols_nu)"
   ]
  },
  {
   "cell_type": "code",
   "execution_count": null,
   "metadata": {
    "id": "phP2IxULrnW2"
   },
   "outputs": [],
   "source": [
    "nested_cv_bootstrapping(outcome='nonunion', model=RandomForestClassifier(n_jobs=-1, random_state=0), parameter_grid=rf_param_grid, min_follow_up_days=180, scaling=False, df=df_all_levels_cca, remove_cols=remove_cols_nu)"
   ]
  },
  {
   "cell_type": "markdown",
   "metadata": {
    "id": "8Mskyn6qDuJz"
   },
   "source": [
    "#### Soft tissue complication"
   ]
  },
  {
   "cell_type": "code",
   "execution_count": null,
   "metadata": {
    "id": "HcDsj7oDCLIn"
   },
   "outputs": [],
   "source": [
    "nested_cv(outcome='soft_tissue_complication', model=RandomForestClassifier(n_jobs=-1, random_state=0), parameter_grid=rf_param_grid, min_follow_up_days=180, scaling=False, df=df_all_levels_cca, remove_cols=remove_cols_stx)"
   ]
  },
  {
   "cell_type": "code",
   "execution_count": null,
   "metadata": {
    "id": "deHI7niHrpsb"
   },
   "outputs": [],
   "source": [
    "nested_cv_bootstrapping(outcome='soft_tissue_complication', model=RandomForestClassifier(n_jobs=-1, random_state=0), parameter_grid=rf_param_grid, min_follow_up_days=180, scaling=False, df=df_all_levels_cca, remove_cols=remove_cols_stx)"
   ]
  },
  {
   "cell_type": "markdown",
   "metadata": {
    "id": "dxdgc3COGYS5"
   },
   "source": [
    "#### Wound infection"
   ]
  },
  {
   "cell_type": "code",
   "execution_count": null,
   "metadata": {
    "id": "z7MoGzjFGZw6"
   },
   "outputs": [],
   "source": [
    "nested_cv(outcome='wound_infection', model=RandomForestClassifier(n_jobs=-1, random_state=0), parameter_grid=rf_param_grid, min_follow_up_days=180, scaling=False, df=df_all_levels_cca, remove_cols=remove_cols_wi)"
   ]
  },
  {
   "cell_type": "code",
   "execution_count": null,
   "metadata": {
    "id": "lckFb4aHrr94"
   },
   "outputs": [],
   "source": [
    "nested_cv_bootstrapping(outcome='wound_infection', model=RandomForestClassifier(n_jobs=-1, random_state=0), parameter_grid=rf_param_grid, min_follow_up_days=180, scaling=False, df=df_all_levels_cca, remove_cols=remove_cols_wi)"
   ]
  },
  {
   "cell_type": "markdown",
   "metadata": {
    "id": "iOWpxJr1IIDP"
   },
   "source": [
    "#### Flap loss"
   ]
  },
  {
   "cell_type": "code",
   "execution_count": null,
   "metadata": {
    "id": "npFDnd0QITO5"
   },
   "outputs": [],
   "source": [
    "nested_cv(outcome='flap_loss', model=RandomForestClassifier(n_jobs=-1, random_state=0), parameter_grid=rf_param_grid, min_follow_up_days=0, scaling=False, df=df_all_levels_cca, remove_cols=remove_cols_fl)"
   ]
  },
  {
   "cell_type": "code",
   "execution_count": null,
   "metadata": {
    "id": "wDclN5Nzrt-K"
   },
   "outputs": [],
   "source": [
    "nested_cv_bootstrapping(outcome='flap_loss', model=RandomForestClassifier(n_jobs=-1, random_state=0), parameter_grid=rf_param_grid, min_follow_up_days=0, scaling=False, df=df_all_levels_cca, remove_cols=remove_cols_fl)"
   ]
  },
  {
   "cell_type": "markdown",
   "metadata": {
    "id": "S_LnRR0DIc8T"
   },
   "source": [
    "## kNN Classifier"
   ]
  },
  {
   "cell_type": "code",
   "execution_count": null,
   "metadata": {
    "id": "u5dQMAoGKSSY"
   },
   "outputs": [],
   "source": [
    "knn_param_grid = {\n",
    "    'n_neighbors': np.arange(2, 8, 1),\n",
    "    'weights': ['uniform', 'distance'],\n",
    "    'leaf_size': np.arange(5, 45, 10),\n",
    "    'p': np.arange(0.5, 5, 0.5)\n",
    "}"
   ]
  },
  {
   "cell_type": "code",
   "execution_count": null,
   "metadata": {
    "id": "cPoEHisjeyJo"
   },
   "outputs": [],
   "source": [
    "nested_cv(outcome='complication_plate___exposure', model=KNeighborsClassifier(n_jobs=-1), parameter_grid=knn_param_grid, min_follow_up_days=60, scaling=True, df=df_all_levels_cca, remove_cols=remove_cols_pe)"
   ]
  },
  {
   "cell_type": "markdown",
   "metadata": {
    "id": "BmKqa6VdQvBG"
   },
   "source": [
    "#### Nonunion"
   ]
  },
  {
   "cell_type": "code",
   "execution_count": null,
   "metadata": {
    "id": "aQc5vl79QwQB"
   },
   "outputs": [],
   "source": [
    "nested_cv(outcome='nonunion', model=KNeighborsClassifier(n_jobs=-1), parameter_grid=knn_param_grid, min_follow_up_days=180, scaling=True, df=df_all_levels_cca, remove_cols=remove_cols_nu)"
   ]
  },
  {
   "cell_type": "markdown",
   "metadata": {
    "id": "mCuubHA_BSQZ"
   },
   "source": [
    "## DEPRECATED"
   ]
  },
  {
   "cell_type": "code",
   "execution_count": null,
   "metadata": {
    "id": "td9Xw6lm8Cv-"
   },
   "outputs": [],
   "source": [
    "from sklearn.model_selection import train_test_split\n",
    "from sklearn.experimental import enable_halving_search_cv\n",
    "from sklearn.model_selection import cross_validate, StratifiedKFold, HalvingGridSearchCV\n",
    "from sklearn.metrics import make_scorer, matthews_corrcoef, f1_score, accuracy_score, average_precision_score, roc_auc_score\n",
    "\n",
    "inner_cv = StratifiedKFold(n_splits=3, shuffle=True, random_state=0)\n",
    "\n",
    "def nested_cv_bootstrapping(outcome, model, parameter_grid, min_follow_up_days, scaling, df, remove_cols):\n",
    "\n",
    "  metrics = {'f1': [], 'mcc': [], 'accuracy': [], 'pr_auc': [], 'roc_auc': []}\n",
    "\n",
    "  n_bootstrap = 10\n",
    "  x, y = get_x_y(df, outcome, min_follow_up_days, scaling, remove_cols)\n",
    "\n",
    "  for i in range(n_bootstrap):\n",
    "\n",
    "    x_train, x_test, y_train, y_test = train_test_split(x, y, test_size=0.3, shuffle=True, stratify=y, random_state=i)\n",
    "    print(y_train.value_counts())\n",
    "\n",
    "    # Inner loop: Grid search for hyperparameter tuning\n",
    "    inner_model = HalvingGridSearchCV(estimator=model, param_grid=parameter_grid, cv=inner_cv, factor=2, n_jobs=-1, scoring='average_precision')\n",
    "    inner_model.fit(x_train, y_train)\n",
    "\n",
    "    # Get the best hyperparameters from the inner loop\n",
    "    best_params = inner_model.best_params_\n",
    "\n",
    "    # Evaluate the selected hyperparameters on the remaining 30% of the data\n",
    "    model.set_params(**best_params)\n",
    "    model.fit(x_train, y_train)\n",
    "    y_pred = model.predict_proba(x_test)\n",
    "\n",
    "    metrics['f1'].append(optimized_f1(y_test, y_pred[:, 1]))\n",
    "    metrics['mcc'].append(optimized_mcc(y_test, y_pred[:, 1]))\n",
    "    metrics['accuracy'].append(optimized_accuracy(y_test, y_pred[:, 1]))\n",
    "    metrics['pr_auc'].append(average_precision_score(y_test, y_pred[:, 1]))\n",
    "    metrics['roc_auc'].append(roc_auc_score(y_test, y_pred[:, 1]))\n",
    "\n",
    "\n",
    "  print(\"Mean MCC: \"\n",
    "      f\"{np.mean(metrics['mcc']):.3f} ± {np.std(metrics['mcc']):.3f}\")\n",
    "  print(\"Mean F1: \"\n",
    "      f\"{np.mean(metrics['f1']):.3f} ± {np.std(metrics['f1']):.3f}\")\n",
    "  print(\"Mean Accuracy: \"\n",
    "      f\"{np.mean(metrics['accuracy']):.3f} ± {np.std(metrics['accuracy']):.3f}\")\n",
    "  print(\"Mean PR AUC: \"\n",
    "      f\"{np.mean(metrics['pr_auc']):.3f} ± {np.std(metrics['pr_auc']):.3f}\")\n",
    "  print(\"Mean ROC AUC: \"\n",
    "      f\"{np.mean(metrics['roc_auc']):.3f} ± {np.std(metrics['roc_auc']):.3f}\")"
   ]
  }
 ],
 "metadata": {
  "colab": {
   "authorship_tag": "ABX9TyPgS2C9As1IchOvb7Qsg4ZA",
   "include_colab_link": true,
   "machine_shape": "hm",
   "mount_file_id": "1YCeJ8o9LykeewEBhhIL_d6nHNE3VcARS",
   "provenance": []
  },
  "kernelspec": {
   "display_name": "Python 3 (ipykernel)",
   "language": "python",
   "name": "python3"
  },
  "language_info": {
   "codemirror_mode": {
    "name": "ipython",
    "version": 3
   },
   "file_extension": ".py",
   "mimetype": "text/x-python",
   "name": "python",
   "nbconvert_exporter": "python",
   "pygments_lexer": "ipython3",
   "version": "3.11.5"
  }
 },
 "nbformat": 4,
 "nbformat_minor": 4
}
