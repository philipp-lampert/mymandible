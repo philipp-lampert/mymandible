{
 "cells": [
  {
   "cell_type": "markdown",
   "id": "15aaf6a6-5ad4-4cc0-bdf6-7a082028e6ae",
   "metadata": {},
   "source": [
    "# Model training for 3-segment reconstructions"
   ]
  },
  {
   "cell_type": "markdown",
   "id": "2d7d8b97-fc08-4efb-8d71-702da396f8ce",
   "metadata": {
    "tags": []
   },
   "source": [
    "## Import"
   ]
  },
  {
   "cell_type": "code",
   "execution_count": 91,
   "id": "d84553f8-5de5-427d-bef2-bdceb3d07a24",
   "metadata": {
    "tags": []
   },
   "outputs": [],
   "source": [
    "import warnings\n",
    "import numpy as np\n",
    "import pandas as pd\n",
    "import copy\n",
    "from statistics import mean, stdev\n",
    "from sklearn.preprocessing import QuantileTransformer\n",
    "from sklearn.metrics import make_scorer, matthews_corrcoef, f1_score, accuracy_score, average_precision_score, roc_auc_score, brier_score_loss\n",
    "from sklearn.model_selection import cross_validate, StratifiedKFold, RepeatedStratifiedKFold\n",
    "from sklearn.linear_model import LogisticRegression \n",
    "from sklearn.neighbors import KNeighborsClassifier\n",
    "from sklearn.ensemble import RandomForestClassifier\n",
    "from xgboost import XGBClassifier\n",
    "from scipy.stats import chi2_contingency\n",
    "import shap\n",
    "import statsmodels.formula.api as smf\n",
    "import seaborn as sns\n",
    "import matplotlib.pyplot as plt"
   ]
  },
  {
   "cell_type": "code",
   "execution_count": 65,
   "id": "4338d1bd-ee42-482b-a974-4270bc8b8d6d",
   "metadata": {
    "tags": []
   },
   "outputs": [],
   "source": [
    "df_dropped_first = pd.read_parquet('/Users/philipp.lampert/repositories/mymandible/data/dropped_first_imputed.parquet')\n",
    "df_all_levels = pd.read_parquet('/Users/philipp.lampert/repositories/mymandible/data/all_levels_imputed.parquet')"
   ]
  },
  {
   "cell_type": "code",
   "execution_count": 66,
   "id": "397d1123-728e-46a4-a32d-e78630e59678",
   "metadata": {
    "tags": []
   },
   "outputs": [],
   "source": [
    "def get_3_segment_df(df):\n",
    "    df3 = df[\n",
    "        (df['flap_segment_count'] == 3) \n",
    "        & (df['flap_donor_site___scapula'] == False) \n",
    "        & (df['plate_type___cad_mini'] == False)\n",
    "        & (df['flap_loss'] == False)\n",
    "        & (df['indication___secondary_reconstruction'] == False)\n",
    "        & (df['indication___osteoradionecrosis'] == False)\n",
    "    ].copy()\n",
    "\n",
    "    # drop unused variables\n",
    "    df3 = df3.drop(['flap_donor_site___scapula', \n",
    "                    'flap_segment_count', \n",
    "                    'plate_type___cad_mini', \n",
    "                    'urkens_classification___s',\n",
    "                    'indication___osteoradionecrosis',\n",
    "                    'indication___secondary_reconstruction',\n",
    "                    'prior_flap___bony'\n",
    "                   ], axis=1)\n",
    "    return df3"
   ]
  },
  {
   "cell_type": "code",
   "execution_count": 67,
   "id": "e50cb7b4-161e-476a-a64f-60082a92a4c9",
   "metadata": {
    "tags": []
   },
   "outputs": [],
   "source": [
    "df_df = get_3_segment_df(df_dropped_first)\n",
    "df_all = get_3_segment_df(df_all_levels)"
   ]
  },
  {
   "cell_type": "markdown",
   "id": "af3512cf-2a5a-4719-8830-13133a2a9ba4",
   "metadata": {},
   "source": [
    "## Preprocessing"
   ]
  },
  {
   "cell_type": "code",
   "execution_count": 68,
   "id": "1949179f-ac3b-4629-ba2b-0961fa5f57a2",
   "metadata": {
    "tags": []
   },
   "outputs": [],
   "source": [
    "from modules.functions import preprocessing as prp\n",
    "from modules.functions import threshold_optimized_metrics as tom"
   ]
  },
  {
   "cell_type": "code",
   "execution_count": 69,
   "id": "f24f5bec-daa6-44b9-b2eb-0898cce6f4a2",
   "metadata": {},
   "outputs": [],
   "source": [
    "acc_scorer = make_scorer(tom.optimized_accuracy, needs_proba=True)\n",
    "f1_scorer = make_scorer(tom.optimized_f1, needs_proba=True)\n",
    "mcc_scorer = make_scorer(tom.optimized_mcc, needs_proba=True)\n",
    "pr_auc_scorer = make_scorer(average_precision_score, needs_proba=True)"
   ]
  },
  {
   "cell_type": "markdown",
   "id": "a8fce90b-f7a6-4332-b49f-0bbb6a87b59e",
   "metadata": {},
   "source": [
    "## Model setup"
   ]
  },
  {
   "cell_type": "code",
   "execution_count": 70,
   "id": "af4d242f-d655-4edf-a58e-228ab57e0ce2",
   "metadata": {
    "tags": []
   },
   "outputs": [],
   "source": [
    "def logreg_regularized(outcome, scaler, df, method, alpha):\n",
    "    \n",
    "    x, y = prp.get_x_y(df=df, outcome=outcome, min_follow_up_days=90, scaler=scaler, drop_cols=drop_cols, inverse_pos=False)\n",
    "    boolean_columns = x.select_dtypes(include=bool).columns\n",
    "    x[boolean_columns] = x[boolean_columns].astype('int')\n",
    "    numeric_columns = x.select_dtypes(include='number').columns\n",
    "    x[numeric_columns] = x[numeric_columns].astype('float64')\n",
    "    y = y.astype('int')    \n",
    "    x_columns = x.columns\n",
    "    all_columns = \"+\".join(x_columns)\n",
    "    formula = outcome +  '~' + all_columns\n",
    "    \n",
    "    data = pd.concat([x, y], axis=1)\n",
    "    final_model = smf.logit(formula, data).fit_regularized(method=method, alpha=alpha)\n",
    "    print(final_model.summary())"
   ]
  },
  {
   "cell_type": "code",
   "execution_count": 71,
   "id": "7ecf4cdd-87e7-4adf-8ab4-1eb81ca02582",
   "metadata": {
    "tags": []
   },
   "outputs": [],
   "source": [
    "drop_cols = [\n",
    "    #'sex_female', \n",
    "    #'comorbidity___smoking', \n",
    "    #'comorbidity___alcohol',\n",
    "    'comorbidity___copd', \n",
    "    'comorbidity___hypertension',\n",
    "    'comorbidity___diabetes', \n",
    "    #'comorbidity___atherosclerosis',\n",
    "    'comorbidity___hyperlipidemia', \n",
    "    'comorbidity___hypothyroidism',\n",
    "    'comorbidity___chronic_kidney_disease',\n",
    "    'comorbidity___autoimmune_disease', \n",
    "    #'age_surgery_years',\n",
    "    'radiotherapy___pre_surgery', \n",
    "    #'radiotherapy___post_surgery',\n",
    "    'chemotherapy___pre_surgery', \n",
    "    'chemotherapy___post_surgery',\n",
    "    'urkens_classification___c', \n",
    "    'urkens_classification___r',\n",
    "    'surgery_duration_min', \n",
    "    #'bmi', \n",
    "    'skin_transplanted',\n",
    "    'prior_flap___non_bony', \n",
    "    #'plate_type___cad_mix'\n",
    "]"
   ]
  },
  {
   "cell_type": "code",
   "execution_count": 72,
   "id": "d127f947-8ad7-4df4-a0f9-73de8100898a",
   "metadata": {},
   "outputs": [
    {
     "data": {
      "text/plain": [
       "prior_flap___non_bony\n",
       "False    61\n",
       "True      4\n",
       "Name: count, dtype: Int64"
      ]
     },
     "execution_count": 72,
     "metadata": {},
     "output_type": "execute_result"
    }
   ],
   "source": [
    "df_df['prior_flap___non_bony'].value_counts()"
   ]
  },
  {
   "cell_type": "markdown",
   "id": "afc40215-1a3a-4721-a755-891ccab76d3a",
   "metadata": {
    "jp-MarkdownHeadingCollapsed": true,
    "tags": []
   },
   "source": [
    "## Logistic Regression"
   ]
  },
  {
   "cell_type": "markdown",
   "id": "98354246-6f7e-4e5b-b72c-ff8b2e637747",
   "metadata": {
    "tags": []
   },
   "source": [
    "### Any complication"
   ]
  },
  {
   "cell_type": "code",
   "execution_count": 73,
   "id": "aa6d4693-01be-4395-a22c-4d023a9520a6",
   "metadata": {
    "tags": []
   },
   "outputs": [
    {
     "data": {
      "text/plain": [
       "comorbidity___autoimmune_disease\n",
       "False    61\n",
       "True      4\n",
       "Name: count, dtype: Int64"
      ]
     },
     "execution_count": 73,
     "metadata": {},
     "output_type": "execute_result"
    }
   ],
   "source": [
    "df_df['comorbidity___autoimmune_disease'].value_counts()"
   ]
  },
  {
   "cell_type": "code",
   "execution_count": 74,
   "id": "fe5e6cb1-dc89-4ad0-bf5b-51af30dd9d8c",
   "metadata": {
    "tags": []
   },
   "outputs": [
    {
     "name": "stdout",
     "output_type": "stream",
     "text": [
      "Optimization terminated successfully    (Exit mode 0)\n",
      "            Current function value: 0.4086571679232351\n",
      "            Iterations: 52\n",
      "            Function evaluations: 57\n",
      "            Gradient evaluations: 52\n",
      "                           Logit Regression Results                           \n",
      "==============================================================================\n",
      "Dep. Variable:       any_complication   No. Observations:                   55\n",
      "Model:                          Logit   Df Residuals:                       46\n",
      "Method:                           MLE   Df Model:                            8\n",
      "Date:                Fri, 23 Feb 2024   Pseudo R-squ.:                  0.3223\n",
      "Time:                        13:59:10   Log-Likelihood:                -22.476\n",
      "converged:                       True   LL-Null:                       -33.163\n",
      "Covariance Type:            nonrobust   LLR p-value:                  0.006218\n",
      "=================================================================================================\n",
      "                                    coef    std err          z      P>|z|      [0.025      0.975]\n",
      "-------------------------------------------------------------------------------------------------\n",
      "Intercept                        12.6166      4.217      2.992      0.003       4.351      20.882\n",
      "sex_female                       -1.1569      0.845     -1.370      0.171      -2.812       0.499\n",
      "comorbidity___smoking            -1.0368      1.053     -0.985      0.325      -3.100       1.026\n",
      "comorbidity___alcohol             0.6570      1.221      0.538      0.591      -1.736       3.050\n",
      "comorbidity___atherosclerosis     2.8511      1.502      1.898      0.058      -0.093       5.795\n",
      "age_surgery_years                -0.1001      0.048     -2.105      0.035      -0.193      -0.007\n",
      "radiotherapy___post_surgery      -1.8477      0.893     -2.070      0.038      -3.597      -0.098\n",
      "bmi                              -0.1842      0.094     -1.956      0.051      -0.369       0.000\n",
      "plate_type___cad_mix              1.4495      0.885      1.637      0.102      -0.286       3.184\n",
      "=================================================================================================\n"
     ]
    }
   ],
   "source": [
    "logreg_regularized('any_complication', 'None', df_df, 'l1', alpha=0)"
   ]
  },
  {
   "cell_type": "markdown",
   "id": "7dd90118-c3e2-46a9-95d1-ea1a4026ee81",
   "metadata": {
    "tags": []
   },
   "source": [
    "### Soft tissue complication"
   ]
  },
  {
   "cell_type": "code",
   "execution_count": 75,
   "id": "90a1ce44-9c7d-4488-bd32-55f50070ccfd",
   "metadata": {
    "tags": []
   },
   "outputs": [
    {
     "data": {
      "text/plain": [
       "soft_tissue_complication\n",
       "True     38\n",
       "False    25\n",
       "Name: count, dtype: Int64"
      ]
     },
     "execution_count": 75,
     "metadata": {},
     "output_type": "execute_result"
    }
   ],
   "source": [
    "df_df['soft_tissue_complication'].value_counts()"
   ]
  },
  {
   "cell_type": "code",
   "execution_count": 76,
   "id": "0ad41aad-375c-4c73-ba35-898bfd5cb1dd",
   "metadata": {
    "tags": []
   },
   "outputs": [
    {
     "name": "stdout",
     "output_type": "stream",
     "text": [
      "Optimization terminated successfully    (Exit mode 0)\n",
      "            Current function value: 0.5048345240365472\n",
      "            Iterations: 51\n",
      "            Function evaluations: 55\n",
      "            Gradient evaluations: 51\n",
      "                              Logit Regression Results                              \n",
      "====================================================================================\n",
      "Dep. Variable:     soft_tissue_complication   No. Observations:                   55\n",
      "Model:                                Logit   Df Residuals:                       46\n",
      "Method:                                 MLE   Df Model:                            8\n",
      "Date:                      Fri, 23 Feb 2024   Pseudo R-squ.:                  0.2408\n",
      "Time:                              13:59:10   Log-Likelihood:                -27.766\n",
      "converged:                             True   LL-Null:                       -36.572\n",
      "Covariance Type:                  nonrobust   LLR p-value:                   0.02433\n",
      "=================================================================================================\n",
      "                                    coef    std err          z      P>|z|      [0.025      0.975]\n",
      "-------------------------------------------------------------------------------------------------\n",
      "Intercept                        10.1475      3.459      2.933      0.003       3.367      16.928\n",
      "sex_female                       -0.3520      0.762     -0.462      0.644      -1.846       1.142\n",
      "comorbidity___smoking            -1.5860      0.899     -1.763      0.078      -3.349       0.177\n",
      "comorbidity___alcohol             1.0548      1.043      1.012      0.312      -0.989       3.098\n",
      "comorbidity___atherosclerosis     2.0610      1.145      1.800      0.072      -0.183       4.305\n",
      "age_surgery_years                -0.0679      0.040     -1.696      0.090      -0.146       0.011\n",
      "radiotherapy___post_surgery      -1.1056      0.726     -1.523      0.128      -2.528       0.317\n",
      "bmi                              -0.2073      0.091     -2.274      0.023      -0.386      -0.029\n",
      "plate_type___cad_mix              1.0082      0.740      1.363      0.173      -0.441       2.458\n",
      "=================================================================================================\n"
     ]
    }
   ],
   "source": [
    "logreg_regularized('soft_tissue_complication', 'None', df_df, 'l1', alpha=0)"
   ]
  },
  {
   "cell_type": "markdown",
   "id": "16a342df-f25c-4c06-b585-92799d019fa3",
   "metadata": {
    "tags": []
   },
   "source": [
    "### Nonunion"
   ]
  },
  {
   "cell_type": "code",
   "execution_count": 77,
   "id": "d026847a-4fc5-41f8-87d5-daa3bc6fbeb9",
   "metadata": {
    "tags": []
   },
   "outputs": [
    {
     "data": {
      "text/plain": [
       "nonunion\n",
       "False    19\n",
       "True     18\n",
       "Name: count, dtype: Int64"
      ]
     },
     "execution_count": 77,
     "metadata": {},
     "output_type": "execute_result"
    }
   ],
   "source": [
    "df_df['nonunion'].value_counts()"
   ]
  },
  {
   "cell_type": "code",
   "execution_count": 78,
   "id": "e69e1d7b-0567-4b02-90c9-1ec40ea9112c",
   "metadata": {
    "tags": []
   },
   "outputs": [
    {
     "name": "stdout",
     "output_type": "stream",
     "text": [
      "Optimization terminated successfully    (Exit mode 0)\n",
      "            Current function value: 0.6033640946183092\n",
      "            Iterations: 47\n",
      "            Function evaluations: 51\n",
      "            Gradient evaluations: 47\n",
      "                           Logit Regression Results                           \n",
      "==============================================================================\n",
      "Dep. Variable:               nonunion   No. Observations:                   36\n",
      "Model:                          Logit   Df Residuals:                       27\n",
      "Method:                           MLE   Df Model:                            8\n",
      "Date:                Fri, 23 Feb 2024   Pseudo R-squ.:                  0.1276\n",
      "Time:                        13:59:10   Log-Likelihood:                -21.721\n",
      "converged:                       True   LL-Null:                       -24.898\n",
      "Covariance Type:            nonrobust   LLR p-value:                    0.6077\n",
      "=================================================================================================\n",
      "                                    coef    std err          z      P>|z|      [0.025      0.975]\n",
      "-------------------------------------------------------------------------------------------------\n",
      "Intercept                         5.2563      4.637      1.134      0.257      -3.832      14.344\n",
      "sex_female                       -0.6107      1.009     -0.605      0.545      -2.588       1.367\n",
      "comorbidity___smoking            -0.9641      0.939     -1.027      0.304      -2.804       0.876\n",
      "comorbidity___alcohol             0.7174      1.031      0.696      0.487      -1.303       2.738\n",
      "comorbidity___atherosclerosis    -0.4920      1.021     -0.482      0.630      -2.494       1.510\n",
      "age_surgery_years                -0.0893      0.056     -1.586      0.113      -0.200       0.021\n",
      "radiotherapy___post_surgery      -0.0175      0.847     -0.021      0.983      -1.678       1.643\n",
      "bmi                               0.0205      0.116      0.177      0.860      -0.206       0.247\n",
      "plate_type___cad_mix              0.4129      0.801      0.515      0.606      -1.158       1.983\n",
      "=================================================================================================\n"
     ]
    }
   ],
   "source": [
    "logreg_regularized('nonunion', 'None', df_df, 'l1', alpha=0)"
   ]
  },
  {
   "cell_type": "markdown",
   "id": "88e6d8e8-b2c2-4c62-a01d-4f1698224304",
   "metadata": {},
   "source": [
    "### Wound infection"
   ]
  },
  {
   "cell_type": "code",
   "execution_count": 79,
   "id": "d71f4db7-8116-4ca1-bec2-8c5ee6f126e7",
   "metadata": {
    "tags": []
   },
   "outputs": [
    {
     "data": {
      "text/plain": [
       "wound_infection\n",
       "False    44\n",
       "True     19\n",
       "Name: count, dtype: Int64"
      ]
     },
     "execution_count": 79,
     "metadata": {},
     "output_type": "execute_result"
    }
   ],
   "source": [
    "df_df['wound_infection'].value_counts()"
   ]
  },
  {
   "cell_type": "code",
   "execution_count": 80,
   "id": "938a48d7-5d5c-4cc8-914a-a5a2087a1011",
   "metadata": {
    "tags": []
   },
   "outputs": [
    {
     "name": "stdout",
     "output_type": "stream",
     "text": [
      "Optimization terminated successfully    (Exit mode 0)\n",
      "            Current function value: 0.43258859730883764\n",
      "            Iterations: 52\n",
      "            Function evaluations: 56\n",
      "            Gradient evaluations: 52\n",
      "                           Logit Regression Results                           \n",
      "==============================================================================\n",
      "Dep. Variable:        wound_infection   No. Observations:                   55\n",
      "Model:                          Logit   Df Residuals:                       46\n",
      "Method:                           MLE   Df Model:                            8\n",
      "Date:                Fri, 23 Feb 2024   Pseudo R-squ.:                  0.3158\n",
      "Time:                        13:59:10   Log-Likelihood:                -23.792\n",
      "converged:                       True   LL-Null:                       -34.773\n",
      "Covariance Type:            nonrobust   LLR p-value:                  0.004989\n",
      "=================================================================================================\n",
      "                                    coef    std err          z      P>|z|      [0.025      0.975]\n",
      "-------------------------------------------------------------------------------------------------\n",
      "Intercept                         7.8249      4.033      1.940      0.052      -0.079      15.729\n",
      "sex_female                       -0.0449      0.935     -0.048      0.962      -1.877       1.787\n",
      "comorbidity___smoking            -1.0833      0.977     -1.109      0.268      -2.998       0.832\n",
      "comorbidity___alcohol             2.2890      1.085      2.110      0.035       0.163       4.415\n",
      "comorbidity___atherosclerosis    -0.4443      1.124     -0.395      0.693      -2.647       1.758\n",
      "age_surgery_years                -0.1016      0.051     -1.978      0.048      -0.202      -0.001\n",
      "radiotherapy___post_surgery      -2.7600      0.925     -2.985      0.003      -4.572      -0.948\n",
      "bmi                              -0.0697      0.103     -0.678      0.498      -0.271       0.132\n",
      "plate_type___cad_mix              1.5649      0.812      1.928      0.054      -0.026       3.156\n",
      "=================================================================================================\n"
     ]
    }
   ],
   "source": [
    "logreg_regularized('wound_infection', 'None', df_df, 'l1', alpha=0)"
   ]
  },
  {
   "cell_type": "markdown",
   "id": "1395f15b-dd99-4223-960d-fc01dd5988bb",
   "metadata": {},
   "source": [
    "### Plate exposure"
   ]
  },
  {
   "cell_type": "code",
   "execution_count": 81,
   "id": "a8d0c07b-b6e4-4d10-8f12-b405f4a49e80",
   "metadata": {
    "tags": []
   },
   "outputs": [
    {
     "data": {
      "text/plain": [
       "complication_plate___exposure\n",
       "False    43\n",
       "True     20\n",
       "Name: count, dtype: Int64"
      ]
     },
     "execution_count": 81,
     "metadata": {},
     "output_type": "execute_result"
    }
   ],
   "source": [
    "df_df['complication_plate___exposure'].value_counts()"
   ]
  },
  {
   "cell_type": "code",
   "execution_count": 82,
   "id": "b149278b-d676-4ca9-8b21-ce3641a07b07",
   "metadata": {
    "tags": []
   },
   "outputs": [
    {
     "name": "stdout",
     "output_type": "stream",
     "text": [
      "Optimization terminated successfully    (Exit mode 0)\n",
      "            Current function value: 0.5244285667627183\n",
      "            Iterations: 48\n",
      "            Function evaluations: 53\n",
      "            Gradient evaluations: 48\n",
      "                                 Logit Regression Results                                \n",
      "=========================================================================================\n",
      "Dep. Variable:     complication_plate___exposure   No. Observations:                   55\n",
      "Model:                                     Logit   Df Residuals:                       46\n",
      "Method:                                      MLE   Df Model:                            8\n",
      "Date:                           Fri, 23 Feb 2024   Pseudo R-squ.:                  0.1999\n",
      "Time:                                   13:59:10   Log-Likelihood:                -28.844\n",
      "converged:                                  True   LL-Null:                       -36.051\n",
      "Covariance Type:                       nonrobust   LLR p-value:                   0.07155\n",
      "=================================================================================================\n",
      "                                    coef    std err          z      P>|z|      [0.025      0.975]\n",
      "-------------------------------------------------------------------------------------------------\n",
      "Intercept                         5.1022      3.315      1.539      0.124      -1.395      11.599\n",
      "sex_female                       -0.0243      0.782     -0.031      0.975      -1.556       1.507\n",
      "comorbidity___smoking            -1.8072      1.000     -1.807      0.071      -3.767       0.153\n",
      "comorbidity___alcohol             2.1818      1.094      1.995      0.046       0.038       4.325\n",
      "comorbidity___atherosclerosis     1.2197      0.878      1.389      0.165      -0.502       2.941\n",
      "age_surgery_years                -0.0300      0.040     -0.745      0.456      -0.109       0.049\n",
      "radiotherapy___post_surgery      -1.2943      0.715     -1.811      0.070      -2.695       0.107\n",
      "bmi                              -0.1578      0.095     -1.661      0.097      -0.344       0.028\n",
      "plate_type___cad_mix              1.2274      0.713      1.721      0.085      -0.171       2.626\n",
      "=================================================================================================\n"
     ]
    }
   ],
   "source": [
    "logreg_regularized('complication_plate___exposure', 'None', df_df, 'l1', alpha=0)"
   ]
  },
  {
   "cell_type": "markdown",
   "id": "176ca6ec-2a89-4246-a6c3-8eb782f06bc1",
   "metadata": {
    "tags": []
   },
   "source": [
    "## Univariate Analysis"
   ]
  },
  {
   "cell_type": "code",
   "execution_count": 113,
   "id": "898dd295-49eb-43f4-99e9-99ff8af7cc50",
   "metadata": {
    "tags": []
   },
   "outputs": [],
   "source": [
    "def chi2_test(outcome, df):\n",
    "    contingency = pd.crosstab(df[outcome], df['plate_type___cad_mix'])\n",
    "    c, p, dof, expected = chi2_contingency(contingency)\n",
    "    print(contingency)\n",
    "    print(f\"p-value: {p}\")"
   ]
  },
  {
   "cell_type": "markdown",
   "id": "6b4f8d3d-0217-4ca9-b9f9-679d32db59af",
   "metadata": {},
   "source": [
    "### ORN"
   ]
  },
  {
   "cell_type": "code",
   "execution_count": 114,
   "id": "c0b244e6-0dde-497d-8857-a214eec43495",
   "metadata": {
    "tags": []
   },
   "outputs": [
    {
     "name": "stdout",
     "output_type": "stream",
     "text": [
      "plate_type___cad_mix  False  True \n",
      "orn                               \n",
      "False                    38     17\n",
      "True                      4      4\n",
      "p-value: 0.5035516539877656\n"
     ]
    }
   ],
   "source": [
    "chi2_test('orn', df_df)"
   ]
  },
  {
   "cell_type": "markdown",
   "id": "227520da-2dbd-4f4d-a575-45ca55c8f230",
   "metadata": {},
   "source": [
    "### Plate failure"
   ]
  },
  {
   "cell_type": "code",
   "execution_count": 108,
   "id": "b0eda96c-c02a-40e7-a6e4-522b0cce3f96",
   "metadata": {
    "tags": []
   },
   "outputs": [
    {
     "name": "stdout",
     "output_type": "stream",
     "text": [
      "plate_type___cad_mix  False  True \n",
      "plate_failure                     \n",
      "False                    44     17\n",
      "True                      0      4\n",
      "p-value: 0.0148275781432512\n"
     ]
    }
   ],
   "source": [
    "chi2_test('plate_failure', df_df)"
   ]
  },
  {
   "cell_type": "markdown",
   "id": "0bd262fe-9817-4f42-be61-6e2f742283bf",
   "metadata": {},
   "source": [
    "### Any complication"
   ]
  },
  {
   "cell_type": "code",
   "execution_count": 110,
   "id": "2381281f-b5cc-4869-849c-356ba8aa510d",
   "metadata": {
    "tags": []
   },
   "outputs": [
    {
     "name": "stdout",
     "output_type": "stream",
     "text": [
      "plate_type___cad_mix  False  True \n",
      "any_complication                  \n",
      "False                    17      4\n",
      "True                     27     17\n",
      "p-value: 0.19507196999197834\n"
     ]
    }
   ],
   "source": [
    "chi2_test('any_complication', df_df)"
   ]
  },
  {
   "cell_type": "markdown",
   "id": "ad3aecfa-52f4-4359-b5fd-e50be6c16585",
   "metadata": {},
   "source": [
    "### Soft tissue complication"
   ]
  },
  {
   "cell_type": "code",
   "execution_count": 115,
   "id": "05db907c-79fc-4f0d-9a57-5b40294c3df3",
   "metadata": {
    "tags": []
   },
   "outputs": [
    {
     "name": "stdout",
     "output_type": "stream",
     "text": [
      "plate_type___cad_mix      False  True \n",
      "soft_tissue_complication              \n",
      "False                        18      7\n",
      "True                         24     14\n",
      "p-value: 0.6489418131874136\n"
     ]
    }
   ],
   "source": [
    "chi2_test('soft_tissue_complication', df_df)"
   ]
  },
  {
   "cell_type": "markdown",
   "id": "cf706731-f3c2-4b84-be7d-888219a9fac5",
   "metadata": {},
   "source": [
    "### Nonunion"
   ]
  },
  {
   "cell_type": "code",
   "execution_count": 109,
   "id": "8836a7e8-a925-4231-a87d-ffebd35e1ff1",
   "metadata": {
    "tags": []
   },
   "outputs": [
    {
     "name": "stdout",
     "output_type": "stream",
     "text": [
      "plate_type___cad_mix  False  True \n",
      "nonunion                          \n",
      "False                    13      6\n",
      "True                      9      9\n",
      "p-value: 0.420397139637945\n"
     ]
    }
   ],
   "source": [
    "chi2_test('nonunion', df_df)"
   ]
  },
  {
   "cell_type": "markdown",
   "id": "ba24d1ab-51a2-4ebd-9d71-e7d1c6ea85b8",
   "metadata": {},
   "source": [
    "### Wound infection"
   ]
  },
  {
   "cell_type": "code",
   "execution_count": 116,
   "id": "7e1050af-f98c-4855-b7b4-a1b7fdf74398",
   "metadata": {
    "tags": []
   },
   "outputs": [
    {
     "name": "stdout",
     "output_type": "stream",
     "text": [
      "plate_type___cad_mix  False  True \n",
      "wound_infection                   \n",
      "False                    32     12\n",
      "True                     10      9\n",
      "p-value: 0.20704693531945387\n"
     ]
    }
   ],
   "source": [
    "chi2_test('wound_infection', df_df)"
   ]
  },
  {
   "cell_type": "markdown",
   "id": "88509ba5-69e1-4867-b6e1-0b046cc352f3",
   "metadata": {},
   "source": [
    "### Plate exposure"
   ]
  },
  {
   "cell_type": "code",
   "execution_count": 117,
   "id": "b514a2e3-16ba-430a-9034-6c1c9d6eca26",
   "metadata": {
    "tags": []
   },
   "outputs": [
    {
     "name": "stdout",
     "output_type": "stream",
     "text": [
      "plate_type___cad_mix           False  True \n",
      "complication_plate___exposure              \n",
      "False                             31     12\n",
      "True                              11      9\n",
      "p-value: 0.2925183839115074\n"
     ]
    }
   ],
   "source": [
    "chi2_test('complication_plate___exposure', df_df)"
   ]
  }
 ],
 "metadata": {
  "kernelspec": {
   "display_name": "Python 3 (ipykernel)",
   "language": "python",
   "name": "python3"
  },
  "language_info": {
   "codemirror_mode": {
    "name": "ipython",
    "version": 3
   },
   "file_extension": ".py",
   "mimetype": "text/x-python",
   "name": "python",
   "nbconvert_exporter": "python",
   "pygments_lexer": "ipython3",
   "version": "3.11.5"
  }
 },
 "nbformat": 4,
 "nbformat_minor": 5
}
